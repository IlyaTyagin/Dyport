{
 "cells": [
  {
   "cell_type": "markdown",
   "id": "ec72e3cb-e40f-4c6a-8e6a-6456cf64fd16",
   "metadata": {},
   "source": [
    "# Cross-referencing CUI associations with PMIDs"
   ]
  },
  {
   "cell_type": "code",
   "execution_count": 1,
   "id": "adbea239-28e9-4d44-b0f0-30759752c406",
   "metadata": {
    "execution": {
     "iopub.execute_input": "2023-11-28T23:48:48.173664Z",
     "iopub.status.busy": "2023-11-28T23:48:48.173137Z",
     "iopub.status.idle": "2023-11-28T23:49:12.986309Z",
     "shell.execute_reply": "2023-11-28T23:49:12.985248Z",
     "shell.execute_reply.started": "2023-11-28T23:48:48.173504Z"
    },
    "tags": []
   },
   "outputs": [],
   "source": [
    "from joblib import Parallel, delayed\n",
    "\n",
    "import pickle\n",
    "import json\n",
    "\n",
    "from tqdm import tqdm\n",
    "\n",
    "from itertools import combinations\n",
    "\n",
    "import pandas as pd\n",
    "import numpy as np\n",
    "import itertools\n",
    "import random\n",
    "from collections import defaultdict, Counter\n",
    "from matplotlib import pyplot as plt\n",
    "\n",
    "from pathlib import Path"
   ]
  },
  {
   "cell_type": "code",
   "execution_count": 2,
   "id": "97a01fea-d6dd-4981-b6e0-389785caa6a1",
   "metadata": {
    "execution": {
     "iopub.execute_input": "2023-11-28T23:49:12.989553Z",
     "iopub.status.busy": "2023-11-28T23:49:12.988876Z",
     "iopub.status.idle": "2023-11-28T23:49:12.994412Z",
     "shell.execute_reply": "2023-11-28T23:49:12.993627Z",
     "shell.execute_reply.started": "2023-11-28T23:49:12.989512Z"
    },
    "tags": []
   },
   "outputs": [],
   "source": [
    "ncores=16"
   ]
  },
  {
   "cell_type": "code",
   "execution_count": 3,
   "id": "b9aa57e0-76ff-4024-84df-12c1344eb89c",
   "metadata": {
    "execution": {
     "iopub.execute_input": "2023-11-28T23:49:12.995629Z",
     "iopub.status.busy": "2023-11-28T23:49:12.995351Z",
     "iopub.status.idle": "2023-11-28T23:49:13.008832Z",
     "shell.execute_reply": "2023-11-28T23:49:13.008066Z",
     "shell.execute_reply.started": "2023-11-28T23:49:12.995609Z"
    },
    "tags": []
   },
   "outputs": [],
   "source": [
    "tqdm.pandas()"
   ]
  },
  {
   "cell_type": "markdown",
   "id": "62fbe35d-455a-4870-b328-1288e767c7f7",
   "metadata": {},
   "source": [
    "## Merging CUI pairs obtained from different DBs"
   ]
  },
  {
   "cell_type": "code",
   "execution_count": 27,
   "id": "a1526c76-3253-4660-899d-54e8656a6c94",
   "metadata": {
    "execution": {
     "iopub.execute_input": "2023-09-27T09:10:18.370855Z",
     "iopub.status.busy": "2023-09-27T09:10:18.370416Z",
     "iopub.status.idle": "2023-09-27T09:10:18.375383Z",
     "shell.execute_reply": "2023-09-27T09:10:18.374563Z",
     "shell.execute_reply.started": "2023-09-27T09:10:18.370822Z"
    },
    "tags": []
   },
   "outputs": [],
   "source": [
    "cui_pairs_fpath = Path(\n",
    "    '../benchmark_data/01_cui_pairs_json/'\n",
    ")"
   ]
  },
  {
   "cell_type": "code",
   "execution_count": 28,
   "id": "0b9ffa8a-4ced-4c4d-8149-1243d45f6407",
   "metadata": {
    "execution": {
     "iopub.execute_input": "2023-09-27T09:10:18.548710Z",
     "iopub.status.busy": "2023-09-27T09:10:18.548390Z",
     "iopub.status.idle": "2023-09-27T09:10:18.555925Z",
     "shell.execute_reply": "2023-09-27T09:10:18.555423Z",
     "shell.execute_reply.started": "2023-09-27T09:10:18.548681Z"
    },
    "tags": []
   },
   "outputs": [
    {
     "data": {
      "text/plain": [
       "[PosixPath('../benchmark_data/01_cui_pairs_json/ctd_cui_pairs.json'),\n",
       " PosixPath('../benchmark_data/01_cui_pairs_json/gwas_cui_pairs.json'),\n",
       " PosixPath('../benchmark_data/01_cui_pairs_json/drugcentral_cui_pairs.json'),\n",
       " PosixPath('../benchmark_data/01_cui_pairs_json/mentha_cui_pairs.json'),\n",
       " PosixPath('../benchmark_data/01_cui_pairs_json/rxnav_cui_pairs.json'),\n",
       " PosixPath('../benchmark_data/01_cui_pairs_json/stringdb_cui_pairs.json'),\n",
       " PosixPath('../benchmark_data/01_cui_pairs_json/kegg_cui_pairs.json'),\n",
       " PosixPath('../benchmark_data/01_cui_pairs_json/disgennet_cui_pairs.json')]"
      ]
     },
     "execution_count": 28,
     "metadata": {},
     "output_type": "execute_result"
    }
   ],
   "source": [
    "cui_pairs_flist = list(cui_pairs_fpath.glob('*.json'))\n",
    "cui_pairs_flist"
   ]
  },
  {
   "cell_type": "code",
   "execution_count": 29,
   "id": "05af663d-0c98-4c4e-b34a-ea2e976aa6c5",
   "metadata": {
    "execution": {
     "iopub.execute_input": "2023-09-27T09:10:21.794790Z",
     "iopub.status.busy": "2023-09-27T09:10:21.794457Z",
     "iopub.status.idle": "2023-09-27T09:12:04.112196Z",
     "shell.execute_reply": "2023-09-27T09:12:04.111505Z",
     "shell.execute_reply.started": "2023-09-27T09:10:21.794760Z"
    },
    "tags": []
   },
   "outputs": [
    {
     "name": "stderr",
     "output_type": "stream",
     "text": [
      "100%|████████████████████████████████████████████████████████████████████████████████████| 8/8 [01:42<00:00, 12.79s/it]\n"
     ]
    }
   ],
   "source": [
    "all_lookup_pairs_dict = dict()\n",
    "\n",
    "for fname in tqdm(cui_pairs_flist):\n",
    "    db_name = fname.stem.split('_')[0]\n",
    "    \n",
    "    with open(fname, 'r') as f:\n",
    "        db_cui_pairs_raw = json.load(f)\n",
    "    db_cui_pairs_str_set = {\n",
    "        ' '.join(sorted(p)) for p in db_cui_pairs_raw\n",
    "    }\n",
    "    all_lookup_pairs_dict[db_name] = db_cui_pairs_str_set"
   ]
  },
  {
   "cell_type": "code",
   "execution_count": 9,
   "id": "4a399f1f-8d7d-4e3e-ac58-fa6c7fc47cfe",
   "metadata": {
    "execution": {
     "iopub.execute_input": "2023-09-27T06:14:31.714318Z",
     "iopub.status.busy": "2023-09-27T06:14:31.713834Z",
     "iopub.status.idle": "2023-09-27T06:14:31.721518Z",
     "shell.execute_reply": "2023-09-27T06:14:31.720573Z",
     "shell.execute_reply.started": "2023-09-27T06:14:31.714250Z"
    },
    "tags": []
   },
   "outputs": [
    {
     "data": {
      "text/plain": [
       "{'ctd': 9754308,\n",
       " 'gwas': 642544,\n",
       " 'drugcentral': 2900561,\n",
       " 'mentha': 344037,\n",
       " 'rxnav': 1202410,\n",
       " 'stringdb': 349357,\n",
       " 'kegg': 35236404,\n",
       " 'disgennet': 1064881}"
      ]
     },
     "execution_count": 9,
     "metadata": {},
     "output_type": "execute_result"
    }
   ],
   "source": [
    "{k:len(v) for k,v in all_lookup_pairs_dict.items()}"
   ]
  },
  {
   "cell_type": "code",
   "execution_count": 11,
   "id": "9eef3d66-a0b5-4cc3-b7ce-48bbd4b63c1e",
   "metadata": {
    "execution": {
     "iopub.execute_input": "2023-09-27T06:16:19.891605Z",
     "iopub.status.busy": "2023-09-27T06:16:19.891177Z",
     "iopub.status.idle": "2023-09-27T06:16:24.755800Z",
     "shell.execute_reply": "2023-09-27T06:16:24.754941Z",
     "shell.execute_reply.started": "2023-09-27T06:16:19.891573Z"
    },
    "tags": []
   },
   "outputs": [
    {
     "data": {
      "text/plain": [
       "50451953"
      ]
     },
     "execution_count": 11,
     "metadata": {},
     "output_type": "execute_result"
    }
   ],
   "source": [
    "all_lookup_pairs_set = set.union(*all_lookup_pairs_dict.values())\n",
    "len(all_lookup_pairs_set)"
   ]
  },
  {
   "cell_type": "code",
   "execution_count": 13,
   "id": "de10702e-7bfb-47b5-a8c0-1ead6e90922c",
   "metadata": {
    "execution": {
     "iopub.execute_input": "2023-09-27T06:18:03.770454Z",
     "iopub.status.busy": "2023-09-27T06:18:03.770036Z",
     "iopub.status.idle": "2023-09-27T06:18:26.280244Z",
     "shell.execute_reply": "2023-09-27T06:18:26.279257Z",
     "shell.execute_reply.started": "2023-09-27T06:18:03.770418Z"
    },
    "tags": []
   },
   "outputs": [],
   "source": [
    "pd.to_pickle(\n",
    "    all_lookup_pairs_set,\n",
    "    '../benchmark_data/02_pubmed_pmid_cuis/all_lookup_pairs_set.pkl'\n",
    ")"
   ]
  },
  {
   "cell_type": "markdown",
   "id": "adc6e14e-2c74-469d-9b9f-5b2f4f2af374",
   "metadata": {},
   "source": [
    "## Cross-referencing CUI pairs extracted from PubMed abstracts"
   ]
  },
  {
   "cell_type": "code",
   "execution_count": 4,
   "id": "eba3c7b4-507b-48a4-b38a-cc12f16cfd85",
   "metadata": {
    "execution": {
     "iopub.execute_input": "2023-09-27T07:28:40.957195Z",
     "iopub.status.busy": "2023-09-27T07:28:40.956354Z",
     "iopub.status.idle": "2023-09-27T07:28:53.440148Z",
     "shell.execute_reply": "2023-09-27T07:28:53.439163Z",
     "shell.execute_reply.started": "2023-09-27T07:28:40.957155Z"
    }
   },
   "outputs": [],
   "source": [
    "all_lookup_pairs_set = pd.read_pickle(\n",
    "    '../benchmark_data/02_pubmed_pmid_cuis/all_lookup_pairs_set.pkl'\n",
    ")"
   ]
  },
  {
   "cell_type": "markdown",
   "id": "bb4e925d-5961-4d58-955c-b5449d5a184a",
   "metadata": {},
   "source": [
    "Input: files looking like this:"
   ]
  },
  {
   "cell_type": "code",
   "execution_count": 5,
   "id": "4d463d4c-5f6e-4610-a163-02f5e6a9b7b8",
   "metadata": {
    "execution": {
     "iopub.execute_input": "2023-09-27T07:28:58.897535Z",
     "iopub.status.busy": "2023-09-27T07:28:58.897007Z",
     "iopub.status.idle": "2023-09-27T07:29:04.723124Z",
     "shell.execute_reply": "2023-09-27T07:29:04.722003Z",
     "shell.execute_reply.started": "2023-09-27T07:28:58.897499Z"
    },
    "tags": []
   },
   "outputs": [
    {
     "name": "stdout",
     "output_type": "stream",
     "text": [
      "2008-05:18508489:2:C1883559 C0030956 C0442821 C0558295 C1825746 C0445022 C0439175 C0205360 C1704972 C0445022 C0037231 C1419633\n",
      "2008-05:18508489:3:C0596988 C1825746 C0445022 C0037231 C0678594 C0205250 C1549865 C0445022\n",
      "2008-05:18508489:4:C1704675 C0449774  C1825746 C1825746 C0445022 C1883559\n",
      "2008-05:18508489:5:C1274040 C0680240 C0439064 C1517586 C0302523 C0443288 C1420510 C0017446 C0181687 C1883559 C0030956 C0205172 C0596988\n",
      "2008-05:18508489:6:C1274040 C1279919 C0037231 C0678594 C3898777 C0205103 C0596973 C0333562 C1948066 C1517586 C4522252 C0596988 C0333562 C1948066\n",
      "2008-05:18508490:0:C3871154 C0282554 C0017658\n",
      "2008-05:18508490:1:C0023516 C0332448 C0205224 C3871154 C0543483 C0017658\n",
      "2008-05:18508490:2:C0031847 C0035820 C0282554 C0597357 C1522508 C1521991 C0441712 C0023516 C0205210 C1510544 C0017658\n",
      "2008-05:18508490:3:C0332448 C0023516 C0022663 C0007584 C0022663 C1417247\n",
      "2008-05:18508490:4:C1517331 C0332185 C0282554 C4255326 C1326500 C0019868 C1527148 C1545588 C0007584\n"
     ]
    }
   ],
   "source": [
    "! less ../benchmark_data/02_pubmed_pmid_cuis/ts_pmid_cuis_lines/ts_pmid_chuis_lines_part_022 | head -10"
   ]
  },
  {
   "cell_type": "code",
   "execution_count": 6,
   "id": "ac622f28-f6d7-4d00-bef1-5d84e465c59d",
   "metadata": {
    "execution": {
     "iopub.execute_input": "2023-09-27T07:29:11.759153Z",
     "iopub.status.busy": "2023-09-27T07:29:11.758738Z",
     "iopub.status.idle": "2023-09-27T07:29:11.770799Z",
     "shell.execute_reply": "2023-09-27T07:29:11.770285Z",
     "shell.execute_reply.started": "2023-09-27T07:29:11.759120Z"
    },
    "tags": []
   },
   "outputs": [
    {
     "data": {
      "text/plain": [
       "34"
      ]
     },
     "execution_count": 6,
     "metadata": {},
     "output_type": "execute_result"
    }
   ],
   "source": [
    "pmid_cuis_flist = (\n",
    "    sorted(\n",
    "        Path(\n",
    "            '../benchmark_data/02_pubmed_pmid_cuis/ts_pmid_cuis_lines/'\n",
    "        ).glob('*')\n",
    "    )\n",
    ")\n",
    "len(pmid_cuis_flist)"
   ]
  },
  {
   "cell_type": "code",
   "execution_count": 7,
   "id": "76f1de05-d847-4ab7-b8c7-dfc17ce95f6e",
   "metadata": {
    "execution": {
     "iopub.execute_input": "2023-09-27T07:29:12.261866Z",
     "iopub.status.busy": "2023-09-27T07:29:12.261518Z",
     "iopub.status.idle": "2023-09-27T07:29:12.266070Z",
     "shell.execute_reply": "2023-09-27T07:29:12.265430Z",
     "shell.execute_reply.started": "2023-09-27T07:29:12.261841Z"
    },
    "tags": []
   },
   "outputs": [
    {
     "data": {
      "text/plain": [
       "[PosixPath('../benchmark_data/02_pubmed_pmid_cuis/ts_pmid_cuis_lines/pmid_terms_2022_formatted_filt_list.txt'),\n",
       " PosixPath('../benchmark_data/02_pubmed_pmid_cuis/ts_pmid_cuis_lines/pmid_terms_addendum_2021_formatted_filt_list.txt'),\n",
       " PosixPath('../benchmark_data/02_pubmed_pmid_cuis/ts_pmid_cuis_lines/ts_pmid_chuis_lines_part_000')]"
      ]
     },
     "execution_count": 7,
     "metadata": {},
     "output_type": "execute_result"
    }
   ],
   "source": [
    "pmid_cuis_flist[:3]"
   ]
  },
  {
   "cell_type": "code",
   "execution_count": 8,
   "id": "e7e6610b-4fe9-4ecf-99ff-15ab17b190f9",
   "metadata": {
    "execution": {
     "iopub.execute_input": "2023-09-27T07:29:14.949968Z",
     "iopub.status.busy": "2023-09-27T07:29:14.949626Z",
     "iopub.status.idle": "2023-09-27T07:29:14.954482Z",
     "shell.execute_reply": "2023-09-27T07:29:14.953696Z",
     "shell.execute_reply.started": "2023-09-27T07:29:14.949942Z"
    },
    "tags": []
   },
   "outputs": [],
   "source": [
    "def open_ts_pmid_cuis_as_df(fpath):\n",
    "    \n",
    "    ts_pmid_cuis_df = pd.read_table(\n",
    "        fpath,\n",
    "        delimiter=':',\n",
    "        header=None\n",
    "    )\n",
    "    ts_pmid_cuis_df.columns = ['ts', 'pmid', 'sent_idx', 'terms']\n",
    "    \n",
    "    return ts_pmid_cuis_df"
   ]
  },
  {
   "cell_type": "code",
   "execution_count": 9,
   "id": "4dac2dbf-e57e-495d-a425-1ce7f6edb8b9",
   "metadata": {
    "execution": {
     "iopub.execute_input": "2023-09-27T07:29:32.569423Z",
     "iopub.status.busy": "2023-09-27T07:29:32.569071Z",
     "iopub.status.idle": "2023-09-27T07:31:19.750001Z",
     "shell.execute_reply": "2023-09-27T07:31:19.748748Z",
     "shell.execute_reply.started": "2023-09-27T07:29:32.569393Z"
    },
    "tags": []
   },
   "outputs": [
    {
     "name": "stderr",
     "output_type": "stream",
     "text": [
      "100%|██████████████████████████████████████████████████████████████████████████████████| 34/34 [00:12<00:00,  2.76it/s]\n"
     ]
    }
   ],
   "source": [
    "with Parallel(n_jobs = ncores) as parallel:\n",
    "    ts_pmid_cuis_df_list = parallel(\n",
    "        delayed(open_ts_pmid_cuis_as_df)(i) for i in tqdm(pmid_cuis_flist)\n",
    "    )"
   ]
  },
  {
   "cell_type": "code",
   "execution_count": 10,
   "id": "9dc60d1c-7c9b-44e3-a5fc-09c955098d31",
   "metadata": {
    "execution": {
     "iopub.execute_input": "2023-09-27T07:31:19.752503Z",
     "iopub.status.busy": "2023-09-27T07:31:19.752148Z",
     "iopub.status.idle": "2023-09-27T07:33:40.304665Z",
     "shell.execute_reply": "2023-09-27T07:33:40.303984Z",
     "shell.execute_reply.started": "2023-09-27T07:31:19.752471Z"
    },
    "tags": []
   },
   "outputs": [],
   "source": [
    "ts_pmid_cuis_df = pd.concat(ts_pmid_cuis_df_list)\n",
    "ts_pmid_cuis_df = ts_pmid_cuis_df.dropna()"
   ]
  },
  {
   "cell_type": "code",
   "execution_count": 11,
   "id": "f8f2c4c5-f5ee-43cd-b2dd-1e96cfee5c96",
   "metadata": {
    "execution": {
     "iopub.execute_input": "2023-09-27T07:33:40.306976Z",
     "iopub.status.busy": "2023-09-27T07:33:40.306454Z",
     "iopub.status.idle": "2023-09-27T07:33:40.328566Z",
     "shell.execute_reply": "2023-09-27T07:33:40.327699Z",
     "shell.execute_reply.started": "2023-09-27T07:33:40.306933Z"
    },
    "tags": []
   },
   "outputs": [
    {
     "data": {
      "text/html": [
       "<div>\n",
       "<style scoped>\n",
       "    .dataframe tbody tr th:only-of-type {\n",
       "        vertical-align: middle;\n",
       "    }\n",
       "\n",
       "    .dataframe tbody tr th {\n",
       "        vertical-align: top;\n",
       "    }\n",
       "\n",
       "    .dataframe thead th {\n",
       "        text-align: right;\n",
       "    }\n",
       "</style>\n",
       "<table border=\"1\" class=\"dataframe\">\n",
       "  <thead>\n",
       "    <tr style=\"text-align: right;\">\n",
       "      <th></th>\n",
       "      <th>ts</th>\n",
       "      <th>pmid</th>\n",
       "      <th>sent_idx</th>\n",
       "      <th>terms</th>\n",
       "    </tr>\n",
       "  </thead>\n",
       "  <tbody>\n",
       "    <tr>\n",
       "      <th>0</th>\n",
       "      <td>2022-02</td>\n",
       "      <td>35407114</td>\n",
       "      <td>0</td>\n",
       "      <td>C0456205 C1707391 C0205198 C0043188 C0011175 C...</td>\n",
       "    </tr>\n",
       "    <tr>\n",
       "      <th>1</th>\n",
       "      <td>2022-02</td>\n",
       "      <td>35407114</td>\n",
       "      <td>1</td>\n",
       "      <td>C0453447 C0043188 C0011175 C0262568 C1512080 C...</td>\n",
       "    </tr>\n",
       "    <tr>\n",
       "      <th>2</th>\n",
       "      <td>2022-02</td>\n",
       "      <td>35407114</td>\n",
       "      <td>2</td>\n",
       "      <td>C2744535 C2603343 C1527178 C0220806 C1521970 C...</td>\n",
       "    </tr>\n",
       "    <tr>\n",
       "      <th>3</th>\n",
       "      <td>2022-02</td>\n",
       "      <td>35407114</td>\n",
       "      <td>3</td>\n",
       "      <td>C0043188 C0020205 C0008946 C0348080</td>\n",
       "    </tr>\n",
       "    <tr>\n",
       "      <th>4</th>\n",
       "      <td>2022-02</td>\n",
       "      <td>35407114</td>\n",
       "      <td>4</td>\n",
       "      <td>C0020205 C2346866</td>\n",
       "    </tr>\n",
       "    <tr>\n",
       "      <th>...</th>\n",
       "      <td>...</td>\n",
       "      <td>...</td>\n",
       "      <td>...</td>\n",
       "      <td>...</td>\n",
       "    </tr>\n",
       "    <tr>\n",
       "      <th>2886651</th>\n",
       "      <td>2012-11</td>\n",
       "      <td>23916486</td>\n",
       "      <td>12</td>\n",
       "      <td>C0028377 C0439962 C3161035 C2698651 C0237753 C...</td>\n",
       "    </tr>\n",
       "    <tr>\n",
       "      <th>2886652</th>\n",
       "      <td>2012-11</td>\n",
       "      <td>23916486</td>\n",
       "      <td>13</td>\n",
       "      <td>C1515021 C0549177 C1704743 C0017446 C1515021 C...</td>\n",
       "    </tr>\n",
       "    <tr>\n",
       "      <th>2886653</th>\n",
       "      <td>2012-11</td>\n",
       "      <td>23916486</td>\n",
       "      <td>14</td>\n",
       "      <td>C1274040 C0085862 C0680398 C1550501</td>\n",
       "    </tr>\n",
       "    <tr>\n",
       "      <th>2886654</th>\n",
       "      <td>2012-11</td>\n",
       "      <td>23916486</td>\n",
       "      <td>15</td>\n",
       "      <td>C0009085 C1079230 C3264163 C0348014 C0920367 C...</td>\n",
       "    </tr>\n",
       "    <tr>\n",
       "      <th>2886655</th>\n",
       "      <td>2012-11</td>\n",
       "      <td>23916486</td>\n",
       "      <td>16</td>\n",
       "      <td>C2926606 C2347946 C0429528 C0543483 C0001554</td>\n",
       "    </tr>\n",
       "  </tbody>\n",
       "</table>\n",
       "<p>325097162 rows × 4 columns</p>\n",
       "</div>"
      ],
      "text/plain": [
       "              ts      pmid  sent_idx  \\\n",
       "0        2022-02  35407114         0   \n",
       "1        2022-02  35407114         1   \n",
       "2        2022-02  35407114         2   \n",
       "3        2022-02  35407114         3   \n",
       "4        2022-02  35407114         4   \n",
       "...          ...       ...       ...   \n",
       "2886651  2012-11  23916486        12   \n",
       "2886652  2012-11  23916486        13   \n",
       "2886653  2012-11  23916486        14   \n",
       "2886654  2012-11  23916486        15   \n",
       "2886655  2012-11  23916486        16   \n",
       "\n",
       "                                                     terms  \n",
       "0        C0456205 C1707391 C0205198 C0043188 C0011175 C...  \n",
       "1        C0453447 C0043188 C0011175 C0262568 C1512080 C...  \n",
       "2        C2744535 C2603343 C1527178 C0220806 C1521970 C...  \n",
       "3                      C0043188 C0020205 C0008946 C0348080  \n",
       "4                                        C0020205 C2346866  \n",
       "...                                                    ...  \n",
       "2886651  C0028377 C0439962 C3161035 C2698651 C0237753 C...  \n",
       "2886652  C1515021 C0549177 C1704743 C0017446 C1515021 C...  \n",
       "2886653                C1274040 C0085862 C0680398 C1550501  \n",
       "2886654  C0009085 C1079230 C3264163 C0348014 C0920367 C...  \n",
       "2886655       C2926606 C2347946 C0429528 C0543483 C0001554  \n",
       "\n",
       "[325097162 rows x 4 columns]"
      ]
     },
     "execution_count": 11,
     "metadata": {},
     "output_type": "execute_result"
    }
   ],
   "source": [
    "ts_pmid_cuis_df"
   ]
  },
  {
   "cell_type": "code",
   "execution_count": 21,
   "id": "801e7108-f0d9-4c25-8265-4f3af8f6e1c1",
   "metadata": {
    "execution": {
     "iopub.execute_input": "2023-09-27T07:48:11.775565Z",
     "iopub.status.busy": "2023-09-27T07:48:11.774709Z",
     "iopub.status.idle": "2023-09-27T08:20:53.275311Z",
     "shell.execute_reply": "2023-09-27T08:20:53.274249Z",
     "shell.execute_reply.started": "2023-09-27T07:48:11.775524Z"
    },
    "tags": []
   },
   "outputs": [
    {
     "name": "stdout",
     "output_type": "stream",
     "text": [
      "CPU times: user 31min 54s, sys: 45.7 s, total: 32min 40s\n",
      "Wall time: 32min 41s\n"
     ]
    }
   ],
   "source": [
    "%%time \n",
    "\n",
    "pmid_to_ts_dict = (\n",
    "    ts_pmid_cuis_df[['ts', 'pmid']]\n",
    "        .drop_duplicates()\n",
    "        .groupby('pmid')\n",
    "        .agg(min)\n",
    "        ['ts']\n",
    "        .to_dict()\n",
    ")"
   ]
  },
  {
   "cell_type": "code",
   "execution_count": 23,
   "id": "8204f2a2-130b-47a4-9959-ddc468282ea1",
   "metadata": {
    "execution": {
     "iopub.execute_input": "2023-09-27T08:22:50.896176Z",
     "iopub.status.busy": "2023-09-27T08:22:50.895709Z",
     "iopub.status.idle": "2023-09-27T08:22:50.903334Z",
     "shell.execute_reply": "2023-09-27T08:22:50.902454Z",
     "shell.execute_reply.started": "2023-09-27T08:22:50.896142Z"
    },
    "tags": []
   },
   "outputs": [
    {
     "data": {
      "text/plain": [
       "29986221"
      ]
     },
     "execution_count": 23,
     "metadata": {},
     "output_type": "execute_result"
    }
   ],
   "source": [
    "len(pmid_to_ts_dict)"
   ]
  },
  {
   "cell_type": "code",
   "execution_count": 22,
   "id": "0c6aca5b-c9b8-431a-bc8e-3066faa44557",
   "metadata": {
    "execution": {
     "iopub.execute_input": "2023-09-27T08:20:53.342661Z",
     "iopub.status.busy": "2023-09-27T08:20:53.342476Z",
     "iopub.status.idle": "2023-09-27T08:21:20.098269Z",
     "shell.execute_reply": "2023-09-27T08:21:20.097193Z",
     "shell.execute_reply.started": "2023-09-27T08:20:53.342645Z"
    },
    "tags": []
   },
   "outputs": [],
   "source": [
    "with open('../benchmark_data/02_pubmed_pmid_cuis/pmid_to_ts_dict.json', 'w') as f:\n",
    "    json.dump(pmid_to_ts_dict, f)"
   ]
  },
  {
   "cell_type": "code",
   "execution_count": 12,
   "id": "a2de9eea-4912-4d86-aebf-ed8d712dea88",
   "metadata": {
    "execution": {
     "iopub.execute_input": "2023-09-27T07:34:45.108705Z",
     "iopub.status.busy": "2023-09-27T07:34:45.107649Z",
     "iopub.status.idle": "2023-09-27T07:43:39.616171Z",
     "shell.execute_reply": "2023-09-27T07:43:39.615250Z",
     "shell.execute_reply.started": "2023-09-27T07:34:45.108663Z"
    },
    "tags": []
   },
   "outputs": [
    {
     "name": "stdout",
     "output_type": "stream",
     "text": [
      "CPU times: user 8min 17s, sys: 36.2 s, total: 8min 54s\n",
      "Wall time: 8min 54s\n"
     ]
    }
   ],
   "source": [
    "%%time\n",
    "\n",
    "pmid_cuis_abstr_df = (\n",
    "    ts_pmid_cuis_df[['pmid', 'terms']]\n",
    "        .groupby('pmid')\n",
    "        .agg(\n",
    "            {\n",
    "                'terms': lambda x: ' '.join(x)\n",
    "            }\n",
    "        )\n",
    ")"
   ]
  },
  {
   "cell_type": "code",
   "execution_count": 26,
   "id": "7197c464-334d-49e7-9ac4-7f8a220c8540",
   "metadata": {
    "execution": {
     "iopub.execute_input": "2023-09-27T08:25:53.485047Z",
     "iopub.status.busy": "2023-09-27T08:25:53.484599Z",
     "iopub.status.idle": "2023-09-27T08:25:53.496138Z",
     "shell.execute_reply": "2023-09-27T08:25:53.495446Z",
     "shell.execute_reply.started": "2023-09-27T08:25:53.485014Z"
    },
    "tags": []
   },
   "outputs": [
    {
     "data": {
      "text/html": [
       "<div>\n",
       "<style scoped>\n",
       "    .dataframe tbody tr th:only-of-type {\n",
       "        vertical-align: middle;\n",
       "    }\n",
       "\n",
       "    .dataframe tbody tr th {\n",
       "        vertical-align: top;\n",
       "    }\n",
       "\n",
       "    .dataframe thead th {\n",
       "        text-align: right;\n",
       "    }\n",
       "</style>\n",
       "<table border=\"1\" class=\"dataframe\">\n",
       "  <thead>\n",
       "    <tr style=\"text-align: right;\">\n",
       "      <th></th>\n",
       "      <th>terms</th>\n",
       "    </tr>\n",
       "    <tr>\n",
       "      <th>pmid</th>\n",
       "      <th></th>\n",
       "    </tr>\n",
       "  </thead>\n",
       "  <tbody>\n",
       "    <tr>\n",
       "      <th>1</th>\n",
       "      <td>C0016572 C1510438 C0005889 C0392621</td>\n",
       "    </tr>\n",
       "    <tr>\n",
       "      <th>2</th>\n",
       "      <td>C4684445 C1522508 C0037949 C0597331 C0009235 C...</td>\n",
       "    </tr>\n",
       "    <tr>\n",
       "      <th>3</th>\n",
       "      <td>C0025552 C0457555 C0022023 C0182400 C2603343</td>\n",
       "    </tr>\n",
       "    <tr>\n",
       "      <th>4</th>\n",
       "      <td>C1280500 C0008269 C0016030 C0030685 C0521450 C...</td>\n",
       "    </tr>\n",
       "    <tr>\n",
       "      <th>5</th>\n",
       "      <td>C0567415 C3161035 C1305923 C0037949 C0067056 C...</td>\n",
       "    </tr>\n",
       "    <tr>\n",
       "      <th>...</th>\n",
       "      <td>...</td>\n",
       "    </tr>\n",
       "    <tr>\n",
       "      <th>36475580</th>\n",
       "      <td>C0032821 C1138408 C4019020 C0450363 C0678594 C...</td>\n",
       "    </tr>\n",
       "    <tr>\n",
       "      <th>36475581</th>\n",
       "      <td>C0071360 C0283001 C0700106 C0058372 C0017479 C...</td>\n",
       "    </tr>\n",
       "    <tr>\n",
       "      <th>36475582</th>\n",
       "      <td>C0596084 C0181074 C0596383 C0040223 C4544674 C...</td>\n",
       "    </tr>\n",
       "    <tr>\n",
       "      <th>36475583</th>\n",
       "      <td>C1518422 C0445586 C0036658 C0030012 C0071360 C...</td>\n",
       "    </tr>\n",
       "    <tr>\n",
       "      <th>36475584</th>\n",
       "      <td>C0042845 C1708715 C0007009 C1328868 C0023688 C...</td>\n",
       "    </tr>\n",
       "  </tbody>\n",
       "</table>\n",
       "<p>29986221 rows × 1 columns</p>\n",
       "</div>"
      ],
      "text/plain": [
       "                                                      terms\n",
       "pmid                                                       \n",
       "1                       C0016572 C1510438 C0005889 C0392621\n",
       "2         C4684445 C1522508 C0037949 C0597331 C0009235 C...\n",
       "3              C0025552 C0457555 C0022023 C0182400 C2603343\n",
       "4         C1280500 C0008269 C0016030 C0030685 C0521450 C...\n",
       "5         C0567415 C3161035 C1305923 C0037949 C0067056 C...\n",
       "...                                                     ...\n",
       "36475580  C0032821 C1138408 C4019020 C0450363 C0678594 C...\n",
       "36475581  C0071360 C0283001 C0700106 C0058372 C0017479 C...\n",
       "36475582  C0596084 C0181074 C0596383 C0040223 C4544674 C...\n",
       "36475583  C1518422 C0445586 C0036658 C0030012 C0071360 C...\n",
       "36475584  C0042845 C1708715 C0007009 C1328868 C0023688 C...\n",
       "\n",
       "[29986221 rows x 1 columns]"
      ]
     },
     "execution_count": 26,
     "metadata": {},
     "output_type": "execute_result"
    }
   ],
   "source": [
    "pmid_cuis_abstr_df"
   ]
  },
  {
   "cell_type": "markdown",
   "id": "c1b1997d-c307-435d-969b-26c30e2e65ed",
   "metadata": {},
   "source": [
    "### Splitting dataset into multiple chunks for parallel processing"
   ]
  },
  {
   "cell_type": "code",
   "execution_count": 4,
   "id": "c17e8c21-395d-4d81-a43d-a4287f2ca3f0",
   "metadata": {
    "execution": {
     "iopub.execute_input": "2023-09-27T08:40:26.910224Z",
     "iopub.status.busy": "2023-09-27T08:40:26.909885Z",
     "iopub.status.idle": "2023-09-27T08:40:26.915809Z",
     "shell.execute_reply": "2023-09-27T08:40:26.914614Z",
     "shell.execute_reply.started": "2023-09-27T08:40:26.910194Z"
    },
    "tags": []
   },
   "outputs": [],
   "source": [
    "df_chunks_save_path = Path(\n",
    "    '../benchmark_data/02_pubmed_pmid_cuis/pmid_cui_dfs/'\n",
    ")\n",
    "df_chunks_save_path.mkdir(exist_ok=True, parents=True)"
   ]
  },
  {
   "cell_type": "code",
   "execution_count": 36,
   "id": "c108f54a-527d-4a7b-bd10-95acde44efde",
   "metadata": {
    "execution": {
     "iopub.execute_input": "2023-09-27T08:31:35.875071Z",
     "iopub.status.busy": "2023-09-27T08:31:35.874639Z",
     "iopub.status.idle": "2023-09-27T08:31:35.879522Z",
     "shell.execute_reply": "2023-09-27T08:31:35.878695Z",
     "shell.execute_reply.started": "2023-09-27T08:31:35.875036Z"
    },
    "tags": []
   },
   "outputs": [],
   "source": [
    "n_df_chunks = 32"
   ]
  },
  {
   "cell_type": "code",
   "execution_count": 39,
   "id": "b29ae745-9d75-4bfc-8549-67c75582aebb",
   "metadata": {
    "execution": {
     "iopub.execute_input": "2023-09-27T08:33:06.278423Z",
     "iopub.status.busy": "2023-09-27T08:33:06.277968Z",
     "iopub.status.idle": "2023-09-27T08:33:43.431044Z",
     "shell.execute_reply": "2023-09-27T08:33:43.430365Z",
     "shell.execute_reply.started": "2023-09-27T08:33:06.278390Z"
    },
    "tags": []
   },
   "outputs": [
    {
     "name": "stderr",
     "output_type": "stream",
     "text": [
      "100%|██████████████████████████████████████████████████████████████████████████████████| 32/32 [00:37<00:00,  1.16s/it]\n"
     ]
    }
   ],
   "source": [
    "for n in tqdm(range(n_df_chunks)):\n",
    "    n_str = str(n).zfill(2)\n",
    "    df_fname = f'pmid_cuis_abstr_df_part_{n_str}.pkl'\n",
    "    pmid_cuis_abstr_df[:][n::n_df_chunks].to_pickle(\n",
    "        df_chunks_save_path.joinpath(df_fname)\n",
    "    )"
   ]
  },
  {
   "cell_type": "code",
   "execution_count": 5,
   "id": "dd141964-6302-4816-bbed-b90fc8b7b2ff",
   "metadata": {
    "execution": {
     "iopub.execute_input": "2023-09-27T08:41:00.392090Z",
     "iopub.status.busy": "2023-09-27T08:41:00.391346Z",
     "iopub.status.idle": "2023-09-27T08:41:00.402421Z",
     "shell.execute_reply": "2023-09-27T08:41:00.401538Z",
     "shell.execute_reply.started": "2023-09-27T08:41:00.392050Z"
    },
    "tags": []
   },
   "outputs": [
    {
     "data": {
      "text/plain": [
       "32"
      ]
     },
     "execution_count": 5,
     "metadata": {},
     "output_type": "execute_result"
    }
   ],
   "source": [
    "df_chunks_flist = sorted(df_chunks_save_path.glob('*.pkl'))\n",
    "len(df_chunks_flist)"
   ]
  },
  {
   "cell_type": "markdown",
   "id": "4bb4f719-ceb9-4f0a-94b5-0ccf8216549c",
   "metadata": {},
   "source": [
    "### Parallel processing"
   ]
  },
  {
   "cell_type": "code",
   "execution_count": 13,
   "id": "266dd196-8cf3-44f6-a6f0-64a46c75859c",
   "metadata": {
    "execution": {
     "iopub.execute_input": "2023-09-27T08:46:11.643061Z",
     "iopub.status.busy": "2023-09-27T08:46:11.642702Z",
     "iopub.status.idle": "2023-09-27T08:46:11.649232Z",
     "shell.execute_reply": "2023-09-27T08:46:11.648575Z",
     "shell.execute_reply.started": "2023-09-27T08:46:11.643030Z"
    },
    "tags": []
   },
   "outputs": [],
   "source": [
    "def find_coocs_chunk(chunk_fpath, coocs_fpath):\n",
    "    \n",
    "    chunk_df = pd.read_pickle(chunk_fpath)\n",
    "    \n",
    "    all_lookup_pairs_set = pd.read_pickle(coocs_fpath)\n",
    "    \n",
    "    def find_coocs(row):\n",
    "    \n",
    "        abstr_coocs = {\n",
    "            ' '.join(sorted(pair))\n",
    "            for pair in combinations((set(row.split(' '))), 2)\n",
    "        }\n",
    "\n",
    "        dbs_intersect = all_lookup_pairs_set.intersection(abstr_coocs)\n",
    "\n",
    "        return dbs_intersect\n",
    "    \n",
    "    chunk_df['bench_cooc'] = (\n",
    "        chunk_df['terms'].apply(find_coocs)\n",
    "    )\n",
    "    \n",
    "    chunk_df = chunk_df[\n",
    "        chunk_df['bench_cooc'].apply(\n",
    "            lambda x: True if len(x) > 1 else False \n",
    "        )\n",
    "    ]\n",
    "    \n",
    "    return chunk_df"
   ]
  },
  {
   "cell_type": "code",
   "execution_count": 15,
   "id": "36939341-a312-44bb-a139-e3ba6e42a52e",
   "metadata": {
    "execution": {
     "iopub.execute_input": "2023-09-27T08:47:33.900670Z",
     "iopub.status.busy": "2023-09-27T08:47:33.900215Z",
     "iopub.status.idle": "2023-09-27T09:02:37.281526Z",
     "shell.execute_reply": "2023-09-27T09:02:37.280323Z",
     "shell.execute_reply.started": "2023-09-27T08:47:33.900637Z"
    },
    "tags": []
   },
   "outputs": [
    {
     "name": "stderr",
     "output_type": "stream",
     "text": [
      "100%|██████████████████████████████████████████████████████████████████████████████████| 32/32 [06:42<00:00, 12.58s/it]\n"
     ]
    }
   ],
   "source": [
    "with Parallel(n_jobs = ncores, batch_size=1) as parallel:\n",
    "    pmid_cuis_bench_cooc_df_list = parallel(\n",
    "        delayed(find_coocs_chunk)(\n",
    "            chunk_fpath,\n",
    "            '../benchmark_data/02_pubmed_pmid_cuis/all_lookup_pairs_set.pkl'\n",
    "        ) for chunk_fpath in tqdm(df_chunks_flist)\n",
    "    )"
   ]
  },
  {
   "cell_type": "code",
   "execution_count": 16,
   "id": "9b826de6-337c-4072-903b-3e3272749ff7",
   "metadata": {
    "execution": {
     "iopub.execute_input": "2023-09-27T09:03:16.027967Z",
     "iopub.status.busy": "2023-09-27T09:03:16.027598Z",
     "iopub.status.idle": "2023-09-27T09:03:18.141608Z",
     "shell.execute_reply": "2023-09-27T09:03:18.140701Z",
     "shell.execute_reply.started": "2023-09-27T09:03:16.027944Z"
    },
    "tags": []
   },
   "outputs": [],
   "source": [
    "pmid_cuis_bench_cooc_df = pd.concat(pmid_cuis_bench_cooc_df_list)"
   ]
  },
  {
   "cell_type": "code",
   "execution_count": 19,
   "id": "97a8c04b-651b-445e-a45f-ef22861c5b0a",
   "metadata": {
    "execution": {
     "iopub.execute_input": "2023-09-27T09:05:48.022459Z",
     "iopub.status.busy": "2023-09-27T09:05:48.021490Z",
     "iopub.status.idle": "2023-09-27T09:06:10.242747Z",
     "shell.execute_reply": "2023-09-27T09:06:10.241563Z",
     "shell.execute_reply.started": "2023-09-27T09:05:48.022420Z"
    },
    "tags": []
   },
   "outputs": [],
   "source": [
    "pmid_cuis_bench_cooc_df = (\n",
    "    pmid_cuis_bench_cooc_df\n",
    "        .reset_index()\n",
    "        .explode('bench_cooc')\n",
    "        .drop('terms', axis=1)\n",
    "        .astype(str)\n",
    "        .rename(columns={'bench_cooc': 'pair', 'pmid': 'abstr_lvl_cooc'}\n",
    ")"
   ]
  },
  {
   "cell_type": "code",
   "execution_count": 18,
   "id": "3f48c619-f6d2-4d50-8d32-cb222a65718a",
   "metadata": {
    "execution": {
     "iopub.execute_input": "2023-09-27T09:04:33.964966Z",
     "iopub.status.busy": "2023-09-27T09:04:33.964533Z",
     "iopub.status.idle": "2023-09-27T09:04:55.201767Z",
     "shell.execute_reply": "2023-09-27T09:04:55.200693Z",
     "shell.execute_reply.started": "2023-09-27T09:04:33.964933Z"
    },
    "tags": []
   },
   "outputs": [],
   "source": [
    "with open('../benchmark_data/02_pubmed_pmid_cuis/pmid_to_ts_dict.json', 'r') as f:\n",
    "    pmid_to_ts_dict = json.load(f)"
   ]
  },
  {
   "cell_type": "markdown",
   "id": "f1a1fc1e-51f1-45b5-a10c-56b447c1454a",
   "metadata": {},
   "source": [
    "## Adding source DB information"
   ]
  },
  {
   "cell_type": "code",
   "execution_count": 25,
   "id": "c6d43063-ad86-4436-aa96-eaf8e19297fd",
   "metadata": {
    "execution": {
     "iopub.execute_input": "2023-09-27T09:09:06.351100Z",
     "iopub.status.busy": "2023-09-27T09:09:06.350559Z",
     "iopub.status.idle": "2023-09-27T09:09:55.715328Z",
     "shell.execute_reply": "2023-09-27T09:09:55.714498Z",
     "shell.execute_reply.started": "2023-09-27T09:09:06.351065Z"
    },
    "tags": []
   },
   "outputs": [
    {
     "name": "stderr",
     "output_type": "stream",
     "text": [
      "100%|█████████████████████████████████████████████████████████████████| 57014889/57014889 [00:46<00:00, 1213498.98it/s]\n"
     ]
    }
   ],
   "source": [
    "pmid_cuis_bench_cooc_df['date'] = pmid_cuis_bench_cooc_df['pmid'].progress_apply(lambda x: pmid_to_ts_dict.get(x))"
   ]
  },
  {
   "cell_type": "code",
   "execution_count": 34,
   "id": "913b7eb6-f78e-41f2-9a83-09f320472360",
   "metadata": {
    "execution": {
     "iopub.execute_input": "2023-09-27T09:13:56.892520Z",
     "iopub.status.busy": "2023-09-27T09:13:56.892081Z",
     "iopub.status.idle": "2023-09-27T09:13:56.901426Z",
     "shell.execute_reply": "2023-09-27T09:13:56.900789Z",
     "shell.execute_reply.started": "2023-09-27T09:13:56.892488Z"
    },
    "tags": []
   },
   "outputs": [
    {
     "data": {
      "text/html": [
       "<div>\n",
       "<style scoped>\n",
       "    .dataframe tbody tr th:only-of-type {\n",
       "        vertical-align: middle;\n",
       "    }\n",
       "\n",
       "    .dataframe tbody tr th {\n",
       "        vertical-align: top;\n",
       "    }\n",
       "\n",
       "    .dataframe thead th {\n",
       "        text-align: right;\n",
       "    }\n",
       "</style>\n",
       "<table border=\"1\" class=\"dataframe\">\n",
       "  <thead>\n",
       "    <tr style=\"text-align: right;\">\n",
       "      <th></th>\n",
       "      <th>abstr_lvl_cooc</th>\n",
       "      <th>pair</th>\n",
       "      <th>date</th>\n",
       "    </tr>\n",
       "  </thead>\n",
       "  <tbody>\n",
       "    <tr>\n",
       "      <th>0</th>\n",
       "      <td>68</td>\n",
       "      <td>C0048581 C0134796</td>\n",
       "      <td>1975-11</td>\n",
       "    </tr>\n",
       "    <tr>\n",
       "      <th>0</th>\n",
       "      <td>68</td>\n",
       "      <td>C0017725 C0043047</td>\n",
       "      <td>1975-11</td>\n",
       "    </tr>\n",
       "    <tr>\n",
       "      <th>1</th>\n",
       "      <td>107</td>\n",
       "      <td>C0003818 C0302583</td>\n",
       "      <td>1975-10</td>\n",
       "    </tr>\n",
       "    <tr>\n",
       "      <th>1</th>\n",
       "      <td>107</td>\n",
       "      <td>C0009968 C0024706</td>\n",
       "      <td>1975-10</td>\n",
       "    </tr>\n",
       "    <tr>\n",
       "      <th>1</th>\n",
       "      <td>107</td>\n",
       "      <td>C0023175 C0043047</td>\n",
       "      <td>1975-10</td>\n",
       "    </tr>\n",
       "    <tr>\n",
       "      <th>...</th>\n",
       "      <td>...</td>\n",
       "      <td>...</td>\n",
       "      <td>...</td>\n",
       "    </tr>\n",
       "    <tr>\n",
       "      <th>7202663</th>\n",
       "      <td>36475470</td>\n",
       "      <td>C0009241 C0338656</td>\n",
       "      <td>2022-12</td>\n",
       "    </tr>\n",
       "    <tr>\n",
       "      <th>7202663</th>\n",
       "      <td>36475470</td>\n",
       "      <td>C0038454 C0338656</td>\n",
       "      <td>2022-12</td>\n",
       "    </tr>\n",
       "    <tr>\n",
       "      <th>7202663</th>\n",
       "      <td>36475470</td>\n",
       "      <td>C0009241 C0948008</td>\n",
       "      <td>2022-12</td>\n",
       "    </tr>\n",
       "    <tr>\n",
       "      <th>7202663</th>\n",
       "      <td>36475470</td>\n",
       "      <td>C0038454 C0948008</td>\n",
       "      <td>2022-12</td>\n",
       "    </tr>\n",
       "    <tr>\n",
       "      <th>7202663</th>\n",
       "      <td>36475470</td>\n",
       "      <td>C0338656 C0948008</td>\n",
       "      <td>2022-12</td>\n",
       "    </tr>\n",
       "  </tbody>\n",
       "</table>\n",
       "<p>57014889 rows × 3 columns</p>\n",
       "</div>"
      ],
      "text/plain": [
       "        abstr_lvl_cooc               pair     date\n",
       "0                   68  C0048581 C0134796  1975-11\n",
       "0                   68  C0017725 C0043047  1975-11\n",
       "1                  107  C0003818 C0302583  1975-10\n",
       "1                  107  C0009968 C0024706  1975-10\n",
       "1                  107  C0023175 C0043047  1975-10\n",
       "...                ...                ...      ...\n",
       "7202663       36475470  C0009241 C0338656  2022-12\n",
       "7202663       36475470  C0038454 C0338656  2022-12\n",
       "7202663       36475470  C0009241 C0948008  2022-12\n",
       "7202663       36475470  C0038454 C0948008  2022-12\n",
       "7202663       36475470  C0338656 C0948008  2022-12\n",
       "\n",
       "[57014889 rows x 3 columns]"
      ]
     },
     "execution_count": 34,
     "metadata": {},
     "output_type": "execute_result"
    }
   ],
   "source": [
    "pmid_cuis_bench_cooc_df"
   ]
  },
  {
   "cell_type": "code",
   "execution_count": 35,
   "id": "10e2d46d-fc8c-49cd-a34e-5b07b144caa6",
   "metadata": {
    "execution": {
     "iopub.execute_input": "2023-09-27T09:14:55.359643Z",
     "iopub.status.busy": "2023-09-27T09:14:55.359225Z",
     "iopub.status.idle": "2023-09-27T09:16:47.595879Z",
     "shell.execute_reply": "2023-09-27T09:16:47.594849Z",
     "shell.execute_reply.started": "2023-09-27T09:14:55.359611Z"
    },
    "tags": []
   },
   "outputs": [
    {
     "name": "stderr",
     "output_type": "stream",
     "text": [
      "100%|████████████████████████████████████████████████████████████████████████████████████| 8/8 [01:52<00:00, 14.03s/it]\n"
     ]
    }
   ],
   "source": [
    "for db_name, db_pairs in tqdm(all_lookup_pairs_dict.items()):\n",
    "    pmid_cuis_bench_cooc_df[f'from_{db_name}'] = pmid_cuis_bench_cooc_df['pair'].apply(lambda x: x in db_pairs)"
   ]
  },
  {
   "cell_type": "code",
   "execution_count": 38,
   "id": "986eeb11-41ff-4fab-894a-e70cec10c75d",
   "metadata": {
    "execution": {
     "iopub.execute_input": "2023-09-27T09:18:18.394590Z",
     "iopub.status.busy": "2023-09-27T09:18:18.394060Z",
     "iopub.status.idle": "2023-09-27T09:20:44.374578Z",
     "shell.execute_reply": "2023-09-27T09:20:44.373681Z",
     "shell.execute_reply.started": "2023-09-27T09:18:18.394557Z"
    },
    "tags": []
   },
   "outputs": [],
   "source": [
    "pmid_cuis_bench_cooc_df[['source','target']] = (\n",
    "    pmid_cuis_bench_cooc_df['pair'].str.split(expand=True)\n",
    ")"
   ]
  },
  {
   "cell_type": "code",
   "execution_count": 43,
   "id": "16433074-5bc0-4025-8f2e-002a373cd92f",
   "metadata": {
    "execution": {
     "iopub.execute_input": "2023-09-27T09:22:03.635602Z",
     "iopub.status.busy": "2023-09-27T09:22:03.634510Z",
     "iopub.status.idle": "2023-09-27T09:22:03.653317Z",
     "shell.execute_reply": "2023-09-27T09:22:03.652580Z",
     "shell.execute_reply.started": "2023-09-27T09:22:03.635562Z"
    },
    "tags": []
   },
   "outputs": [
    {
     "data": {
      "text/html": [
       "<div>\n",
       "<style scoped>\n",
       "    .dataframe tbody tr th:only-of-type {\n",
       "        vertical-align: middle;\n",
       "    }\n",
       "\n",
       "    .dataframe tbody tr th {\n",
       "        vertical-align: top;\n",
       "    }\n",
       "\n",
       "    .dataframe thead th {\n",
       "        text-align: right;\n",
       "    }\n",
       "</style>\n",
       "<table border=\"1\" class=\"dataframe\">\n",
       "  <thead>\n",
       "    <tr style=\"text-align: right;\">\n",
       "      <th></th>\n",
       "      <th>abstr_lvl_cooc</th>\n",
       "      <th>pair</th>\n",
       "      <th>date</th>\n",
       "      <th>from_ctd</th>\n",
       "      <th>from_gwas</th>\n",
       "      <th>from_drugcentral</th>\n",
       "      <th>from_mentha</th>\n",
       "      <th>from_rxnav</th>\n",
       "      <th>from_stringdb</th>\n",
       "      <th>from_kegg</th>\n",
       "      <th>from_disgennet</th>\n",
       "      <th>source</th>\n",
       "      <th>target</th>\n",
       "    </tr>\n",
       "  </thead>\n",
       "  <tbody>\n",
       "    <tr>\n",
       "      <th>0</th>\n",
       "      <td>68</td>\n",
       "      <td>C0048581 C0134796</td>\n",
       "      <td>1975-11</td>\n",
       "      <td>False</td>\n",
       "      <td>False</td>\n",
       "      <td>False</td>\n",
       "      <td>False</td>\n",
       "      <td>False</td>\n",
       "      <td>False</td>\n",
       "      <td>True</td>\n",
       "      <td>False</td>\n",
       "      <td>C0048581</td>\n",
       "      <td>C0134796</td>\n",
       "    </tr>\n",
       "    <tr>\n",
       "      <th>0</th>\n",
       "      <td>68</td>\n",
       "      <td>C0017725 C0043047</td>\n",
       "      <td>1975-11</td>\n",
       "      <td>False</td>\n",
       "      <td>False</td>\n",
       "      <td>False</td>\n",
       "      <td>False</td>\n",
       "      <td>False</td>\n",
       "      <td>False</td>\n",
       "      <td>True</td>\n",
       "      <td>False</td>\n",
       "      <td>C0017725</td>\n",
       "      <td>C0043047</td>\n",
       "    </tr>\n",
       "    <tr>\n",
       "      <th>1</th>\n",
       "      <td>107</td>\n",
       "      <td>C0003818 C0302583</td>\n",
       "      <td>1975-10</td>\n",
       "      <td>False</td>\n",
       "      <td>False</td>\n",
       "      <td>False</td>\n",
       "      <td>False</td>\n",
       "      <td>False</td>\n",
       "      <td>False</td>\n",
       "      <td>True</td>\n",
       "      <td>False</td>\n",
       "      <td>C0003818</td>\n",
       "      <td>C0302583</td>\n",
       "    </tr>\n",
       "    <tr>\n",
       "      <th>1</th>\n",
       "      <td>107</td>\n",
       "      <td>C0009968 C0024706</td>\n",
       "      <td>1975-10</td>\n",
       "      <td>False</td>\n",
       "      <td>False</td>\n",
       "      <td>False</td>\n",
       "      <td>False</td>\n",
       "      <td>False</td>\n",
       "      <td>False</td>\n",
       "      <td>True</td>\n",
       "      <td>False</td>\n",
       "      <td>C0009968</td>\n",
       "      <td>C0024706</td>\n",
       "    </tr>\n",
       "    <tr>\n",
       "      <th>1</th>\n",
       "      <td>107</td>\n",
       "      <td>C0023175 C0043047</td>\n",
       "      <td>1975-10</td>\n",
       "      <td>False</td>\n",
       "      <td>False</td>\n",
       "      <td>False</td>\n",
       "      <td>False</td>\n",
       "      <td>False</td>\n",
       "      <td>False</td>\n",
       "      <td>True</td>\n",
       "      <td>False</td>\n",
       "      <td>C0023175</td>\n",
       "      <td>C0043047</td>\n",
       "    </tr>\n",
       "    <tr>\n",
       "      <th>...</th>\n",
       "      <td>...</td>\n",
       "      <td>...</td>\n",
       "      <td>...</td>\n",
       "      <td>...</td>\n",
       "      <td>...</td>\n",
       "      <td>...</td>\n",
       "      <td>...</td>\n",
       "      <td>...</td>\n",
       "      <td>...</td>\n",
       "      <td>...</td>\n",
       "      <td>...</td>\n",
       "      <td>...</td>\n",
       "      <td>...</td>\n",
       "    </tr>\n",
       "    <tr>\n",
       "      <th>7202663</th>\n",
       "      <td>36475470</td>\n",
       "      <td>C0009241 C0338656</td>\n",
       "      <td>2022-12</td>\n",
       "      <td>False</td>\n",
       "      <td>False</td>\n",
       "      <td>False</td>\n",
       "      <td>False</td>\n",
       "      <td>False</td>\n",
       "      <td>False</td>\n",
       "      <td>False</td>\n",
       "      <td>True</td>\n",
       "      <td>C0009241</td>\n",
       "      <td>C0338656</td>\n",
       "    </tr>\n",
       "    <tr>\n",
       "      <th>7202663</th>\n",
       "      <td>36475470</td>\n",
       "      <td>C0038454 C0338656</td>\n",
       "      <td>2022-12</td>\n",
       "      <td>False</td>\n",
       "      <td>False</td>\n",
       "      <td>False</td>\n",
       "      <td>False</td>\n",
       "      <td>False</td>\n",
       "      <td>False</td>\n",
       "      <td>False</td>\n",
       "      <td>True</td>\n",
       "      <td>C0038454</td>\n",
       "      <td>C0338656</td>\n",
       "    </tr>\n",
       "    <tr>\n",
       "      <th>7202663</th>\n",
       "      <td>36475470</td>\n",
       "      <td>C0009241 C0948008</td>\n",
       "      <td>2022-12</td>\n",
       "      <td>False</td>\n",
       "      <td>False</td>\n",
       "      <td>False</td>\n",
       "      <td>False</td>\n",
       "      <td>False</td>\n",
       "      <td>False</td>\n",
       "      <td>False</td>\n",
       "      <td>True</td>\n",
       "      <td>C0009241</td>\n",
       "      <td>C0948008</td>\n",
       "    </tr>\n",
       "    <tr>\n",
       "      <th>7202663</th>\n",
       "      <td>36475470</td>\n",
       "      <td>C0038454 C0948008</td>\n",
       "      <td>2022-12</td>\n",
       "      <td>False</td>\n",
       "      <td>False</td>\n",
       "      <td>False</td>\n",
       "      <td>False</td>\n",
       "      <td>False</td>\n",
       "      <td>False</td>\n",
       "      <td>False</td>\n",
       "      <td>True</td>\n",
       "      <td>C0038454</td>\n",
       "      <td>C0948008</td>\n",
       "    </tr>\n",
       "    <tr>\n",
       "      <th>7202663</th>\n",
       "      <td>36475470</td>\n",
       "      <td>C0338656 C0948008</td>\n",
       "      <td>2022-12</td>\n",
       "      <td>False</td>\n",
       "      <td>False</td>\n",
       "      <td>False</td>\n",
       "      <td>False</td>\n",
       "      <td>False</td>\n",
       "      <td>False</td>\n",
       "      <td>False</td>\n",
       "      <td>True</td>\n",
       "      <td>C0338656</td>\n",
       "      <td>C0948008</td>\n",
       "    </tr>\n",
       "  </tbody>\n",
       "</table>\n",
       "<p>57014889 rows × 13 columns</p>\n",
       "</div>"
      ],
      "text/plain": [
       "        abstr_lvl_cooc               pair     date  from_ctd  from_gwas  \\\n",
       "0                   68  C0048581 C0134796  1975-11     False      False   \n",
       "0                   68  C0017725 C0043047  1975-11     False      False   \n",
       "1                  107  C0003818 C0302583  1975-10     False      False   \n",
       "1                  107  C0009968 C0024706  1975-10     False      False   \n",
       "1                  107  C0023175 C0043047  1975-10     False      False   \n",
       "...                ...                ...      ...       ...        ...   \n",
       "7202663       36475470  C0009241 C0338656  2022-12     False      False   \n",
       "7202663       36475470  C0038454 C0338656  2022-12     False      False   \n",
       "7202663       36475470  C0009241 C0948008  2022-12     False      False   \n",
       "7202663       36475470  C0038454 C0948008  2022-12     False      False   \n",
       "7202663       36475470  C0338656 C0948008  2022-12     False      False   \n",
       "\n",
       "         from_drugcentral  from_mentha  from_rxnav  from_stringdb  from_kegg  \\\n",
       "0                   False        False       False          False       True   \n",
       "0                   False        False       False          False       True   \n",
       "1                   False        False       False          False       True   \n",
       "1                   False        False       False          False       True   \n",
       "1                   False        False       False          False       True   \n",
       "...                   ...          ...         ...            ...        ...   \n",
       "7202663             False        False       False          False      False   \n",
       "7202663             False        False       False          False      False   \n",
       "7202663             False        False       False          False      False   \n",
       "7202663             False        False       False          False      False   \n",
       "7202663             False        False       False          False      False   \n",
       "\n",
       "         from_disgennet    source    target  \n",
       "0                 False  C0048581  C0134796  \n",
       "0                 False  C0017725  C0043047  \n",
       "1                 False  C0003818  C0302583  \n",
       "1                 False  C0009968  C0024706  \n",
       "1                 False  C0023175  C0043047  \n",
       "...                 ...       ...       ...  \n",
       "7202663            True  C0009241  C0338656  \n",
       "7202663            True  C0038454  C0338656  \n",
       "7202663            True  C0009241  C0948008  \n",
       "7202663            True  C0038454  C0948008  \n",
       "7202663            True  C0338656  C0948008  \n",
       "\n",
       "[57014889 rows x 13 columns]"
      ]
     },
     "execution_count": 43,
     "metadata": {},
     "output_type": "execute_result"
    }
   ],
   "source": [
    "pmid_cuis_bench_cooc_df"
   ]
  },
  {
   "cell_type": "code",
   "execution_count": 44,
   "id": "2af47615-c126-4213-9394-0b1e30161ce4",
   "metadata": {
    "execution": {
     "iopub.execute_input": "2023-09-27T09:22:27.916564Z",
     "iopub.status.busy": "2023-09-27T09:22:27.916133Z",
     "iopub.status.idle": "2023-09-27T09:23:52.223729Z",
     "shell.execute_reply": "2023-09-27T09:23:52.222788Z",
     "shell.execute_reply.started": "2023-09-27T09:22:27.916532Z"
    },
    "tags": []
   },
   "outputs": [],
   "source": [
    "pmid_cuis_bench_cooc_df.to_pickle(\n",
    "    '../benchmark_data/04_cross_ref_cui_pairs_pmid_ts/pmids_cooc_expd_df.pkl'\n",
    ")"
   ]
  },
  {
   "cell_type": "markdown",
   "id": "8bbf1299-a53f-4901-82c7-92c55a8e5c03",
   "metadata": {},
   "source": [
    "### Summarizing sources (for Table 1)"
   ]
  },
  {
   "cell_type": "code",
   "execution_count": 5,
   "id": "3bf22d85-5e61-4349-8255-6b858d5cf401",
   "metadata": {
    "execution": {
     "iopub.execute_input": "2023-11-28T23:50:00.115630Z",
     "iopub.status.busy": "2023-11-28T23:50:00.115287Z",
     "iopub.status.idle": "2023-11-28T23:50:22.316877Z",
     "shell.execute_reply": "2023-11-28T23:50:22.315726Z",
     "shell.execute_reply.started": "2023-11-28T23:50:00.115599Z"
    },
    "tags": []
   },
   "outputs": [],
   "source": [
    "pmid_cuis_bench_cooc_df = pd.read_pickle(\n",
    "    '../benchmark_data/04_cross_ref_cui_pairs_pmid_ts/pmids_cooc_expd_df.pkl'\n",
    ")"
   ]
  },
  {
   "cell_type": "code",
   "execution_count": 13,
   "id": "cb6a43b6-2c25-42c7-b6ba-a3f94801248d",
   "metadata": {
    "execution": {
     "iopub.execute_input": "2023-11-28T23:54:08.617907Z",
     "iopub.status.busy": "2023-11-28T23:54:08.617468Z",
     "iopub.status.idle": "2023-11-28T23:54:08.624890Z",
     "shell.execute_reply": "2023-11-28T23:54:08.623992Z",
     "shell.execute_reply.started": "2023-11-28T23:54:08.617874Z"
    },
    "tags": []
   },
   "outputs": [
    {
     "data": {
      "text/plain": [
       "['from_ctd',\n",
       " 'from_gwas',\n",
       " 'from_drugcentral',\n",
       " 'from_mentha',\n",
       " 'from_rxnav',\n",
       " 'from_stringdb',\n",
       " 'from_kegg',\n",
       " 'from_disgennet']"
      ]
     },
     "execution_count": 13,
     "metadata": {},
     "output_type": "execute_result"
    }
   ],
   "source": [
    "source_cols_list = [c for c in pmid_cuis_bench_cooc_df.columns if 'from' in c]\n",
    "source_cols_list"
   ]
  },
  {
   "cell_type": "code",
   "execution_count": 17,
   "id": "6f8286ef-ea45-4f80-966e-a60cee615ffb",
   "metadata": {
    "execution": {
     "iopub.execute_input": "2023-11-28T23:57:12.390462Z",
     "iopub.status.busy": "2023-11-28T23:57:12.389945Z",
     "iopub.status.idle": "2023-11-28T23:57:12.397422Z",
     "shell.execute_reply": "2023-11-28T23:57:12.396518Z",
     "shell.execute_reply.started": "2023-11-28T23:57:12.390421Z"
    },
    "tags": []
   },
   "outputs": [],
   "source": [
    "source_cols_names_dict = {\n",
    "    'from_ctd': 'CTD',\n",
    "    'from_gwas': 'GWAS',\n",
    "    'from_drugcentral': 'DrugCentral',\n",
    "    'from_mentha': 'Mentha',\n",
    "    'from_rxnav': 'RxNav',\n",
    "    'from_stringdb': 'STRING',\n",
    "    'from_kegg': 'KEGG',\n",
    "    'from_disgennet': 'DisGenNET'\n",
    "}"
   ]
  },
  {
   "cell_type": "code",
   "execution_count": 28,
   "id": "528d7922-dfd1-4f30-a783-3db7246bac7e",
   "metadata": {
    "execution": {
     "iopub.execute_input": "2023-11-29T00:02:51.817226Z",
     "iopub.status.busy": "2023-11-29T00:02:51.816799Z",
     "iopub.status.idle": "2023-11-29T00:03:11.768252Z",
     "shell.execute_reply": "2023-11-29T00:03:11.766428Z",
     "shell.execute_reply.started": "2023-11-29T00:02:51.817182Z"
    },
    "tags": []
   },
   "outputs": [],
   "source": [
    "pmid_cuis_bench_cooc_nopmid_df = (\n",
    "    pmid_cuis_bench_cooc_df[['pair'] + source_cols_list]\n",
    "        .drop_duplicates()\n",
    "        .rename(columns=source_cols_names_dict)\n",
    ")"
   ]
  },
  {
   "cell_type": "code",
   "execution_count": 32,
   "id": "e693cd60-ba63-419b-baa2-16b0c238d147",
   "metadata": {
    "execution": {
     "iopub.execute_input": "2023-11-29T00:06:46.105293Z",
     "iopub.status.busy": "2023-11-29T00:06:46.104787Z",
     "iopub.status.idle": "2023-11-29T00:06:47.473040Z",
     "shell.execute_reply": "2023-11-29T00:06:47.472083Z",
     "shell.execute_reply.started": "2023-11-29T00:06:46.105259Z"
    },
    "tags": []
   },
   "outputs": [
    {
     "name": "stderr",
     "output_type": "stream",
     "text": [
      "100%|█████████████████████████████████████████████████████████████████████████████████████████| 8/8 [00:01<00:00,  5.90it/s]\n"
     ]
    }
   ],
   "source": [
    "db_to_n_nodes_dict = dict()\n",
    "\n",
    "for db_source in tqdm(source_cols_names_dict.values()):\n",
    "    db_pairs_list = pmid_cuis_bench_cooc_nopmid_df[\n",
    "        pmid_cuis_bench_cooc_nopmid_df[db_source] == True\n",
    "    ]['pair'].to_list()\n",
    "    \n",
    "    db_nodes_set = set()\n",
    "    for pair in db_pairs_list:\n",
    "        n1, n2 = pair.split(' ')\n",
    "        db_nodes_set.add(n1)\n",
    "        db_nodes_set.add(n2)\n",
    "    db_to_n_nodes_dict[db_source] = len(db_nodes_set)"
   ]
  },
  {
   "cell_type": "code",
   "execution_count": 33,
   "id": "418c2f76-f60c-4d6e-9419-cd257df7ad2c",
   "metadata": {
    "execution": {
     "iopub.execute_input": "2023-11-29T00:06:56.067764Z",
     "iopub.status.busy": "2023-11-29T00:06:56.067406Z",
     "iopub.status.idle": "2023-11-29T00:06:56.074374Z",
     "shell.execute_reply": "2023-11-29T00:06:56.073610Z",
     "shell.execute_reply.started": "2023-11-29T00:06:56.067732Z"
    },
    "tags": []
   },
   "outputs": [
    {
     "data": {
      "text/plain": [
       "{'CTD': 37065,\n",
       " 'GWAS': 8905,\n",
       " 'DrugCentral': 19066,\n",
       " 'Mentha': 10096,\n",
       " 'RxNav': 2804,\n",
       " 'STRING': 9118,\n",
       " 'KEGG': 22306,\n",
       " 'DisGenNET': 18923}"
      ]
     },
     "execution_count": 33,
     "metadata": {},
     "output_type": "execute_result"
    }
   ],
   "source": [
    "db_to_n_nodes_dict"
   ]
  },
  {
   "cell_type": "code",
   "execution_count": 52,
   "id": "e8e2d8c3-7377-457b-bea1-d03da90e40dd",
   "metadata": {
    "execution": {
     "iopub.execute_input": "2023-11-29T00:53:31.091711Z",
     "iopub.status.busy": "2023-11-29T00:53:31.090463Z",
     "iopub.status.idle": "2023-11-29T00:53:31.096874Z",
     "shell.execute_reply": "2023-11-29T00:53:31.096117Z",
     "shell.execute_reply.started": "2023-11-29T00:53:31.091673Z"
    },
    "tags": []
   },
   "outputs": [],
   "source": [
    "db_to_concept_types_dict = {\n",
    "    'CTD': 'Genes, Diseases, Chemicals',\n",
    "    'GWAS': 'Genes, Diseases',\n",
    "    'DrugCentral': 'Genes, Diseases, Drugs',\n",
    "    'Mentha': 'Proteins',\n",
    "    'RxNav': 'Drugs',\n",
    "    'STRING': 'Proteins',\n",
    "    'KEGG': 'Genes, Diseases, Chemicals, Drugs',\n",
    "    'DisGenNET': 'Genes, Diseases'\n",
    "}"
   ]
  },
  {
   "cell_type": "code",
   "execution_count": 77,
   "id": "13fa543b-9185-4318-89d3-23f74926af0f",
   "metadata": {
    "execution": {
     "iopub.execute_input": "2023-11-29T01:13:23.484891Z",
     "iopub.status.busy": "2023-11-29T01:13:23.484559Z",
     "iopub.status.idle": "2023-11-29T01:13:23.502656Z",
     "shell.execute_reply": "2023-11-29T01:13:23.501810Z",
     "shell.execute_reply.started": "2023-11-29T01:13:23.484874Z"
    },
    "tags": []
   },
   "outputs": [],
   "source": [
    "dbs_stat_counts_df = (\n",
    "    pmid_cuis_bench_cooc_nopmid_df[source_cols_names_dict.values()]\n",
    "        .sum(axis=0)\n",
    "        .sort_values(ascending=False)\n",
    "        .to_frame()\n",
    "        .rename(columns={0:'Pairs $(m_i, m_j)$'})\n",
    ")"
   ]
  },
  {
   "cell_type": "code",
   "execution_count": 78,
   "id": "317bbac3-7652-4d0e-b025-2b05b4a430ed",
   "metadata": {
    "execution": {
     "iopub.execute_input": "2023-11-29T01:13:23.558680Z",
     "iopub.status.busy": "2023-11-29T01:13:23.558361Z",
     "iopub.status.idle": "2023-11-29T01:13:23.566042Z",
     "shell.execute_reply": "2023-11-29T01:13:23.564600Z",
     "shell.execute_reply.started": "2023-11-29T01:13:23.558650Z"
    },
    "tags": []
   },
   "outputs": [],
   "source": [
    "dbs_stat_counts_df['Concepts $m_i$'] = (\n",
    "    dbs_stat_counts_df\n",
    "        .index\n",
    "        .map(\n",
    "            lambda x: db_to_n_nodes_dict.get(x)\n",
    "        )\n",
    ")\n",
    "\n",
    "dbs_stat_counts_df['Concept Types'] = (\n",
    "    dbs_stat_counts_df\n",
    "        .index\n",
    "        .map(\n",
    "            lambda x: db_to_concept_types_dict.get(x)\n",
    "        )\n",
    ")"
   ]
  },
  {
   "cell_type": "code",
   "execution_count": 79,
   "id": "08e458fe-138a-41ed-9101-a6a461c54b2a",
   "metadata": {
    "execution": {
     "iopub.execute_input": "2023-11-29T01:13:24.410510Z",
     "iopub.status.busy": "2023-11-29T01:13:24.409715Z",
     "iopub.status.idle": "2023-11-29T01:13:24.416418Z",
     "shell.execute_reply": "2023-11-29T01:13:24.415361Z",
     "shell.execute_reply.started": "2023-11-29T01:13:24.410458Z"
    },
    "tags": []
   },
   "outputs": [],
   "source": [
    "dbs_stat_counts_df.index.name = 'Database'"
   ]
  },
  {
   "cell_type": "code",
   "execution_count": 80,
   "id": "f62f998d-5014-4cdb-81ab-bc19cb4dafc8",
   "metadata": {
    "execution": {
     "iopub.execute_input": "2023-11-29T01:13:24.564805Z",
     "iopub.status.busy": "2023-11-29T01:13:24.564512Z",
     "iopub.status.idle": "2023-11-29T01:13:24.574760Z",
     "shell.execute_reply": "2023-11-29T01:13:24.573861Z",
     "shell.execute_reply.started": "2023-11-29T01:13:24.564784Z"
    },
    "tags": []
   },
   "outputs": [
    {
     "data": {
      "text/html": [
       "<div>\n",
       "<style scoped>\n",
       "    .dataframe tbody tr th:only-of-type {\n",
       "        vertical-align: middle;\n",
       "    }\n",
       "\n",
       "    .dataframe tbody tr th {\n",
       "        vertical-align: top;\n",
       "    }\n",
       "\n",
       "    .dataframe thead th {\n",
       "        text-align: right;\n",
       "    }\n",
       "</style>\n",
       "<table border=\"1\" class=\"dataframe\">\n",
       "  <thead>\n",
       "    <tr style=\"text-align: right;\">\n",
       "      <th></th>\n",
       "      <th>Pairs $(m_i, m_j)$</th>\n",
       "      <th>Concepts $m_i$</th>\n",
       "      <th>Concept Types</th>\n",
       "    </tr>\n",
       "    <tr>\n",
       "      <th>Database</th>\n",
       "      <th></th>\n",
       "      <th></th>\n",
       "      <th></th>\n",
       "    </tr>\n",
       "  </thead>\n",
       "  <tbody>\n",
       "    <tr>\n",
       "      <th>KEGG</th>\n",
       "      <td>730214</td>\n",
       "      <td>22306</td>\n",
       "      <td>Genes, Diseases, Chemicals, Drugs</td>\n",
       "    </tr>\n",
       "    <tr>\n",
       "      <th>CTD</th>\n",
       "      <td>459229</td>\n",
       "      <td>37065</td>\n",
       "      <td>Genes, Diseases, Chemicals</td>\n",
       "    </tr>\n",
       "    <tr>\n",
       "      <th>DisGenNET</th>\n",
       "      <td>274320</td>\n",
       "      <td>18923</td>\n",
       "      <td>Genes, Diseases</td>\n",
       "    </tr>\n",
       "    <tr>\n",
       "      <th>DrugCentral</th>\n",
       "      <td>230805</td>\n",
       "      <td>19066</td>\n",
       "      <td>Genes, Diseases, Drugs</td>\n",
       "    </tr>\n",
       "    <tr>\n",
       "      <th>RxNav</th>\n",
       "      <td>175186</td>\n",
       "      <td>2804</td>\n",
       "      <td>Drugs</td>\n",
       "    </tr>\n",
       "    <tr>\n",
       "      <th>STRING</th>\n",
       "      <td>63904</td>\n",
       "      <td>9118</td>\n",
       "      <td>Proteins</td>\n",
       "    </tr>\n",
       "    <tr>\n",
       "      <th>Mentha</th>\n",
       "      <td>43673</td>\n",
       "      <td>10096</td>\n",
       "      <td>Proteins</td>\n",
       "    </tr>\n",
       "    <tr>\n",
       "      <th>GWAS</th>\n",
       "      <td>30350</td>\n",
       "      <td>8905</td>\n",
       "      <td>Genes, Diseases</td>\n",
       "    </tr>\n",
       "  </tbody>\n",
       "</table>\n",
       "</div>"
      ],
      "text/plain": [
       "             Pairs $(m_i, m_j)$  Concepts $m_i$  \\\n",
       "Database                                          \n",
       "KEGG                     730214           22306   \n",
       "CTD                      459229           37065   \n",
       "DisGenNET                274320           18923   \n",
       "DrugCentral              230805           19066   \n",
       "RxNav                    175186            2804   \n",
       "STRING                    63904            9118   \n",
       "Mentha                    43673           10096   \n",
       "GWAS                      30350            8905   \n",
       "\n",
       "                                 Concept Types  \n",
       "Database                                        \n",
       "KEGG         Genes, Diseases, Chemicals, Drugs  \n",
       "CTD                 Genes, Diseases, Chemicals  \n",
       "DisGenNET                      Genes, Diseases  \n",
       "DrugCentral             Genes, Diseases, Drugs  \n",
       "RxNav                                    Drugs  \n",
       "STRING                                Proteins  \n",
       "Mentha                                Proteins  \n",
       "GWAS                           Genes, Diseases  "
      ]
     },
     "execution_count": 80,
     "metadata": {},
     "output_type": "execute_result"
    }
   ],
   "source": [
    "dbs_stat_counts_df"
   ]
  },
  {
   "cell_type": "code",
   "execution_count": 72,
   "id": "09e773d2-85b4-40cc-8da0-94dd145b2754",
   "metadata": {
    "execution": {
     "iopub.execute_input": "2023-11-29T01:02:38.269134Z",
     "iopub.status.busy": "2023-11-29T01:02:38.268694Z",
     "iopub.status.idle": "2023-11-29T01:02:38.279502Z",
     "shell.execute_reply": "2023-11-29T01:02:38.278773Z",
     "shell.execute_reply.started": "2023-11-29T01:02:38.269101Z"
    },
    "tags": []
   },
   "outputs": [
    {
     "name": "stdout",
     "output_type": "stream",
     "text": [
      "\\begin{tabular}{lrrl}\n",
      "\\toprule\n",
      "{} &  Pairs $(m_i, m_j)$ &  Concepts $m_i$ &                      Concept Types \\\\\n",
      "Database    &                     &                 &                                    \\\\\n",
      "\\midrule\n",
      "KEGG        &              730214 &           22306 &  Genes, Diseases, Chemicals, Drugs \\\\\n",
      "CTD         &              459229 &           37065 &         Genes, Diseases, Chemicals \\\\\n",
      "DisGenNET   &              274320 &           18923 &                    Genes, Diseases \\\\\n",
      "DrugCentral &              230805 &           19066 &             Genes, Diseases, Drugs \\\\\n",
      "RxNav       &              175186 &            2804 &                              Drugs \\\\\n",
      "STRING      &               63904 &            9118 &                           Proteins \\\\\n",
      "Mentha      &               43673 &           10096 &                           Proteins \\\\\n",
      "GWAS        &               30350 &            8905 &                    Genes, Diseases \\\\\n",
      "\\bottomrule\n",
      "\\end{tabular}\n",
      "\n"
     ]
    },
    {
     "name": "stderr",
     "output_type": "stream",
     "text": [
      "/tmp/ipykernel_41824/201573475.py:1: FutureWarning: In future versions `DataFrame.to_latex` is expected to utilise the base implementation of `Styler.to_latex` for formatting and rendering. The arguments signature may therefore change. It is recommended instead to use `DataFrame.style.to_latex` which also contains additional functionality.\n",
      "  print(dbs_stat_counts_df.to_latex(escape=False))\n"
     ]
    }
   ],
   "source": [
    "print(dbs_stat_counts_df.to_latex(escape=False))"
   ]
  },
  {
   "cell_type": "code",
   "execution_count": null,
   "id": "70e8476d-b0ac-41c6-ab5b-075bd568f0c7",
   "metadata": {},
   "outputs": [],
   "source": []
  }
 ],
 "metadata": {
  "kernelspec": {
   "display_name": "Python [conda env:agatha_cgp]",
   "language": "python",
   "name": "conda-env-agatha_cgp-py"
  },
  "language_info": {
   "codemirror_mode": {
    "name": "ipython",
    "version": 3
   },
   "file_extension": ".py",
   "mimetype": "text/x-python",
   "name": "python",
   "nbconvert_exporter": "python",
   "pygments_lexer": "ipython3",
   "version": "3.8.13"
  }
 },
 "nbformat": 4,
 "nbformat_minor": 5
}
