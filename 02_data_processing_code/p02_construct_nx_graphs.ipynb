{
 "cells": [
  {
   "cell_type": "markdown",
   "id": "1db8427b-47a5-4f05-9a98-33fe24363408",
   "metadata": {},
   "source": [
    "# Constructing nx graphs from cross-ref CUI pairs"
   ]
  },
  {
   "cell_type": "code",
   "execution_count": 1,
   "id": "688ceed0-117c-496c-8d81-0f39a238d8b3",
   "metadata": {
    "execution": {
     "iopub.execute_input": "2023-12-06T01:39:00.686215Z",
     "iopub.status.busy": "2023-12-06T01:39:00.685709Z",
     "iopub.status.idle": "2023-12-06T01:40:04.718394Z",
     "shell.execute_reply": "2023-12-06T01:40:04.717180Z",
     "shell.execute_reply.started": "2023-12-06T01:39:00.686116Z"
    },
    "tags": []
   },
   "outputs": [],
   "source": [
    "import pandas as pd\n",
    "import networkx as nx\n",
    "from pathlib import Path\n",
    "import json\n",
    "from tqdm import tqdm\n",
    "import pickle\n",
    "\n",
    "from collections import defaultdict\n",
    "\n",
    "from matplotlib import pyplot as plt\n",
    "\n",
    "from joblib import delayed, Parallel\n",
    "\n",
    "import numpy as np"
   ]
  },
  {
   "cell_type": "code",
   "execution_count": 34,
   "id": "417144b3-e9cb-4eee-af5d-a667e144a30e",
   "metadata": {
    "execution": {
     "iopub.execute_input": "2023-09-27T17:15:23.180202Z",
     "iopub.status.busy": "2023-09-27T17:15:23.179719Z",
     "iopub.status.idle": "2023-09-27T17:15:55.526847Z",
     "shell.execute_reply": "2023-09-27T17:15:55.525858Z",
     "shell.execute_reply.started": "2023-09-27T17:15:23.180165Z"
    },
    "tags": []
   },
   "outputs": [
    {
     "name": "stderr",
     "output_type": "stream",
     "text": [
      "  0%|                                                                                                                                 | 0/34 [16:47<?, ?it/s]\n"
     ]
    }
   ],
   "source": [
    "from gensim.models import Word2Vec"
   ]
  },
  {
   "cell_type": "markdown",
   "id": "ea37771b-ac16-4a92-93f7-f6a87f7bcc98",
   "metadata": {},
   "source": [
    "## Opening data"
   ]
  },
  {
   "cell_type": "code",
   "execution_count": 2,
   "id": "71466945-2bdd-4b81-9e77-f8a5fcf0083e",
   "metadata": {
    "execution": {
     "iopub.execute_input": "2023-09-27T16:32:44.840349Z",
     "iopub.status.busy": "2023-09-27T16:32:44.839999Z",
     "iopub.status.idle": "2023-09-27T16:33:04.868158Z",
     "shell.execute_reply": "2023-09-27T16:33:04.866794Z",
     "shell.execute_reply.started": "2023-09-27T16:32:44.840318Z"
    },
    "tags": []
   },
   "outputs": [],
   "source": [
    "pmids_cooc_expd_df = pd.read_pickle(\n",
    "    '../benchmark_data/04_cross_ref_cui_pairs_pmid_ts/pmids_cooc_expd_df.pkl'\n",
    ")"
   ]
  },
  {
   "cell_type": "code",
   "execution_count": 3,
   "id": "058d54a5-7ca2-467b-8ddf-0b09f7a7eb1c",
   "metadata": {
    "execution": {
     "iopub.execute_input": "2023-09-27T16:33:04.870492Z",
     "iopub.status.busy": "2023-09-27T16:33:04.870040Z",
     "iopub.status.idle": "2023-09-27T16:33:04.919776Z",
     "shell.execute_reply": "2023-09-27T16:33:04.919125Z",
     "shell.execute_reply.started": "2023-09-27T16:33:04.870458Z"
    },
    "tags": []
   },
   "outputs": [
    {
     "data": {
      "text/html": [
       "<div>\n",
       "<style scoped>\n",
       "    .dataframe tbody tr th:only-of-type {\n",
       "        vertical-align: middle;\n",
       "    }\n",
       "\n",
       "    .dataframe tbody tr th {\n",
       "        vertical-align: top;\n",
       "    }\n",
       "\n",
       "    .dataframe thead th {\n",
       "        text-align: right;\n",
       "    }\n",
       "</style>\n",
       "<table border=\"1\" class=\"dataframe\">\n",
       "  <thead>\n",
       "    <tr style=\"text-align: right;\">\n",
       "      <th></th>\n",
       "      <th>abstr_lvl_cooc</th>\n",
       "      <th>pair</th>\n",
       "      <th>date</th>\n",
       "      <th>from_ctd</th>\n",
       "      <th>from_gwas</th>\n",
       "      <th>from_drugcentral</th>\n",
       "      <th>from_mentha</th>\n",
       "      <th>from_rxnav</th>\n",
       "      <th>from_stringdb</th>\n",
       "      <th>from_kegg</th>\n",
       "      <th>from_disgennet</th>\n",
       "      <th>source</th>\n",
       "      <th>target</th>\n",
       "    </tr>\n",
       "  </thead>\n",
       "  <tbody>\n",
       "    <tr>\n",
       "      <th>0</th>\n",
       "      <td>68</td>\n",
       "      <td>C0048581 C0134796</td>\n",
       "      <td>1975-11</td>\n",
       "      <td>False</td>\n",
       "      <td>False</td>\n",
       "      <td>False</td>\n",
       "      <td>False</td>\n",
       "      <td>False</td>\n",
       "      <td>False</td>\n",
       "      <td>True</td>\n",
       "      <td>False</td>\n",
       "      <td>C0048581</td>\n",
       "      <td>C0134796</td>\n",
       "    </tr>\n",
       "    <tr>\n",
       "      <th>0</th>\n",
       "      <td>68</td>\n",
       "      <td>C0017725 C0043047</td>\n",
       "      <td>1975-11</td>\n",
       "      <td>False</td>\n",
       "      <td>False</td>\n",
       "      <td>False</td>\n",
       "      <td>False</td>\n",
       "      <td>False</td>\n",
       "      <td>False</td>\n",
       "      <td>True</td>\n",
       "      <td>False</td>\n",
       "      <td>C0017725</td>\n",
       "      <td>C0043047</td>\n",
       "    </tr>\n",
       "    <tr>\n",
       "      <th>1</th>\n",
       "      <td>107</td>\n",
       "      <td>C0003818 C0302583</td>\n",
       "      <td>1975-10</td>\n",
       "      <td>False</td>\n",
       "      <td>False</td>\n",
       "      <td>False</td>\n",
       "      <td>False</td>\n",
       "      <td>False</td>\n",
       "      <td>False</td>\n",
       "      <td>True</td>\n",
       "      <td>False</td>\n",
       "      <td>C0003818</td>\n",
       "      <td>C0302583</td>\n",
       "    </tr>\n",
       "    <tr>\n",
       "      <th>1</th>\n",
       "      <td>107</td>\n",
       "      <td>C0009968 C0024706</td>\n",
       "      <td>1975-10</td>\n",
       "      <td>False</td>\n",
       "      <td>False</td>\n",
       "      <td>False</td>\n",
       "      <td>False</td>\n",
       "      <td>False</td>\n",
       "      <td>False</td>\n",
       "      <td>True</td>\n",
       "      <td>False</td>\n",
       "      <td>C0009968</td>\n",
       "      <td>C0024706</td>\n",
       "    </tr>\n",
       "    <tr>\n",
       "      <th>1</th>\n",
       "      <td>107</td>\n",
       "      <td>C0023175 C0043047</td>\n",
       "      <td>1975-10</td>\n",
       "      <td>False</td>\n",
       "      <td>False</td>\n",
       "      <td>False</td>\n",
       "      <td>False</td>\n",
       "      <td>False</td>\n",
       "      <td>False</td>\n",
       "      <td>True</td>\n",
       "      <td>False</td>\n",
       "      <td>C0023175</td>\n",
       "      <td>C0043047</td>\n",
       "    </tr>\n",
       "    <tr>\n",
       "      <th>...</th>\n",
       "      <td>...</td>\n",
       "      <td>...</td>\n",
       "      <td>...</td>\n",
       "      <td>...</td>\n",
       "      <td>...</td>\n",
       "      <td>...</td>\n",
       "      <td>...</td>\n",
       "      <td>...</td>\n",
       "      <td>...</td>\n",
       "      <td>...</td>\n",
       "      <td>...</td>\n",
       "      <td>...</td>\n",
       "      <td>...</td>\n",
       "    </tr>\n",
       "    <tr>\n",
       "      <th>7202663</th>\n",
       "      <td>36475470</td>\n",
       "      <td>C0009241 C0338656</td>\n",
       "      <td>2022-12</td>\n",
       "      <td>False</td>\n",
       "      <td>False</td>\n",
       "      <td>False</td>\n",
       "      <td>False</td>\n",
       "      <td>False</td>\n",
       "      <td>False</td>\n",
       "      <td>False</td>\n",
       "      <td>True</td>\n",
       "      <td>C0009241</td>\n",
       "      <td>C0338656</td>\n",
       "    </tr>\n",
       "    <tr>\n",
       "      <th>7202663</th>\n",
       "      <td>36475470</td>\n",
       "      <td>C0038454 C0338656</td>\n",
       "      <td>2022-12</td>\n",
       "      <td>False</td>\n",
       "      <td>False</td>\n",
       "      <td>False</td>\n",
       "      <td>False</td>\n",
       "      <td>False</td>\n",
       "      <td>False</td>\n",
       "      <td>False</td>\n",
       "      <td>True</td>\n",
       "      <td>C0038454</td>\n",
       "      <td>C0338656</td>\n",
       "    </tr>\n",
       "    <tr>\n",
       "      <th>7202663</th>\n",
       "      <td>36475470</td>\n",
       "      <td>C0009241 C0948008</td>\n",
       "      <td>2022-12</td>\n",
       "      <td>False</td>\n",
       "      <td>False</td>\n",
       "      <td>False</td>\n",
       "      <td>False</td>\n",
       "      <td>False</td>\n",
       "      <td>False</td>\n",
       "      <td>False</td>\n",
       "      <td>True</td>\n",
       "      <td>C0009241</td>\n",
       "      <td>C0948008</td>\n",
       "    </tr>\n",
       "    <tr>\n",
       "      <th>7202663</th>\n",
       "      <td>36475470</td>\n",
       "      <td>C0038454 C0948008</td>\n",
       "      <td>2022-12</td>\n",
       "      <td>False</td>\n",
       "      <td>False</td>\n",
       "      <td>False</td>\n",
       "      <td>False</td>\n",
       "      <td>False</td>\n",
       "      <td>False</td>\n",
       "      <td>False</td>\n",
       "      <td>True</td>\n",
       "      <td>C0038454</td>\n",
       "      <td>C0948008</td>\n",
       "    </tr>\n",
       "    <tr>\n",
       "      <th>7202663</th>\n",
       "      <td>36475470</td>\n",
       "      <td>C0338656 C0948008</td>\n",
       "      <td>2022-12</td>\n",
       "      <td>False</td>\n",
       "      <td>False</td>\n",
       "      <td>False</td>\n",
       "      <td>False</td>\n",
       "      <td>False</td>\n",
       "      <td>False</td>\n",
       "      <td>False</td>\n",
       "      <td>True</td>\n",
       "      <td>C0338656</td>\n",
       "      <td>C0948008</td>\n",
       "    </tr>\n",
       "  </tbody>\n",
       "</table>\n",
       "<p>57014889 rows × 13 columns</p>\n",
       "</div>"
      ],
      "text/plain": [
       "        abstr_lvl_cooc               pair     date  from_ctd  from_gwas  \\\n",
       "0                   68  C0048581 C0134796  1975-11     False      False   \n",
       "0                   68  C0017725 C0043047  1975-11     False      False   \n",
       "1                  107  C0003818 C0302583  1975-10     False      False   \n",
       "1                  107  C0009968 C0024706  1975-10     False      False   \n",
       "1                  107  C0023175 C0043047  1975-10     False      False   \n",
       "...                ...                ...      ...       ...        ...   \n",
       "7202663       36475470  C0009241 C0338656  2022-12     False      False   \n",
       "7202663       36475470  C0038454 C0338656  2022-12     False      False   \n",
       "7202663       36475470  C0009241 C0948008  2022-12     False      False   \n",
       "7202663       36475470  C0038454 C0948008  2022-12     False      False   \n",
       "7202663       36475470  C0338656 C0948008  2022-12     False      False   \n",
       "\n",
       "         from_drugcentral  from_mentha  from_rxnav  from_stringdb  from_kegg  \\\n",
       "0                   False        False       False          False       True   \n",
       "0                   False        False       False          False       True   \n",
       "1                   False        False       False          False       True   \n",
       "1                   False        False       False          False       True   \n",
       "1                   False        False       False          False       True   \n",
       "...                   ...          ...         ...            ...        ...   \n",
       "7202663             False        False       False          False      False   \n",
       "7202663             False        False       False          False      False   \n",
       "7202663             False        False       False          False      False   \n",
       "7202663             False        False       False          False      False   \n",
       "7202663             False        False       False          False      False   \n",
       "\n",
       "         from_disgennet    source    target  \n",
       "0                 False  C0048581  C0134796  \n",
       "0                 False  C0017725  C0043047  \n",
       "1                 False  C0003818  C0302583  \n",
       "1                 False  C0009968  C0024706  \n",
       "1                 False  C0023175  C0043047  \n",
       "...                 ...       ...       ...  \n",
       "7202663            True  C0009241  C0338656  \n",
       "7202663            True  C0038454  C0338656  \n",
       "7202663            True  C0009241  C0948008  \n",
       "7202663            True  C0038454  C0948008  \n",
       "7202663            True  C0338656  C0948008  \n",
       "\n",
       "[57014889 rows x 13 columns]"
      ]
     },
     "execution_count": 3,
     "metadata": {},
     "output_type": "execute_result"
    }
   ],
   "source": [
    "pmids_cooc_expd_df"
   ]
  },
  {
   "cell_type": "markdown",
   "id": "964872b3-bf0f-48bd-af7d-1edd9c74bf59",
   "metadata": {},
   "source": [
    "## Split `pmids_cooc_expd_df` for parallel processing in ascending order (years-based)"
   ]
  },
  {
   "cell_type": "code",
   "execution_count": 4,
   "id": "aaf645e0-0ec3-4dbc-b031-d479552e4581",
   "metadata": {
    "execution": {
     "iopub.execute_input": "2023-09-27T16:34:47.353818Z",
     "iopub.status.busy": "2023-09-27T16:34:47.353401Z",
     "iopub.status.idle": "2023-09-27T16:34:47.357734Z",
     "shell.execute_reply": "2023-09-27T16:34:47.357092Z",
     "shell.execute_reply.started": "2023-09-27T16:34:47.353785Z"
    },
    "tags": []
   },
   "outputs": [],
   "source": [
    "ts_dfs_output_path = Path(\n",
    "    '../benchmark_data/05_cui_pairs_ts_nx/ts_dfs/'\n",
    ")\n",
    "\n",
    "ts_dfs_output_path.mkdir(parents=True, exist_ok=True)"
   ]
  },
  {
   "cell_type": "code",
   "execution_count": 5,
   "id": "18e0d2da-aa3e-44cc-b710-66d7ff41a71d",
   "metadata": {
    "execution": {
     "iopub.execute_input": "2023-09-27T16:37:31.131703Z",
     "iopub.status.busy": "2023-09-27T16:37:31.131344Z",
     "iopub.status.idle": "2023-09-27T16:37:31.135681Z",
     "shell.execute_reply": "2023-09-27T16:37:31.134985Z",
     "shell.execute_reply.started": "2023-09-27T16:37:31.131672Z"
    },
    "tags": []
   },
   "outputs": [],
   "source": [
    "min_year = 1990\n",
    "max_year = 2023"
   ]
  },
  {
   "cell_type": "code",
   "execution_count": 9,
   "id": "8bd9e8de-ff1a-4be5-b45c-6dc8bb7af83f",
   "metadata": {
    "execution": {
     "iopub.execute_input": "2023-09-27T16:55:06.715507Z",
     "iopub.status.busy": "2023-09-27T16:55:06.715008Z",
     "iopub.status.idle": "2023-09-27T16:55:06.728641Z",
     "shell.execute_reply": "2023-09-27T16:55:06.727744Z",
     "shell.execute_reply.started": "2023-09-27T16:55:06.715469Z"
    },
    "tags": []
   },
   "outputs": [
    {
     "data": {
      "text/plain": [
       "['1990-01',\n",
       " '1991-01',\n",
       " '1992-01',\n",
       " '1993-01',\n",
       " '1994-01',\n",
       " '1995-01',\n",
       " '1996-01',\n",
       " '1997-01',\n",
       " '1998-01',\n",
       " '1999-01',\n",
       " '2000-01',\n",
       " '2001-01',\n",
       " '2002-01',\n",
       " '2003-01',\n",
       " '2004-01',\n",
       " '2005-01',\n",
       " '2006-01',\n",
       " '2007-01',\n",
       " '2008-01',\n",
       " '2009-01',\n",
       " '2010-01',\n",
       " '2011-01',\n",
       " '2012-01',\n",
       " '2013-01',\n",
       " '2014-01',\n",
       " '2015-01',\n",
       " '2016-01',\n",
       " '2017-01',\n",
       " '2018-01',\n",
       " '2019-01',\n",
       " '2020-01',\n",
       " '2021-01',\n",
       " '2022-01',\n",
       " '2023-01']"
      ]
     },
     "execution_count": 9,
     "metadata": {},
     "output_type": "execute_result"
    }
   ],
   "source": [
    "year_ts_list = [f\"{s}-01\" for s in range(min_year, max_year + 1)]\n",
    "year_ts_list"
   ]
  },
  {
   "cell_type": "code",
   "execution_count": 10,
   "id": "808d567c-be65-4d46-b86d-52dfd8504a9f",
   "metadata": {
    "execution": {
     "iopub.execute_input": "2023-09-27T16:55:14.308172Z",
     "iopub.status.busy": "2023-09-27T16:55:14.307685Z",
     "iopub.status.idle": "2023-09-27T16:55:23.667720Z",
     "shell.execute_reply": "2023-09-27T16:55:23.666989Z",
     "shell.execute_reply.started": "2023-09-27T16:55:14.308139Z"
    },
    "tags": []
   },
   "outputs": [
    {
     "name": "stderr",
     "output_type": "stream",
     "text": [
      "100%|████████████████████████████████████████████████████████████████████████████████████████████████████████████████████████| 34/34 [00:09<00:00,  3.64it/s]\n"
     ]
    }
   ],
   "source": [
    "for year in tqdm(year_ts_list):\n",
    "    year_save = year.replace('-', '_')\n",
    "    save_fname = f\"{year_save}_pmids_cooc_expd_df.pkl\"\n",
    "    save_fpath = ts_dfs_output_path.joinpath(save_fname)\n",
    "    if not save_fpath.exists():\n",
    "        ts_df = (\n",
    "            pmids_cooc_expd_df[\n",
    "                pmids_cooc_expd_df['date'] <= year\n",
    "            ]\n",
    "        )\n",
    "        ts_df.to_pickle(save_fpath)"
   ]
  },
  {
   "cell_type": "markdown",
   "id": "6cb984da-bc89-4097-9aad-d123b59ab67f",
   "metadata": {},
   "source": [
    "## Creating temporal graph snapshots"
   ]
  },
  {
   "cell_type": "markdown",
   "id": "d97a34ba-7676-465d-af94-57bf06b0616e",
   "metadata": {},
   "source": [
    "### Aggregate dataframes (to add pair weight)"
   ]
  },
  {
   "cell_type": "code",
   "execution_count": 14,
   "id": "be2ee072-a499-487f-94d6-dc579767ee9a",
   "metadata": {
    "execution": {
     "iopub.execute_input": "2023-09-27T16:58:28.415907Z",
     "iopub.status.busy": "2023-09-27T16:58:28.415497Z",
     "iopub.status.idle": "2023-09-27T16:58:28.423352Z",
     "shell.execute_reply": "2023-09-27T16:58:28.422505Z",
     "shell.execute_reply.started": "2023-09-27T16:58:28.415874Z"
    },
    "tags": []
   },
   "outputs": [
    {
     "data": {
      "text/plain": [
       "34"
      ]
     },
     "execution_count": 14,
     "metadata": {},
     "output_type": "execute_result"
    }
   ],
   "source": [
    "ts_dfs_flist = sorted(ts_dfs_output_path.glob('*.pkl'))\n",
    "len(ts_dfs_flist)"
   ]
  },
  {
   "cell_type": "code",
   "execution_count": 22,
   "id": "238f194a-e7c8-427a-a38b-9a1714d49356",
   "metadata": {
    "execution": {
     "iopub.execute_input": "2023-09-27T17:03:04.792596Z",
     "iopub.status.busy": "2023-09-27T17:03:04.792082Z",
     "iopub.status.idle": "2023-09-27T17:03:04.798476Z",
     "shell.execute_reply": "2023-09-27T17:03:04.797704Z",
     "shell.execute_reply.started": "2023-09-27T17:03:04.792565Z"
    },
    "tags": []
   },
   "outputs": [],
   "source": [
    "def make_agg_df(fpath, out_dir):\n",
    "    ts_df = pd.read_pickle(fpath)\n",
    "    \n",
    "    agg_df = (\n",
    "        ts_df[['source', 'target', 'abstr_lvl_cooc']]\n",
    "            .groupby(['source', 'target'])\n",
    "            .agg(set)\n",
    "    )\n",
    "    \n",
    "    agg_df['weight'] = agg_df['abstr_lvl_cooc'].apply(len)\n",
    "    \n",
    "    # saving\n",
    "    out_fpath = out_dir.joinpath('agg_' + fpath.name)\n",
    "    \n",
    "    agg_df.to_pickle(out_fpath)\n",
    "    \n",
    "    return out_fpath"
   ]
  },
  {
   "cell_type": "code",
   "execution_count": 23,
   "id": "45786954-fbeb-4485-a13e-26b14870a7b4",
   "metadata": {
    "execution": {
     "iopub.execute_input": "2023-09-27T17:03:05.268840Z",
     "iopub.status.busy": "2023-09-27T17:03:05.268438Z",
     "iopub.status.idle": "2023-09-27T17:03:05.273800Z",
     "shell.execute_reply": "2023-09-27T17:03:05.272823Z",
     "shell.execute_reply.started": "2023-09-27T17:03:05.268809Z"
    },
    "tags": []
   },
   "outputs": [],
   "source": [
    "ts_dfs_agg_output_path = Path(\n",
    "    '../benchmark_data/05_cui_pairs_ts_nx/ts_dfs_agg/'\n",
    ")\n",
    "\n",
    "ts_dfs_agg_output_path.mkdir(parents=True, exist_ok=True)"
   ]
  },
  {
   "cell_type": "code",
   "execution_count": 24,
   "id": "9d4cf366-6e23-409d-adae-b8668b236b69",
   "metadata": {
    "execution": {
     "iopub.execute_input": "2023-09-27T17:03:09.277675Z",
     "iopub.status.busy": "2023-09-27T17:03:09.277159Z",
     "iopub.status.idle": "2023-09-27T17:09:26.125739Z",
     "shell.execute_reply": "2023-09-27T17:09:26.124649Z",
     "shell.execute_reply.started": "2023-09-27T17:03:09.277641Z"
    },
    "tags": []
   },
   "outputs": [
    {
     "name": "stderr",
     "output_type": "stream",
     "text": [
      "100%|████████████████████████████████████████████████████████████████████████████████████████████████████████████████████████| 34/34 [01:38<00:00,  2.91s/it]\n",
      "/lustre/acslab/users/2288/anaconda3/envs/agatha_cgp/lib/python3.8/site-packages/joblib/externals/loky/process_executor.py:700: UserWarning: A worker stopped while some jobs were given to the executor. This can be caused by a too short worker timeout or by a memory leak.\n",
      "  warnings.warn(\n"
     ]
    }
   ],
   "source": [
    "# memory intensive (~200 GB RAM for 8 threads)\n",
    "\n",
    "with Parallel(n_jobs=8, batch_size=1) as parallel:\n",
    "    pmid_title_records = parallel(\n",
    "        delayed(make_agg_df)(i, ts_dfs_agg_output_path) for i in tqdm(ts_dfs_flist)\n",
    "    )"
   ]
  },
  {
   "cell_type": "markdown",
   "id": "b22f319d-0de5-43a3-b792-1094d1fce854",
   "metadata": {},
   "source": [
    "### Convert dataframes to `networkx` networks"
   ]
  },
  {
   "cell_type": "code",
   "execution_count": 29,
   "id": "af9a0247-870d-4fd4-90b9-4f0fc971d0d6",
   "metadata": {
    "execution": {
     "iopub.execute_input": "2023-09-27T17:10:56.610396Z",
     "iopub.status.busy": "2023-09-27T17:10:56.609958Z",
     "iopub.status.idle": "2023-09-27T17:10:56.615325Z",
     "shell.execute_reply": "2023-09-27T17:10:56.614254Z",
     "shell.execute_reply.started": "2023-09-27T17:10:56.610362Z"
    },
    "tags": []
   },
   "outputs": [],
   "source": [
    "mTermsDict_fpath = Path('../benchmark_data/00_helper_data/cui_to_pref_name_dict.pkl')"
   ]
  },
  {
   "cell_type": "code",
   "execution_count": 26,
   "id": "fb6f2534-cd34-48ff-9db1-aa52e14a9c1d",
   "metadata": {
    "execution": {
     "iopub.execute_input": "2023-09-27T17:10:00.265752Z",
     "iopub.status.busy": "2023-09-27T17:10:00.265286Z",
     "iopub.status.idle": "2023-09-27T17:10:00.273338Z",
     "shell.execute_reply": "2023-09-27T17:10:00.272492Z",
     "shell.execute_reply.started": "2023-09-27T17:10:00.265719Z"
    },
    "tags": []
   },
   "outputs": [
    {
     "data": {
      "text/plain": [
       "34"
      ]
     },
     "execution_count": 26,
     "metadata": {},
     "output_type": "execute_result"
    }
   ],
   "source": [
    "agg_dfs_flist = sorted(\n",
    "    Path('../benchmark_data/05_cui_pairs_ts_nx/ts_dfs_agg/')\n",
    "    .glob('*.pkl')\n",
    ")\n",
    "len(agg_dfs_flist)"
   ]
  },
  {
   "cell_type": "code",
   "execution_count": 30,
   "id": "276b5134-d684-4b16-9fd5-ba022995b2a7",
   "metadata": {
    "execution": {
     "iopub.execute_input": "2023-09-27T17:11:01.047951Z",
     "iopub.status.busy": "2023-09-27T17:11:01.047710Z",
     "iopub.status.idle": "2023-09-27T17:11:01.055613Z",
     "shell.execute_reply": "2023-09-27T17:11:01.054728Z",
     "shell.execute_reply.started": "2023-09-27T17:11:01.047930Z"
    },
    "tags": []
   },
   "outputs": [],
   "source": [
    "def agg_df_to_nx(fpath, out_dir, mTermsDict_fpath):\n",
    "    \n",
    "    aff_df = pd.read_pickle(fpath)\n",
    "    \n",
    "    graph_df = aff_df['weight'].to_frame().reset_index()\n",
    "    \n",
    "    mTermsDict = pd.read_pickle(mTermsDict_fpath)\n",
    "    \n",
    "    mTermsDict_def = defaultdict(str)\n",
    "    mTermsDict_def.update(mTermsDict)\n",
    "\n",
    "    graph_df['source_umls'] = graph_df['source'].apply(\n",
    "        lambda x: mTermsDict_def[x.lower()]\n",
    "    )\n",
    "    graph_df['target_umls'] = graph_df['target'].apply(\n",
    "        lambda x: mTermsDict_def[x.lower()]\n",
    "    )\n",
    "\n",
    "    graph_df['source_dec'] = graph_df['source'] + '__' + graph_df['source_umls']\n",
    "    graph_df['target_dec'] = graph_df['target'] + '__' + graph_df['target_umls']\n",
    "\n",
    "    graph_nx = nx.from_pandas_edgelist(\n",
    "        graph_df,\n",
    "        'source_dec', 'target_dec', \n",
    "        edge_attr='weight'\n",
    "    )\n",
    "    \n",
    "    out_fname = '_'.join(fpath.stem.split('_')[1:3]) + '_nx.pkl'\n",
    "    \n",
    "    with open(out_dir.joinpath(out_fname), 'wb') as f:\n",
    "        pickle.dump(graph_nx, f)\n",
    "    \n",
    "    return out_fname"
   ]
  },
  {
   "cell_type": "code",
   "execution_count": 28,
   "id": "31f4d964-df09-4105-97f3-95913a4e97e0",
   "metadata": {
    "execution": {
     "iopub.execute_input": "2023-09-27T17:10:15.939999Z",
     "iopub.status.busy": "2023-09-27T17:10:15.939618Z",
     "iopub.status.idle": "2023-09-27T17:10:15.944964Z",
     "shell.execute_reply": "2023-09-27T17:10:15.943982Z",
     "shell.execute_reply.started": "2023-09-27T17:10:15.939967Z"
    },
    "tags": []
   },
   "outputs": [],
   "source": [
    "ts_nx_graphs_out_path = Path('../benchmark_data/05_cui_pairs_ts_nx/ts_nx_graphs/')\n",
    "ts_nx_graphs_out_path.mkdir(parents=True, exist_ok=True)"
   ]
  },
  {
   "cell_type": "code",
   "execution_count": 33,
   "id": "71a4c8f4-e7bf-49a9-8eeb-2d846bdd49fd",
   "metadata": {
    "execution": {
     "iopub.execute_input": "2023-09-27T17:11:45.837791Z",
     "iopub.status.busy": "2023-09-27T17:11:45.837366Z",
     "iopub.status.idle": "2023-09-27T17:13:13.140313Z",
     "shell.execute_reply": "2023-09-27T17:13:13.136622Z",
     "shell.execute_reply.started": "2023-09-27T17:11:45.837758Z"
    },
    "tags": []
   },
   "outputs": [
    {
     "name": "stderr",
     "output_type": "stream",
     "text": [
      "100%|████████████████████████████████████████████████████████████████████████████████████████████████████████████████████████| 34/34 [00:13<00:00,  2.47it/s]\n",
      "/lustre/acslab/users/2288/anaconda3/envs/agatha_cgp/lib/python3.8/site-packages/joblib/externals/loky/process_executor.py:700: UserWarning: A worker stopped while some jobs were given to the executor. This can be caused by a too short worker timeout or by a memory leak.\n",
      "  warnings.warn(\n"
     ]
    }
   ],
   "source": [
    "# memory intensive (~100 GB RAM for 16 threads)\n",
    "\n",
    "with Parallel(n_jobs=16) as parallel:\n",
    "    res = parallel(\n",
    "        delayed(agg_df_to_nx)(\n",
    "            i,\n",
    "            ts_nx_graphs_out_path,\n",
    "            mTermsDict_fpath\n",
    "        ) for i in tqdm(agg_dfs_flist)\n",
    "    )"
   ]
  },
  {
   "cell_type": "markdown",
   "id": "3bb075c6-7e89-4e8b-9df8-1c335d2ffbde",
   "metadata": {},
   "source": [
    "### Adding w2v node features"
   ]
  },
  {
   "cell_type": "code",
   "execution_count": 35,
   "id": "b7849e54-91a8-42f2-a629-7b401499697a",
   "metadata": {
    "execution": {
     "iopub.execute_input": "2023-09-27T17:16:27.441041Z",
     "iopub.status.busy": "2023-09-27T17:16:27.440687Z",
     "iopub.status.idle": "2023-09-27T17:16:27.488964Z",
     "shell.execute_reply": "2023-09-27T17:16:27.488228Z",
     "shell.execute_reply.started": "2023-09-27T17:16:27.441010Z"
    },
    "tags": []
   },
   "outputs": [
    {
     "data": {
      "text/plain": [
       "34"
      ]
     },
     "execution_count": 35,
     "metadata": {},
     "output_type": "execute_result"
    }
   ],
   "source": [
    "w2v_dir = Path('../DATA_INDEPENDENT/umls_embeddings/w2v_gensim_ts/')\n",
    "w2v_model_list = sorted(list(w2v_dir.glob('*_model/*_epoch_9*.w2v')))\n",
    "len(w2v_model_list)"
   ]
  },
  {
   "cell_type": "code",
   "execution_count": 36,
   "id": "9f38f7aa-e251-4c34-aabc-4be884cf0833",
   "metadata": {
    "execution": {
     "iopub.execute_input": "2023-09-27T17:16:38.684511Z",
     "iopub.status.busy": "2023-09-27T17:16:38.684143Z",
     "iopub.status.idle": "2023-09-27T17:16:38.691157Z",
     "shell.execute_reply": "2023-09-27T17:16:38.690394Z",
     "shell.execute_reply.started": "2023-09-27T17:16:38.684480Z"
    },
    "tags": []
   },
   "outputs": [
    {
     "data": {
      "text/plain": [
       "34"
      ]
     },
     "execution_count": 36,
     "metadata": {},
     "output_type": "execute_result"
    }
   ],
   "source": [
    "ts_nx_dir = Path('../benchmark_data/05_cui_pairs_ts_nx/ts_nx_graphs/')\n",
    "ts_nx_flist = sorted(list(ts_nx_dir.glob('*.pkl')))\n",
    "len(ts_nx_flist)"
   ]
  },
  {
   "cell_type": "code",
   "execution_count": 37,
   "id": "45869a8a-5ad4-4888-9251-b521400c844a",
   "metadata": {
    "execution": {
     "iopub.execute_input": "2023-09-27T17:16:53.498007Z",
     "iopub.status.busy": "2023-09-27T17:16:53.497565Z",
     "iopub.status.idle": "2023-09-27T17:16:53.504990Z",
     "shell.execute_reply": "2023-09-27T17:16:53.504179Z",
     "shell.execute_reply.started": "2023-09-27T17:16:53.497973Z"
    },
    "tags": []
   },
   "outputs": [
    {
     "data": {
      "text/plain": [
       "['1990',\n",
       " '1991',\n",
       " '1992',\n",
       " '1993',\n",
       " '1994',\n",
       " '1995',\n",
       " '1996',\n",
       " '1997',\n",
       " '1998',\n",
       " '1999',\n",
       " '2000',\n",
       " '2001',\n",
       " '2002',\n",
       " '2003',\n",
       " '2004',\n",
       " '2005',\n",
       " '2006',\n",
       " '2007',\n",
       " '2008',\n",
       " '2009',\n",
       " '2010',\n",
       " '2011',\n",
       " '2012',\n",
       " '2013',\n",
       " '2014',\n",
       " '2015',\n",
       " '2016',\n",
       " '2017',\n",
       " '2018',\n",
       " '2019',\n",
       " '2020',\n",
       " '2021',\n",
       " '2022',\n",
       " '2023']"
      ]
     },
     "execution_count": 37,
     "metadata": {},
     "output_type": "execute_result"
    }
   ],
   "source": [
    "years_range = [fname.stem.split('_')[0] for fname in w2v_model_list]\n",
    "years_range"
   ]
  },
  {
   "cell_type": "code",
   "execution_count": 102,
   "id": "ef7c18ca-beda-4571-94e6-d8987551795c",
   "metadata": {
    "execution": {
     "iopub.execute_input": "2023-09-27T18:08:37.612626Z",
     "iopub.status.busy": "2023-09-27T18:08:37.612208Z",
     "iopub.status.idle": "2023-09-27T18:11:43.385048Z",
     "shell.execute_reply": "2023-09-27T18:11:43.384062Z",
     "shell.execute_reply.started": "2023-09-27T18:08:37.612593Z"
    },
    "tags": []
   },
   "outputs": [
    {
     "name": "stderr",
     "output_type": "stream",
     "text": [
      "  0%|                                                                                                                                 | 0/34 [57:22<?, ?it/s]\n",
      "100%|████████████████████████████████████████████████████████████████████████████████████████████████████████████████████████| 34/34 [03:05<00:00,  5.46s/it]\n"
     ]
    }
   ],
   "source": [
    "tx_graphs_n2v_nx_dict = dict()\n",
    "\n",
    "for idx, year in enumerate(tqdm(years_range)):\n",
    "    \n",
    "    nx_fname = ts_nx_flist[idx]\n",
    "    w2v_fname = w2v_model_list[idx]\n",
    "\n",
    "    assert str(year) in str(nx_fname)\n",
    "    assert str(year) in str(w2v_fname)\n",
    "\n",
    "    ts_graph = pd.read_pickle(nx_fname)\n",
    "    w2v_model = Word2Vec.load(str(w2v_fname))\n",
    "\n",
    "    for node in ts_graph.nodes:\n",
    "        cui = node.split('__')[0]\n",
    "\n",
    "        if cui in w2v_model.wv:\n",
    "            ts_graph.nodes[node]['w2v_emb'] = w2v_model.wv[cui]\n",
    "\n",
    "    tx_graphs_n2v_nx_dict[year] = ts_graph"
   ]
  },
  {
   "cell_type": "markdown",
   "id": "c7ea8dc5-54c7-4c23-a4f3-a8f291bd17be",
   "metadata": {},
   "source": [
    "#### Checking embeddings consistency"
   ]
  },
  {
   "cell_type": "code",
   "execution_count": 103,
   "id": "49b60324-270f-46e8-b951-5ed361ffa559",
   "metadata": {
    "execution": {
     "iopub.execute_input": "2023-09-27T18:11:43.388668Z",
     "iopub.status.busy": "2023-09-27T18:11:43.387909Z",
     "iopub.status.idle": "2023-09-27T18:11:43.901385Z",
     "shell.execute_reply": "2023-09-27T18:11:43.900716Z",
     "shell.execute_reply.started": "2023-09-27T18:11:43.388625Z"
    },
    "tags": []
   },
   "outputs": [],
   "source": [
    "non_existent_embs = defaultdict(list)\n",
    "\n",
    "for year in tx_graphs_n2v_nx_dict:\n",
    "    for node in tx_graphs_n2v_nx_dict[year].nodes:\n",
    "        if 'w2v_emb' not in tx_graphs_n2v_nx_dict[year].nodes[node]:\n",
    "            non_existent_embs[year].append(node)"
   ]
  },
  {
   "cell_type": "code",
   "execution_count": 104,
   "id": "f32cbfb5-43f2-4695-b254-aa1e2ab044bf",
   "metadata": {
    "execution": {
     "iopub.execute_input": "2023-09-27T18:11:43.902288Z",
     "iopub.status.busy": "2023-09-27T18:11:43.902096Z",
     "iopub.status.idle": "2023-09-27T18:11:43.906722Z",
     "shell.execute_reply": "2023-09-27T18:11:43.906104Z",
     "shell.execute_reply.started": "2023-09-27T18:11:43.902265Z"
    },
    "tags": []
   },
   "outputs": [
    {
     "data": {
      "text/plain": [
       "defaultdict(list,\n",
       "            {'2021': ['C1566348__PIK3CB protein, human',\n",
       "              'C5392920__Opioid Misuse',\n",
       "              'C1454315__APLN protein, human',\n",
       "              'C5433525__ACE2 protein, human',\n",
       "              'C5441735__TDO2 protein, human',\n",
       "              'C5392833__Acute Ischemic Stroke',\n",
       "              'C5401281__PSG1 wt Allele',\n",
       "              'C5392068__PD-L1 Inhibitors',\n",
       "              'C1744226__MLANA protein, human',\n",
       "              'C5389369__Multisystem inflammatory syndrome in children',\n",
       "              'C0676309__Leucine-Rich Repeat Protein SHOC-2, Human',\n",
       "              'C5244027__Pneumonia caused by SARS-CoV-2',\n",
       "              'C0050459__acetophenone',\n",
       "              'C5243563__Hormone receptor positive breast cancer',\n",
       "              'C5441771__Retinoid X Receptor, human',\n",
       "              'C5447987__eprenetapopt',\n",
       "              'C5392067__Immune Checkpoint Blockade',\n",
       "              'C5243945__Paradoxical psoriasis',\n",
       "              'C5392069__CTLA-4 Inhibitors',\n",
       "              'C5187552__trastuzumab-anns',\n",
       "              'C5244048__COVID-19 drug treatment',\n",
       "              'C5244457__2019-nCoV Vaccine mRNA-1273',\n",
       "              'C5398043__SARS-CoV-2 (COVID-19) vaccine, mRNA-BNT162b2']})"
      ]
     },
     "execution_count": 104,
     "metadata": {},
     "output_type": "execute_result"
    }
   ],
   "source": [
    "non_existent_embs"
   ]
  },
  {
   "cell_type": "code",
   "execution_count": 105,
   "id": "76d6855d-016e-4973-9ba8-6750fcc45730",
   "metadata": {
    "execution": {
     "iopub.execute_input": "2023-09-27T18:11:48.111915Z",
     "iopub.status.busy": "2023-09-27T18:11:48.111591Z",
     "iopub.status.idle": "2023-09-27T18:11:48.119713Z",
     "shell.execute_reply": "2023-09-27T18:11:48.119006Z",
     "shell.execute_reply.started": "2023-09-27T18:11:48.111889Z"
    },
    "tags": []
   },
   "outputs": [],
   "source": [
    "# we adding a w2v embedding for each missing concept as a centroid of embeddings of its neighbors \n",
    "\n",
    "for year in non_existent_embs:\n",
    "    for missing_w2v_concept in non_existent_embs[year]:\n",
    "        \n",
    "        neighs_dict = dict()\n",
    "        for neigh, neigh_attrs in dict(tx_graphs_n2v_nx_dict[year][missing_w2v_concept]).items():\n",
    "\n",
    "            neighs_dict[neigh] = {\n",
    "                'weight': neigh_attrs['weight'],\n",
    "                'w2v': tx_graphs_n2v_nx_dict[year].nodes[neigh]['w2v_emb']\n",
    "            }\n",
    "            \n",
    "        centroid_emb = np.zeros_like(list(neighs_dict.values())[0]['w2v'])\n",
    "\n",
    "        denom = 0\n",
    "\n",
    "        for neigh in neighs_dict:\n",
    "            centroid_emb += neighs_dict[neigh]['weight'] * neighs_dict[neigh]['w2v']\n",
    "            denom += neighs_dict[neigh]['weight']\n",
    "\n",
    "        centroid_emb = centroid_emb/denom\n",
    "        \n",
    "        tx_graphs_n2v_nx_dict[year].nodes[missing_w2v_concept]['w2v_emb'] = centroid_emb\n",
    "        "
   ]
  },
  {
   "cell_type": "code",
   "execution_count": 106,
   "id": "9724e720-6fae-4786-9fd0-8a3496cd1977",
   "metadata": {
    "execution": {
     "iopub.execute_input": "2023-09-27T18:11:50.547937Z",
     "iopub.status.busy": "2023-09-27T18:11:50.547520Z",
     "iopub.status.idle": "2023-09-27T18:11:50.989098Z",
     "shell.execute_reply": "2023-09-27T18:11:50.988421Z",
     "shell.execute_reply.started": "2023-09-27T18:11:50.547908Z"
    },
    "tags": []
   },
   "outputs": [
    {
     "data": {
      "text/plain": [
       "defaultdict(list, {})"
      ]
     },
     "execution_count": 106,
     "metadata": {},
     "output_type": "execute_result"
    }
   ],
   "source": [
    "non_existent_embs = defaultdict(list)\n",
    "\n",
    "for year in tx_graphs_n2v_nx_dict:\n",
    "    for node in tx_graphs_n2v_nx_dict[year].nodes:\n",
    "        if 'w2v_emb' not in tx_graphs_n2v_nx_dict[year].nodes[node]:\n",
    "            non_existent_embs[year].append(node)\n",
    "\n",
    "non_existent_embs"
   ]
  },
  {
   "cell_type": "markdown",
   "id": "169403ad-cc31-496d-a05a-cad326b27415",
   "metadata": {},
   "source": [
    "#### Saving combined graphs"
   ]
  },
  {
   "cell_type": "code",
   "execution_count": 109,
   "id": "5c726c18-63ab-4158-a026-ee129b21b09d",
   "metadata": {
    "execution": {
     "iopub.execute_input": "2023-09-27T18:14:44.004005Z",
     "iopub.status.busy": "2023-09-27T18:14:44.003583Z",
     "iopub.status.idle": "2023-09-27T18:14:44.009416Z",
     "shell.execute_reply": "2023-09-27T18:14:44.008558Z",
     "shell.execute_reply.started": "2023-09-27T18:14:44.003973Z"
    },
    "tags": []
   },
   "outputs": [],
   "source": [
    "save_path = '../benchmark_data/06_cui_graph_ts_w2v_nx'\n",
    "\n",
    "save_path = Path(save_path)\n",
    "save_path.mkdir(parents=True, exist_ok=True)"
   ]
  },
  {
   "cell_type": "code",
   "execution_count": 110,
   "id": "6eece2c8-f092-4dab-b509-cd840b69f072",
   "metadata": {
    "execution": {
     "iopub.execute_input": "2023-09-27T18:14:47.147014Z",
     "iopub.status.busy": "2023-09-27T18:14:47.145912Z",
     "iopub.status.idle": "2023-09-27T18:15:50.785403Z",
     "shell.execute_reply": "2023-09-27T18:15:50.784675Z",
     "shell.execute_reply.started": "2023-09-27T18:14:47.146973Z"
    },
    "tags": []
   },
   "outputs": [
    {
     "name": "stderr",
     "output_type": "stream",
     "text": [
      "100%|████████████████████████████████████████████████████████████████████████████████████████████████████████████████████████| 34/34 [01:03<00:00,  1.87s/it]\n"
     ]
    }
   ],
   "source": [
    "for year in tqdm(tx_graphs_n2v_nx_dict):\n",
    "    save_fname = f\"{year}_pubmed_w2v_nx.pkl\"\n",
    "    \n",
    "    pd.to_pickle(\n",
    "        tx_graphs_n2v_nx_dict[year],\n",
    "        save_path.joinpath(save_fname)\n",
    "    )"
   ]
  },
  {
   "cell_type": "markdown",
   "id": "a827bd43-33fe-4489-b8d3-8db23a7d9703",
   "metadata": {},
   "source": [
    "## Plotting graph size over time"
   ]
  },
  {
   "cell_type": "code",
   "execution_count": 4,
   "id": "3faf7708-5928-4acb-b6a3-1563c29607fe",
   "metadata": {
    "execution": {
     "iopub.execute_input": "2023-12-06T01:42:39.971496Z",
     "iopub.status.busy": "2023-12-06T01:42:39.971092Z",
     "iopub.status.idle": "2023-12-06T01:42:39.984591Z",
     "shell.execute_reply": "2023-12-06T01:42:39.983299Z",
     "shell.execute_reply.started": "2023-12-06T01:42:39.971475Z"
    },
    "tags": []
   },
   "outputs": [
    {
     "data": {
      "text/plain": [
       "[PosixPath('../benchmark_data/06_cui_graph_ts_w2v_nx/1990_pubmed_w2v_nx.pkl'),\n",
       " PosixPath('../benchmark_data/06_cui_graph_ts_w2v_nx/1991_pubmed_w2v_nx.pkl'),\n",
       " PosixPath('../benchmark_data/06_cui_graph_ts_w2v_nx/1992_pubmed_w2v_nx.pkl')]"
      ]
     },
     "execution_count": 4,
     "metadata": {},
     "output_type": "execute_result"
    }
   ],
   "source": [
    "save_path = '../benchmark_data/06_cui_graph_ts_w2v_nx'\n",
    "\n",
    "save_path = Path(save_path)\n",
    "\n",
    "save_flist = sorted(save_path.glob('*.pkl'))\n",
    "save_flist[:3]"
   ]
  },
  {
   "cell_type": "code",
   "execution_count": 5,
   "id": "8104dc50-1103-4ec3-b390-dbf052611c8a",
   "metadata": {
    "execution": {
     "iopub.execute_input": "2023-12-06T01:44:13.208026Z",
     "iopub.status.busy": "2023-12-06T01:44:13.207601Z",
     "iopub.status.idle": "2023-12-06T01:45:00.252672Z",
     "shell.execute_reply": "2023-12-06T01:45:00.251755Z",
     "shell.execute_reply.started": "2023-12-06T01:44:13.207993Z"
    },
    "tags": []
   },
   "outputs": [
    {
     "name": "stderr",
     "output_type": "stream",
     "text": [
      "100%|███████████████████████████████████████████████████████████████████████████████| 34/34 [00:47<00:00,  1.38s/it]\n"
     ]
    }
   ],
   "source": [
    "tx_graphs_n2v_nx_dict = dict()\n",
    "\n",
    "for fname in tqdm(save_flist):\n",
    "    key = fname.stem.split('_')[0]\n",
    "    \n",
    "    tx_graphs_n2v_nx_dict[key] = pd.read_pickle(fname)"
   ]
  },
  {
   "cell_type": "code",
   "execution_count": 24,
   "id": "51c48adc-e302-424d-a144-62f9eb71a308",
   "metadata": {
    "execution": {
     "iopub.execute_input": "2023-12-06T01:50:52.028953Z",
     "iopub.status.busy": "2023-12-06T01:50:52.028780Z",
     "iopub.status.idle": "2023-12-06T01:50:52.696139Z",
     "shell.execute_reply": "2023-12-06T01:50:52.695312Z",
     "shell.execute_reply.started": "2023-12-06T01:50:52.028939Z"
    },
    "tags": []
   },
   "outputs": [],
   "source": [
    "tx_graphs_size_dict = dict()\n",
    "\n",
    "for yr in tx_graphs_n2v_nx_dict:\n",
    "    yr_int = int(yr) - 1\n",
    "    tx_graphs_size_dict[yr_int] = {\n",
    "        'nodes': len(tx_graphs_n2v_nx_dict[yr].nodes),\n",
    "        'edges': len(tx_graphs_n2v_nx_dict[yr].edges),\n",
    "    }"
   ]
  },
  {
   "cell_type": "code",
   "execution_count": 25,
   "id": "18615b79-3c1a-4bde-9b0f-cb15eff8fe66",
   "metadata": {
    "execution": {
     "iopub.execute_input": "2023-12-06T01:50:53.133400Z",
     "iopub.status.busy": "2023-12-06T01:50:53.133193Z",
     "iopub.status.idle": "2023-12-06T01:50:53.140718Z",
     "shell.execute_reply": "2023-12-06T01:50:53.139389Z",
     "shell.execute_reply.started": "2023-12-06T01:50:53.133381Z"
    },
    "tags": []
   },
   "outputs": [],
   "source": [
    "tx_graphs_size_df = pd.DataFrame(tx_graphs_size_dict).T"
   ]
  },
  {
   "cell_type": "code",
   "execution_count": 26,
   "id": "86d5675e-6928-44fe-88c2-0c16bf870730",
   "metadata": {
    "execution": {
     "iopub.execute_input": "2023-12-06T01:50:53.524899Z",
     "iopub.status.busy": "2023-12-06T01:50:53.524616Z",
     "iopub.status.idle": "2023-12-06T01:50:53.829251Z",
     "shell.execute_reply": "2023-12-06T01:50:53.828300Z",
     "shell.execute_reply.started": "2023-12-06T01:50:53.524877Z"
    },
    "tags": []
   },
   "outputs": [
    {
     "data": {
      "text/plain": [
       "Text(0.5, 1.0, 'Number of nodes in $G$ over time')"
      ]
     },
     "execution_count": 26,
     "metadata": {},
     "output_type": "execute_result"
    },
    {
     "data": {
      "image/png": "[encoded data removed]",
      "text/plain": [
       "<Figure size 1500x1000 with 1 Axes>"
      ]
     },
     "metadata": {},
     "output_type": "display_data"
    }
   ],
   "source": [
    "tx_graphs_size_df['nodes'].plot(kind='bar', figsize=(15,10))\n",
    "plt.xticks(rotation=30)\n",
    "plt.title('Number of nodes in $G$ over time')"
   ]
  },
  {
   "cell_type": "code",
   "execution_count": 43,
   "id": "a077555a-a37c-4cd0-8bdb-1060bbe65ef2",
   "metadata": {
    "execution": {
     "iopub.execute_input": "2023-12-06T04:01:21.410342Z",
     "iopub.status.busy": "2023-12-06T04:01:21.409922Z",
     "iopub.status.idle": "2023-12-06T04:01:21.874139Z",
     "shell.execute_reply": "2023-12-06T04:01:21.873436Z",
     "shell.execute_reply.started": "2023-12-06T04:01:21.410307Z"
    },
    "tags": []
   },
   "outputs": [
    {
     "data": {
      "image/png": "[encoded data removed]",
      "text/plain": [
       "<Figure size 1500x500 with 1 Axes>"
      ]
     },
     "metadata": {},
     "output_type": "display_data"
    }
   ],
   "source": [
    "plt.rcParams.update({'font.size': 20})\n",
    "(\n",
    "    (tx_graphs_size_df['edges']/1_000_000)\n",
    "        .loc[1990:]\n",
    "        .plot(\n",
    "            kind='bar',\n",
    "            figsize=(15,5),\n",
    "            color='blue',\n",
    "            alpha=0.5,\n",
    "            width=0.8,\n",
    "        )\n",
    ")\n",
    "plt.xticks(rotation=60)\n",
    "plt.title('Number of Edges in $G$ over Time')\n",
    "plt.ylabel('$|E(G)|$, million')\n",
    "plt.savefig('saved_figures/res_n_edges_over_time.pdf', bbox_inches='tight')"
   ]
  },
  {
   "cell_type": "code",
   "execution_count": null,
   "id": "79cec773-841e-4dbd-a79d-169f6accb0f7",
   "metadata": {},
   "outputs": [],
   "source": []
  }
 ],
 "metadata": {
  "kernelspec": {
   "display_name": "Python [conda env:agatha_cgp]",
   "language": "python",
   "name": "conda-env-agatha_cgp-py"
  },
  "language_info": {
   "codemirror_mode": {
    "name": "ipython",
    "version": 3
   },
   "file_extension": ".py",
   "mimetype": "text/x-python",
   "name": "python",
   "nbconvert_exporter": "python",
   "pygments_lexer": "ipython3",
   "version": "3.8.13"
  }
 },
 "nbformat": 4,
 "nbformat_minor": 5
}
