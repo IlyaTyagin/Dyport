{
 "cells": [
  {
   "cell_type": "markdown",
   "id": "e67f96b8-baae-4374-8848-22f11035bbbd",
   "metadata": {},
   "source": [
    "# STRING-DB Data Collection"
   ]
  },
  {
   "cell_type": "markdown",
   "id": "d621e514-3d54-493a-b322-e8bba337183d",
   "metadata": {},
   "source": [
    "Main link: https://string-db.org/\n",
    "\n",
    "Schema: https://version-10-5.string-db.org/download/database.schema.v10.5.pdf\n",
    "\n",
    "FAQ: https://version11.string-db.org/help/database/"
   ]
  },
  {
   "cell_type": "markdown",
   "id": "c0073f3d-fb20-4723-a3a6-2faf12dabb57",
   "metadata": {},
   "source": [
    "Prerequisites:\n",
    "- (TXT) file with all pairwise interactions: https://stringdb-downloads.org/download/protein.links.full.vXX.X.txt.gz\n",
    "    - To speed up processing, we extract only biocurated connections with condition `database > 0 `, more about this: https://string-db.org/help//faq/#how-to-extract-high-confidence-07-interactions-from-information-on-combined-score-in-proteinlinkstxtgz\n",
    "- (Table) Mappings: STRING ID -> Uniprot ID\n",
    "- (Table) Mappings: Uniprot ID -> HGNC"
   ]
  },
  {
   "cell_type": "code",
   "execution_count": 1,
   "id": "08ce4297-30dd-42b2-837b-6aef57737fe8",
   "metadata": {
    "execution": {
     "iopub.execute_input": "2023-09-26T03:11:55.382625Z",
     "iopub.status.busy": "2023-09-26T03:11:55.382144Z",
     "iopub.status.idle": "2023-09-26T03:11:58.607207Z",
     "shell.execute_reply": "2023-09-26T03:11:58.606378Z",
     "shell.execute_reply.started": "2023-09-26T03:11:55.382534Z"
    },
    "tags": []
   },
   "outputs": [],
   "source": [
    "import psycopg2\n",
    "import pandas as pd\n",
    "\n",
    "from tqdm import tqdm\n",
    "import time\n",
    "import json\n",
    "\n",
    "import numpy as np\n",
    "\n",
    "from itertools import combinations"
   ]
  },
  {
   "cell_type": "code",
   "execution_count": 2,
   "id": "877ebfac-3556-4f05-acac-11f31a3f07e6",
   "metadata": {
    "execution": {
     "iopub.execute_input": "2023-09-26T03:11:58.609192Z",
     "iopub.status.busy": "2023-09-26T03:11:58.608786Z",
     "iopub.status.idle": "2023-09-26T03:11:58.613478Z",
     "shell.execute_reply": "2023-09-26T03:11:58.612845Z",
     "shell.execute_reply.started": "2023-09-26T03:11:58.609160Z"
    },
    "tags": []
   },
   "outputs": [],
   "source": [
    "tqdm.pandas()"
   ]
  },
  {
   "cell_type": "markdown",
   "id": "9d6ad99c-8b2d-4e97-adc2-a68e0b1f0c17",
   "metadata": {},
   "source": [
    "## Opening STRING-filtered `.txt` file"
   ]
  },
  {
   "cell_type": "code",
   "execution_count": 3,
   "id": "38ae501c-d7b4-4dcf-90f5-538e7a13f81e",
   "metadata": {
    "execution": {
     "iopub.execute_input": "2023-09-26T03:33:50.138044Z",
     "iopub.status.busy": "2023-09-26T03:33:50.136976Z",
     "iopub.status.idle": "2023-09-26T03:34:16.786826Z",
     "shell.execute_reply": "2023-09-26T03:34:16.784417Z",
     "shell.execute_reply.started": "2023-09-26T03:33:50.138002Z"
    },
    "tags": []
   },
   "outputs": [
    {
     "name": "stderr",
     "output_type": "stream",
     "text": [
      "/tmp/ipykernel_43404/3683307939.py:1: DtypeWarning: Columns (0,1) have mixed types. Specify dtype option on import or set low_memory=False.\n",
      "  nn_links_table_df = pd.read_table(\n"
     ]
    }
   ],
   "source": [
    "nn_links_table_df = pd.read_table(\n",
    "    'proteins_links_curated_experiments_v11.0.txt', \n",
    "    delimiter=' '\n",
    ")"
   ]
  },
  {
   "cell_type": "code",
   "execution_count": 7,
   "id": "c7b61ddd-b5ee-4589-a8dd-bfe42e83b25a",
   "metadata": {
    "execution": {
     "iopub.execute_input": "2023-09-26T03:35:21.621186Z",
     "iopub.status.busy": "2023-09-26T03:35:21.620828Z",
     "iopub.status.idle": "2023-09-26T03:35:21.630943Z",
     "shell.execute_reply": "2023-09-26T03:35:21.630210Z",
     "shell.execute_reply.started": "2023-09-26T03:35:21.621153Z"
    },
    "tags": []
   },
   "outputs": [
    {
     "data": {
      "text/plain": [
       "protein1                    object\n",
       "protein2                    object\n",
       "neighborhood                 int64\n",
       "neighborhood_transferred     int64\n",
       "fusion                       int64\n",
       "cooccurence                  int64\n",
       "homology                     int64\n",
       "coexpression                 int64\n",
       "coexpression_transferred     int64\n",
       "experiments                  int64\n",
       "experiments_transferred      int64\n",
       "database                     int64\n",
       "database_transferred         int64\n",
       "textmining                   int64\n",
       "textmining_transferred       int64\n",
       "combined_score               int64\n",
       "dtype: object"
      ]
     },
     "execution_count": 7,
     "metadata": {},
     "output_type": "execute_result"
    }
   ],
   "source": [
    "nn_links_table_df.dtypes"
   ]
  },
  {
   "cell_type": "code",
   "execution_count": 10,
   "id": "8972d6ac-0ec2-40b7-8f1b-884e7b01f2a0",
   "metadata": {
    "execution": {
     "iopub.execute_input": "2023-09-26T03:38:35.900605Z",
     "iopub.status.busy": "2023-09-26T03:38:35.900166Z",
     "iopub.status.idle": "2023-09-26T03:38:38.450718Z",
     "shell.execute_reply": "2023-09-26T03:38:38.449816Z",
     "shell.execute_reply.started": "2023-09-26T03:38:35.900571Z"
    },
    "tags": []
   },
   "outputs": [],
   "source": [
    "# making sure we have biocurated only connections\n",
    "nn_links_table_curated_df = nn_links_table_df[\n",
    "    nn_links_table_df['database'] > 0\n",
    "][['protein1', 'protein2']]"
   ]
  },
  {
   "cell_type": "code",
   "execution_count": 11,
   "id": "5190fb1b-8df1-46d5-9904-4fd85ec7f290",
   "metadata": {
    "execution": {
     "iopub.execute_input": "2023-09-26T03:38:38.451939Z",
     "iopub.status.busy": "2023-09-26T03:38:38.451789Z",
     "iopub.status.idle": "2023-09-26T03:38:38.459818Z",
     "shell.execute_reply": "2023-09-26T03:38:38.459108Z",
     "shell.execute_reply.started": "2023-09-26T03:38:38.451924Z"
    },
    "tags": []
   },
   "outputs": [
    {
     "data": {
      "text/html": [
       "<div>\n",
       "<style scoped>\n",
       "    .dataframe tbody tr th:only-of-type {\n",
       "        vertical-align: middle;\n",
       "    }\n",
       "\n",
       "    .dataframe tbody tr th {\n",
       "        vertical-align: top;\n",
       "    }\n",
       "\n",
       "    .dataframe thead th {\n",
       "        text-align: right;\n",
       "    }\n",
       "</style>\n",
       "<table border=\"1\" class=\"dataframe\">\n",
       "  <thead>\n",
       "    <tr style=\"text-align: right;\">\n",
       "      <th></th>\n",
       "      <th>protein1</th>\n",
       "      <th>protein2</th>\n",
       "    </tr>\n",
       "  </thead>\n",
       "  <tbody>\n",
       "    <tr>\n",
       "      <th>0</th>\n",
       "      <td>287.DR97_4287</td>\n",
       "      <td>287.DR97_1873</td>\n",
       "    </tr>\n",
       "    <tr>\n",
       "      <th>1</th>\n",
       "      <td>287.DR97_4287</td>\n",
       "      <td>287.DR97_3824</td>\n",
       "    </tr>\n",
       "    <tr>\n",
       "      <th>2</th>\n",
       "      <td>287.DR97_4288</td>\n",
       "      <td>287.DR97_4009</td>\n",
       "    </tr>\n",
       "    <tr>\n",
       "      <th>3</th>\n",
       "      <td>287.DR97_4288</td>\n",
       "      <td>287.DR97_5630</td>\n",
       "    </tr>\n",
       "    <tr>\n",
       "      <th>4</th>\n",
       "      <td>287.DR97_4288</td>\n",
       "      <td>287.DR97_1528</td>\n",
       "    </tr>\n",
       "    <tr>\n",
       "      <th>...</th>\n",
       "      <td>...</td>\n",
       "      <td>...</td>\n",
       "    </tr>\n",
       "    <tr>\n",
       "      <th>33722567</th>\n",
       "      <td>1549858.MC45_18470</td>\n",
       "      <td>1549858.MC45_02390</td>\n",
       "    </tr>\n",
       "    <tr>\n",
       "      <th>33722568</th>\n",
       "      <td>1549858.MC45_18470</td>\n",
       "      <td>1549858.MC45_07065</td>\n",
       "    </tr>\n",
       "    <tr>\n",
       "      <th>33722569</th>\n",
       "      <td>1549858.MC45_18470</td>\n",
       "      <td>1549858.MC45_10445</td>\n",
       "    </tr>\n",
       "    <tr>\n",
       "      <th>33722570</th>\n",
       "      <td>1549858.MC45_18470</td>\n",
       "      <td>1549858.MC45_08425</td>\n",
       "    </tr>\n",
       "    <tr>\n",
       "      <th>33722571</th>\n",
       "      <td>1549858.MC45_18470</td>\n",
       "      <td>1549858.MC45_00470</td>\n",
       "    </tr>\n",
       "  </tbody>\n",
       "</table>\n",
       "<p>31902572 rows × 2 columns</p>\n",
       "</div>"
      ],
      "text/plain": [
       "                    protein1            protein2\n",
       "0              287.DR97_4287       287.DR97_1873\n",
       "1              287.DR97_4287       287.DR97_3824\n",
       "2              287.DR97_4288       287.DR97_4009\n",
       "3              287.DR97_4288       287.DR97_5630\n",
       "4              287.DR97_4288       287.DR97_1528\n",
       "...                      ...                 ...\n",
       "33722567  1549858.MC45_18470  1549858.MC45_02390\n",
       "33722568  1549858.MC45_18470  1549858.MC45_07065\n",
       "33722569  1549858.MC45_18470  1549858.MC45_10445\n",
       "33722570  1549858.MC45_18470  1549858.MC45_08425\n",
       "33722571  1549858.MC45_18470  1549858.MC45_00470\n",
       "\n",
       "[31902572 rows x 2 columns]"
      ]
     },
     "execution_count": 11,
     "metadata": {},
     "output_type": "execute_result"
    }
   ],
   "source": [
    "nn_links_table_curated_df"
   ]
  },
  {
   "cell_type": "markdown",
   "id": "77d37099-a046-4a53-a4cd-b054fd941344",
   "metadata": {},
   "source": [
    "## Mappings "
   ]
  },
  {
   "cell_type": "markdown",
   "id": "70e2c440-7b48-46ed-88fa-b4ceba8729b9",
   "metadata": {
    "execution": {
     "iopub.execute_input": "2023-09-26T03:43:49.513448Z",
     "iopub.status.busy": "2023-09-26T03:43:49.513013Z",
     "iopub.status.idle": "2023-09-26T03:43:49.519159Z",
     "shell.execute_reply": "2023-09-26T03:43:49.518143Z",
     "shell.execute_reply.started": "2023-09-26T03:43:49.513413Z"
    },
    "tags": []
   },
   "source": [
    "Schema:\n",
    "\n",
    "STRING ID -> Uniprot ID -> HGNC -> CUI"
   ]
  },
  {
   "cell_type": "markdown",
   "id": "3349f1f6-d3c9-4ca2-84ba-5f54a43f17d6",
   "metadata": {},
   "source": [
    "### Opening uniprot ID mapping"
   ]
  },
  {
   "cell_type": "markdown",
   "id": "430d3168-1c81-45ce-a288-a638d2d895d0",
   "metadata": {},
   "source": [
    "bash command: `gunzip -c idmapping.txt.gz | grep \"STRING\" > idmapping_uniprot.txt` (to extract STRING mappings)"
   ]
  },
  {
   "cell_type": "code",
   "execution_count": 12,
   "id": "b64a42f8-07e2-4bca-b0ed-ca300c1e9f73",
   "metadata": {
    "execution": {
     "iopub.execute_input": "2023-09-26T03:42:37.110725Z",
     "iopub.status.busy": "2023-09-26T03:42:37.110306Z",
     "iopub.status.idle": "2023-09-26T03:42:37.223884Z",
     "shell.execute_reply": "2023-09-26T03:42:37.222983Z",
     "shell.execute_reply.started": "2023-09-26T03:42:37.110692Z"
    },
    "tags": []
   },
   "outputs": [],
   "source": [
    "idmapping_hgnc_df = pd.read_table(\n",
    "    'uniprot_mappings/idmapping_uniprot_hgnc.txt',\n",
    "    header=None,\n",
    ")"
   ]
  },
  {
   "cell_type": "code",
   "execution_count": 13,
   "id": "270d2831-3acc-4793-a9d5-1dae16cae22c",
   "metadata": {
    "execution": {
     "iopub.execute_input": "2023-09-26T03:42:37.655630Z",
     "iopub.status.busy": "2023-09-26T03:42:37.655266Z",
     "iopub.status.idle": "2023-09-26T03:42:37.680367Z",
     "shell.execute_reply": "2023-09-26T03:42:37.679652Z",
     "shell.execute_reply.started": "2023-09-26T03:42:37.655606Z"
    },
    "tags": []
   },
   "outputs": [],
   "source": [
    "idmapping_hgnc_df = idmapping_hgnc_df[\n",
    "    idmapping_hgnc_df[1] == 'HGNC'\n",
    "]"
   ]
  },
  {
   "cell_type": "code",
   "execution_count": 14,
   "id": "e7e030fe-9bea-4a72-8d97-a74cc6987850",
   "metadata": {
    "execution": {
     "iopub.execute_input": "2023-09-26T03:42:38.000361Z",
     "iopub.status.busy": "2023-09-26T03:42:38.000171Z",
     "iopub.status.idle": "2023-09-26T03:43:04.964319Z",
     "shell.execute_reply": "2023-09-26T03:43:04.963239Z",
     "shell.execute_reply.started": "2023-09-26T03:42:38.000346Z"
    },
    "tags": []
   },
   "outputs": [],
   "source": [
    "idmapping_string_df = pd.read_table(\n",
    "    'uniprot_mappings/idmapping_string.txt',\n",
    "    header=None,\n",
    ")"
   ]
  },
  {
   "cell_type": "code",
   "execution_count": 15,
   "id": "e8a7f34b-a6e2-4bf6-b8ee-3017faecbb3a",
   "metadata": {
    "execution": {
     "iopub.execute_input": "2023-09-26T03:43:04.966901Z",
     "iopub.status.busy": "2023-09-26T03:43:04.966475Z",
     "iopub.status.idle": "2023-09-26T03:43:04.979080Z",
     "shell.execute_reply": "2023-09-26T03:43:04.978550Z",
     "shell.execute_reply.started": "2023-09-26T03:43:04.966864Z"
    },
    "tags": []
   },
   "outputs": [
    {
     "data": {
      "text/html": [
       "<div>\n",
       "<style scoped>\n",
       "    .dataframe tbody tr th:only-of-type {\n",
       "        vertical-align: middle;\n",
       "    }\n",
       "\n",
       "    .dataframe tbody tr th {\n",
       "        vertical-align: top;\n",
       "    }\n",
       "\n",
       "    .dataframe thead th {\n",
       "        text-align: right;\n",
       "    }\n",
       "</style>\n",
       "<table border=\"1\" class=\"dataframe\">\n",
       "  <thead>\n",
       "    <tr style=\"text-align: right;\">\n",
       "      <th></th>\n",
       "      <th>0</th>\n",
       "      <th>1</th>\n",
       "      <th>2</th>\n",
       "    </tr>\n",
       "  </thead>\n",
       "  <tbody>\n",
       "    <tr>\n",
       "      <th>0</th>\n",
       "      <td>Q43495</td>\n",
       "      <td>STRING</td>\n",
       "      <td>4081.Solyc01g009590.2.1</td>\n",
       "    </tr>\n",
       "    <tr>\n",
       "      <th>1</th>\n",
       "      <td>P32234</td>\n",
       "      <td>STRING</td>\n",
       "      <td>7227.FBpp0087084</td>\n",
       "    </tr>\n",
       "    <tr>\n",
       "      <th>2</th>\n",
       "      <td>Q92AT0</td>\n",
       "      <td>STRING</td>\n",
       "      <td>272626.lin1839</td>\n",
       "    </tr>\n",
       "    <tr>\n",
       "      <th>3</th>\n",
       "      <td>P81928</td>\n",
       "      <td>STRING</td>\n",
       "      <td>7227.FBpp0082370</td>\n",
       "    </tr>\n",
       "    <tr>\n",
       "      <th>4</th>\n",
       "      <td>P48347</td>\n",
       "      <td>STRING</td>\n",
       "      <td>3702.AT1G22300.1</td>\n",
       "    </tr>\n",
       "    <tr>\n",
       "      <th>...</th>\n",
       "      <td>...</td>\n",
       "      <td>...</td>\n",
       "      <td>...</td>\n",
       "    </tr>\n",
       "    <tr>\n",
       "      <th>33827405</th>\n",
       "      <td>A0A4W4ETD8</td>\n",
       "      <td>STRING</td>\n",
       "      <td>8005.ENSEEEP00000014429</td>\n",
       "    </tr>\n",
       "    <tr>\n",
       "      <th>33827406</th>\n",
       "      <td>A0A4W4FE84</td>\n",
       "      <td>STRING</td>\n",
       "      <td>8005.ENSEEEP00000022104</td>\n",
       "    </tr>\n",
       "    <tr>\n",
       "      <th>33827407</th>\n",
       "      <td>A0A4W4FLL4</td>\n",
       "      <td>STRING</td>\n",
       "      <td>8005.ENSEEEP00000024840</td>\n",
       "    </tr>\n",
       "    <tr>\n",
       "      <th>33827408</th>\n",
       "      <td>A0A4W4HUB7</td>\n",
       "      <td>STRING</td>\n",
       "      <td>8005.ENSEEEP00000052554</td>\n",
       "    </tr>\n",
       "    <tr>\n",
       "      <th>33827409</th>\n",
       "      <td>A0A4W4DYP2</td>\n",
       "      <td>STRING</td>\n",
       "      <td>8005.ENSEEEP00000003983</td>\n",
       "    </tr>\n",
       "  </tbody>\n",
       "</table>\n",
       "<p>33827410 rows × 3 columns</p>\n",
       "</div>"
      ],
      "text/plain": [
       "                   0       1                        2\n",
       "0             Q43495  STRING  4081.Solyc01g009590.2.1\n",
       "1             P32234  STRING         7227.FBpp0087084\n",
       "2             Q92AT0  STRING           272626.lin1839\n",
       "3             P81928  STRING         7227.FBpp0082370\n",
       "4             P48347  STRING         3702.AT1G22300.1\n",
       "...              ...     ...                      ...\n",
       "33827405  A0A4W4ETD8  STRING  8005.ENSEEEP00000014429\n",
       "33827406  A0A4W4FE84  STRING  8005.ENSEEEP00000022104\n",
       "33827407  A0A4W4FLL4  STRING  8005.ENSEEEP00000024840\n",
       "33827408  A0A4W4HUB7  STRING  8005.ENSEEEP00000052554\n",
       "33827409  A0A4W4DYP2  STRING  8005.ENSEEEP00000003983\n",
       "\n",
       "[33827410 rows x 3 columns]"
      ]
     },
     "execution_count": 15,
     "metadata": {},
     "output_type": "execute_result"
    }
   ],
   "source": [
    "idmapping_string_df"
   ]
  },
  {
   "cell_type": "markdown",
   "id": "de5f964c-a2aa-42f3-bfa3-1d3fb718bf7b",
   "metadata": {},
   "source": [
    "#### Adding mappings to STRING interactions (from Uniprot)"
   ]
  },
  {
   "cell_type": "code",
   "execution_count": 17,
   "id": "6f27b469-afcc-46aa-8479-deccfa2dc69b",
   "metadata": {
    "execution": {
     "iopub.execute_input": "2023-09-26T03:44:34.163323Z",
     "iopub.status.busy": "2023-09-26T03:44:34.162901Z",
     "iopub.status.idle": "2023-09-26T03:44:49.955247Z",
     "shell.execute_reply": "2023-09-26T03:44:49.954319Z",
     "shell.execute_reply.started": "2023-09-26T03:44:34.163290Z"
    },
    "tags": []
   },
   "outputs": [],
   "source": [
    "idmapping_string_dict = dict(\n",
    "    zip(\n",
    "        idmapping_string_df[2],\n",
    "        idmapping_string_df[0],\n",
    "    )\n",
    ")"
   ]
  },
  {
   "cell_type": "code",
   "execution_count": 18,
   "id": "96f84fc8-b7ac-40db-8451-6e398379f956",
   "metadata": {
    "execution": {
     "iopub.execute_input": "2023-09-26T03:44:49.956518Z",
     "iopub.status.busy": "2023-09-26T03:44:49.956310Z",
     "iopub.status.idle": "2023-09-26T03:44:49.990638Z",
     "shell.execute_reply": "2023-09-26T03:44:49.989960Z",
     "shell.execute_reply.started": "2023-09-26T03:44:49.956491Z"
    },
    "tags": []
   },
   "outputs": [],
   "source": [
    "idmapping_hgnc_dict = dict(\n",
    "    zip(\n",
    "        idmapping_hgnc_df[0],\n",
    "        idmapping_hgnc_df[2],\n",
    "    )\n",
    ")"
   ]
  },
  {
   "cell_type": "code",
   "execution_count": 21,
   "id": "9523c7e7-6ab2-4a8a-9495-a15be233f82b",
   "metadata": {
    "execution": {
     "iopub.execute_input": "2023-09-26T03:45:57.292730Z",
     "iopub.status.busy": "2023-09-26T03:45:57.292323Z",
     "iopub.status.idle": "2023-09-26T03:46:11.270411Z",
     "shell.execute_reply": "2023-09-26T03:46:11.269442Z",
     "shell.execute_reply.started": "2023-09-26T03:45:57.292696Z"
    },
    "tags": []
   },
   "outputs": [],
   "source": [
    "nn_links_table_curated_df['prot1_uniprot'] = nn_links_table_curated_df[:]['protein1'].apply(\n",
    "    lambda x: idmapping_string_dict.get(x)\n",
    ")\n",
    "\n",
    "nn_links_table_curated_df['prot2_uniprot'] = nn_links_table_curated_df[:]['protein2'].apply(\n",
    "    lambda x: idmapping_string_dict.get(x)\n",
    ")"
   ]
  },
  {
   "cell_type": "code",
   "execution_count": 22,
   "id": "f430a82d-5687-48d6-b1d8-0c31d60f39b8",
   "metadata": {
    "execution": {
     "iopub.execute_input": "2023-09-26T03:46:11.271793Z",
     "iopub.status.busy": "2023-09-26T03:46:11.271635Z",
     "iopub.status.idle": "2023-09-26T03:46:22.531633Z",
     "shell.execute_reply": "2023-09-26T03:46:22.530813Z",
     "shell.execute_reply.started": "2023-09-26T03:46:11.271778Z"
    },
    "tags": []
   },
   "outputs": [],
   "source": [
    "nn_links_table_curated_df['prot1_hgnc'] = nn_links_table_curated_df[:]['prot1_uniprot'].apply(\n",
    "    lambda x: idmapping_hgnc_dict.get(x)\n",
    ")\n",
    "\n",
    "nn_links_table_curated_df['prot2_hgnc'] = nn_links_table_curated_df[:]['prot2_uniprot'].apply(\n",
    "    lambda x: idmapping_hgnc_dict.get(x)\n",
    ")"
   ]
  },
  {
   "cell_type": "code",
   "execution_count": 23,
   "id": "5d4bbc37-c1da-4bba-8430-4b230be51326",
   "metadata": {
    "execution": {
     "iopub.execute_input": "2023-09-26T03:46:22.532586Z",
     "iopub.status.busy": "2023-09-26T03:46:22.532429Z",
     "iopub.status.idle": "2023-09-26T03:46:22.546072Z",
     "shell.execute_reply": "2023-09-26T03:46:22.545484Z",
     "shell.execute_reply.started": "2023-09-26T03:46:22.532570Z"
    },
    "tags": []
   },
   "outputs": [
    {
     "data": {
      "text/html": [
       "<div>\n",
       "<style scoped>\n",
       "    .dataframe tbody tr th:only-of-type {\n",
       "        vertical-align: middle;\n",
       "    }\n",
       "\n",
       "    .dataframe tbody tr th {\n",
       "        vertical-align: top;\n",
       "    }\n",
       "\n",
       "    .dataframe thead th {\n",
       "        text-align: right;\n",
       "    }\n",
       "</style>\n",
       "<table border=\"1\" class=\"dataframe\">\n",
       "  <thead>\n",
       "    <tr style=\"text-align: right;\">\n",
       "      <th></th>\n",
       "      <th>protein1</th>\n",
       "      <th>protein2</th>\n",
       "      <th>prot1_uniprot</th>\n",
       "      <th>prot2_uniprot</th>\n",
       "      <th>prot1_hgnc</th>\n",
       "      <th>prot2_hgnc</th>\n",
       "    </tr>\n",
       "  </thead>\n",
       "  <tbody>\n",
       "    <tr>\n",
       "      <th>0</th>\n",
       "      <td>287.DR97_4287</td>\n",
       "      <td>287.DR97_1873</td>\n",
       "      <td>Q9HXY2</td>\n",
       "      <td>Q9HVL5</td>\n",
       "      <td>None</td>\n",
       "      <td>None</td>\n",
       "    </tr>\n",
       "    <tr>\n",
       "      <th>1</th>\n",
       "      <td>287.DR97_4287</td>\n",
       "      <td>287.DR97_3824</td>\n",
       "      <td>Q9HXY2</td>\n",
       "      <td>Q9HWY4</td>\n",
       "      <td>None</td>\n",
       "      <td>None</td>\n",
       "    </tr>\n",
       "    <tr>\n",
       "      <th>2</th>\n",
       "      <td>287.DR97_4288</td>\n",
       "      <td>287.DR97_4009</td>\n",
       "      <td>Q59640</td>\n",
       "      <td>Q9HXE9</td>\n",
       "      <td>None</td>\n",
       "      <td>None</td>\n",
       "    </tr>\n",
       "    <tr>\n",
       "      <th>3</th>\n",
       "      <td>287.DR97_4288</td>\n",
       "      <td>287.DR97_5630</td>\n",
       "      <td>Q59640</td>\n",
       "      <td>Q9I0U3</td>\n",
       "      <td>None</td>\n",
       "      <td>None</td>\n",
       "    </tr>\n",
       "    <tr>\n",
       "      <th>4</th>\n",
       "      <td>287.DR97_4288</td>\n",
       "      <td>287.DR97_1528</td>\n",
       "      <td>Q59640</td>\n",
       "      <td>Q9HW50</td>\n",
       "      <td>None</td>\n",
       "      <td>None</td>\n",
       "    </tr>\n",
       "    <tr>\n",
       "      <th>...</th>\n",
       "      <td>...</td>\n",
       "      <td>...</td>\n",
       "      <td>...</td>\n",
       "      <td>...</td>\n",
       "      <td>...</td>\n",
       "      <td>...</td>\n",
       "    </tr>\n",
       "    <tr>\n",
       "      <th>33722567</th>\n",
       "      <td>1549858.MC45_18470</td>\n",
       "      <td>1549858.MC45_02390</td>\n",
       "      <td>A0A097ELT7</td>\n",
       "      <td>A0A097ECZ2</td>\n",
       "      <td>None</td>\n",
       "      <td>None</td>\n",
       "    </tr>\n",
       "    <tr>\n",
       "      <th>33722568</th>\n",
       "      <td>1549858.MC45_18470</td>\n",
       "      <td>1549858.MC45_07065</td>\n",
       "      <td>A0A097ELT7</td>\n",
       "      <td>A0A097EF84</td>\n",
       "      <td>None</td>\n",
       "      <td>None</td>\n",
       "    </tr>\n",
       "    <tr>\n",
       "      <th>33722569</th>\n",
       "      <td>1549858.MC45_18470</td>\n",
       "      <td>1549858.MC45_10445</td>\n",
       "      <td>A0A097ELT7</td>\n",
       "      <td>A0A097EGM8</td>\n",
       "      <td>None</td>\n",
       "      <td>None</td>\n",
       "    </tr>\n",
       "    <tr>\n",
       "      <th>33722570</th>\n",
       "      <td>1549858.MC45_18470</td>\n",
       "      <td>1549858.MC45_08425</td>\n",
       "      <td>A0A097ELT7</td>\n",
       "      <td>A0A097EFN8</td>\n",
       "      <td>None</td>\n",
       "      <td>None</td>\n",
       "    </tr>\n",
       "    <tr>\n",
       "      <th>33722571</th>\n",
       "      <td>1549858.MC45_18470</td>\n",
       "      <td>1549858.MC45_00470</td>\n",
       "      <td>A0A097ELT7</td>\n",
       "      <td>A0A097EJZ4</td>\n",
       "      <td>None</td>\n",
       "      <td>None</td>\n",
       "    </tr>\n",
       "  </tbody>\n",
       "</table>\n",
       "<p>31902572 rows × 6 columns</p>\n",
       "</div>"
      ],
      "text/plain": [
       "                    protein1            protein2 prot1_uniprot prot2_uniprot  \\\n",
       "0              287.DR97_4287       287.DR97_1873        Q9HXY2        Q9HVL5   \n",
       "1              287.DR97_4287       287.DR97_3824        Q9HXY2        Q9HWY4   \n",
       "2              287.DR97_4288       287.DR97_4009        Q59640        Q9HXE9   \n",
       "3              287.DR97_4288       287.DR97_5630        Q59640        Q9I0U3   \n",
       "4              287.DR97_4288       287.DR97_1528        Q59640        Q9HW50   \n",
       "...                      ...                 ...           ...           ...   \n",
       "33722567  1549858.MC45_18470  1549858.MC45_02390    A0A097ELT7    A0A097ECZ2   \n",
       "33722568  1549858.MC45_18470  1549858.MC45_07065    A0A097ELT7    A0A097EF84   \n",
       "33722569  1549858.MC45_18470  1549858.MC45_10445    A0A097ELT7    A0A097EGM8   \n",
       "33722570  1549858.MC45_18470  1549858.MC45_08425    A0A097ELT7    A0A097EFN8   \n",
       "33722571  1549858.MC45_18470  1549858.MC45_00470    A0A097ELT7    A0A097EJZ4   \n",
       "\n",
       "         prot1_hgnc prot2_hgnc  \n",
       "0              None       None  \n",
       "1              None       None  \n",
       "2              None       None  \n",
       "3              None       None  \n",
       "4              None       None  \n",
       "...             ...        ...  \n",
       "33722567       None       None  \n",
       "33722568       None       None  \n",
       "33722569       None       None  \n",
       "33722570       None       None  \n",
       "33722571       None       None  \n",
       "\n",
       "[31902572 rows x 6 columns]"
      ]
     },
     "execution_count": 23,
     "metadata": {},
     "output_type": "execute_result"
    }
   ],
   "source": [
    "nn_links_table_curated_df"
   ]
  },
  {
   "cell_type": "code",
   "execution_count": 30,
   "id": "440e6ab8-0148-4b98-97fe-b1674e4af8d9",
   "metadata": {
    "execution": {
     "iopub.execute_input": "2023-09-26T03:58:33.274024Z",
     "iopub.status.busy": "2023-09-26T03:58:33.273669Z",
     "iopub.status.idle": "2023-09-26T03:58:43.232625Z",
     "shell.execute_reply": "2023-09-26T03:58:43.231762Z",
     "shell.execute_reply.started": "2023-09-26T03:58:33.273991Z"
    },
    "tags": []
   },
   "outputs": [],
   "source": [
    "nn_links_table_hugo_df = nn_links_table_curated_df[['prot1_hgnc', 'prot2_hgnc']].dropna()"
   ]
  },
  {
   "cell_type": "code",
   "execution_count": 31,
   "id": "68f927a7-d584-42fa-9587-55756f8a9a18",
   "metadata": {
    "execution": {
     "iopub.execute_input": "2023-09-26T03:58:43.233853Z",
     "iopub.status.busy": "2023-09-26T03:58:43.233695Z",
     "iopub.status.idle": "2023-09-26T03:58:52.498696Z",
     "shell.execute_reply": "2023-09-26T03:58:52.497932Z",
     "shell.execute_reply.started": "2023-09-26T03:58:43.233837Z"
    },
    "tags": []
   },
   "outputs": [],
   "source": [
    "nn_links_table_uniprot_df = nn_links_table_curated_df[['prot1_uniprot', 'prot2_uniprot']].dropna()"
   ]
  },
  {
   "cell_type": "code",
   "execution_count": 46,
   "id": "d78248ff-adce-4fc2-ab10-8c3784c5faeb",
   "metadata": {
    "execution": {
     "iopub.execute_input": "2023-04-12T04:48:31.208533Z",
     "iopub.status.busy": "2023-04-12T04:48:31.208351Z",
     "iopub.status.idle": "2023-04-12T04:48:36.571196Z",
     "shell.execute_reply": "2023-04-12T04:48:36.570330Z",
     "shell.execute_reply.started": "2023-04-12T04:48:31.208516Z"
    },
    "tags": []
   },
   "outputs": [
    {
     "data": {
      "text/plain": [
       "2261133"
      ]
     },
     "execution_count": 46,
     "metadata": {},
     "output_type": "execute_result"
    }
   ],
   "source": [
    "string_db_id_set = set(nn_links_table_uniprot_df['prot1_uniprot']).union(nn_links_table_uniprot_df['prot2_uniprot'])\n",
    "len(string_db_id_set)"
   ]
  },
  {
   "cell_type": "code",
   "execution_count": 47,
   "id": "45fb3f0c-beb8-4494-8360-9b5a93533ff8",
   "metadata": {
    "execution": {
     "iopub.execute_input": "2023-04-12T04:48:36.573479Z",
     "iopub.status.busy": "2023-04-12T04:48:36.573310Z",
     "iopub.status.idle": "2023-04-12T04:48:36.584321Z",
     "shell.execute_reply": "2023-04-12T04:48:36.583531Z",
     "shell.execute_reply.started": "2023-04-12T04:48:36.573462Z"
    },
    "tags": []
   },
   "outputs": [
    {
     "data": {
      "text/html": [
       "<div>\n",
       "<style scoped>\n",
       "    .dataframe tbody tr th:only-of-type {\n",
       "        vertical-align: middle;\n",
       "    }\n",
       "\n",
       "    .dataframe tbody tr th {\n",
       "        vertical-align: top;\n",
       "    }\n",
       "\n",
       "    .dataframe thead th {\n",
       "        text-align: right;\n",
       "    }\n",
       "</style>\n",
       "<table border=\"1\" class=\"dataframe\">\n",
       "  <thead>\n",
       "    <tr style=\"text-align: right;\">\n",
       "      <th></th>\n",
       "      <th>prot1_hgnc</th>\n",
       "      <th>prot2_hgnc</th>\n",
       "    </tr>\n",
       "  </thead>\n",
       "  <tbody>\n",
       "    <tr>\n",
       "      <th>5909958</th>\n",
       "      <td>HGNC:658</td>\n",
       "      <td>HGNC:1689</td>\n",
       "    </tr>\n",
       "    <tr>\n",
       "      <th>5909959</th>\n",
       "      <td>HGNC:658</td>\n",
       "      <td>HGNC:9758</td>\n",
       "    </tr>\n",
       "    <tr>\n",
       "      <th>5909960</th>\n",
       "      <td>HGNC:658</td>\n",
       "      <td>HGNC:6081</td>\n",
       "    </tr>\n",
       "    <tr>\n",
       "      <th>5909961</th>\n",
       "      <td>HGNC:658</td>\n",
       "      <td>HGNC:28889</td>\n",
       "    </tr>\n",
       "    <tr>\n",
       "      <th>5909962</th>\n",
       "      <td>HGNC:658</td>\n",
       "      <td>HGNC:2234</td>\n",
       "    </tr>\n",
       "    <tr>\n",
       "      <th>...</th>\n",
       "      <td>...</td>\n",
       "      <td>...</td>\n",
       "    </tr>\n",
       "    <tr>\n",
       "      <th>6311391</th>\n",
       "      <td>HGNC:15302</td>\n",
       "      <td>HGNC:711</td>\n",
       "    </tr>\n",
       "    <tr>\n",
       "      <th>6311392</th>\n",
       "      <td>HGNC:15302</td>\n",
       "      <td>HGNC:712</td>\n",
       "    </tr>\n",
       "    <tr>\n",
       "      <th>6311393</th>\n",
       "      <td>HGNC:15302</td>\n",
       "      <td>HGNC:4410</td>\n",
       "    </tr>\n",
       "    <tr>\n",
       "      <th>6311394</th>\n",
       "      <td>HGNC:15302</td>\n",
       "      <td>HGNC:9382</td>\n",
       "    </tr>\n",
       "    <tr>\n",
       "      <th>6311395</th>\n",
       "      <td>HGNC:15302</td>\n",
       "      <td>HGNC:4388</td>\n",
       "    </tr>\n",
       "  </tbody>\n",
       "</table>\n",
       "<p>396440 rows × 2 columns</p>\n",
       "</div>"
      ],
      "text/plain": [
       "         prot1_hgnc  prot2_hgnc\n",
       "5909958    HGNC:658   HGNC:1689\n",
       "5909959    HGNC:658   HGNC:9758\n",
       "5909960    HGNC:658   HGNC:6081\n",
       "5909961    HGNC:658  HGNC:28889\n",
       "5909962    HGNC:658   HGNC:2234\n",
       "...             ...         ...\n",
       "6311391  HGNC:15302    HGNC:711\n",
       "6311392  HGNC:15302    HGNC:712\n",
       "6311393  HGNC:15302   HGNC:4410\n",
       "6311394  HGNC:15302   HGNC:9382\n",
       "6311395  HGNC:15302   HGNC:4388\n",
       "\n",
       "[396440 rows x 2 columns]"
      ]
     },
     "execution_count": 47,
     "metadata": {},
     "output_type": "execute_result"
    }
   ],
   "source": [
    "nn_links_table_hugo_df"
   ]
  },
  {
   "cell_type": "markdown",
   "id": "4b08d810-4485-4268-a324-fa66c4f155d2",
   "metadata": {},
   "source": [
    "### Mapping to UMLS"
   ]
  },
  {
   "cell_type": "code",
   "execution_count": 24,
   "id": "47806643-2dde-4df5-8b4c-08989eb7de86",
   "metadata": {
    "execution": {
     "iopub.execute_input": "2023-09-26T03:55:58.397078Z",
     "iopub.status.busy": "2023-09-26T03:55:58.396208Z",
     "iopub.status.idle": "2023-09-26T03:55:58.401066Z",
     "shell.execute_reply": "2023-09-26T03:55:58.400208Z",
     "shell.execute_reply.started": "2023-09-26T03:55:58.397038Z"
    },
    "tags": []
   },
   "outputs": [],
   "source": [
    "mrconso_path = (\n",
    "    '../../UMLS_Metathesaurus/mrconso_and_semtypes_2022AA_df.pkl'\n",
    ")"
   ]
  },
  {
   "cell_type": "code",
   "execution_count": 25,
   "id": "88635406-7d43-474c-aeb5-502615d73901",
   "metadata": {
    "execution": {
     "iopub.execute_input": "2023-09-26T03:56:01.796589Z",
     "iopub.status.busy": "2023-09-26T03:56:01.796073Z",
     "iopub.status.idle": "2023-09-26T03:56:24.842600Z",
     "shell.execute_reply": "2023-09-26T03:56:24.841695Z",
     "shell.execute_reply.started": "2023-09-26T03:56:01.796556Z"
    },
    "tags": []
   },
   "outputs": [],
   "source": [
    "mrconso_st_df = pd.read_pickle(mrconso_path)"
   ]
  },
  {
   "cell_type": "code",
   "execution_count": 26,
   "id": "14f370b6-1bec-4cf3-8d67-b7b928ee24e3",
   "metadata": {
    "execution": {
     "iopub.execute_input": "2023-09-26T03:56:24.843990Z",
     "iopub.status.busy": "2023-09-26T03:56:24.843830Z",
     "iopub.status.idle": "2023-09-26T03:56:28.732439Z",
     "shell.execute_reply": "2023-09-26T03:56:28.731416Z",
     "shell.execute_reply.started": "2023-09-26T03:56:24.843975Z"
    },
    "tags": []
   },
   "outputs": [],
   "source": [
    "mrconso_hgnc_df = mrconso_st_df[\n",
    "    mrconso_st_df['SAB'] == 'HGNC'\n",
    "][['CUI', 'STR', 'CODE']]"
   ]
  },
  {
   "cell_type": "code",
   "execution_count": 28,
   "id": "9699ba04-3f55-4b52-8469-31aa741715e9",
   "metadata": {
    "execution": {
     "iopub.execute_input": "2023-09-26T03:57:56.547745Z",
     "iopub.status.busy": "2023-09-26T03:57:56.546944Z",
     "iopub.status.idle": "2023-09-26T03:57:56.558682Z",
     "shell.execute_reply": "2023-09-26T03:57:56.558046Z",
     "shell.execute_reply.started": "2023-09-26T03:57:56.547703Z"
    },
    "tags": []
   },
   "outputs": [
    {
     "data": {
      "text/html": [
       "<div>\n",
       "<style scoped>\n",
       "    .dataframe tbody tr th:only-of-type {\n",
       "        vertical-align: middle;\n",
       "    }\n",
       "\n",
       "    .dataframe tbody tr th {\n",
       "        vertical-align: top;\n",
       "    }\n",
       "\n",
       "    .dataframe thead th {\n",
       "        text-align: right;\n",
       "    }\n",
       "</style>\n",
       "<table border=\"1\" class=\"dataframe\">\n",
       "  <thead>\n",
       "    <tr style=\"text-align: right;\">\n",
       "      <th></th>\n",
       "      <th>CUI</th>\n",
       "      <th>STR</th>\n",
       "      <th>CODE</th>\n",
       "    </tr>\n",
       "  </thead>\n",
       "  <tbody>\n",
       "    <tr>\n",
       "      <th>235919</th>\n",
       "      <td>C0008288</td>\n",
       "      <td>CIPC gene</td>\n",
       "      <td>HGNC:20365</td>\n",
       "    </tr>\n",
       "    <tr>\n",
       "      <th>235921</th>\n",
       "      <td>C0008288</td>\n",
       "      <td>CIPC</td>\n",
       "      <td>HGNC:20365</td>\n",
       "    </tr>\n",
       "    <tr>\n",
       "      <th>235923</th>\n",
       "      <td>C0008288</td>\n",
       "      <td>CLOCK-interacting protein, circadian</td>\n",
       "      <td>HGNC:20365</td>\n",
       "    </tr>\n",
       "    <tr>\n",
       "      <th>235925</th>\n",
       "      <td>C0008288</td>\n",
       "      <td>CLOCK interacting pacemaker</td>\n",
       "      <td>HGNC:20365</td>\n",
       "    </tr>\n",
       "    <tr>\n",
       "      <th>235926</th>\n",
       "      <td>C0008288</td>\n",
       "      <td>KIAA1737</td>\n",
       "      <td>HGNC:20365</td>\n",
       "    </tr>\n",
       "    <tr>\n",
       "      <th>...</th>\n",
       "      <td>...</td>\n",
       "      <td>...</td>\n",
       "      <td>...</td>\n",
       "    </tr>\n",
       "    <tr>\n",
       "      <th>16596953</th>\n",
       "      <td>C5446057</td>\n",
       "      <td>TPM2P1</td>\n",
       "      <td>HGNC:55137</td>\n",
       "    </tr>\n",
       "    <tr>\n",
       "      <th>16596954</th>\n",
       "      <td>C5446057</td>\n",
       "      <td>TPM2 pseudogene 1</td>\n",
       "      <td>HGNC:55137</td>\n",
       "    </tr>\n",
       "    <tr>\n",
       "      <th>16596955</th>\n",
       "      <td>C5446058</td>\n",
       "      <td>TRMT1P1 gene</td>\n",
       "      <td>HGNC:55145</td>\n",
       "    </tr>\n",
       "    <tr>\n",
       "      <th>16596957</th>\n",
       "      <td>C5446058</td>\n",
       "      <td>TRMT1 pseudogene 1</td>\n",
       "      <td>HGNC:55145</td>\n",
       "    </tr>\n",
       "    <tr>\n",
       "      <th>16596958</th>\n",
       "      <td>C5446058</td>\n",
       "      <td>TRMT1P1</td>\n",
       "      <td>HGNC:55145</td>\n",
       "    </tr>\n",
       "  </tbody>\n",
       "</table>\n",
       "<p>227597 rows × 3 columns</p>\n",
       "</div>"
      ],
      "text/plain": [
       "               CUI                                   STR        CODE\n",
       "235919    C0008288                             CIPC gene  HGNC:20365\n",
       "235921    C0008288                                  CIPC  HGNC:20365\n",
       "235923    C0008288  CLOCK-interacting protein, circadian  HGNC:20365\n",
       "235925    C0008288           CLOCK interacting pacemaker  HGNC:20365\n",
       "235926    C0008288                              KIAA1737  HGNC:20365\n",
       "...            ...                                   ...         ...\n",
       "16596953  C5446057                                TPM2P1  HGNC:55137\n",
       "16596954  C5446057                     TPM2 pseudogene 1  HGNC:55137\n",
       "16596955  C5446058                          TRMT1P1 gene  HGNC:55145\n",
       "16596957  C5446058                    TRMT1 pseudogene 1  HGNC:55145\n",
       "16596958  C5446058                               TRMT1P1  HGNC:55145\n",
       "\n",
       "[227597 rows x 3 columns]"
      ]
     },
     "execution_count": 28,
     "metadata": {},
     "output_type": "execute_result"
    }
   ],
   "source": [
    "mrconso_hgnc_df"
   ]
  },
  {
   "cell_type": "code",
   "execution_count": 29,
   "id": "aa9b0869-ce81-4a9e-b2ef-5edd0ddf8dfc",
   "metadata": {
    "execution": {
     "iopub.execute_input": "2023-09-26T03:58:01.360055Z",
     "iopub.status.busy": "2023-09-26T03:58:01.359719Z",
     "iopub.status.idle": "2023-09-26T03:58:02.040893Z",
     "shell.execute_reply": "2023-09-26T03:58:02.040140Z",
     "shell.execute_reply.started": "2023-09-26T03:58:01.360024Z"
    },
    "tags": []
   },
   "outputs": [],
   "source": [
    "mrconso_hgnc_to_cui_dict = (\n",
    "    mrconso_hgnc_df[['CUI', 'CODE']]\n",
    "    .groupby('CODE')\n",
    "    .agg(set)\n",
    "    ['CUI']\n",
    "    .to_dict()\n",
    ")"
   ]
  },
  {
   "cell_type": "code",
   "execution_count": 32,
   "id": "c6439a65-525c-4fdb-8fc8-82b564c658de",
   "metadata": {
    "execution": {
     "iopub.execute_input": "2023-09-26T03:59:30.140676Z",
     "iopub.status.busy": "2023-09-26T03:59:30.140173Z",
     "iopub.status.idle": "2023-09-26T03:59:30.388038Z",
     "shell.execute_reply": "2023-09-26T03:59:30.387318Z",
     "shell.execute_reply.started": "2023-09-26T03:59:30.140643Z"
    },
    "tags": []
   },
   "outputs": [],
   "source": [
    "nn_links_table_hugo_df['prot1_cui'] = (\n",
    "    nn_links_table_hugo_df['prot1_hgnc'].apply(\n",
    "        lambda x: mrconso_hgnc_to_cui_dict.get(x)\n",
    "    )\n",
    ")\n",
    "\n",
    "nn_links_table_hugo_df['prot2_cui'] = (\n",
    "    nn_links_table_hugo_df['prot2_hgnc'].apply(\n",
    "        lambda x: mrconso_hgnc_to_cui_dict.get(x)\n",
    "    )\n",
    ")"
   ]
  },
  {
   "cell_type": "code",
   "execution_count": 33,
   "id": "c663985f-3b76-4828-8800-37176ae0a383",
   "metadata": {
    "execution": {
     "iopub.execute_input": "2023-09-26T03:59:42.166338Z",
     "iopub.status.busy": "2023-09-26T03:59:42.165987Z",
     "iopub.status.idle": "2023-09-26T03:59:43.578075Z",
     "shell.execute_reply": "2023-09-26T03:59:43.577400Z",
     "shell.execute_reply.started": "2023-09-26T03:59:42.166307Z"
    },
    "tags": []
   },
   "outputs": [
    {
     "data": {
      "text/plain": [
       "699128"
      ]
     },
     "execution_count": 33,
     "metadata": {},
     "output_type": "execute_result"
    }
   ],
   "source": [
    "nn_links_table_cui_df = (\n",
    "    nn_links_table_hugo_df\n",
    "        .explode('prot1_cui')\n",
    "        .explode('prot2_cui')\n",
    "        .dropna()\n",
    ")\n",
    "len(nn_links_table_cui_df)"
   ]
  },
  {
   "cell_type": "code",
   "execution_count": 34,
   "id": "bb5a2db9-2636-4766-ae71-5b5b04134fcd",
   "metadata": {
    "execution": {
     "iopub.execute_input": "2023-09-26T03:59:48.796322Z",
     "iopub.status.busy": "2023-09-26T03:59:48.795968Z",
     "iopub.status.idle": "2023-09-26T03:59:48.808821Z",
     "shell.execute_reply": "2023-09-26T03:59:48.808195Z",
     "shell.execute_reply.started": "2023-09-26T03:59:48.796290Z"
    },
    "tags": []
   },
   "outputs": [
    {
     "data": {
      "text/html": [
       "<div>\n",
       "<style scoped>\n",
       "    .dataframe tbody tr th:only-of-type {\n",
       "        vertical-align: middle;\n",
       "    }\n",
       "\n",
       "    .dataframe tbody tr th {\n",
       "        vertical-align: top;\n",
       "    }\n",
       "\n",
       "    .dataframe thead th {\n",
       "        text-align: right;\n",
       "    }\n",
       "</style>\n",
       "<table border=\"1\" class=\"dataframe\">\n",
       "  <thead>\n",
       "    <tr style=\"text-align: right;\">\n",
       "      <th></th>\n",
       "      <th>prot1_hgnc</th>\n",
       "      <th>prot2_hgnc</th>\n",
       "      <th>prot1_cui</th>\n",
       "      <th>prot2_cui</th>\n",
       "    </tr>\n",
       "  </thead>\n",
       "  <tbody>\n",
       "    <tr>\n",
       "      <th>8562676</th>\n",
       "      <td>HGNC:658</td>\n",
       "      <td>HGNC:11276</td>\n",
       "      <td>C1412510</td>\n",
       "      <td>C1420389</td>\n",
       "    </tr>\n",
       "    <tr>\n",
       "      <th>8562677</th>\n",
       "      <td>HGNC:658</td>\n",
       "      <td>HGNC:14405</td>\n",
       "      <td>C1412510</td>\n",
       "      <td>C1422625</td>\n",
       "    </tr>\n",
       "    <tr>\n",
       "      <th>8562679</th>\n",
       "      <td>HGNC:658</td>\n",
       "      <td>HGNC:19349</td>\n",
       "      <td>C1412510</td>\n",
       "      <td>C1426181</td>\n",
       "    </tr>\n",
       "    <tr>\n",
       "      <th>8562680</th>\n",
       "      <td>HGNC:658</td>\n",
       "      <td>HGNC:24253</td>\n",
       "      <td>C1412510</td>\n",
       "      <td>C1539988</td>\n",
       "    </tr>\n",
       "    <tr>\n",
       "      <th>8562681</th>\n",
       "      <td>HGNC:658</td>\n",
       "      <td>HGNC:15852</td>\n",
       "      <td>C1412510</td>\n",
       "      <td>C1423774</td>\n",
       "    </tr>\n",
       "    <tr>\n",
       "      <th>...</th>\n",
       "      <td>...</td>\n",
       "      <td>...</td>\n",
       "      <td>...</td>\n",
       "      <td>...</td>\n",
       "    </tr>\n",
       "    <tr>\n",
       "      <th>9631099</th>\n",
       "      <td>HGNC:15302</td>\n",
       "      <td>HGNC:26176</td>\n",
       "      <td>C1423386</td>\n",
       "      <td>C1826795</td>\n",
       "    </tr>\n",
       "    <tr>\n",
       "      <th>9631100</th>\n",
       "      <td>HGNC:15302</td>\n",
       "      <td>HGNC:289</td>\n",
       "      <td>C1423386</td>\n",
       "      <td>C1366490</td>\n",
       "    </tr>\n",
       "    <tr>\n",
       "      <th>9631101</th>\n",
       "      <td>HGNC:15302</td>\n",
       "      <td>HGNC:4396</td>\n",
       "      <td>C1423386</td>\n",
       "      <td>C1333687</td>\n",
       "    </tr>\n",
       "    <tr>\n",
       "      <th>9631102</th>\n",
       "      <td>HGNC:15302</td>\n",
       "      <td>HGNC:15572</td>\n",
       "      <td>C1423386</td>\n",
       "      <td>C1826953</td>\n",
       "    </tr>\n",
       "    <tr>\n",
       "      <th>9631103</th>\n",
       "      <td>HGNC:15302</td>\n",
       "      <td>HGNC:17975</td>\n",
       "      <td>C1423386</td>\n",
       "      <td>C1826794</td>\n",
       "    </tr>\n",
       "  </tbody>\n",
       "</table>\n",
       "<p>699128 rows × 4 columns</p>\n",
       "</div>"
      ],
      "text/plain": [
       "         prot1_hgnc  prot2_hgnc prot1_cui prot2_cui\n",
       "8562676    HGNC:658  HGNC:11276  C1412510  C1420389\n",
       "8562677    HGNC:658  HGNC:14405  C1412510  C1422625\n",
       "8562679    HGNC:658  HGNC:19349  C1412510  C1426181\n",
       "8562680    HGNC:658  HGNC:24253  C1412510  C1539988\n",
       "8562681    HGNC:658  HGNC:15852  C1412510  C1423774\n",
       "...             ...         ...       ...       ...\n",
       "9631099  HGNC:15302  HGNC:26176  C1423386  C1826795\n",
       "9631100  HGNC:15302    HGNC:289  C1423386  C1366490\n",
       "9631101  HGNC:15302   HGNC:4396  C1423386  C1333687\n",
       "9631102  HGNC:15302  HGNC:15572  C1423386  C1826953\n",
       "9631103  HGNC:15302  HGNC:17975  C1423386  C1826794\n",
       "\n",
       "[699128 rows x 4 columns]"
      ]
     },
     "execution_count": 34,
     "metadata": {},
     "output_type": "execute_result"
    }
   ],
   "source": [
    "nn_links_table_cui_df"
   ]
  },
  {
   "cell_type": "code",
   "execution_count": 35,
   "id": "f3268e73-36b5-4620-b475-a7e92982c056",
   "metadata": {
    "execution": {
     "iopub.execute_input": "2023-09-26T04:00:11.555870Z",
     "iopub.status.busy": "2023-09-26T04:00:11.555452Z",
     "iopub.status.idle": "2023-09-26T04:00:11.988765Z",
     "shell.execute_reply": "2023-09-26T04:00:11.988084Z",
     "shell.execute_reply.started": "2023-09-26T04:00:11.555837Z"
    },
    "tags": []
   },
   "outputs": [
    {
     "data": {
      "text/plain": [
       "349357"
      ]
     },
     "execution_count": 35,
     "metadata": {},
     "output_type": "execute_result"
    }
   ],
   "source": [
    "string_all_cui_mapped_pairs = list({\n",
    "    tuple(sorted(p)) for p in list(\n",
    "        zip(\n",
    "            nn_links_table_cui_df['prot1_cui'],\n",
    "            nn_links_table_cui_df['prot2_cui']\n",
    "        )\n",
    "    )\n",
    "})\n",
    "len(string_all_cui_mapped_pairs)"
   ]
  },
  {
   "cell_type": "markdown",
   "id": "84a5dc12-fb9a-422e-887a-5f916b5526a5",
   "metadata": {},
   "source": [
    "## Saving"
   ]
  },
  {
   "cell_type": "code",
   "execution_count": 36,
   "id": "4e6d5ad0-1c60-4234-ae77-8f096e588010",
   "metadata": {
    "execution": {
     "iopub.execute_input": "2023-09-26T04:07:15.772634Z",
     "iopub.status.busy": "2023-09-26T04:07:15.772188Z",
     "iopub.status.idle": "2023-09-26T04:07:16.386898Z",
     "shell.execute_reply": "2023-09-26T04:07:16.386160Z",
     "shell.execute_reply.started": "2023-09-26T04:07:15.772602Z"
    },
    "tags": []
   },
   "outputs": [],
   "source": [
    "with open('../data_collection/01_cui_pairs_json/stringdb_cui_pairs.json', 'w') as f:\n",
    "    json.dump(string_all_cui_mapped_pairs, f)"
   ]
  },
  {
   "cell_type": "code",
   "execution_count": null,
   "id": "068f32a4-b7d0-4564-86df-cb4613c87dd3",
   "metadata": {},
   "outputs": [],
   "source": []
  }
 ],
 "metadata": {
  "kernelspec": {
   "display_name": "Python [conda env:agatha_cgp]",
   "language": "python",
   "name": "conda-env-agatha_cgp-py"
  },
  "language_info": {
   "codemirror_mode": {
    "name": "ipython",
    "version": 3
   },
   "file_extension": ".py",
   "mimetype": "text/x-python",
   "name": "python",
   "nbconvert_exporter": "python",
   "pygments_lexer": "ipython3",
   "version": "3.8.13"
  }
 },
 "nbformat": 4,
 "nbformat_minor": 5
}
