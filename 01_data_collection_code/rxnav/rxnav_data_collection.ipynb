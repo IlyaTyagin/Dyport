{
 "cells": [
  {
   "cell_type": "markdown",
   "id": "779643b8-db58-45e4-9b6f-f7f2ca2d6e33",
   "metadata": {},
   "source": [
    "# Rxnav data collection"
   ]
  },
  {
   "cell_type": "markdown",
   "id": "eb6f475b-c52b-4ea4-9db4-0794e9519440",
   "metadata": {},
   "source": [
    "Links:\n",
    "* API description: https://rxnav.nlm.nih.gov/InteractionAPIs.html#\n",
    "* REST API return json example: https://rxnav.nlm.nih.gov/REST/interaction/interaction.json?rxcui=341248\n",
    "  * RxNav in the box (docker): http://localhost:4000/REST/interaction/interaction.json?rxcui=341248\n",
    "* Where to find list of drugs from DrugBank: https://go.drugbank.com/releases/5-1-8/downloads/all-drugbank-vocabulary\n",
    "* Where to find RXCUI: https://www.nlm.nih.gov/research/umls/rxnorm/docs/rxnormfiles.html\n",
    "  * RXNCONSO description: https://www.nlm.nih.gov/research/umls/sourcereleasedocs/current/RXNORM/sourcerepresentation.html#file1"
   ]
  },
  {
   "cell_type": "code",
   "execution_count": 26,
   "id": "0d089cea-0261-4e5f-9e6e-4e20fbbcdaa9",
   "metadata": {
    "execution": {
     "iopub.execute_input": "2023-09-26T06:13:07.292211Z",
     "iopub.status.busy": "2023-09-26T06:13:07.291996Z",
     "iopub.status.idle": "2023-09-26T06:13:07.295953Z",
     "shell.execute_reply": "2023-09-26T06:13:07.295054Z",
     "shell.execute_reply.started": "2023-09-26T06:13:07.292193Z"
    },
    "tags": []
   },
   "outputs": [],
   "source": [
    "import pandas as pd\n",
    "import json"
   ]
  },
  {
   "cell_type": "markdown",
   "id": "aa3e646a-055c-449d-b4e1-4eec231f105b",
   "metadata": {},
   "source": [
    "## Opening rxnav-in-the-box interaction results (pease refer to `rxnav_in_the_box_retr_interactions` notebook)"
   ]
  },
  {
   "cell_type": "code",
   "execution_count": 3,
   "id": "59a2edc1-10cc-4ec9-ba91-34c77cc5f971",
   "metadata": {
    "execution": {
     "iopub.execute_input": "2023-09-26T06:03:54.313529Z",
     "iopub.status.busy": "2023-09-26T06:03:54.313109Z",
     "iopub.status.idle": "2023-09-26T06:03:56.840869Z",
     "shell.execute_reply": "2023-09-26T06:03:56.839980Z",
     "shell.execute_reply.started": "2023-09-26T06:03:54.313494Z"
    },
    "tags": []
   },
   "outputs": [],
   "source": [
    "rxnav_results_df = (\n",
    "    pd.read_csv('rxnav_in_the_box_05_Sep_2023_drug_interact.csv')\n",
    "        .drop(columns=['Unnamed: 0'])\n",
    ")"
   ]
  },
  {
   "cell_type": "code",
   "execution_count": 5,
   "id": "eb70ce28-ae68-459c-90e5-c66d8a1f1f99",
   "metadata": {
    "execution": {
     "iopub.execute_input": "2023-09-26T06:04:02.943432Z",
     "iopub.status.busy": "2023-09-26T06:04:02.943179Z",
     "iopub.status.idle": "2023-09-26T06:04:02.951972Z",
     "shell.execute_reply": "2023-09-26T06:04:02.951464Z",
     "shell.execute_reply.started": "2023-09-26T06:04:02.943410Z"
    },
    "tags": []
   },
   "outputs": [
    {
     "data": {
      "text/html": [
       "<div>\n",
       "<style scoped>\n",
       "    .dataframe tbody tr th:only-of-type {\n",
       "        vertical-align: middle;\n",
       "    }\n",
       "\n",
       "    .dataframe tbody tr th {\n",
       "        vertical-align: top;\n",
       "    }\n",
       "\n",
       "    .dataframe thead th {\n",
       "        text-align: right;\n",
       "    }\n",
       "</style>\n",
       "<table border=\"1\" class=\"dataframe\">\n",
       "  <thead>\n",
       "    <tr style=\"text-align: right;\">\n",
       "      <th></th>\n",
       "      <th>source_drugbank_id</th>\n",
       "      <th>source_name</th>\n",
       "      <th>target_drugbank_id</th>\n",
       "      <th>target_name</th>\n",
       "      <th>description</th>\n",
       "    </tr>\n",
       "  </thead>\n",
       "  <tbody>\n",
       "    <tr>\n",
       "      <th>0</th>\n",
       "      <td>DB01185</td>\n",
       "      <td>Fluoxymesterone</td>\n",
       "      <td>DB00359</td>\n",
       "      <td>Sulfadiazine</td>\n",
       "      <td>Fluoxymesterone may increase the hypoglycemic ...</td>\n",
       "    </tr>\n",
       "    <tr>\n",
       "      <th>1</th>\n",
       "      <td>DB01185</td>\n",
       "      <td>Fluoxymesterone</td>\n",
       "      <td>DB01015</td>\n",
       "      <td>Sulfamethoxazole</td>\n",
       "      <td>Fluoxymesterone may increase the hypoglycemic ...</td>\n",
       "    </tr>\n",
       "    <tr>\n",
       "      <th>2</th>\n",
       "      <td>DB01185</td>\n",
       "      <td>Fluoxymesterone</td>\n",
       "      <td>DB00263</td>\n",
       "      <td>Sulfisoxazole</td>\n",
       "      <td>Fluoxymesterone may increase the hypoglycemic ...</td>\n",
       "    </tr>\n",
       "    <tr>\n",
       "      <th>3</th>\n",
       "      <td>DB01185</td>\n",
       "      <td>Fluoxymesterone</td>\n",
       "      <td>DB08962</td>\n",
       "      <td>Glibornuride</td>\n",
       "      <td>Fluoxymesterone may increase the hypoglycemic ...</td>\n",
       "    </tr>\n",
       "    <tr>\n",
       "      <th>4</th>\n",
       "      <td>DB01185</td>\n",
       "      <td>Fluoxymesterone</td>\n",
       "      <td>DB01382</td>\n",
       "      <td>Glymidine</td>\n",
       "      <td>Fluoxymesterone may increase the hypoglycemic ...</td>\n",
       "    </tr>\n",
       "    <tr>\n",
       "      <th>...</th>\n",
       "      <td>...</td>\n",
       "      <td>...</td>\n",
       "      <td>...</td>\n",
       "      <td>...</td>\n",
       "      <td>...</td>\n",
       "    </tr>\n",
       "    <tr>\n",
       "      <th>1675961</th>\n",
       "      <td>DB01764</td>\n",
       "      <td>Dalfopristin</td>\n",
       "      <td>DB01039</td>\n",
       "      <td>Fenofibrate</td>\n",
       "      <td>The metabolism of Fenofibrate can be decreased...</td>\n",
       "    </tr>\n",
       "    <tr>\n",
       "      <th>1675962</th>\n",
       "      <td>DB01764</td>\n",
       "      <td>Dalfopristin</td>\n",
       "      <td>DB06176</td>\n",
       "      <td>Romidepsin</td>\n",
       "      <td>The metabolism of Romidepsin can be decreased ...</td>\n",
       "    </tr>\n",
       "    <tr>\n",
       "      <th>1675963</th>\n",
       "      <td>DB01764</td>\n",
       "      <td>Dalfopristin</td>\n",
       "      <td>DB01238</td>\n",
       "      <td>Aripiprazole</td>\n",
       "      <td>The metabolism of Aripiprazole can be decrease...</td>\n",
       "    </tr>\n",
       "    <tr>\n",
       "      <th>1675964</th>\n",
       "      <td>DB01764</td>\n",
       "      <td>Dalfopristin</td>\n",
       "      <td>DB00908</td>\n",
       "      <td>Quinidine</td>\n",
       "      <td>The metabolism of Quinidine can be decreased w...</td>\n",
       "    </tr>\n",
       "    <tr>\n",
       "      <th>1675965</th>\n",
       "      <td>DB01764</td>\n",
       "      <td>Dalfopristin</td>\n",
       "      <td>DB06772</td>\n",
       "      <td>Cabazitaxel</td>\n",
       "      <td>The metabolism of Cabazitaxel can be decreased...</td>\n",
       "    </tr>\n",
       "  </tbody>\n",
       "</table>\n",
       "<p>1675966 rows × 5 columns</p>\n",
       "</div>"
      ],
      "text/plain": [
       "        source_drugbank_id      source_name target_drugbank_id  \\\n",
       "0                  DB01185  Fluoxymesterone            DB00359   \n",
       "1                  DB01185  Fluoxymesterone            DB01015   \n",
       "2                  DB01185  Fluoxymesterone            DB00263   \n",
       "3                  DB01185  Fluoxymesterone            DB08962   \n",
       "4                  DB01185  Fluoxymesterone            DB01382   \n",
       "...                    ...              ...                ...   \n",
       "1675961            DB01764     Dalfopristin            DB01039   \n",
       "1675962            DB01764     Dalfopristin            DB06176   \n",
       "1675963            DB01764     Dalfopristin            DB01238   \n",
       "1675964            DB01764     Dalfopristin            DB00908   \n",
       "1675965            DB01764     Dalfopristin            DB06772   \n",
       "\n",
       "              target_name                                        description  \n",
       "0            Sulfadiazine  Fluoxymesterone may increase the hypoglycemic ...  \n",
       "1        Sulfamethoxazole  Fluoxymesterone may increase the hypoglycemic ...  \n",
       "2           Sulfisoxazole  Fluoxymesterone may increase the hypoglycemic ...  \n",
       "3            Glibornuride  Fluoxymesterone may increase the hypoglycemic ...  \n",
       "4               Glymidine  Fluoxymesterone may increase the hypoglycemic ...  \n",
       "...                   ...                                                ...  \n",
       "1675961       Fenofibrate  The metabolism of Fenofibrate can be decreased...  \n",
       "1675962        Romidepsin  The metabolism of Romidepsin can be decreased ...  \n",
       "1675963      Aripiprazole  The metabolism of Aripiprazole can be decrease...  \n",
       "1675964         Quinidine  The metabolism of Quinidine can be decreased w...  \n",
       "1675965       Cabazitaxel  The metabolism of Cabazitaxel can be decreased...  \n",
       "\n",
       "[1675966 rows x 5 columns]"
      ]
     },
     "execution_count": 5,
     "metadata": {},
     "output_type": "execute_result"
    }
   ],
   "source": [
    "rxnav_results_df"
   ]
  },
  {
   "cell_type": "markdown",
   "id": "a9f3a930-314a-4c6e-a8ac-951b324c2fd1",
   "metadata": {},
   "source": [
    "### UMLS MRCONSO mapping"
   ]
  },
  {
   "cell_type": "code",
   "execution_count": 6,
   "id": "452cf577-dcf8-4efa-a764-5691c91d2450",
   "metadata": {
    "execution": {
     "iopub.execute_input": "2023-09-26T06:05:05.121531Z",
     "iopub.status.busy": "2023-09-26T06:05:05.121061Z",
     "iopub.status.idle": "2023-09-26T06:05:05.125912Z",
     "shell.execute_reply": "2023-09-26T06:05:05.125042Z",
     "shell.execute_reply.started": "2023-09-26T06:05:05.121498Z"
    },
    "tags": []
   },
   "outputs": [],
   "source": [
    "mrconso_path = (\n",
    "    '../../UMLS_Metathesaurus/mrconso_and_semtypes_2022AA_df.pkl'\n",
    ")"
   ]
  },
  {
   "cell_type": "code",
   "execution_count": 7,
   "id": "950da7d6-d50b-4126-9bba-62812e8fcdab",
   "metadata": {
    "execution": {
     "iopub.execute_input": "2023-09-26T06:05:05.927075Z",
     "iopub.status.busy": "2023-09-26T06:05:05.926787Z",
     "iopub.status.idle": "2023-09-26T06:05:33.932633Z",
     "shell.execute_reply": "2023-09-26T06:05:33.931800Z",
     "shell.execute_reply.started": "2023-09-26T06:05:05.927054Z"
    },
    "tags": []
   },
   "outputs": [],
   "source": [
    "mrconso_st_df = pd.read_pickle(mrconso_path)"
   ]
  },
  {
   "cell_type": "code",
   "execution_count": 13,
   "id": "fe1f1eff-6c50-40d0-9315-1fcb414167b6",
   "metadata": {
    "execution": {
     "iopub.execute_input": "2023-09-26T06:06:31.057618Z",
     "iopub.status.busy": "2023-09-26T06:06:31.057127Z",
     "iopub.status.idle": "2023-09-26T06:06:34.457154Z",
     "shell.execute_reply": "2023-09-26T06:06:34.456419Z",
     "shell.execute_reply.started": "2023-09-26T06:06:31.057585Z"
    },
    "tags": []
   },
   "outputs": [],
   "source": [
    "mrconso_st_drugbank_df = mrconso_st_df[\n",
    "    mrconso_st_df['SAB'] == 'DRUGBANK'\n",
    "]"
   ]
  },
  {
   "cell_type": "code",
   "execution_count": 17,
   "id": "8835432c-94a5-4475-bb7a-1245aa7d858c",
   "metadata": {
    "execution": {
     "iopub.execute_input": "2023-09-26T06:08:13.556610Z",
     "iopub.status.busy": "2023-09-26T06:08:13.556139Z",
     "iopub.status.idle": "2023-09-26T06:08:13.690830Z",
     "shell.execute_reply": "2023-09-26T06:08:13.690125Z",
     "shell.execute_reply.started": "2023-09-26T06:08:13.556577Z"
    },
    "tags": []
   },
   "outputs": [],
   "source": [
    "drugbank_id_to_cui_dict = (\n",
    "    mrconso_st_drugbank_df[['CUI', 'CODE']]\n",
    "        .groupby('CODE')\n",
    "        .agg(set)\n",
    "        ['CUI']\n",
    "        .to_dict()\n",
    ")"
   ]
  },
  {
   "cell_type": "code",
   "execution_count": 18,
   "id": "0c2e79ec-51f4-4744-956e-79ae3702741c",
   "metadata": {
    "execution": {
     "iopub.execute_input": "2023-09-26T06:08:17.263584Z",
     "iopub.status.busy": "2023-09-26T06:08:17.263366Z",
     "iopub.status.idle": "2023-09-26T06:08:17.267823Z",
     "shell.execute_reply": "2023-09-26T06:08:17.267327Z",
     "shell.execute_reply.started": "2023-09-26T06:08:17.263569Z"
    },
    "tags": []
   },
   "outputs": [
    {
     "data": {
      "text/plain": [
       "{'C0299792'}"
      ]
     },
     "execution_count": 18,
     "metadata": {},
     "output_type": "execute_result"
    }
   ],
   "source": [
    "drugbank_id_to_cui_dict['DB01238']"
   ]
  },
  {
   "cell_type": "code",
   "execution_count": 19,
   "id": "a37bc9f0-5bff-4471-a565-0c59994a3e70",
   "metadata": {
    "execution": {
     "iopub.execute_input": "2023-09-26T06:09:20.072780Z",
     "iopub.status.busy": "2023-09-26T06:09:20.071961Z",
     "iopub.status.idle": "2023-09-26T06:09:20.606143Z",
     "shell.execute_reply": "2023-09-26T06:09:20.605644Z",
     "shell.execute_reply.started": "2023-09-26T06:09:20.072740Z"
    },
    "tags": []
   },
   "outputs": [],
   "source": [
    "rxnav_results_df['source_cui'] = rxnav_results_df['source_drugbank_id'].apply(\n",
    "    lambda x: drugbank_id_to_cui_dict.get(x)\n",
    ")\n",
    "\n",
    "rxnav_results_df['target_cui'] = rxnav_results_df['target_drugbank_id'].apply(\n",
    "    lambda x: drugbank_id_to_cui_dict.get(x)\n",
    ")"
   ]
  },
  {
   "cell_type": "code",
   "execution_count": 21,
   "id": "a3b7ad3a-48ae-4bea-9d7b-e2178f39d695",
   "metadata": {
    "execution": {
     "iopub.execute_input": "2023-09-26T06:10:09.104458Z",
     "iopub.status.busy": "2023-09-26T06:10:09.103980Z",
     "iopub.status.idle": "2023-09-26T06:10:15.580247Z",
     "shell.execute_reply": "2023-09-26T06:10:15.579510Z",
     "shell.execute_reply.started": "2023-09-26T06:10:09.104422Z"
    },
    "tags": []
   },
   "outputs": [],
   "source": [
    "rxnav_results_cui_df = (\n",
    "    rxnav_results_df\n",
    "        .explode('source_cui')\n",
    "        .explode('target_cui')\n",
    "        .dropna()\n",
    ")"
   ]
  },
  {
   "cell_type": "code",
   "execution_count": 22,
   "id": "2a1d00f0-74b4-497b-b6ae-f01744220d15",
   "metadata": {
    "execution": {
     "iopub.execute_input": "2023-09-26T06:10:16.870212Z",
     "iopub.status.busy": "2023-09-26T06:10:16.869871Z",
     "iopub.status.idle": "2023-09-26T06:10:16.881576Z",
     "shell.execute_reply": "2023-09-26T06:10:16.881025Z",
     "shell.execute_reply.started": "2023-09-26T06:10:16.870185Z"
    },
    "tags": []
   },
   "outputs": [
    {
     "data": {
      "text/html": [
       "<div>\n",
       "<style scoped>\n",
       "    .dataframe tbody tr th:only-of-type {\n",
       "        vertical-align: middle;\n",
       "    }\n",
       "\n",
       "    .dataframe tbody tr th {\n",
       "        vertical-align: top;\n",
       "    }\n",
       "\n",
       "    .dataframe thead th {\n",
       "        text-align: right;\n",
       "    }\n",
       "</style>\n",
       "<table border=\"1\" class=\"dataframe\">\n",
       "  <thead>\n",
       "    <tr style=\"text-align: right;\">\n",
       "      <th></th>\n",
       "      <th>source_drugbank_id</th>\n",
       "      <th>source_name</th>\n",
       "      <th>target_drugbank_id</th>\n",
       "      <th>target_name</th>\n",
       "      <th>description</th>\n",
       "      <th>source_cui</th>\n",
       "      <th>target_cui</th>\n",
       "    </tr>\n",
       "  </thead>\n",
       "  <tbody>\n",
       "    <tr>\n",
       "      <th>0</th>\n",
       "      <td>DB01185</td>\n",
       "      <td>Fluoxymesterone</td>\n",
       "      <td>DB00359</td>\n",
       "      <td>Sulfadiazine</td>\n",
       "      <td>Fluoxymesterone may increase the hypoglycemic ...</td>\n",
       "      <td>C0016366</td>\n",
       "      <td>C0038675</td>\n",
       "    </tr>\n",
       "    <tr>\n",
       "      <th>1</th>\n",
       "      <td>DB01185</td>\n",
       "      <td>Fluoxymesterone</td>\n",
       "      <td>DB01015</td>\n",
       "      <td>Sulfamethoxazole</td>\n",
       "      <td>Fluoxymesterone may increase the hypoglycemic ...</td>\n",
       "      <td>C0016366</td>\n",
       "      <td>C0038689</td>\n",
       "    </tr>\n",
       "    <tr>\n",
       "      <th>2</th>\n",
       "      <td>DB01185</td>\n",
       "      <td>Fluoxymesterone</td>\n",
       "      <td>DB00263</td>\n",
       "      <td>Sulfisoxazole</td>\n",
       "      <td>Fluoxymesterone may increase the hypoglycemic ...</td>\n",
       "      <td>C0016366</td>\n",
       "      <td>C0038745</td>\n",
       "    </tr>\n",
       "    <tr>\n",
       "      <th>3</th>\n",
       "      <td>DB01185</td>\n",
       "      <td>Fluoxymesterone</td>\n",
       "      <td>DB08962</td>\n",
       "      <td>Glibornuride</td>\n",
       "      <td>Fluoxymesterone may increase the hypoglycemic ...</td>\n",
       "      <td>C0016366</td>\n",
       "      <td>C0350998</td>\n",
       "    </tr>\n",
       "    <tr>\n",
       "      <th>4</th>\n",
       "      <td>DB01185</td>\n",
       "      <td>Fluoxymesterone</td>\n",
       "      <td>DB01382</td>\n",
       "      <td>Glymidine</td>\n",
       "      <td>Fluoxymesterone may increase the hypoglycemic ...</td>\n",
       "      <td>C0016366</td>\n",
       "      <td>C0351000</td>\n",
       "    </tr>\n",
       "    <tr>\n",
       "      <th>...</th>\n",
       "      <td>...</td>\n",
       "      <td>...</td>\n",
       "      <td>...</td>\n",
       "      <td>...</td>\n",
       "      <td>...</td>\n",
       "      <td>...</td>\n",
       "      <td>...</td>\n",
       "    </tr>\n",
       "    <tr>\n",
       "      <th>1675963</th>\n",
       "      <td>DB01764</td>\n",
       "      <td>Dalfopristin</td>\n",
       "      <td>DB01238</td>\n",
       "      <td>Aripiprazole</td>\n",
       "      <td>The metabolism of Aripiprazole can be decrease...</td>\n",
       "      <td>C0756085</td>\n",
       "      <td>C0299792</td>\n",
       "    </tr>\n",
       "    <tr>\n",
       "      <th>1675964</th>\n",
       "      <td>DB01764</td>\n",
       "      <td>Dalfopristin</td>\n",
       "      <td>DB00908</td>\n",
       "      <td>Quinidine</td>\n",
       "      <td>The metabolism of Quinidine can be decreased w...</td>\n",
       "      <td>C0756085</td>\n",
       "      <td>C0034414</td>\n",
       "    </tr>\n",
       "    <tr>\n",
       "      <th>1675964</th>\n",
       "      <td>DB01764</td>\n",
       "      <td>Dalfopristin</td>\n",
       "      <td>DB00908</td>\n",
       "      <td>Quinidine</td>\n",
       "      <td>The metabolism of Quinidine can be decreased w...</td>\n",
       "      <td>C0756085</td>\n",
       "      <td>C4255874</td>\n",
       "    </tr>\n",
       "    <tr>\n",
       "      <th>1675964</th>\n",
       "      <td>DB01764</td>\n",
       "      <td>Dalfopristin</td>\n",
       "      <td>DB00908</td>\n",
       "      <td>Quinidine</td>\n",
       "      <td>The metabolism of Quinidine can be decreased w...</td>\n",
       "      <td>C0756085</td>\n",
       "      <td>C4255875</td>\n",
       "    </tr>\n",
       "    <tr>\n",
       "      <th>1675965</th>\n",
       "      <td>DB01764</td>\n",
       "      <td>Dalfopristin</td>\n",
       "      <td>DB06772</td>\n",
       "      <td>Cabazitaxel</td>\n",
       "      <td>The metabolism of Cabazitaxel can be decreased...</td>\n",
       "      <td>C0756085</td>\n",
       "      <td>C2830183</td>\n",
       "    </tr>\n",
       "  </tbody>\n",
       "</table>\n",
       "<p>2439522 rows × 7 columns</p>\n",
       "</div>"
      ],
      "text/plain": [
       "        source_drugbank_id      source_name target_drugbank_id  \\\n",
       "0                  DB01185  Fluoxymesterone            DB00359   \n",
       "1                  DB01185  Fluoxymesterone            DB01015   \n",
       "2                  DB01185  Fluoxymesterone            DB00263   \n",
       "3                  DB01185  Fluoxymesterone            DB08962   \n",
       "4                  DB01185  Fluoxymesterone            DB01382   \n",
       "...                    ...              ...                ...   \n",
       "1675963            DB01764     Dalfopristin            DB01238   \n",
       "1675964            DB01764     Dalfopristin            DB00908   \n",
       "1675964            DB01764     Dalfopristin            DB00908   \n",
       "1675964            DB01764     Dalfopristin            DB00908   \n",
       "1675965            DB01764     Dalfopristin            DB06772   \n",
       "\n",
       "              target_name                                        description  \\\n",
       "0            Sulfadiazine  Fluoxymesterone may increase the hypoglycemic ...   \n",
       "1        Sulfamethoxazole  Fluoxymesterone may increase the hypoglycemic ...   \n",
       "2           Sulfisoxazole  Fluoxymesterone may increase the hypoglycemic ...   \n",
       "3            Glibornuride  Fluoxymesterone may increase the hypoglycemic ...   \n",
       "4               Glymidine  Fluoxymesterone may increase the hypoglycemic ...   \n",
       "...                   ...                                                ...   \n",
       "1675963      Aripiprazole  The metabolism of Aripiprazole can be decrease...   \n",
       "1675964         Quinidine  The metabolism of Quinidine can be decreased w...   \n",
       "1675964         Quinidine  The metabolism of Quinidine can be decreased w...   \n",
       "1675964         Quinidine  The metabolism of Quinidine can be decreased w...   \n",
       "1675965       Cabazitaxel  The metabolism of Cabazitaxel can be decreased...   \n",
       "\n",
       "        source_cui target_cui  \n",
       "0         C0016366   C0038675  \n",
       "1         C0016366   C0038689  \n",
       "2         C0016366   C0038745  \n",
       "3         C0016366   C0350998  \n",
       "4         C0016366   C0351000  \n",
       "...            ...        ...  \n",
       "1675963   C0756085   C0299792  \n",
       "1675964   C0756085   C0034414  \n",
       "1675964   C0756085   C4255874  \n",
       "1675964   C0756085   C4255875  \n",
       "1675965   C0756085   C2830183  \n",
       "\n",
       "[2439522 rows x 7 columns]"
      ]
     },
     "execution_count": 22,
     "metadata": {},
     "output_type": "execute_result"
    }
   ],
   "source": [
    "rxnav_results_cui_df"
   ]
  },
  {
   "cell_type": "markdown",
   "id": "6447f457-3680-4d43-a3d4-aa82773f0c30",
   "metadata": {},
   "source": [
    "## Saving"
   ]
  },
  {
   "cell_type": "code",
   "execution_count": 24,
   "id": "76f69fb1-55b7-4354-a3fa-cdcd9cbe4039",
   "metadata": {
    "execution": {
     "iopub.execute_input": "2023-09-26T06:12:49.009026Z",
     "iopub.status.busy": "2023-09-26T06:12:49.008028Z",
     "iopub.status.idle": "2023-09-26T06:12:50.666333Z",
     "shell.execute_reply": "2023-09-26T06:12:50.665515Z",
     "shell.execute_reply.started": "2023-09-26T06:12:49.008985Z"
    },
    "tags": []
   },
   "outputs": [
    {
     "data": {
      "text/plain": [
       "1202410"
      ]
     },
     "execution_count": 24,
     "metadata": {},
     "output_type": "execute_result"
    }
   ],
   "source": [
    "rxnav_mapped_pairs = list({\n",
    "    tuple(sorted(p)) for p in list(\n",
    "        zip(\n",
    "            rxnav_results_cui_df['source_cui'],\n",
    "            rxnav_results_cui_df['target_cui']\n",
    "        )\n",
    "    )\n",
    "})\n",
    "len(rxnav_mapped_pairs)"
   ]
  },
  {
   "cell_type": "code",
   "execution_count": 27,
   "id": "159d95bf-40e4-45d6-9665-505c25712c6a",
   "metadata": {
    "execution": {
     "iopub.execute_input": "2023-09-26T06:13:11.185286Z",
     "iopub.status.busy": "2023-09-26T06:13:11.184943Z",
     "iopub.status.idle": "2023-09-26T06:13:13.283948Z",
     "shell.execute_reply": "2023-09-26T06:13:13.282894Z",
     "shell.execute_reply.started": "2023-09-26T06:13:11.185244Z"
    },
    "tags": []
   },
   "outputs": [],
   "source": [
    "with open('../../benchmark_data/01_cui_pairs_json/rxnav_cui_pairs.json', 'w') as f:\n",
    "    json.dump(list(rxnav_mapped_pairs), f)"
   ]
  },
  {
   "cell_type": "code",
   "execution_count": null,
   "id": "64e94a30-fbff-4c8d-a4ce-1e4067a26d87",
   "metadata": {},
   "outputs": [],
   "source": []
  }
 ],
 "metadata": {
  "kernelspec": {
   "display_name": "Python [conda env:agatha_cgp]",
   "language": "python",
   "name": "conda-env-agatha_cgp-py"
  },
  "language_info": {
   "codemirror_mode": {
    "name": "ipython",
    "version": 3
   },
   "file_extension": ".py",
   "mimetype": "text/x-python",
   "name": "python",
   "nbconvert_exporter": "python",
   "pygments_lexer": "ipython3",
   "version": "3.8.13"
  }
 },
 "nbformat": 4,
 "nbformat_minor": 5
}
