{
 "cells": [
  {
   "cell_type": "markdown",
   "id": "d6d2e29e-9a05-4c5c-9c72-33a8d385aa0b",
   "metadata": {},
   "source": [
    "# Retrieving drug-drug interactions from rxnav-in-the-box"
   ]
  },
  {
   "cell_type": "code",
   "execution_count": 2,
   "id": "a33fbbf7-180a-4cb9-bdfa-7c61a3691aa1",
   "metadata": {},
   "outputs": [],
   "source": [
    "import requests\n",
    "import itertools\n",
    "from collections import Counter\n",
    "import json\n",
    "from pathlib import Path\n",
    "import pandas as pd\n",
    "\n",
    "from tqdm import tqdm"
   ]
  },
  {
   "cell_type": "code",
   "execution_count": 2,
   "id": "3abce421-928b-45c8-94aa-8ba3c2b846ff",
   "metadata": {},
   "outputs": [],
   "source": [
    "rxnav_addr = 'http://192.168.68.117:4000'"
   ]
  },
  {
   "cell_type": "markdown",
   "id": "08389a73-3ddc-44be-8b93-27132038f6c7",
   "metadata": {
    "jp-MarkdownHeadingCollapsed": true
   },
   "source": [
    "## Getting all `rxterms` concepts"
   ]
  },
  {
   "cell_type": "markdown",
   "id": "449400ef-394f-4f9b-a8bf-5491e7487c76",
   "metadata": {},
   "source": [
    "### Work with rxcui from `rxnorm_full`"
   ]
  },
  {
   "cell_type": "code",
   "execution_count": 17,
   "id": "8fba7ce1-ef5d-4943-ac04-0cf54f2c943a",
   "metadata": {},
   "outputs": [],
   "source": [
    "rxColnames = [_.split('\\t')[1] for _ in '''#\tField Name\tDescription\tRepresentation\n",
    "1\tRXCUI\tRxNorm unique identifier for concept (concept ID)\tMRCONSO.SCUI if SAB = \"RXNORM\"; MRSAT.ATN= \"RXCUI\"\n",
    "2\tLAT\tLanguage of term\tNot processed\n",
    "3\tTS\tTerm status\tNot processed\n",
    "4\tLUI\tUnique identifier for term (no value provided)\tNot applicable\n",
    "5\tSTT\tString type\tNot processed\n",
    "6\tSUI\tUnique identifier for string (no value provided)\tNot applicable\n",
    "7\tISPREF\tAtom status - preferred (Y) or not (N) for this string within the concept\tNot processed\n",
    "8\tRXAUI\tUnique identifier for atom (RxNorm atom ID)\tMRCONSO.SAUI if SAB = \"RXNORM\"; MRSAT.ATN = \"RXAUI\"\n",
    "9\tSAUI\tSource asserted atom identifier\tMRCONSO.SAUI\n",
    "10\tSCUI\tSource asserted concept identifier\tMRCONSO.SCUI\n",
    "11\tSDUI\tSource asserted descriptor identifier\tMRCONSO.SDUI\n",
    "12\tSAB\tAbbreviated source name\tMRCONSO.SAB\n",
    "13\tTTY\tAbbreviation for term type\tMRCONSO.TTY\n",
    "14\tCODE\tSource asserted identifier\tMRCONSO.CODE\n",
    "15\tSTR\tString\tMRCONSO.STR\n",
    "16\tSRL\tSource restriction level (no value provided)\tNot applicable\n",
    "17\tSUPPRESS\tSuppressible flag\tMRCONSO.SUPPRESS\n",
    "18\tCVF\tContent view flag\tNot processed'''.split('\\n')[1:]]"
   ]
  },
  {
   "cell_type": "code",
   "execution_count": 18,
   "id": "ce30b326-df2b-4629-a3d0-e21e5f0fc448",
   "metadata": {},
   "outputs": [
    {
     "name": "stderr",
     "output_type": "stream",
     "text": [
      "/tmp/ipykernel_26200/2992394409.py:1: DtypeWarning: Columns (9,10,13) have mixed types. Specify dtype option on import or set low_memory=False.\n",
      "  rxNorm_df = pd.read_table('RxNorm_full_09052023/rrf/RXNCONSO.RRF',\n"
     ]
    }
   ],
   "source": [
    "rxNorm_df = pd.read_table('RxNorm_full_09052023/rrf/RXNCONSO.RRF', \n",
    "                          delimiter='|', \n",
    "                          names = rxColnames,\n",
    "                          index_col=False\n",
    "                         )"
   ]
  },
  {
   "cell_type": "code",
   "execution_count": 19,
   "id": "4a701b32-ad75-443b-8434-618bcc48f50e",
   "metadata": {},
   "outputs": [
    {
     "data": {
      "text/html": [
       "<div>\n",
       "<style scoped>\n",
       "    .dataframe tbody tr th:only-of-type {\n",
       "        vertical-align: middle;\n",
       "    }\n",
       "\n",
       "    .dataframe tbody tr th {\n",
       "        vertical-align: top;\n",
       "    }\n",
       "\n",
       "    .dataframe thead th {\n",
       "        text-align: right;\n",
       "    }\n",
       "</style>\n",
       "<table border=\"1\" class=\"dataframe\">\n",
       "  <thead>\n",
       "    <tr style=\"text-align: right;\">\n",
       "      <th></th>\n",
       "      <th>RXCUI</th>\n",
       "      <th>LAT</th>\n",
       "      <th>TS</th>\n",
       "      <th>LUI</th>\n",
       "      <th>STT</th>\n",
       "      <th>SUI</th>\n",
       "      <th>ISPREF</th>\n",
       "      <th>RXAUI</th>\n",
       "      <th>SAUI</th>\n",
       "      <th>SCUI</th>\n",
       "      <th>SDUI</th>\n",
       "      <th>SAB</th>\n",
       "      <th>TTY</th>\n",
       "      <th>CODE</th>\n",
       "      <th>STR</th>\n",
       "      <th>SRL</th>\n",
       "      <th>SUPPRESS</th>\n",
       "      <th>CVF</th>\n",
       "    </tr>\n",
       "  </thead>\n",
       "  <tbody>\n",
       "    <tr>\n",
       "      <th>0</th>\n",
       "      <td>3</td>\n",
       "      <td>ENG</td>\n",
       "      <td>NaN</td>\n",
       "      <td>NaN</td>\n",
       "      <td>NaN</td>\n",
       "      <td>NaN</td>\n",
       "      <td>NaN</td>\n",
       "      <td>8717795</td>\n",
       "      <td>NaN</td>\n",
       "      <td>58488005</td>\n",
       "      <td>NaN</td>\n",
       "      <td>SNOMEDCT_US</td>\n",
       "      <td>PT</td>\n",
       "      <td>58488005</td>\n",
       "      <td>1,4-alpha-Glucan branching enzyme</td>\n",
       "      <td>NaN</td>\n",
       "      <td>N</td>\n",
       "      <td>NaN</td>\n",
       "    </tr>\n",
       "    <tr>\n",
       "      <th>1</th>\n",
       "      <td>3</td>\n",
       "      <td>ENG</td>\n",
       "      <td>NaN</td>\n",
       "      <td>NaN</td>\n",
       "      <td>NaN</td>\n",
       "      <td>NaN</td>\n",
       "      <td>NaN</td>\n",
       "      <td>8717796</td>\n",
       "      <td>NaN</td>\n",
       "      <td>58488005</td>\n",
       "      <td>NaN</td>\n",
       "      <td>SNOMEDCT_US</td>\n",
       "      <td>FN</td>\n",
       "      <td>58488005</td>\n",
       "      <td>1,4-alpha-Glucan branching enzyme (substance)</td>\n",
       "      <td>NaN</td>\n",
       "      <td>N</td>\n",
       "      <td>NaN</td>\n",
       "    </tr>\n",
       "    <tr>\n",
       "      <th>2</th>\n",
       "      <td>3</td>\n",
       "      <td>ENG</td>\n",
       "      <td>NaN</td>\n",
       "      <td>NaN</td>\n",
       "      <td>NaN</td>\n",
       "      <td>NaN</td>\n",
       "      <td>NaN</td>\n",
       "      <td>8717808</td>\n",
       "      <td>NaN</td>\n",
       "      <td>58488005</td>\n",
       "      <td>NaN</td>\n",
       "      <td>SNOMEDCT_US</td>\n",
       "      <td>SY</td>\n",
       "      <td>58488005</td>\n",
       "      <td>Amylo-(1,4,6)-transglycosylase</td>\n",
       "      <td>NaN</td>\n",
       "      <td>N</td>\n",
       "      <td>NaN</td>\n",
       "    </tr>\n",
       "    <tr>\n",
       "      <th>3</th>\n",
       "      <td>3</td>\n",
       "      <td>ENG</td>\n",
       "      <td>NaN</td>\n",
       "      <td>NaN</td>\n",
       "      <td>NaN</td>\n",
       "      <td>NaN</td>\n",
       "      <td>NaN</td>\n",
       "      <td>8718164</td>\n",
       "      <td>NaN</td>\n",
       "      <td>58488005</td>\n",
       "      <td>NaN</td>\n",
       "      <td>SNOMEDCT_US</td>\n",
       "      <td>SY</td>\n",
       "      <td>58488005</td>\n",
       "      <td>Branching enzyme</td>\n",
       "      <td>NaN</td>\n",
       "      <td>N</td>\n",
       "      <td>NaN</td>\n",
       "    </tr>\n",
       "    <tr>\n",
       "      <th>4</th>\n",
       "      <td>19</td>\n",
       "      <td>ENG</td>\n",
       "      <td>NaN</td>\n",
       "      <td>NaN</td>\n",
       "      <td>NaN</td>\n",
       "      <td>NaN</td>\n",
       "      <td>NaN</td>\n",
       "      <td>10794494</td>\n",
       "      <td>NaN</td>\n",
       "      <td>112116001</td>\n",
       "      <td>NaN</td>\n",
       "      <td>SNOMEDCT_US</td>\n",
       "      <td>SY</td>\n",
       "      <td>112116001</td>\n",
       "      <td>17-hydrocorticosteroid</td>\n",
       "      <td>NaN</td>\n",
       "      <td>N</td>\n",
       "      <td>NaN</td>\n",
       "    </tr>\n",
       "    <tr>\n",
       "      <th>...</th>\n",
       "      <td>...</td>\n",
       "      <td>...</td>\n",
       "      <td>...</td>\n",
       "      <td>...</td>\n",
       "      <td>...</td>\n",
       "      <td>...</td>\n",
       "      <td>...</td>\n",
       "      <td>...</td>\n",
       "      <td>...</td>\n",
       "      <td>...</td>\n",
       "      <td>...</td>\n",
       "      <td>...</td>\n",
       "      <td>...</td>\n",
       "      <td>...</td>\n",
       "      <td>...</td>\n",
       "      <td>...</td>\n",
       "      <td>...</td>\n",
       "      <td>...</td>\n",
       "    </tr>\n",
       "    <tr>\n",
       "      <th>1149033</th>\n",
       "      <td>2663690</td>\n",
       "      <td>ENG</td>\n",
       "      <td>NaN</td>\n",
       "      <td>NaN</td>\n",
       "      <td>NaN</td>\n",
       "      <td>NaN</td>\n",
       "      <td>NaN</td>\n",
       "      <td>12842539</td>\n",
       "      <td>12842539.0</td>\n",
       "      <td>2663690</td>\n",
       "      <td>NaN</td>\n",
       "      <td>RXNORM</td>\n",
       "      <td>SCDGP</td>\n",
       "      <td>2663690</td>\n",
       "      <td>chlorhexidine gluconate Oral Liquid Product</td>\n",
       "      <td>NaN</td>\n",
       "      <td>N</td>\n",
       "      <td>4096.0</td>\n",
       "    </tr>\n",
       "    <tr>\n",
       "      <th>1149034</th>\n",
       "      <td>2663691</td>\n",
       "      <td>ENG</td>\n",
       "      <td>NaN</td>\n",
       "      <td>NaN</td>\n",
       "      <td>NaN</td>\n",
       "      <td>NaN</td>\n",
       "      <td>NaN</td>\n",
       "      <td>12842540</td>\n",
       "      <td>12842540.0</td>\n",
       "      <td>2663691</td>\n",
       "      <td>NaN</td>\n",
       "      <td>RXNORM</td>\n",
       "      <td>SCDGP</td>\n",
       "      <td>2663691</td>\n",
       "      <td>diphenhydramine hydrochloride Oral Liquid Product</td>\n",
       "      <td>NaN</td>\n",
       "      <td>N</td>\n",
       "      <td>4096.0</td>\n",
       "    </tr>\n",
       "    <tr>\n",
       "      <th>1149035</th>\n",
       "      <td>2663691</td>\n",
       "      <td>ENG</td>\n",
       "      <td>NaN</td>\n",
       "      <td>NaN</td>\n",
       "      <td>NaN</td>\n",
       "      <td>NaN</td>\n",
       "      <td>NaN</td>\n",
       "      <td>12847789</td>\n",
       "      <td>12847789.0</td>\n",
       "      <td>2663691</td>\n",
       "      <td>NaN</td>\n",
       "      <td>RXNORM</td>\n",
       "      <td>TMSY</td>\n",
       "      <td>2663691</td>\n",
       "      <td>diphenhydrAMINE hydrochloride Oral Liquid Product</td>\n",
       "      <td>NaN</td>\n",
       "      <td>N</td>\n",
       "      <td>4096.0</td>\n",
       "    </tr>\n",
       "    <tr>\n",
       "      <th>1149036</th>\n",
       "      <td>2663692</td>\n",
       "      <td>ENG</td>\n",
       "      <td>NaN</td>\n",
       "      <td>NaN</td>\n",
       "      <td>NaN</td>\n",
       "      <td>NaN</td>\n",
       "      <td>NaN</td>\n",
       "      <td>12842541</td>\n",
       "      <td>12842541.0</td>\n",
       "      <td>2663692</td>\n",
       "      <td>NaN</td>\n",
       "      <td>RXNORM</td>\n",
       "      <td>SCDGP</td>\n",
       "      <td>2663692</td>\n",
       "      <td>chlophedianol hydrochloride / dexbromphenirami...</td>\n",
       "      <td>NaN</td>\n",
       "      <td>N</td>\n",
       "      <td>4096.0</td>\n",
       "    </tr>\n",
       "    <tr>\n",
       "      <th>1149037</th>\n",
       "      <td>2663693</td>\n",
       "      <td>ENG</td>\n",
       "      <td>NaN</td>\n",
       "      <td>NaN</td>\n",
       "      <td>NaN</td>\n",
       "      <td>NaN</td>\n",
       "      <td>NaN</td>\n",
       "      <td>12842542</td>\n",
       "      <td>12842542.0</td>\n",
       "      <td>2663693</td>\n",
       "      <td>NaN</td>\n",
       "      <td>RXNORM</td>\n",
       "      <td>SCDGP</td>\n",
       "      <td>2663693</td>\n",
       "      <td>carbinoxamine maleate / methscopolamine nitrat...</td>\n",
       "      <td>NaN</td>\n",
       "      <td>O</td>\n",
       "      <td>NaN</td>\n",
       "    </tr>\n",
       "  </tbody>\n",
       "</table>\n",
       "<p>1149038 rows × 18 columns</p>\n",
       "</div>"
      ],
      "text/plain": [
       "           RXCUI  LAT  TS  LUI  STT  SUI  ISPREF     RXAUI        SAUI  \\\n",
       "0              3  ENG NaN  NaN  NaN  NaN     NaN   8717795         NaN   \n",
       "1              3  ENG NaN  NaN  NaN  NaN     NaN   8717796         NaN   \n",
       "2              3  ENG NaN  NaN  NaN  NaN     NaN   8717808         NaN   \n",
       "3              3  ENG NaN  NaN  NaN  NaN     NaN   8718164         NaN   \n",
       "4             19  ENG NaN  NaN  NaN  NaN     NaN  10794494         NaN   \n",
       "...          ...  ...  ..  ...  ...  ...     ...       ...         ...   \n",
       "1149033  2663690  ENG NaN  NaN  NaN  NaN     NaN  12842539  12842539.0   \n",
       "1149034  2663691  ENG NaN  NaN  NaN  NaN     NaN  12842540  12842540.0   \n",
       "1149035  2663691  ENG NaN  NaN  NaN  NaN     NaN  12847789  12847789.0   \n",
       "1149036  2663692  ENG NaN  NaN  NaN  NaN     NaN  12842541  12842541.0   \n",
       "1149037  2663693  ENG NaN  NaN  NaN  NaN     NaN  12842542  12842542.0   \n",
       "\n",
       "              SCUI SDUI          SAB    TTY       CODE  \\\n",
       "0         58488005  NaN  SNOMEDCT_US     PT   58488005   \n",
       "1         58488005  NaN  SNOMEDCT_US     FN   58488005   \n",
       "2         58488005  NaN  SNOMEDCT_US     SY   58488005   \n",
       "3         58488005  NaN  SNOMEDCT_US     SY   58488005   \n",
       "4        112116001  NaN  SNOMEDCT_US     SY  112116001   \n",
       "...            ...  ...          ...    ...        ...   \n",
       "1149033    2663690  NaN       RXNORM  SCDGP    2663690   \n",
       "1149034    2663691  NaN       RXNORM  SCDGP    2663691   \n",
       "1149035    2663691  NaN       RXNORM   TMSY    2663691   \n",
       "1149036    2663692  NaN       RXNORM  SCDGP    2663692   \n",
       "1149037    2663693  NaN       RXNORM  SCDGP    2663693   \n",
       "\n",
       "                                                       STR  SRL SUPPRESS  \\\n",
       "0                        1,4-alpha-Glucan branching enzyme  NaN        N   \n",
       "1            1,4-alpha-Glucan branching enzyme (substance)  NaN        N   \n",
       "2                           Amylo-(1,4,6)-transglycosylase  NaN        N   \n",
       "3                                         Branching enzyme  NaN        N   \n",
       "4                                   17-hydrocorticosteroid  NaN        N   \n",
       "...                                                    ...  ...      ...   \n",
       "1149033        chlorhexidine gluconate Oral Liquid Product  NaN        N   \n",
       "1149034  diphenhydramine hydrochloride Oral Liquid Product  NaN        N   \n",
       "1149035  diphenhydrAMINE hydrochloride Oral Liquid Product  NaN        N   \n",
       "1149036  chlophedianol hydrochloride / dexbromphenirami...  NaN        N   \n",
       "1149037  carbinoxamine maleate / methscopolamine nitrat...  NaN        O   \n",
       "\n",
       "            CVF  \n",
       "0           NaN  \n",
       "1           NaN  \n",
       "2           NaN  \n",
       "3           NaN  \n",
       "4           NaN  \n",
       "...         ...  \n",
       "1149033  4096.0  \n",
       "1149034  4096.0  \n",
       "1149035  4096.0  \n",
       "1149036  4096.0  \n",
       "1149037     NaN  \n",
       "\n",
       "[1149038 rows x 18 columns]"
      ]
     },
     "execution_count": 19,
     "metadata": {},
     "output_type": "execute_result"
    }
   ],
   "source": [
    "rxNorm_df"
   ]
  },
  {
   "cell_type": "code",
   "execution_count": 21,
   "id": "b55a0c62-1fcf-4156-b6ff-eb6f7f999f06",
   "metadata": {},
   "outputs": [
    {
     "data": {
      "text/plain": [
       "0                3\n",
       "4               19\n",
       "8               21\n",
       "11              22\n",
       "14              33\n",
       "            ...   \n",
       "1149032    2663689\n",
       "1149033    2663690\n",
       "1149034    2663691\n",
       "1149036    2663692\n",
       "1149037    2663693\n",
       "Name: RXCUI, Length: 386266, dtype: int64"
      ]
     },
     "execution_count": 21,
     "metadata": {},
     "output_type": "execute_result"
    }
   ],
   "source": [
    "rxNorm_df['RXCUI'].drop_duplicates()"
   ]
  },
  {
   "cell_type": "code",
   "execution_count": 26,
   "id": "cbd8cd9d-ff5a-433e-b008-8c5190320131",
   "metadata": {},
   "outputs": [],
   "source": [
    "rxcui_drugbank_code_df = rxNorm_df[\n",
    "    rxNorm_df['SAB'] == 'DRUGBANK'\n",
    "][['RXCUI', 'CODE']].drop_duplicates()"
   ]
  },
  {
   "cell_type": "code",
   "execution_count": 29,
   "id": "ccb20b11-148e-4473-baa1-dcdfd5a6d195",
   "metadata": {},
   "outputs": [
    {
     "data": {
      "text/plain": [
       "11957"
      ]
     },
     "execution_count": 29,
     "metadata": {},
     "output_type": "execute_result"
    }
   ],
   "source": [
    "rxcui_codes_set = set(rxcui_drugbank_code_df['RXCUI'])\n",
    "len(rxcui_codes_set)"
   ]
  },
  {
   "cell_type": "code",
   "execution_count": 54,
   "id": "6c2fd438-30d8-4be8-b0e5-8697cc642f32",
   "metadata": {},
   "outputs": [
    {
     "data": {
      "text/plain": [
       "11957"
      ]
     },
     "execution_count": 54,
     "metadata": {},
     "output_type": "execute_result"
    }
   ],
   "source": [
    "rxcui_codes_list = list([str(s) for s in rxcui_codes_set])\n",
    "len(rxcui_codes_list)"
   ]
  },
  {
   "cell_type": "markdown",
   "id": "b8682e2f-014a-420c-9ca5-2f0f321c6afa",
   "metadata": {},
   "source": [
    "## Querying rxnav"
   ]
  },
  {
   "cell_type": "code",
   "execution_count": 55,
   "id": "b2d954b8-693b-4392-8289-c697b0ffffc5",
   "metadata": {},
   "outputs": [
    {
     "name": "stderr",
     "output_type": "stream",
     "text": [
      "100%|█████████████████████████████████████████████████████████████████████████████████████████████████████████████████████████████████████████████████████████████████████████████████████████████████| 11957/11957 [19:27<00:00, 10.24it/s]\n"
     ]
    }
   ],
   "source": [
    "responses = []\n",
    "pattern = f'{rxnav_addr}/REST/interaction/interaction.json?rxcui='\n",
    "save_every = 1000\n",
    "\n",
    "for idx, k in enumerate(tqdm(rxcui_codes_list[:])):\n",
    "    try:\n",
    "        response = requests.get(f'{pattern}{k}')\n",
    "        responses.append(json.loads(response.text))\n",
    "    except Exception as e:\n",
    "        print(e)\n",
    "    if len(responses) == save_every:\n",
    "        pd.to_pickle(\n",
    "            responses,\n",
    "            Path('query_results').joinpath(f'raw_rxnav_interact_resp_{idx+1}.pkl')\n",
    "        )\n",
    "        responses = []\n",
    "\n",
    "pd.to_pickle(\n",
    "    responses,\n",
    "    Path('query_results').joinpath(f'raw_rxnav_interact_resp_{idx+1}.pkl')\n",
    ")"
   ]
  },
  {
   "cell_type": "code",
   "execution_count": 3,
   "id": "72cb4bbf-7871-4e1d-8323-18bce9a6e42e",
   "metadata": {},
   "outputs": [
    {
     "data": {
      "text/plain": [
       "12"
      ]
     },
     "execution_count": 3,
     "metadata": {},
     "output_type": "execute_result"
    }
   ],
   "source": [
    "all_saved_responses_flist = list(\n",
    "    Path('query_results/').glob('*.pkl')\n",
    ")\n",
    "len(all_saved_responses_flist)"
   ]
  },
  {
   "cell_type": "code",
   "execution_count": 4,
   "id": "1cb112ef-43c5-4e1b-adc8-201e48a51d70",
   "metadata": {},
   "outputs": [],
   "source": [
    "all_saved_responses_list = []"
   ]
  },
  {
   "cell_type": "code",
   "execution_count": 5,
   "id": "18afd0c7-c31f-4359-9dc7-c8fc2d59ff7c",
   "metadata": {},
   "outputs": [
    {
     "name": "stderr",
     "output_type": "stream",
     "text": [
      "100%|███████████████████████████████████████████████████████████████████████████████████████████████████████████████████████████████████████████████████████████████████████████████████████████████████████| 12/12 [00:39<00:00,  3.29s/it]\n"
     ]
    }
   ],
   "source": [
    "interactions = []\n",
    "for chunk_fname in tqdm(all_saved_responses_flist):\n",
    "    responses = pd.read_pickle(chunk_fname)\n",
    "    for resp in responses:\n",
    "        if 'interactionTypeGroup' in resp:\n",
    "            for resp_1 in resp['interactionTypeGroup']:\n",
    "                for intType in resp_1['interactionType']:\n",
    "                    for pair in intType['interactionPair']:\n",
    "                        interactions.append(\n",
    "                            {\n",
    "                                'source': {\n",
    "                                    'id': pair['interactionConcept'][0]['sourceConceptItem']['id'],\n",
    "                                    'string': pair['interactionConcept'][0]['sourceConceptItem']['name'],\n",
    "                                },\n",
    "                                'target': {\n",
    "                                    'id': pair['interactionConcept'][1]['sourceConceptItem']['id'],\n",
    "                                    'string': pair['interactionConcept'][1]['sourceConceptItem']['name'],\n",
    "                                },\n",
    "                                'description': pair['description'],\n",
    "                            }\n",
    "                        )"
   ]
  },
  {
   "cell_type": "code",
   "execution_count": 6,
   "id": "1a098282-4206-4db8-92e0-6b7a9d83dfb4",
   "metadata": {},
   "outputs": [
    {
     "data": {
      "text/plain": [
       "2563520"
      ]
     },
     "execution_count": 6,
     "metadata": {},
     "output_type": "execute_result"
    }
   ],
   "source": [
    "len(interactions)"
   ]
  },
  {
   "cell_type": "code",
   "execution_count": 7,
   "id": "6caa1f1c-aa97-4216-90d2-8c005190554c",
   "metadata": {},
   "outputs": [
    {
     "data": {
      "text/plain": [
       "[{'source': {'id': 'DB01185', 'string': 'Fluoxymesterone'},\n",
       "  'target': {'id': 'DB00359', 'string': 'Sulfadiazine'},\n",
       "  'description': 'Fluoxymesterone may increase the hypoglycemic activities of Sulfadiazine.'},\n",
       " {'source': {'id': 'DB01185', 'string': 'Fluoxymesterone'},\n",
       "  'target': {'id': 'DB01015', 'string': 'Sulfamethoxazole'},\n",
       "  'description': 'Fluoxymesterone may increase the hypoglycemic activities of Sulfamethoxazole.'},\n",
       " {'source': {'id': 'DB01185', 'string': 'Fluoxymesterone'},\n",
       "  'target': {'id': 'DB00263', 'string': 'Sulfisoxazole'},\n",
       "  'description': 'Fluoxymesterone may increase the hypoglycemic activities of Sulfisoxazole.'}]"
      ]
     },
     "execution_count": 7,
     "metadata": {},
     "output_type": "execute_result"
    }
   ],
   "source": [
    "interactions[:3]"
   ]
  },
  {
   "cell_type": "code",
   "execution_count": 8,
   "id": "925760b4-2821-475a-ad91-b33e0f3635a7",
   "metadata": {},
   "outputs": [],
   "source": [
    "interactions_list = []\n",
    "\n",
    "for pair in interactions:\n",
    "    interactions_list.append(\n",
    "        {\n",
    "            'source_drugbank_id': pair['source']['id'],\n",
    "            'source_name': pair['source']['string'],\n",
    "            'target_drugbank_id': pair['target']['id'],\n",
    "            'target_name': pair['target']['string'],\n",
    "            'description': pair['description']\n",
    "        }\n",
    "    )"
   ]
  },
  {
   "cell_type": "code",
   "execution_count": 9,
   "id": "d5276b2d-72d6-431f-ba0a-2a9fcd91f370",
   "metadata": {},
   "outputs": [],
   "source": [
    "interactions_df = pd.DataFrame(interactions_list).drop_duplicates()"
   ]
  },
  {
   "cell_type": "code",
   "execution_count": 10,
   "id": "5f5ffda8-5bc4-4aac-a649-09eeddb7012f",
   "metadata": {},
   "outputs": [
    {
     "data": {
      "text/html": [
       "<div>\n",
       "<style scoped>\n",
       "    .dataframe tbody tr th:only-of-type {\n",
       "        vertical-align: middle;\n",
       "    }\n",
       "\n",
       "    .dataframe tbody tr th {\n",
       "        vertical-align: top;\n",
       "    }\n",
       "\n",
       "    .dataframe thead th {\n",
       "        text-align: right;\n",
       "    }\n",
       "</style>\n",
       "<table border=\"1\" class=\"dataframe\">\n",
       "  <thead>\n",
       "    <tr style=\"text-align: right;\">\n",
       "      <th></th>\n",
       "      <th>source_drugbank_id</th>\n",
       "      <th>source_name</th>\n",
       "      <th>target_drugbank_id</th>\n",
       "      <th>target_name</th>\n",
       "      <th>description</th>\n",
       "    </tr>\n",
       "  </thead>\n",
       "  <tbody>\n",
       "    <tr>\n",
       "      <th>0</th>\n",
       "      <td>DB01185</td>\n",
       "      <td>Fluoxymesterone</td>\n",
       "      <td>DB00359</td>\n",
       "      <td>Sulfadiazine</td>\n",
       "      <td>Fluoxymesterone may increase the hypoglycemic ...</td>\n",
       "    </tr>\n",
       "    <tr>\n",
       "      <th>1</th>\n",
       "      <td>DB01185</td>\n",
       "      <td>Fluoxymesterone</td>\n",
       "      <td>DB01015</td>\n",
       "      <td>Sulfamethoxazole</td>\n",
       "      <td>Fluoxymesterone may increase the hypoglycemic ...</td>\n",
       "    </tr>\n",
       "    <tr>\n",
       "      <th>2</th>\n",
       "      <td>DB01185</td>\n",
       "      <td>Fluoxymesterone</td>\n",
       "      <td>DB00263</td>\n",
       "      <td>Sulfisoxazole</td>\n",
       "      <td>Fluoxymesterone may increase the hypoglycemic ...</td>\n",
       "    </tr>\n",
       "    <tr>\n",
       "      <th>3</th>\n",
       "      <td>DB01185</td>\n",
       "      <td>Fluoxymesterone</td>\n",
       "      <td>DB08962</td>\n",
       "      <td>Glibornuride</td>\n",
       "      <td>Fluoxymesterone may increase the hypoglycemic ...</td>\n",
       "    </tr>\n",
       "    <tr>\n",
       "      <th>4</th>\n",
       "      <td>DB01185</td>\n",
       "      <td>Fluoxymesterone</td>\n",
       "      <td>DB01382</td>\n",
       "      <td>Glymidine</td>\n",
       "      <td>Fluoxymesterone may increase the hypoglycemic ...</td>\n",
       "    </tr>\n",
       "    <tr>\n",
       "      <th>...</th>\n",
       "      <td>...</td>\n",
       "      <td>...</td>\n",
       "      <td>...</td>\n",
       "      <td>...</td>\n",
       "      <td>...</td>\n",
       "    </tr>\n",
       "    <tr>\n",
       "      <th>2563511</th>\n",
       "      <td>DB01764</td>\n",
       "      <td>Dalfopristin</td>\n",
       "      <td>DB01039</td>\n",
       "      <td>Fenofibrate</td>\n",
       "      <td>The metabolism of Fenofibrate can be decreased...</td>\n",
       "    </tr>\n",
       "    <tr>\n",
       "      <th>2563512</th>\n",
       "      <td>DB01764</td>\n",
       "      <td>Dalfopristin</td>\n",
       "      <td>DB06176</td>\n",
       "      <td>Romidepsin</td>\n",
       "      <td>The metabolism of Romidepsin can be decreased ...</td>\n",
       "    </tr>\n",
       "    <tr>\n",
       "      <th>2563513</th>\n",
       "      <td>DB01764</td>\n",
       "      <td>Dalfopristin</td>\n",
       "      <td>DB01238</td>\n",
       "      <td>Aripiprazole</td>\n",
       "      <td>The metabolism of Aripiprazole can be decrease...</td>\n",
       "    </tr>\n",
       "    <tr>\n",
       "      <th>2563514</th>\n",
       "      <td>DB01764</td>\n",
       "      <td>Dalfopristin</td>\n",
       "      <td>DB00908</td>\n",
       "      <td>Quinidine</td>\n",
       "      <td>The metabolism of Quinidine can be decreased w...</td>\n",
       "    </tr>\n",
       "    <tr>\n",
       "      <th>2563515</th>\n",
       "      <td>DB01764</td>\n",
       "      <td>Dalfopristin</td>\n",
       "      <td>DB06772</td>\n",
       "      <td>Cabazitaxel</td>\n",
       "      <td>The metabolism of Cabazitaxel can be decreased...</td>\n",
       "    </tr>\n",
       "  </tbody>\n",
       "</table>\n",
       "<p>1675966 rows × 5 columns</p>\n",
       "</div>"
      ],
      "text/plain": [
       "        source_drugbank_id      source_name target_drugbank_id  \\\n",
       "0                  DB01185  Fluoxymesterone            DB00359   \n",
       "1                  DB01185  Fluoxymesterone            DB01015   \n",
       "2                  DB01185  Fluoxymesterone            DB00263   \n",
       "3                  DB01185  Fluoxymesterone            DB08962   \n",
       "4                  DB01185  Fluoxymesterone            DB01382   \n",
       "...                    ...              ...                ...   \n",
       "2563511            DB01764     Dalfopristin            DB01039   \n",
       "2563512            DB01764     Dalfopristin            DB06176   \n",
       "2563513            DB01764     Dalfopristin            DB01238   \n",
       "2563514            DB01764     Dalfopristin            DB00908   \n",
       "2563515            DB01764     Dalfopristin            DB06772   \n",
       "\n",
       "              target_name                                        description  \n",
       "0            Sulfadiazine  Fluoxymesterone may increase the hypoglycemic ...  \n",
       "1        Sulfamethoxazole  Fluoxymesterone may increase the hypoglycemic ...  \n",
       "2           Sulfisoxazole  Fluoxymesterone may increase the hypoglycemic ...  \n",
       "3            Glibornuride  Fluoxymesterone may increase the hypoglycemic ...  \n",
       "4               Glymidine  Fluoxymesterone may increase the hypoglycemic ...  \n",
       "...                   ...                                                ...  \n",
       "2563511       Fenofibrate  The metabolism of Fenofibrate can be decreased...  \n",
       "2563512        Romidepsin  The metabolism of Romidepsin can be decreased ...  \n",
       "2563513      Aripiprazole  The metabolism of Aripiprazole can be decrease...  \n",
       "2563514         Quinidine  The metabolism of Quinidine can be decreased w...  \n",
       "2563515       Cabazitaxel  The metabolism of Cabazitaxel can be decreased...  \n",
       "\n",
       "[1675966 rows x 5 columns]"
      ]
     },
     "execution_count": 10,
     "metadata": {},
     "output_type": "execute_result"
    }
   ],
   "source": [
    "interactions_df"
   ]
  },
  {
   "cell_type": "code",
   "execution_count": 73,
   "id": "03f7727a-2d4f-4d85-a316-63e3a69d93d5",
   "metadata": {},
   "outputs": [],
   "source": [
    "interactions_df.to_csv(\n",
    "    'rxnav_in_the_box_05_Sep_2023_drug_interact.csv'\n",
    ")"
   ]
  },
  {
   "cell_type": "code",
   "execution_count": null,
   "id": "4c99e49f-e288-44e3-a8d8-99d84d7f0363",
   "metadata": {},
   "outputs": [],
   "source": []
  }
 ],
 "metadata": {
  "kernelspec": {
   "display_name": "Python 3 (ipykernel)",
   "language": "python",
   "name": "python3"
  },
  "language_info": {
   "codemirror_mode": {
    "name": "ipython",
    "version": 3
   },
   "file_extension": ".py",
   "mimetype": "text/x-python",
   "name": "python",
   "nbconvert_exporter": "python",
   "pygments_lexer": "ipython3",
   "version": "3.10.11"
  }
 },
 "nbformat": 4,
 "nbformat_minor": 5
}
