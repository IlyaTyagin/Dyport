{
 "cells": [
  {
   "cell_type": "markdown",
   "id": "280f0f17-3e13-46e1-89a8-ea63f815ef87",
   "metadata": {},
   "source": [
    "# KEGG data collection"
   ]
  },
  {
   "cell_type": "markdown",
   "id": "d4ed3659-db8d-4bdc-91c3-66b19ce581a2",
   "metadata": {},
   "source": [
    "Link: https://www.genome.jp/kegg/pathway.html"
   ]
  },
  {
   "cell_type": "code",
   "execution_count": 220,
   "id": "e886f765-67dc-4705-95a2-73fed85c1d3a",
   "metadata": {
    "execution": {
     "iopub.execute_input": "2023-09-26T06:54:08.698815Z",
     "iopub.status.busy": "2023-09-26T06:54:08.698487Z",
     "iopub.status.idle": "2023-09-26T06:54:08.704715Z",
     "shell.execute_reply": "2023-09-26T06:54:08.703725Z",
     "shell.execute_reply.started": "2023-09-26T06:54:08.698785Z"
    },
    "tags": []
   },
   "outputs": [],
   "source": [
    "from Bio.KEGG import REST\n",
    "from tqdm import tqdm\n",
    "from collections import defaultdict, Counter\n",
    "import requests\n",
    "import numpy as np\n",
    "import pandas as pd\n",
    "import json\n",
    "import random\n",
    "import time\n",
    "import re\n",
    "from itertools import combinations"
   ]
  },
  {
   "cell_type": "code",
   "execution_count": 92,
   "id": "a3ec6589-0de0-49c4-b126-4363817cfa79",
   "metadata": {
    "execution": {
     "iopub.execute_input": "2022-10-31T19:38:14.745291Z",
     "iopub.status.busy": "2022-10-31T19:38:14.744886Z",
     "iopub.status.idle": "2022-10-31T19:38:14.750891Z",
     "shell.execute_reply": "2022-10-31T19:38:14.750415Z",
     "shell.execute_reply.started": "2022-10-31T19:38:14.745275Z"
    },
    "tags": []
   },
   "outputs": [],
   "source": [
    "tqdm.pandas()"
   ]
  },
  {
   "cell_type": "markdown",
   "id": "671d6680-6511-483a-bd6d-eb4b3af9401a",
   "metadata": {},
   "source": [
    "## Opening ready-to-use files"
   ]
  },
  {
   "cell_type": "markdown",
   "id": "e840a0df-8e9b-47c8-b4ea-b850c4310610",
   "metadata": {},
   "source": [
    "### UMLS MRCONSO mapping"
   ]
  },
  {
   "cell_type": "code",
   "execution_count": 121,
   "id": "3598415b-e3fa-469b-82df-f457ced5765e",
   "metadata": {
    "execution": {
     "iopub.execute_input": "2023-09-25T14:18:22.132498Z",
     "iopub.status.busy": "2023-09-25T14:18:22.131694Z",
     "iopub.status.idle": "2023-09-25T14:18:22.136662Z",
     "shell.execute_reply": "2023-09-25T14:18:22.135702Z",
     "shell.execute_reply.started": "2023-09-25T14:18:22.132459Z"
    },
    "tags": []
   },
   "outputs": [],
   "source": [
    "mrconso_path = (\n",
    "    '../../UMLS_Metathesaurus/mrconso_and_semtypes_2022AA_df.pkl'\n",
    ")"
   ]
  },
  {
   "cell_type": "code",
   "execution_count": 122,
   "id": "80aed7b2-2b25-447c-8a83-747460612853",
   "metadata": {
    "execution": {
     "iopub.execute_input": "2023-09-25T14:18:22.138643Z",
     "iopub.status.busy": "2023-09-25T14:18:22.138157Z",
     "iopub.status.idle": "2023-09-25T14:18:46.190726Z",
     "shell.execute_reply": "2023-09-25T14:18:46.189459Z",
     "shell.execute_reply.started": "2023-09-25T14:18:22.138614Z"
    },
    "tags": []
   },
   "outputs": [],
   "source": [
    "mrconso_st_df = pd.read_pickle(mrconso_path)"
   ]
  },
  {
   "cell_type": "code",
   "execution_count": 123,
   "id": "3b15d2f7-1611-4f14-9b70-77a431b374cf",
   "metadata": {
    "execution": {
     "iopub.execute_input": "2023-09-25T14:18:46.192429Z",
     "iopub.status.busy": "2023-09-25T14:18:46.192207Z",
     "iopub.status.idle": "2023-09-25T14:18:46.217721Z",
     "shell.execute_reply": "2023-09-25T14:18:46.216689Z",
     "shell.execute_reply.started": "2023-09-25T14:18:46.192408Z"
    },
    "tags": []
   },
   "outputs": [
    {
     "data": {
      "text/html": [
       "<div>\n",
       "<style scoped>\n",
       "    .dataframe tbody tr th:only-of-type {\n",
       "        vertical-align: middle;\n",
       "    }\n",
       "\n",
       "    .dataframe tbody tr th {\n",
       "        vertical-align: top;\n",
       "    }\n",
       "\n",
       "    .dataframe thead th {\n",
       "        text-align: right;\n",
       "    }\n",
       "</style>\n",
       "<table border=\"1\" class=\"dataframe\">\n",
       "  <thead>\n",
       "    <tr style=\"text-align: right;\">\n",
       "      <th></th>\n",
       "      <th>CUI</th>\n",
       "      <th>LAT</th>\n",
       "      <th>TS</th>\n",
       "      <th>LUI</th>\n",
       "      <th>STT</th>\n",
       "      <th>SUI</th>\n",
       "      <th>ISPREF</th>\n",
       "      <th>AUI</th>\n",
       "      <th>SAUI</th>\n",
       "      <th>SCUI</th>\n",
       "      <th>SDUI</th>\n",
       "      <th>SAB</th>\n",
       "      <th>TTY</th>\n",
       "      <th>CODE</th>\n",
       "      <th>STR</th>\n",
       "      <th>SRL</th>\n",
       "      <th>SUPPRESS</th>\n",
       "      <th>CVF</th>\n",
       "      <th>sem_types</th>\n",
       "    </tr>\n",
       "  </thead>\n",
       "  <tbody>\n",
       "    <tr>\n",
       "      <th>0</th>\n",
       "      <td>C0000005</td>\n",
       "      <td>ENG</td>\n",
       "      <td>P</td>\n",
       "      <td>L0000005</td>\n",
       "      <td>PF</td>\n",
       "      <td>S0007492</td>\n",
       "      <td>Y</td>\n",
       "      <td>A26634265</td>\n",
       "      <td>NaN</td>\n",
       "      <td>M0019694</td>\n",
       "      <td>D012711</td>\n",
       "      <td>MSH</td>\n",
       "      <td>PEP</td>\n",
       "      <td>D012711</td>\n",
       "      <td>(131)I-Macroaggregated Albumin</td>\n",
       "      <td>NaN</td>\n",
       "      <td>N</td>\n",
       "      <td>256.0</td>\n",
       "      <td>{Indicator, Reagent, or Diagnostic Aid, Amino ...</td>\n",
       "    </tr>\n",
       "    <tr>\n",
       "      <th>1</th>\n",
       "      <td>C0000005</td>\n",
       "      <td>ENG</td>\n",
       "      <td>S</td>\n",
       "      <td>L0270109</td>\n",
       "      <td>PF</td>\n",
       "      <td>S0007491</td>\n",
       "      <td>Y</td>\n",
       "      <td>A26634266</td>\n",
       "      <td>NaN</td>\n",
       "      <td>M0019694</td>\n",
       "      <td>D012711</td>\n",
       "      <td>MSH</td>\n",
       "      <td>ET</td>\n",
       "      <td>D012711</td>\n",
       "      <td>(131)I-MAA</td>\n",
       "      <td>NaN</td>\n",
       "      <td>N</td>\n",
       "      <td>256.0</td>\n",
       "      <td>{Indicator, Reagent, or Diagnostic Aid, Amino ...</td>\n",
       "    </tr>\n",
       "    <tr>\n",
       "      <th>10</th>\n",
       "      <td>C0000039</td>\n",
       "      <td>ENG</td>\n",
       "      <td>P</td>\n",
       "      <td>L0000039</td>\n",
       "      <td>PF</td>\n",
       "      <td>S17175117</td>\n",
       "      <td>N</td>\n",
       "      <td>A28315139</td>\n",
       "      <td>9194921.0</td>\n",
       "      <td>1926948</td>\n",
       "      <td>NaN</td>\n",
       "      <td>RXNORM</td>\n",
       "      <td>IN</td>\n",
       "      <td>1926948</td>\n",
       "      <td>1,2-dipalmitoylphosphatidylcholine</td>\n",
       "      <td>NaN</td>\n",
       "      <td>N</td>\n",
       "      <td>256.0</td>\n",
       "      <td>{Organic Chemical, Pharmacologic Substance}</td>\n",
       "    </tr>\n",
       "    <tr>\n",
       "      <th>11</th>\n",
       "      <td>C0000039</td>\n",
       "      <td>ENG</td>\n",
       "      <td>P</td>\n",
       "      <td>L0000039</td>\n",
       "      <td>PF</td>\n",
       "      <td>S17175117</td>\n",
       "      <td>Y</td>\n",
       "      <td>A28572604</td>\n",
       "      <td>NaN</td>\n",
       "      <td>NaN</td>\n",
       "      <td>NaN</td>\n",
       "      <td>MTH</td>\n",
       "      <td>PN</td>\n",
       "      <td>NOCODE</td>\n",
       "      <td>1,2-dipalmitoylphosphatidylcholine</td>\n",
       "      <td>NaN</td>\n",
       "      <td>N</td>\n",
       "      <td>256.0</td>\n",
       "      <td>{Organic Chemical, Pharmacologic Substance}</td>\n",
       "    </tr>\n",
       "    <tr>\n",
       "      <th>12</th>\n",
       "      <td>C0000039</td>\n",
       "      <td>ENG</td>\n",
       "      <td>P</td>\n",
       "      <td>L0000039</td>\n",
       "      <td>VC</td>\n",
       "      <td>S0007564</td>\n",
       "      <td>Y</td>\n",
       "      <td>A0016515</td>\n",
       "      <td>NaN</td>\n",
       "      <td>M0023172</td>\n",
       "      <td>D015060</td>\n",
       "      <td>MSH</td>\n",
       "      <td>MH</td>\n",
       "      <td>D015060</td>\n",
       "      <td>1,2-Dipalmitoylphosphatidylcholine</td>\n",
       "      <td>NaN</td>\n",
       "      <td>N</td>\n",
       "      <td>NaN</td>\n",
       "      <td>{Organic Chemical, Pharmacologic Substance}</td>\n",
       "    </tr>\n",
       "    <tr>\n",
       "      <th>...</th>\n",
       "      <td>...</td>\n",
       "      <td>...</td>\n",
       "      <td>...</td>\n",
       "      <td>...</td>\n",
       "      <td>...</td>\n",
       "      <td>...</td>\n",
       "      <td>...</td>\n",
       "      <td>...</td>\n",
       "      <td>...</td>\n",
       "      <td>...</td>\n",
       "      <td>...</td>\n",
       "      <td>...</td>\n",
       "      <td>...</td>\n",
       "      <td>...</td>\n",
       "      <td>...</td>\n",
       "      <td>...</td>\n",
       "      <td>...</td>\n",
       "      <td>...</td>\n",
       "      <td>...</td>\n",
       "    </tr>\n",
       "    <tr>\n",
       "      <th>16857339</th>\n",
       "      <td>C5574640</td>\n",
       "      <td>ENG</td>\n",
       "      <td>S</td>\n",
       "      <td>L17663434</td>\n",
       "      <td>PF</td>\n",
       "      <td>S21286067</td>\n",
       "      <td>Y</td>\n",
       "      <td>A33944162</td>\n",
       "      <td>NaN</td>\n",
       "      <td>Q9004</td>\n",
       "      <td>NaN</td>\n",
       "      <td>HCPCS</td>\n",
       "      <td>AB</td>\n",
       "      <td>Q9004</td>\n",
       "      <td>Va whole health partner serv</td>\n",
       "      <td>NaN</td>\n",
       "      <td>Y</td>\n",
       "      <td>NaN</td>\n",
       "      <td>{Health Care Activity}</td>\n",
       "    </tr>\n",
       "    <tr>\n",
       "      <th>16857340</th>\n",
       "      <td>C5574641</td>\n",
       "      <td>ENG</td>\n",
       "      <td>P</td>\n",
       "      <td>L17663430</td>\n",
       "      <td>PF</td>\n",
       "      <td>S21286031</td>\n",
       "      <td>Y</td>\n",
       "      <td>A33944163</td>\n",
       "      <td>NaN</td>\n",
       "      <td>S1091</td>\n",
       "      <td>NaN</td>\n",
       "      <td>HCPCS</td>\n",
       "      <td>PT</td>\n",
       "      <td>S1091</td>\n",
       "      <td>Stent, non-coronary, temporary, with delivery ...</td>\n",
       "      <td>NaN</td>\n",
       "      <td>N</td>\n",
       "      <td>NaN</td>\n",
       "      <td>{Medical Device}</td>\n",
       "    </tr>\n",
       "    <tr>\n",
       "      <th>16857341</th>\n",
       "      <td>C5574641</td>\n",
       "      <td>ENG</td>\n",
       "      <td>S</td>\n",
       "      <td>L17663429</td>\n",
       "      <td>PF</td>\n",
       "      <td>S21286030</td>\n",
       "      <td>Y</td>\n",
       "      <td>A33944560</td>\n",
       "      <td>NaN</td>\n",
       "      <td>S1091</td>\n",
       "      <td>NaN</td>\n",
       "      <td>HCPCS</td>\n",
       "      <td>AB</td>\n",
       "      <td>S1091</td>\n",
       "      <td>Stent non-coronary propel</td>\n",
       "      <td>NaN</td>\n",
       "      <td>Y</td>\n",
       "      <td>NaN</td>\n",
       "      <td>{Medical Device}</td>\n",
       "    </tr>\n",
       "    <tr>\n",
       "      <th>16857342</th>\n",
       "      <td>C5574642</td>\n",
       "      <td>ENG</td>\n",
       "      <td>P</td>\n",
       "      <td>L17662944</td>\n",
       "      <td>PF</td>\n",
       "      <td>S21285763</td>\n",
       "      <td>Y</td>\n",
       "      <td>A33944049</td>\n",
       "      <td>NaN</td>\n",
       "      <td>S9432</td>\n",
       "      <td>NaN</td>\n",
       "      <td>HCPCS</td>\n",
       "      <td>PT</td>\n",
       "      <td>S9432</td>\n",
       "      <td>Medical foods for non-inborn errors of metabolism</td>\n",
       "      <td>NaN</td>\n",
       "      <td>N</td>\n",
       "      <td>NaN</td>\n",
       "      <td>{Food}</td>\n",
       "    </tr>\n",
       "    <tr>\n",
       "      <th>16857343</th>\n",
       "      <td>C5574642</td>\n",
       "      <td>ENG</td>\n",
       "      <td>S</td>\n",
       "      <td>L17663471</td>\n",
       "      <td>PF</td>\n",
       "      <td>S21285761</td>\n",
       "      <td>Y</td>\n",
       "      <td>A33944164</td>\n",
       "      <td>NaN</td>\n",
       "      <td>S9432</td>\n",
       "      <td>NaN</td>\n",
       "      <td>HCPCS</td>\n",
       "      <td>AB</td>\n",
       "      <td>S9432</td>\n",
       "      <td>Med food non inborn err meta</td>\n",
       "      <td>NaN</td>\n",
       "      <td>Y</td>\n",
       "      <td>NaN</td>\n",
       "      <td>{Food}</td>\n",
       "    </tr>\n",
       "  </tbody>\n",
       "</table>\n",
       "<p>11855837 rows × 19 columns</p>\n",
       "</div>"
      ],
      "text/plain": [
       "               CUI  LAT TS        LUI STT        SUI ISPREF        AUI  \\\n",
       "0         C0000005  ENG  P   L0000005  PF   S0007492      Y  A26634265   \n",
       "1         C0000005  ENG  S   L0270109  PF   S0007491      Y  A26634266   \n",
       "10        C0000039  ENG  P   L0000039  PF  S17175117      N  A28315139   \n",
       "11        C0000039  ENG  P   L0000039  PF  S17175117      Y  A28572604   \n",
       "12        C0000039  ENG  P   L0000039  VC   S0007564      Y   A0016515   \n",
       "...            ...  ... ..        ...  ..        ...    ...        ...   \n",
       "16857339  C5574640  ENG  S  L17663434  PF  S21286067      Y  A33944162   \n",
       "16857340  C5574641  ENG  P  L17663430  PF  S21286031      Y  A33944163   \n",
       "16857341  C5574641  ENG  S  L17663429  PF  S21286030      Y  A33944560   \n",
       "16857342  C5574642  ENG  P  L17662944  PF  S21285763      Y  A33944049   \n",
       "16857343  C5574642  ENG  S  L17663471  PF  S21285761      Y  A33944164   \n",
       "\n",
       "               SAUI      SCUI     SDUI     SAB  TTY     CODE  \\\n",
       "0               NaN  M0019694  D012711     MSH  PEP  D012711   \n",
       "1               NaN  M0019694  D012711     MSH   ET  D012711   \n",
       "10        9194921.0   1926948      NaN  RXNORM   IN  1926948   \n",
       "11              NaN       NaN      NaN     MTH   PN   NOCODE   \n",
       "12              NaN  M0023172  D015060     MSH   MH  D015060   \n",
       "...             ...       ...      ...     ...  ...      ...   \n",
       "16857339        NaN     Q9004      NaN   HCPCS   AB    Q9004   \n",
       "16857340        NaN     S1091      NaN   HCPCS   PT    S1091   \n",
       "16857341        NaN     S1091      NaN   HCPCS   AB    S1091   \n",
       "16857342        NaN     S9432      NaN   HCPCS   PT    S9432   \n",
       "16857343        NaN     S9432      NaN   HCPCS   AB    S9432   \n",
       "\n",
       "                                                        STR  SRL SUPPRESS  \\\n",
       "0                            (131)I-Macroaggregated Albumin  NaN        N   \n",
       "1                                                (131)I-MAA  NaN        N   \n",
       "10                       1,2-dipalmitoylphosphatidylcholine  NaN        N   \n",
       "11                       1,2-dipalmitoylphosphatidylcholine  NaN        N   \n",
       "12                       1,2-Dipalmitoylphosphatidylcholine  NaN        N   \n",
       "...                                                     ...  ...      ...   \n",
       "16857339                       Va whole health partner serv  NaN        Y   \n",
       "16857340  Stent, non-coronary, temporary, with delivery ...  NaN        N   \n",
       "16857341                          Stent non-coronary propel  NaN        Y   \n",
       "16857342  Medical foods for non-inborn errors of metabolism  NaN        N   \n",
       "16857343                       Med food non inborn err meta  NaN        Y   \n",
       "\n",
       "            CVF                                          sem_types  \n",
       "0         256.0  {Indicator, Reagent, or Diagnostic Aid, Amino ...  \n",
       "1         256.0  {Indicator, Reagent, or Diagnostic Aid, Amino ...  \n",
       "10        256.0        {Organic Chemical, Pharmacologic Substance}  \n",
       "11        256.0        {Organic Chemical, Pharmacologic Substance}  \n",
       "12          NaN        {Organic Chemical, Pharmacologic Substance}  \n",
       "...         ...                                                ...  \n",
       "16857339    NaN                             {Health Care Activity}  \n",
       "16857340    NaN                                   {Medical Device}  \n",
       "16857341    NaN                                   {Medical Device}  \n",
       "16857342    NaN                                             {Food}  \n",
       "16857343    NaN                                             {Food}  \n",
       "\n",
       "[11855837 rows x 19 columns]"
      ]
     },
     "execution_count": 123,
     "metadata": {},
     "output_type": "execute_result"
    }
   ],
   "source": [
    "mrconso_st_df"
   ]
  },
  {
   "cell_type": "code",
   "execution_count": 47,
   "id": "812b7e1a-8e10-47c6-9045-41ba6eeb2c3f",
   "metadata": {
    "execution": {
     "iopub.execute_input": "2023-09-25T07:12:04.723517Z",
     "iopub.status.busy": "2023-09-25T07:12:04.723112Z",
     "iopub.status.idle": "2023-09-25T07:12:10.971651Z",
     "shell.execute_reply": "2023-09-25T07:12:10.970611Z",
     "shell.execute_reply.started": "2023-09-25T07:12:04.723484Z"
    },
    "tags": []
   },
   "outputs": [],
   "source": [
    "mesh_to_umls_dict = (\n",
    "    mrconso_st_df[\n",
    "        mrconso_st_df['SAB'] == 'MSH'\n",
    "    ]\n",
    "    [['CUI', 'CODE']]\n",
    "        .groupby('CODE')\n",
    "        .agg(set)['CUI']\n",
    "        .to_dict()\n",
    ")"
   ]
  },
  {
   "cell_type": "markdown",
   "id": "ea8d9958-2e8b-4049-99a6-fa5150678365",
   "metadata": {},
   "source": [
    "### UMLS CAS mapping"
   ]
  },
  {
   "cell_type": "code",
   "execution_count": 124,
   "id": "e239421a-e0f7-4411-849b-ff9fc0e9f96a",
   "metadata": {
    "execution": {
     "iopub.execute_input": "2023-09-25T14:18:46.219264Z",
     "iopub.status.busy": "2023-09-25T14:18:46.218954Z",
     "iopub.status.idle": "2023-09-25T14:18:47.190587Z",
     "shell.execute_reply": "2023-09-25T14:18:47.189776Z",
     "shell.execute_reply.started": "2023-09-25T14:18:46.219235Z"
    },
    "tags": []
   },
   "outputs": [],
   "source": [
    "cas_to_cui_dict = pd.read_pickle(\n",
    "    '../../pubchem_mappings/pc_cas_to_CUI_full_dict.pkl'\n",
    ")"
   ]
  },
  {
   "cell_type": "code",
   "execution_count": 140,
   "id": "f4705dcc-e973-4583-9f20-c92da5b795eb",
   "metadata": {
    "execution": {
     "iopub.execute_input": "2023-09-26T06:22:13.962738Z",
     "iopub.status.busy": "2023-09-26T06:22:13.962200Z",
     "iopub.status.idle": "2023-09-26T06:22:14.118158Z",
     "shell.execute_reply": "2023-09-26T06:22:14.117265Z",
     "shell.execute_reply.started": "2023-09-26T06:22:13.962704Z"
    },
    "tags": []
   },
   "outputs": [],
   "source": [
    "cas_to_cui_dict = pd.read_pickle(\n",
    "    '../../chemidplus_local/cas_to_cui_meshdb_dict.pkl'\n",
    ")"
   ]
  },
  {
   "cell_type": "code",
   "execution_count": 141,
   "id": "0fd59a04-a277-4975-91ba-6d24c4849e3a",
   "metadata": {
    "execution": {
     "iopub.execute_input": "2023-09-26T06:22:15.442520Z",
     "iopub.status.busy": "2023-09-26T06:22:15.442177Z",
     "iopub.status.idle": "2023-09-26T06:22:15.450471Z",
     "shell.execute_reply": "2023-09-26T06:22:15.449795Z",
     "shell.execute_reply.started": "2023-09-26T06:22:15.442490Z"
    },
    "tags": []
   },
   "outputs": [
    {
     "data": {
      "text/plain": [
       "80344"
      ]
     },
     "execution_count": 141,
     "metadata": {},
     "output_type": "execute_result"
    }
   ],
   "source": [
    "len(cas_to_cui_dict)"
   ]
  },
  {
   "cell_type": "code",
   "execution_count": 127,
   "id": "1c321287-5152-43dc-a612-7ad75c84a83b",
   "metadata": {
    "execution": {
     "iopub.execute_input": "2023-09-25T14:19:09.008775Z",
     "iopub.status.busy": "2023-09-25T14:19:09.008380Z",
     "iopub.status.idle": "2023-09-25T14:19:09.014202Z",
     "shell.execute_reply": "2023-09-25T14:19:09.013437Z",
     "shell.execute_reply.started": "2023-09-25T14:19:09.008745Z"
    },
    "tags": []
   },
   "outputs": [
    {
     "data": {
      "text/plain": [
       "132597"
      ]
     },
     "execution_count": 127,
     "metadata": {},
     "output_type": "execute_result"
    }
   ],
   "source": [
    "len(cas_to_cui_dict)"
   ]
  },
  {
   "cell_type": "code",
   "execution_count": 142,
   "id": "4a207d42-93d2-47cd-b971-c83107efbcd6",
   "metadata": {
    "execution": {
     "iopub.execute_input": "2023-09-26T06:22:19.831847Z",
     "iopub.status.busy": "2023-09-26T06:22:19.831519Z",
     "iopub.status.idle": "2023-09-26T06:22:19.838239Z",
     "shell.execute_reply": "2023-09-26T06:22:19.837339Z",
     "shell.execute_reply.started": "2023-09-26T06:22:19.831819Z"
    },
    "tags": []
   },
   "outputs": [
    {
     "data": {
      "text/plain": [
       "{'C0068314', 'C0101466', 'C0133123', 'C0724176', 'C1519947'}"
      ]
     },
     "execution_count": 142,
     "metadata": {},
     "output_type": "execute_result"
    }
   ],
   "source": [
    "cas_to_cui_dict['56124-62-0']"
   ]
  },
  {
   "cell_type": "markdown",
   "id": "f75ceeb4-ba27-4781-b96f-6748c4e98519",
   "metadata": {},
   "source": [
    "## Obtaining raw pathways from KEGG db (online)"
   ]
  },
  {
   "cell_type": "markdown",
   "id": "78611b55-ada7-47a2-adb8-4e6bc80b437f",
   "metadata": {},
   "source": [
    "The prefix has the following meaning:\n",
    "\n",
    "- **map**\n",
    "    manually drawn reference pathway\n",
    "    \n",
    "- **ko**\n",
    "    reference pathway highlighting KOs (KEGG Orthology)\n",
    "    \n",
    "- **ec**\n",
    "    reference metabolic pathway highlighting EC numbers\n",
    "    \n",
    "- **rn**\n",
    "    reference metabolic pathway highlighting reactions\n",
    "    \n",
    "- **org**\n",
    "    organism-specific pathway generated by converting KOs to gene identifiers"
   ]
  },
  {
   "cell_type": "code",
   "execution_count": 21,
   "id": "2ef01093-bd60-4c94-8836-0ca7fac7abc2",
   "metadata": {
    "execution": {
     "iopub.execute_input": "2023-09-24T20:30:59.323266Z",
     "iopub.status.busy": "2023-09-24T20:30:59.322856Z",
     "iopub.status.idle": "2023-09-24T20:30:59.327104Z",
     "shell.execute_reply": "2023-09-24T20:30:59.326465Z",
     "shell.execute_reply.started": "2023-09-24T20:30:59.323236Z"
    },
    "tags": []
   },
   "outputs": [],
   "source": [
    "# list of prefixes to obtain\n",
    "\n",
    "orgs_list = [\n",
    "    'map',\n",
    "    'ec',\n",
    "    'rn',\n",
    "    'ko',\n",
    "    'hsa', #human\n",
    "]"
   ]
  },
  {
   "cell_type": "code",
   "execution_count": 22,
   "id": "9994c750-9736-4618-8723-bf3a3e68c381",
   "metadata": {
    "execution": {
     "iopub.execute_input": "2023-09-24T20:31:01.855247Z",
     "iopub.status.busy": "2023-09-24T20:31:01.854899Z",
     "iopub.status.idle": "2023-09-24T20:31:09.856344Z",
     "shell.execute_reply": "2023-09-24T20:31:09.855530Z",
     "shell.execute_reply.started": "2023-09-24T20:31:01.855231Z"
    },
    "tags": []
   },
   "outputs": [
    {
     "name": "stderr",
     "output_type": "stream",
     "text": [
      "100%|███████████████████████████████████████████████████████████████████████████████████| 5/5 [00:07<00:00,  1.60s/it]\n"
     ]
    }
   ],
   "source": [
    "pathways_raw_list = []\n",
    "\n",
    "for org in tqdm(orgs_list):\n",
    "    pathways_raw_list.append(\n",
    "        REST.kegg_list(\n",
    "            database=\"pathway\", \n",
    "            org=org)\n",
    "        .read()\n",
    "    )"
   ]
  },
  {
   "cell_type": "code",
   "execution_count": 24,
   "id": "ab31f0cc-6aac-4879-ae93-6eea1ed43d5a",
   "metadata": {
    "execution": {
     "iopub.execute_input": "2023-09-24T20:31:22.105368Z",
     "iopub.status.busy": "2023-09-24T20:31:22.104996Z",
     "iopub.status.idle": "2023-09-24T20:31:22.113819Z",
     "shell.execute_reply": "2023-09-24T20:31:22.112681Z",
     "shell.execute_reply.started": "2023-09-24T20:31:22.105337Z"
    },
    "tags": []
   },
   "outputs": [],
   "source": [
    "# Filter all human pathways for repair pathways\n",
    "pathways = dict()\n",
    "\n",
    "for org_pw in pathways_raw:\n",
    "\n",
    "    for line in org_pw.rstrip().split(\"\\n\"):\n",
    "        entry, description = line.split(\"\\t\")\n",
    "        pathways[entry] = description"
   ]
  },
  {
   "cell_type": "code",
   "execution_count": 25,
   "id": "9e82f3e1-eddd-411b-b6d9-5cad8efc8db8",
   "metadata": {
    "execution": {
     "iopub.execute_input": "2023-09-24T20:31:27.670651Z",
     "iopub.status.busy": "2023-09-24T20:31:27.670343Z",
     "iopub.status.idle": "2023-09-24T20:31:27.676181Z",
     "shell.execute_reply": "2023-09-24T20:31:27.675336Z",
     "shell.execute_reply.started": "2023-09-24T20:31:27.670629Z"
    },
    "tags": []
   },
   "outputs": [
    {
     "data": {
      "text/plain": [
       "1741"
      ]
     },
     "execution_count": 25,
     "metadata": {},
     "output_type": "execute_result"
    }
   ],
   "source": [
    "len(pathways)"
   ]
  },
  {
   "cell_type": "code",
   "execution_count": 30,
   "id": "f7054d81-0dc7-4a0d-8d55-426d49d7e5db",
   "metadata": {
    "execution": {
     "iopub.execute_input": "2023-09-24T20:33:07.612897Z",
     "iopub.status.busy": "2023-09-24T20:33:07.612530Z",
     "iopub.status.idle": "2023-09-24T20:33:07.618901Z",
     "shell.execute_reply": "2023-09-24T20:33:07.617986Z",
     "shell.execute_reply.started": "2023-09-24T20:33:07.612866Z"
    },
    "tags": []
   },
   "outputs": [
    {
     "data": {
      "text/plain": [
       "'Glycolysis / Gluconeogenesis - Homo sapiens (human)'"
      ]
     },
     "execution_count": 30,
     "metadata": {},
     "output_type": "execute_result"
    }
   ],
   "source": [
    "pathways['hsa00010']"
   ]
  },
  {
   "cell_type": "code",
   "execution_count": 36,
   "id": "c35d94c7-6167-4837-9ace-704b81b43b79",
   "metadata": {
    "execution": {
     "iopub.execute_input": "2023-09-24T20:35:01.730812Z",
     "iopub.status.busy": "2023-09-24T20:35:01.730195Z",
     "iopub.status.idle": "2023-09-24T21:22:32.121869Z",
     "shell.execute_reply": "2023-09-24T21:22:32.120778Z",
     "shell.execute_reply.started": "2023-09-24T20:35:01.730774Z"
    },
    "tags": []
   },
   "outputs": [
    {
     "name": "stderr",
     "output_type": "stream",
     "text": [
      "100%|█████████████████████████████████████████████████████████████████████████████| 1741/1741 [47:30<00:00,  1.64s/it]\n"
     ]
    }
   ],
   "source": [
    "rawKEGGPathways_list = []\n",
    "\n",
    "for pw in tqdm(pathways):\n",
    "    pathway_file = REST.kegg_get(pw).read()\n",
    "    rawKEGGPathways_list.append(pathway_file)"
   ]
  },
  {
   "cell_type": "code",
   "execution_count": 40,
   "id": "6fdd35e0-0107-462e-853a-6a15f3fd54a2",
   "metadata": {
    "execution": {
     "iopub.execute_input": "2023-09-24T21:55:44.789443Z",
     "iopub.status.busy": "2023-09-24T21:55:44.789005Z",
     "iopub.status.idle": "2023-09-24T21:55:44.860927Z",
     "shell.execute_reply": "2023-09-24T21:55:44.860191Z",
     "shell.execute_reply.started": "2023-09-24T21:55:44.789412Z"
    },
    "tags": []
   },
   "outputs": [],
   "source": [
    "with open('rawKEGGPathways_list.json', 'w') as f:\n",
    "    json.dump(rawKEGGPathways_list, f)"
   ]
  },
  {
   "cell_type": "code",
   "execution_count": 233,
   "id": "74165f4d-5f2a-40ff-86d1-2548fa3fac77",
   "metadata": {
    "execution": {
     "iopub.execute_input": "2023-09-26T06:58:20.035322Z",
     "iopub.status.busy": "2023-09-26T06:58:20.034915Z",
     "iopub.status.idle": "2023-09-26T06:58:20.042475Z",
     "shell.execute_reply": "2023-09-26T06:58:20.041511Z",
     "shell.execute_reply.started": "2023-09-26T06:58:20.035290Z"
    },
    "tags": []
   },
   "outputs": [
    {
     "data": {
      "text/plain": [
       "['ENTRY       map00620                    Pathway',\n",
       " 'NAME        Pyruvate metabolism',\n",
       " 'CLASS       Metabolism; Carbohydrate metabolism',\n",
       " 'PATHWAY_MAP map00620  Pyruvate metabolism',\n",
       " 'MODULE      M00168  CAM (Crassulacean acid metabolism), dark [PATH:map00620]',\n",
       " '            M00169  CAM (Crassulacean acid metabolism), light [PATH:map00620]',\n",
       " '            M00172  C4-dicarboxylic acid cycle, NADP - malic enzyme type [PATH:map00620]',\n",
       " '            M00307  Pyruvate oxidation, pyruvate => acetyl-CoA [PATH:map00620]',\n",
       " '            M00579  Phosphate acetyltransferase-acetate kinase pathway, acetyl-CoA => acetate [PATH:map00620]',\n",
       " 'DBLINKS     GO: 0006090',\n",
       " 'REFERENCE   ',\n",
       " '  AUTHORS   Nishizuka Y, Seyama Y, Ikai A, Ishimura Y, Kawaguchi A (eds).',\n",
       " '  TITLE     [Cellular Functions and Metabolic Maps] (In Japanese)',\n",
       " '  JOURNAL   Tokyo Kagaku Dojin (1997)',\n",
       " 'REL_PATHWAY map00010  Glycolysis / Gluconeogenesis',\n",
       " '            map00020  Citrate cycle (TCA cycle)',\n",
       " '            map00061  Fatty acid biosynthesis',\n",
       " '            map00250  Alanine, aspartate and glutamate metabolism',\n",
       " '            map00260  Glycine, serine and threonine metabolism',\n",
       " '            map00290  Valine, leucine and isoleucine biosynthesis',\n",
       " '            map00300  Lysine biosynthesis',\n",
       " '            map00522  Biosynthesis of 12-, 14- and 16-membered macrolides',\n",
       " '            map00630  Glyoxylate and dicarboxylate metabolism',\n",
       " '            map00640  Propanoate metabolism',\n",
       " '            map00650  Butanoate metabolism',\n",
       " '            map00760  Nicotinate and nicotinamide metabolism',\n",
       " '            map01056  Biosynthesis of type II polyketide backbone',\n",
       " '            map01059  Biosynthesis of enediyne antibiotics',\n",
       " 'KO_PATHWAY  ko00620',\n",
       " '///',\n",
       " '']"
      ]
     },
     "execution_count": 233,
     "metadata": {},
     "output_type": "execute_result"
    }
   ],
   "source": [
    "# How a single record looks like\n",
    "\n",
    "rawKEGGPathways_list[20].split('\\n')"
   ]
  },
  {
   "cell_type": "markdown",
   "id": "6ca93f52-95c5-4b83-905f-4f7aeb26bcb4",
   "metadata": {},
   "source": [
    "## Parsing raw pathways"
   ]
  },
  {
   "cell_type": "code",
   "execution_count": null,
   "id": "1b62204d-6545-405b-9136-c683b8ae6db1",
   "metadata": {},
   "outputs": [],
   "source": [
    "with open('rawKEGGPathways_list.json', 'r') as f:\n",
    "    rawKEGGPathways_list = json.load(f)"
   ]
  },
  {
   "cell_type": "code",
   "execution_count": 50,
   "id": "09034ad6-2fae-4687-acfc-6cb74ac04923",
   "metadata": {
    "execution": {
     "iopub.execute_input": "2023-09-24T22:06:29.984022Z",
     "iopub.status.busy": "2023-09-24T22:06:29.983644Z",
     "iopub.status.idle": "2023-09-24T22:06:29.988218Z",
     "shell.execute_reply": "2023-09-24T22:06:29.987559Z",
     "shell.execute_reply.started": "2023-09-24T22:06:29.983991Z"
    },
    "tags": []
   },
   "outputs": [],
   "source": [
    "interestingSections = ['NAME', 'DISEASE', 'DRUG', 'GENE', 'COMPOUND']"
   ]
  },
  {
   "cell_type": "code",
   "execution_count": 52,
   "id": "00971ef0-5c36-4b70-bb9d-e4e8b55e169d",
   "metadata": {
    "execution": {
     "iopub.execute_input": "2023-09-24T22:07:24.157799Z",
     "iopub.status.busy": "2023-09-24T22:07:24.157356Z",
     "iopub.status.idle": "2023-09-24T22:07:24.316529Z",
     "shell.execute_reply": "2023-09-24T22:07:24.315582Z",
     "shell.execute_reply.started": "2023-09-24T22:07:24.157766Z"
    },
    "tags": []
   },
   "outputs": [
    {
     "name": "stderr",
     "output_type": "stream",
     "text": [
      "100%|██████████████████████████████████████████████████████████████████████████| 1741/1741 [00:00<00:00, 11783.54it/s]\n"
     ]
    }
   ],
   "source": [
    "records_dict = defaultdict(lambda: defaultdict(list))\n",
    "for pw in tqdm(rawKEGGPathways_list[:]):\n",
    "    currentSection = None\n",
    "    for line in pw.rstrip().split('\\n'):\n",
    "        section = line[:12].strip()\n",
    "        if not section == '':\n",
    "            currentSection = section\n",
    "        if currentSection == 'ENTRY':\n",
    "            currentName = ' '.join(line[12:].split())\n",
    "        if currentSection in interestingSections:\n",
    "            records_dict[currentName][currentSection].append(line[12:])"
   ]
  },
  {
   "cell_type": "code",
   "execution_count": 62,
   "id": "b9dae0cc-629a-45a5-8378-5c972ea2ed9d",
   "metadata": {
    "execution": {
     "iopub.execute_input": "2023-09-24T22:14:01.519793Z",
     "iopub.status.busy": "2023-09-24T22:14:01.519408Z",
     "iopub.status.idle": "2023-09-24T22:14:01.525130Z",
     "shell.execute_reply": "2023-09-24T22:14:01.524419Z",
     "shell.execute_reply.started": "2023-09-24T22:14:01.519763Z"
    },
    "tags": []
   },
   "outputs": [
    {
     "data": {
      "text/plain": [
       "['Hepatocellular carcinoma - Homo sapiens (human)']"
      ]
     },
     "execution_count": 62,
     "metadata": {},
     "output_type": "execute_result"
    }
   ],
   "source": [
    "records_dict['hsa05225 Pathway']['NAME']"
   ]
  },
  {
   "cell_type": "code",
   "execution_count": 61,
   "id": "e7187519-4258-46cb-9fb4-24b5d7b65e23",
   "metadata": {
    "execution": {
     "iopub.execute_input": "2023-09-24T22:13:59.034777Z",
     "iopub.status.busy": "2023-09-24T22:13:59.033847Z",
     "iopub.status.idle": "2023-09-24T22:13:59.041157Z",
     "shell.execute_reply": "2023-09-24T22:13:59.040305Z",
     "shell.execute_reply.started": "2023-09-24T22:13:59.034729Z"
    },
    "tags": []
   },
   "outputs": [
    {
     "data": {
      "text/plain": [
       "['C00027  Hydrogen peroxide',\n",
       " 'C00039  DNA',\n",
       " 'C00076  Calcium cation',\n",
       " 'C00165  Diacylglycerol',\n",
       " 'C00533  Nitric oxide',\n",
       " 'C00704  Superoxide',\n",
       " 'C01245  D-myo-Inositol 1,4,5-trisphosphate',\n",
       " 'C01471  Acrolein',\n",
       " 'C05981  Phosphatidylinositol-3,4,5-trisphosphate',\n",
       " 'C06793  Vinyl chloride',\n",
       " 'C06800  Aflatoxin B1',\n",
       " 'C16844  Hydroxyl radical',\n",
       " 'C21641  Hydroperoxyl radical',\n",
       " 'C21642  4-Hydroxynonenal']"
      ]
     },
     "execution_count": 61,
     "metadata": {},
     "output_type": "execute_result"
    }
   ],
   "source": [
    "records_dict['hsa05225 Pathway']['COMPOUND']"
   ]
  },
  {
   "cell_type": "markdown",
   "id": "d3f13033-ea4f-4f3b-89ab-3db6e5200ff7",
   "metadata": {},
   "source": [
    "## Getting mappings from KEGG for diseases, compounds, drugs (online)"
   ]
  },
  {
   "cell_type": "code",
   "execution_count": 63,
   "id": "756c7db2-fc8c-47ee-9774-b3cf4a14b4c3",
   "metadata": {
    "execution": {
     "iopub.execute_input": "2023-09-24T22:15:02.669705Z",
     "iopub.status.busy": "2023-09-24T22:15:02.669181Z",
     "iopub.status.idle": "2023-09-24T22:15:02.684816Z",
     "shell.execute_reply": "2023-09-24T22:15:02.684128Z",
     "shell.execute_reply.started": "2023-09-24T22:15:02.669671Z"
    },
    "tags": []
   },
   "outputs": [],
   "source": [
    "kegg_ent_ids_list = []\n",
    "\n",
    "for pw_key in records_dict:\n",
    "    for name in records_dict[pw_key]:\n",
    "        if name in ['DRUG', 'COMPOUND', 'DISEASE']:\n",
    "            for ent in records_dict[pw_key][name]:\n",
    "                kegg_ent_ids_list.append(ent)"
   ]
  },
  {
   "cell_type": "code",
   "execution_count": 66,
   "id": "5adb90a1-92ed-4800-a152-f95fdd46528b",
   "metadata": {
    "execution": {
     "iopub.execute_input": "2023-09-24T22:16:46.705125Z",
     "iopub.status.busy": "2023-09-24T22:16:46.704805Z",
     "iopub.status.idle": "2023-09-24T22:16:46.728349Z",
     "shell.execute_reply": "2023-09-24T22:16:46.727683Z",
     "shell.execute_reply.started": "2023-09-24T22:16:46.705097Z"
    },
    "tags": []
   },
   "outputs": [
    {
     "data": {
      "text/plain": [
       "12799"
      ]
     },
     "execution_count": 66,
     "metadata": {},
     "output_type": "execute_result"
    }
   ],
   "source": [
    "kegg_ent_ids_set = set([ent.split(' ')[0] for ent in kegg_ent_ids_list])\n",
    "\n",
    "kegg_ent_ids_list = list(kegg_ent_ids_set)\n",
    "\n",
    "len(kegg_ent_ids_set)"
   ]
  },
  {
   "cell_type": "code",
   "execution_count": 68,
   "id": "bc495aa8-048e-45d3-a230-ca5ea24e5a8c",
   "metadata": {
    "execution": {
     "iopub.execute_input": "2023-09-24T22:17:49.951936Z",
     "iopub.status.busy": "2023-09-24T22:17:49.951449Z",
     "iopub.status.idle": "2023-09-24T22:17:49.958964Z",
     "shell.execute_reply": "2023-09-24T22:17:49.958331Z",
     "shell.execute_reply.started": "2023-09-24T22:17:49.951904Z"
    },
    "tags": []
   },
   "outputs": [],
   "source": [
    "# splitting unique ids into chunks for faster querying\n",
    "\n",
    "n_per_request = 10\n",
    "\n",
    "kegg_ent_ids_chunked = [\n",
    "    kegg_ent_ids_list[i:i+n_per_request] for i in range(\n",
    "        0,\n",
    "        len(kegg_ent_ids_list),\n",
    "        n_per_request\n",
    "    )\n",
    "]"
   ]
  },
  {
   "cell_type": "code",
   "execution_count": 69,
   "id": "62c6db1c-e0e9-4e21-86bc-92af944a3ff6",
   "metadata": {
    "execution": {
     "iopub.execute_input": "2023-09-24T22:18:01.012685Z",
     "iopub.status.busy": "2023-09-24T22:18:01.012491Z",
     "iopub.status.idle": "2023-09-24T22:18:01.016294Z",
     "shell.execute_reply": "2023-09-24T22:18:01.015798Z",
     "shell.execute_reply.started": "2023-09-24T22:18:01.012672Z"
    },
    "tags": []
   },
   "outputs": [
    {
     "data": {
      "text/plain": [
       "['D05523',\n",
       " 'D02462',\n",
       " 'C00170',\n",
       " 'C16201',\n",
       " 'C22163',\n",
       " 'D12445',\n",
       " 'C12003',\n",
       " 'C06027',\n",
       " 'D00921',\n",
       " 'C03272']"
      ]
     },
     "execution_count": 69,
     "metadata": {},
     "output_type": "execute_result"
    }
   ],
   "source": [
    "kegg_ent_ids_chunked[5]"
   ]
  },
  {
   "cell_type": "code",
   "execution_count": 81,
   "id": "2ce9fefc-3a92-4650-9a94-3d48bd6eddb2",
   "metadata": {
    "execution": {
     "iopub.execute_input": "2023-09-24T22:22:56.853414Z",
     "iopub.status.busy": "2023-09-24T22:22:56.852893Z",
     "iopub.status.idle": "2023-09-24T23:13:51.525568Z",
     "shell.execute_reply": "2023-09-24T23:13:51.524497Z",
     "shell.execute_reply.started": "2023-09-24T22:22:56.853383Z"
    },
    "tags": []
   },
   "outputs": [
    {
     "name": "stderr",
     "output_type": "stream",
     "text": [
      "100%|█████████████████████████████████████████████████████████████████████████████| 1280/1280 [50:54<00:00,  2.39s/it]\n"
     ]
    }
   ],
   "source": [
    "chunk_raw_responses_list = []\n",
    "chunk_raw_bad_responses_list = []\n",
    "\n",
    "for ids_chunk in tqdm(kegg_ent_ids_chunked):\n",
    "    try:\n",
    "        chunk_raw_response = REST.kegg_get(ids_chunk).read().split('///\\n')\n",
    "        chunk_raw_responses_list += chunk_raw_response\n",
    "    except Exception as e:\n",
    "        print(e)\n",
    "        chunk_raw_bad_responses_list.append(ids_chunk)\n",
    "    time.sleep(1)"
   ]
  },
  {
   "cell_type": "markdown",
   "id": "d39d5eb8-e4c2-44fb-8811-bb6624a3d2b7",
   "metadata": {},
   "source": [
    "### Parsing KEGG online mappings, creating a dataframe"
   ]
  },
  {
   "cell_type": "code",
   "execution_count": 82,
   "id": "74049534-2b02-41e6-a4d9-842269d7c3e2",
   "metadata": {
    "execution": {
     "iopub.execute_input": "2023-09-24T23:20:42.724886Z",
     "iopub.status.busy": "2023-09-24T23:20:42.724445Z",
     "iopub.status.idle": "2023-09-24T23:20:43.180608Z",
     "shell.execute_reply": "2023-09-24T23:20:43.179823Z",
     "shell.execute_reply.started": "2023-09-24T23:20:42.724852Z"
    },
    "tags": []
   },
   "outputs": [],
   "source": [
    "split_pos = 12\n",
    "\n",
    "hooks = {'ENTRY', 'NAME', 'DBLINKS'}\n",
    "\n",
    "kegg_ents_list = []\n",
    "\n",
    "for ent in chunk_raw_responses_list:\n",
    "    lines = ent.split('\\n')\n",
    "    cur_category = ''\n",
    "    \n",
    "    ent_dict = defaultdict(list)\n",
    "    \n",
    "    for line in lines:\n",
    "        prefix, content = line[:12].strip(), line[12:]\n",
    "        \n",
    "        if prefix:\n",
    "            cur_category = prefix\n",
    "        \n",
    "        if cur_category in hooks:\n",
    "            ent_dict[cur_category].append(content)\n",
    "        \n",
    "    kegg_ents_list.append(ent_dict)"
   ]
  },
  {
   "cell_type": "code",
   "execution_count": 83,
   "id": "056b0584-9867-46e2-935d-02ef65a8556d",
   "metadata": {
    "execution": {
     "iopub.execute_input": "2023-09-24T23:21:40.098440Z",
     "iopub.status.busy": "2023-09-24T23:21:40.097996Z",
     "iopub.status.idle": "2023-09-24T23:21:40.105114Z",
     "shell.execute_reply": "2023-09-24T23:21:40.104345Z",
     "shell.execute_reply.started": "2023-09-24T23:21:40.098408Z"
    },
    "tags": []
   },
   "outputs": [
    {
     "data": {
      "text/plain": [
       "defaultdict(list,\n",
       "            {'ENTRY': ['C05349                      Compound'],\n",
       "             'NAME': ['Ciprofloxacin'],\n",
       "             'DBLINKS': ['CAS: 85721-33-1',\n",
       "              'PubChem: 7727',\n",
       "              'ChEBI: 100241',\n",
       "              'PDB-CCD: CPF',\n",
       "              'NIKKAJI: J21.732H']})"
      ]
     },
     "execution_count": 83,
     "metadata": {},
     "output_type": "execute_result"
    }
   ],
   "source": [
    "kegg_ents_list[3]"
   ]
  },
  {
   "cell_type": "code",
   "execution_count": 84,
   "id": "8d32712b-1b26-446e-be8a-85d369ccbcc8",
   "metadata": {
    "execution": {
     "iopub.execute_input": "2023-09-24T23:21:41.887067Z",
     "iopub.status.busy": "2023-09-24T23:21:41.886325Z",
     "iopub.status.idle": "2023-09-24T23:21:41.946970Z",
     "shell.execute_reply": "2023-09-24T23:21:41.946047Z",
     "shell.execute_reply.started": "2023-09-24T23:21:41.887026Z"
    },
    "tags": []
   },
   "outputs": [],
   "source": [
    "kegg_ents_parsed_list = []\n",
    "\n",
    "for ent in kegg_ents_list:\n",
    "    ent_dict = dict()\n",
    "    for key in ent:\n",
    "        if key == 'ENTRY':\n",
    "            entry_parsed = ' '.join(ent[key]).split()\n",
    "            #if len(entry_parsed) > 2:\n",
    "                #print(entry_parsed)\n",
    "            #entry_id, entry_type = entry_parsed\n",
    "            \n",
    "            ent_dict['entry_id'] = entry_parsed[0]\n",
    "            ent_dict['entry_type'] = '|'.join(entry_parsed[1:])\n",
    "        \n",
    "        if key == 'NAME':\n",
    "            ent_dict['name'] = ''.join(ent[key]).replace(';', '|')\n",
    "            \n",
    "        if key == 'DBLINKS':\n",
    "            dblinks_dict = dict()\n",
    "            for dbl_line in ent[key]:\n",
    "                if dbl_line:\n",
    "                    db_name, db_id = dbl_line.split(': ')\n",
    "                    dblinks_dict[db_name] = db_id\n",
    "        \n",
    "            #ent_dict['dblinks'] = dblinks_dict\n",
    "            ent_dict.update(dblinks_dict)\n",
    "    if ent_dict:\n",
    "        kegg_ents_parsed_list.append(ent_dict)"
   ]
  },
  {
   "cell_type": "code",
   "execution_count": 85,
   "id": "db8e1025-437a-404d-a403-f2473ac2ba04",
   "metadata": {
    "execution": {
     "iopub.execute_input": "2023-09-24T23:21:43.225907Z",
     "iopub.status.busy": "2023-09-24T23:21:43.225563Z",
     "iopub.status.idle": "2023-09-24T23:21:43.257190Z",
     "shell.execute_reply": "2023-09-24T23:21:43.256424Z",
     "shell.execute_reply.started": "2023-09-24T23:21:43.225877Z"
    },
    "tags": []
   },
   "outputs": [],
   "source": [
    "kegg_ents_df = pd.DataFrame(kegg_ents_parsed_list)"
   ]
  },
  {
   "cell_type": "code",
   "execution_count": 86,
   "id": "bbccf110-4018-4040-8472-ad5414d5c5e1",
   "metadata": {
    "execution": {
     "iopub.execute_input": "2023-09-24T23:21:43.873254Z",
     "iopub.status.busy": "2023-09-24T23:21:43.873097Z",
     "iopub.status.idle": "2023-09-24T23:21:43.899432Z",
     "shell.execute_reply": "2023-09-24T23:21:43.898735Z",
     "shell.execute_reply.started": "2023-09-24T23:21:43.873237Z"
    },
    "tags": []
   },
   "outputs": [
    {
     "data": {
      "text/html": [
       "<div>\n",
       "<style scoped>\n",
       "    .dataframe tbody tr th:only-of-type {\n",
       "        vertical-align: middle;\n",
       "    }\n",
       "\n",
       "    .dataframe tbody tr th {\n",
       "        vertical-align: top;\n",
       "    }\n",
       "\n",
       "    .dataframe thead th {\n",
       "        text-align: right;\n",
       "    }\n",
       "</style>\n",
       "<table border=\"1\" class=\"dataframe\">\n",
       "  <thead>\n",
       "    <tr style=\"text-align: right;\">\n",
       "      <th></th>\n",
       "      <th>entry_id</th>\n",
       "      <th>entry_type</th>\n",
       "      <th>name</th>\n",
       "      <th>CAS</th>\n",
       "      <th>PubChem</th>\n",
       "      <th>ChEBI</th>\n",
       "      <th>3DMET</th>\n",
       "      <th>NIKKAJI</th>\n",
       "      <th>LigandBox</th>\n",
       "      <th>PDB-CCD</th>\n",
       "      <th>...</th>\n",
       "      <th>LIPIDMAPS</th>\n",
       "      <th>JCGGDB</th>\n",
       "      <th>LipidBank</th>\n",
       "      <th>KNApSAcK</th>\n",
       "      <th>GlycoEpitope</th>\n",
       "      <th>ICD-11</th>\n",
       "      <th>ICD-10</th>\n",
       "      <th>MeSH</th>\n",
       "      <th>OMIM</th>\n",
       "      <th>MedlinePlus</th>\n",
       "    </tr>\n",
       "  </thead>\n",
       "  <tbody>\n",
       "    <tr>\n",
       "      <th>0</th>\n",
       "      <td>C01073</td>\n",
       "      <td>Compound</td>\n",
       "      <td>N-Acetyl-beta-alanine</td>\n",
       "      <td>3025-95-4</td>\n",
       "      <td>4311</td>\n",
       "      <td>16682</td>\n",
       "      <td>B00235</td>\n",
       "      <td>J135.888J</td>\n",
       "      <td>NaN</td>\n",
       "      <td>NaN</td>\n",
       "      <td>...</td>\n",
       "      <td>NaN</td>\n",
       "      <td>NaN</td>\n",
       "      <td>NaN</td>\n",
       "      <td>NaN</td>\n",
       "      <td>NaN</td>\n",
       "      <td>NaN</td>\n",
       "      <td>NaN</td>\n",
       "      <td>NaN</td>\n",
       "      <td>NaN</td>\n",
       "      <td>NaN</td>\n",
       "    </tr>\n",
       "    <tr>\n",
       "      <th>1</th>\n",
       "      <td>D05267</td>\n",
       "      <td>Drug</td>\n",
       "      <td>Orbofiban acetate (USAN)</td>\n",
       "      <td>165800-05-5</td>\n",
       "      <td>47206976</td>\n",
       "      <td>NaN</td>\n",
       "      <td>NaN</td>\n",
       "      <td>NaN</td>\n",
       "      <td>D05267</td>\n",
       "      <td>NaN</td>\n",
       "      <td>...</td>\n",
       "      <td>NaN</td>\n",
       "      <td>NaN</td>\n",
       "      <td>NaN</td>\n",
       "      <td>NaN</td>\n",
       "      <td>NaN</td>\n",
       "      <td>NaN</td>\n",
       "      <td>NaN</td>\n",
       "      <td>NaN</td>\n",
       "      <td>NaN</td>\n",
       "      <td>NaN</td>\n",
       "    </tr>\n",
       "    <tr>\n",
       "      <th>2</th>\n",
       "      <td>D05972</td>\n",
       "      <td>Drug</td>\n",
       "      <td>Sultamicillin (USAN/INN)</td>\n",
       "      <td>76497-13-7</td>\n",
       "      <td>47207630</td>\n",
       "      <td>NaN</td>\n",
       "      <td>NaN</td>\n",
       "      <td>J34.488E</td>\n",
       "      <td>D05972</td>\n",
       "      <td>NaN</td>\n",
       "      <td>...</td>\n",
       "      <td>NaN</td>\n",
       "      <td>NaN</td>\n",
       "      <td>NaN</td>\n",
       "      <td>NaN</td>\n",
       "      <td>NaN</td>\n",
       "      <td>NaN</td>\n",
       "      <td>NaN</td>\n",
       "      <td>NaN</td>\n",
       "      <td>NaN</td>\n",
       "      <td>NaN</td>\n",
       "    </tr>\n",
       "    <tr>\n",
       "      <th>3</th>\n",
       "      <td>C05349</td>\n",
       "      <td>Compound</td>\n",
       "      <td>Ciprofloxacin</td>\n",
       "      <td>85721-33-1</td>\n",
       "      <td>7727</td>\n",
       "      <td>100241</td>\n",
       "      <td>NaN</td>\n",
       "      <td>J21.732H</td>\n",
       "      <td>NaN</td>\n",
       "      <td>CPF</td>\n",
       "      <td>...</td>\n",
       "      <td>NaN</td>\n",
       "      <td>NaN</td>\n",
       "      <td>NaN</td>\n",
       "      <td>NaN</td>\n",
       "      <td>NaN</td>\n",
       "      <td>NaN</td>\n",
       "      <td>NaN</td>\n",
       "      <td>NaN</td>\n",
       "      <td>NaN</td>\n",
       "      <td>NaN</td>\n",
       "    </tr>\n",
       "    <tr>\n",
       "      <th>4</th>\n",
       "      <td>D00079</td>\n",
       "      <td>Drug</td>\n",
       "      <td>Dinoprostone (JAN/USP/INN)|Cervidil (TN)|Prepi...</td>\n",
       "      <td>363-24-6</td>\n",
       "      <td>7847147</td>\n",
       "      <td>15551</td>\n",
       "      <td>NaN</td>\n",
       "      <td>J9.243F</td>\n",
       "      <td>D00079</td>\n",
       "      <td>P2E</td>\n",
       "      <td>...</td>\n",
       "      <td>NaN</td>\n",
       "      <td>NaN</td>\n",
       "      <td>NaN</td>\n",
       "      <td>NaN</td>\n",
       "      <td>NaN</td>\n",
       "      <td>NaN</td>\n",
       "      <td>NaN</td>\n",
       "      <td>NaN</td>\n",
       "      <td>NaN</td>\n",
       "      <td>NaN</td>\n",
       "    </tr>\n",
       "    <tr>\n",
       "      <th>...</th>\n",
       "      <td>...</td>\n",
       "      <td>...</td>\n",
       "      <td>...</td>\n",
       "      <td>...</td>\n",
       "      <td>...</td>\n",
       "      <td>...</td>\n",
       "      <td>...</td>\n",
       "      <td>...</td>\n",
       "      <td>...</td>\n",
       "      <td>...</td>\n",
       "      <td>...</td>\n",
       "      <td>...</td>\n",
       "      <td>...</td>\n",
       "      <td>...</td>\n",
       "      <td>...</td>\n",
       "      <td>...</td>\n",
       "      <td>...</td>\n",
       "      <td>...</td>\n",
       "      <td>...</td>\n",
       "      <td>...</td>\n",
       "      <td>...</td>\n",
       "    </tr>\n",
       "    <tr>\n",
       "      <th>12794</th>\n",
       "      <td>D03493</td>\n",
       "      <td>Drug</td>\n",
       "      <td>Ciglitazone (USAN/INN)</td>\n",
       "      <td>74772-77-3</td>\n",
       "      <td>17397629</td>\n",
       "      <td>64227</td>\n",
       "      <td>NaN</td>\n",
       "      <td>J20.561C</td>\n",
       "      <td>D03493</td>\n",
       "      <td>NaN</td>\n",
       "      <td>...</td>\n",
       "      <td>NaN</td>\n",
       "      <td>NaN</td>\n",
       "      <td>NaN</td>\n",
       "      <td>NaN</td>\n",
       "      <td>NaN</td>\n",
       "      <td>NaN</td>\n",
       "      <td>NaN</td>\n",
       "      <td>NaN</td>\n",
       "      <td>NaN</td>\n",
       "      <td>NaN</td>\n",
       "    </tr>\n",
       "    <tr>\n",
       "      <th>12795</th>\n",
       "      <td>C17953</td>\n",
       "      <td>Compound</td>\n",
       "      <td>(5S)-Albaflavenol</td>\n",
       "      <td>NaN</td>\n",
       "      <td>96024174</td>\n",
       "      <td>51480</td>\n",
       "      <td>NaN</td>\n",
       "      <td>J2.799.619A</td>\n",
       "      <td>NaN</td>\n",
       "      <td>NaN</td>\n",
       "      <td>...</td>\n",
       "      <td>LMPR0103700009</td>\n",
       "      <td>NaN</td>\n",
       "      <td>NaN</td>\n",
       "      <td>NaN</td>\n",
       "      <td>NaN</td>\n",
       "      <td>NaN</td>\n",
       "      <td>NaN</td>\n",
       "      <td>NaN</td>\n",
       "      <td>NaN</td>\n",
       "      <td>NaN</td>\n",
       "    </tr>\n",
       "    <tr>\n",
       "      <th>12796</th>\n",
       "      <td>C10557</td>\n",
       "      <td>Compound</td>\n",
       "      <td>Dihydroanhydropodorhizol|Yatein|(-)-Yatein|(3R...</td>\n",
       "      <td>40456-50-6</td>\n",
       "      <td>12740</td>\n",
       "      <td>4553</td>\n",
       "      <td>B03955</td>\n",
       "      <td>J257.868I</td>\n",
       "      <td>NaN</td>\n",
       "      <td>YTN</td>\n",
       "      <td>...</td>\n",
       "      <td>NaN</td>\n",
       "      <td>NaN</td>\n",
       "      <td>NaN</td>\n",
       "      <td>C00002598</td>\n",
       "      <td>NaN</td>\n",
       "      <td>NaN</td>\n",
       "      <td>NaN</td>\n",
       "      <td>NaN</td>\n",
       "      <td>NaN</td>\n",
       "      <td>NaN</td>\n",
       "    </tr>\n",
       "    <tr>\n",
       "      <th>12797</th>\n",
       "      <td>C15096</td>\n",
       "      <td>Compound</td>\n",
       "      <td>GV 150013X|N-Phenyl-N'-[(3R)-2,3,4,5-tetrahydr...</td>\n",
       "      <td>NaN</td>\n",
       "      <td>17396093</td>\n",
       "      <td>79615</td>\n",
       "      <td>NaN</td>\n",
       "      <td>J924.335F</td>\n",
       "      <td>NaN</td>\n",
       "      <td>NaN</td>\n",
       "      <td>...</td>\n",
       "      <td>NaN</td>\n",
       "      <td>NaN</td>\n",
       "      <td>NaN</td>\n",
       "      <td>NaN</td>\n",
       "      <td>NaN</td>\n",
       "      <td>NaN</td>\n",
       "      <td>NaN</td>\n",
       "      <td>NaN</td>\n",
       "      <td>NaN</td>\n",
       "      <td>NaN</td>\n",
       "    </tr>\n",
       "    <tr>\n",
       "      <th>12798</th>\n",
       "      <td>D02001</td>\n",
       "      <td>Drug</td>\n",
       "      <td>Sulfamonomethoxine sodium (JAN)|Sulfamonometho...</td>\n",
       "      <td>NaN</td>\n",
       "      <td>7849063</td>\n",
       "      <td>NaN</td>\n",
       "      <td>NaN</td>\n",
       "      <td>NaN</td>\n",
       "      <td>D02001</td>\n",
       "      <td>NaN</td>\n",
       "      <td>...</td>\n",
       "      <td>NaN</td>\n",
       "      <td>NaN</td>\n",
       "      <td>NaN</td>\n",
       "      <td>NaN</td>\n",
       "      <td>NaN</td>\n",
       "      <td>NaN</td>\n",
       "      <td>NaN</td>\n",
       "      <td>NaN</td>\n",
       "      <td>NaN</td>\n",
       "      <td>NaN</td>\n",
       "    </tr>\n",
       "  </tbody>\n",
       "</table>\n",
       "<p>12799 rows × 22 columns</p>\n",
       "</div>"
      ],
      "text/plain": [
       "      entry_id entry_type                                               name  \\\n",
       "0       C01073   Compound                              N-Acetyl-beta-alanine   \n",
       "1       D05267       Drug                           Orbofiban acetate (USAN)   \n",
       "2       D05972       Drug                           Sultamicillin (USAN/INN)   \n",
       "3       C05349   Compound                                      Ciprofloxacin   \n",
       "4       D00079       Drug  Dinoprostone (JAN/USP/INN)|Cervidil (TN)|Prepi...   \n",
       "...        ...        ...                                                ...   \n",
       "12794   D03493       Drug                             Ciglitazone (USAN/INN)   \n",
       "12795   C17953   Compound                                  (5S)-Albaflavenol   \n",
       "12796   C10557   Compound  Dihydroanhydropodorhizol|Yatein|(-)-Yatein|(3R...   \n",
       "12797   C15096   Compound  GV 150013X|N-Phenyl-N'-[(3R)-2,3,4,5-tetrahydr...   \n",
       "12798   D02001       Drug  Sulfamonomethoxine sodium (JAN)|Sulfamonometho...   \n",
       "\n",
       "               CAS   PubChem   ChEBI   3DMET      NIKKAJI LigandBox PDB-CCD  \\\n",
       "0        3025-95-4      4311   16682  B00235    J135.888J       NaN     NaN   \n",
       "1      165800-05-5  47206976     NaN     NaN          NaN    D05267     NaN   \n",
       "2       76497-13-7  47207630     NaN     NaN     J34.488E    D05972     NaN   \n",
       "3       85721-33-1      7727  100241     NaN     J21.732H       NaN     CPF   \n",
       "4         363-24-6   7847147   15551     NaN      J9.243F    D00079     P2E   \n",
       "...            ...       ...     ...     ...          ...       ...     ...   \n",
       "12794   74772-77-3  17397629   64227     NaN     J20.561C    D03493     NaN   \n",
       "12795          NaN  96024174   51480     NaN  J2.799.619A       NaN     NaN   \n",
       "12796   40456-50-6     12740    4553  B03955    J257.868I       NaN     YTN   \n",
       "12797          NaN  17396093   79615     NaN    J924.335F       NaN     NaN   \n",
       "12798          NaN   7849063     NaN     NaN          NaN    D02001     NaN   \n",
       "\n",
       "       ...       LIPIDMAPS JCGGDB LipidBank   KNApSAcK GlycoEpitope ICD-11  \\\n",
       "0      ...             NaN    NaN       NaN        NaN          NaN    NaN   \n",
       "1      ...             NaN    NaN       NaN        NaN          NaN    NaN   \n",
       "2      ...             NaN    NaN       NaN        NaN          NaN    NaN   \n",
       "3      ...             NaN    NaN       NaN        NaN          NaN    NaN   \n",
       "4      ...             NaN    NaN       NaN        NaN          NaN    NaN   \n",
       "...    ...             ...    ...       ...        ...          ...    ...   \n",
       "12794  ...             NaN    NaN       NaN        NaN          NaN    NaN   \n",
       "12795  ...  LMPR0103700009    NaN       NaN        NaN          NaN    NaN   \n",
       "12796  ...             NaN    NaN       NaN  C00002598          NaN    NaN   \n",
       "12797  ...             NaN    NaN       NaN        NaN          NaN    NaN   \n",
       "12798  ...             NaN    NaN       NaN        NaN          NaN    NaN   \n",
       "\n",
       "      ICD-10 MeSH OMIM MedlinePlus  \n",
       "0        NaN  NaN  NaN         NaN  \n",
       "1        NaN  NaN  NaN         NaN  \n",
       "2        NaN  NaN  NaN         NaN  \n",
       "3        NaN  NaN  NaN         NaN  \n",
       "4        NaN  NaN  NaN         NaN  \n",
       "...      ...  ...  ...         ...  \n",
       "12794    NaN  NaN  NaN         NaN  \n",
       "12795    NaN  NaN  NaN         NaN  \n",
       "12796    NaN  NaN  NaN         NaN  \n",
       "12797    NaN  NaN  NaN         NaN  \n",
       "12798    NaN  NaN  NaN         NaN  \n",
       "\n",
       "[12799 rows x 22 columns]"
      ]
     },
     "execution_count": 86,
     "metadata": {},
     "output_type": "execute_result"
    }
   ],
   "source": [
    "kegg_ents_df"
   ]
  },
  {
   "cell_type": "code",
   "execution_count": 87,
   "id": "1b8b549e-8dd3-420a-bd84-ca13d79c032c",
   "metadata": {
    "execution": {
     "iopub.execute_input": "2023-09-24T23:21:49.745074Z",
     "iopub.status.busy": "2023-09-24T23:21:49.744735Z",
     "iopub.status.idle": "2023-09-24T23:21:49.756176Z",
     "shell.execute_reply": "2023-09-24T23:21:49.755734Z",
     "shell.execute_reply.started": "2023-09-24T23:21:49.745044Z"
    },
    "tags": []
   },
   "outputs": [
    {
     "data": {
      "text/plain": [
       "Compound        6342\n",
       "Drug            5991\n",
       "Glycan           330\n",
       "Disease           80\n",
       "Mixture|Drug      56\n",
       "Name: entry_type, dtype: int64"
      ]
     },
     "execution_count": 87,
     "metadata": {},
     "output_type": "execute_result"
    }
   ],
   "source": [
    "kegg_ents_df['entry_type'].value_counts()"
   ]
  },
  {
   "cell_type": "code",
   "execution_count": 88,
   "id": "4cd6200a-649a-40f2-b64b-c2f74f6eff36",
   "metadata": {
    "execution": {
     "iopub.execute_input": "2023-09-24T23:26:03.618707Z",
     "iopub.status.busy": "2023-09-24T23:26:03.618288Z",
     "iopub.status.idle": "2023-09-24T23:26:03.655302Z",
     "shell.execute_reply": "2023-09-24T23:26:03.654307Z",
     "shell.execute_reply.started": "2023-09-24T23:26:03.618675Z"
    },
    "tags": []
   },
   "outputs": [],
   "source": [
    "kegg_ents_df.to_pickle('kegg_ent_mappings_df.pkl')"
   ]
  },
  {
   "cell_type": "markdown",
   "id": "39f5d8a5-64be-4a23-902a-cefc839868b4",
   "metadata": {},
   "source": [
    "### Mapping `Disease` (with ICD-10 codes)"
   ]
  },
  {
   "cell_type": "code",
   "execution_count": 99,
   "id": "50858a6d-8138-4ad5-9c30-bde587fb5c75",
   "metadata": {
    "execution": {
     "iopub.execute_input": "2023-09-24T23:35:18.242789Z",
     "iopub.status.busy": "2023-09-24T23:35:18.241057Z",
     "iopub.status.idle": "2023-09-24T23:35:18.264207Z",
     "shell.execute_reply": "2023-09-24T23:35:18.263331Z",
     "shell.execute_reply.started": "2023-09-24T23:35:18.242753Z"
    },
    "tags": []
   },
   "outputs": [
    {
     "data": {
      "text/plain": [
       "entry_id        80\n",
       "entry_type      80\n",
       "name            80\n",
       "CAS              0\n",
       "PubChem          0\n",
       "ChEBI            0\n",
       "3DMET            0\n",
       "NIKKAJI          0\n",
       "LigandBox        0\n",
       "PDB-CCD          0\n",
       "CCSD             0\n",
       "GlyTouCan        0\n",
       "LIPIDMAPS        0\n",
       "JCGGDB           0\n",
       "LipidBank        0\n",
       "KNApSAcK         0\n",
       "GlycoEpitope     0\n",
       "ICD-11          79\n",
       "ICD-10          78\n",
       "MeSH            71\n",
       "OMIM            41\n",
       "MedlinePlus     19\n",
       "dtype: int64"
      ]
     },
     "execution_count": 99,
     "metadata": {},
     "output_type": "execute_result"
    }
   ],
   "source": [
    "kegg_ents_df[\n",
    "    kegg_ents_df['entry_type'] == 'Disease'\n",
    "].notna().sum()"
   ]
  },
  {
   "cell_type": "code",
   "execution_count": 152,
   "id": "fae32a35-5ff5-446e-be0b-85fbb0142566",
   "metadata": {
    "execution": {
     "iopub.execute_input": "2023-09-26T06:28:34.576481Z",
     "iopub.status.busy": "2023-09-26T06:28:34.576118Z",
     "iopub.status.idle": "2023-09-26T06:28:34.591759Z",
     "shell.execute_reply": "2023-09-26T06:28:34.590839Z",
     "shell.execute_reply.started": "2023-09-26T06:28:34.576449Z"
    },
    "tags": []
   },
   "outputs": [],
   "source": [
    "kegg_disease_mapping_df = kegg_ents_df[\n",
    "    kegg_ents_df['entry_type'] == 'Disease'\n",
    "][['entry_id', 'ICD-10']].drop_duplicates().dropna()"
   ]
  },
  {
   "cell_type": "code",
   "execution_count": 165,
   "id": "941f8ca7-5012-41b3-a356-8a353bbf81ae",
   "metadata": {
    "execution": {
     "iopub.execute_input": "2023-09-26T06:33:13.620643Z",
     "iopub.status.busy": "2023-09-26T06:33:13.620215Z",
     "iopub.status.idle": "2023-09-26T06:33:13.629436Z",
     "shell.execute_reply": "2023-09-26T06:33:13.628726Z",
     "shell.execute_reply.started": "2023-09-26T06:33:13.620612Z"
    },
    "tags": []
   },
   "outputs": [],
   "source": [
    "kegg_disease_mapping_df['ICD-10'] = (\n",
    "    kegg_disease_mapping_df['ICD-10'].apply(lambda x: x.split(' '))\n",
    ")\n",
    "kegg_disease_mapping_df = kegg_disease_mapping_df.explode('ICD-10')"
   ]
  },
  {
   "cell_type": "code",
   "execution_count": 167,
   "id": "d62efc01-e58e-4d60-a2ae-10a524cb2c6c",
   "metadata": {
    "execution": {
     "iopub.execute_input": "2023-09-26T06:33:23.510076Z",
     "iopub.status.busy": "2023-09-26T06:33:23.509681Z",
     "iopub.status.idle": "2023-09-26T06:33:28.418966Z",
     "shell.execute_reply": "2023-09-26T06:33:28.417734Z",
     "shell.execute_reply.started": "2023-09-26T06:33:23.510045Z"
    },
    "tags": []
   },
   "outputs": [],
   "source": [
    "kegg_disease_mapping_mrconso_df = pd.merge(\n",
    "    left=kegg_disease_mapping_df,\n",
    "    right=mrconso_st_df[['CUI', 'STR', 'CODE', 'SAB']],\n",
    "    left_on='ICD-10',\n",
    "    right_on='CODE',\n",
    "    how='left'\n",
    ")"
   ]
  },
  {
   "cell_type": "code",
   "execution_count": 168,
   "id": "714c1e25-b1fe-4efb-8fae-d9f43a9ef9ac",
   "metadata": {
    "execution": {
     "iopub.execute_input": "2023-09-26T06:33:30.587658Z",
     "iopub.status.busy": "2023-09-26T06:33:30.587310Z",
     "iopub.status.idle": "2023-09-26T06:33:30.600868Z",
     "shell.execute_reply": "2023-09-26T06:33:30.600286Z",
     "shell.execute_reply.started": "2023-09-26T06:33:30.587624Z"
    },
    "tags": []
   },
   "outputs": [
    {
     "data": {
      "text/html": [
       "<div>\n",
       "<style scoped>\n",
       "    .dataframe tbody tr th:only-of-type {\n",
       "        vertical-align: middle;\n",
       "    }\n",
       "\n",
       "    .dataframe tbody tr th {\n",
       "        vertical-align: top;\n",
       "    }\n",
       "\n",
       "    .dataframe thead th {\n",
       "        text-align: right;\n",
       "    }\n",
       "</style>\n",
       "<table border=\"1\" class=\"dataframe\">\n",
       "  <thead>\n",
       "    <tr style=\"text-align: right;\">\n",
       "      <th></th>\n",
       "      <th>entry_id</th>\n",
       "      <th>ICD-10</th>\n",
       "      <th>CUI</th>\n",
       "      <th>STR</th>\n",
       "      <th>CODE</th>\n",
       "      <th>SAB</th>\n",
       "    </tr>\n",
       "  </thead>\n",
       "  <tbody>\n",
       "    <tr>\n",
       "      <th>0</th>\n",
       "      <td>H00081</td>\n",
       "      <td>E06.3</td>\n",
       "      <td>C0342125</td>\n",
       "      <td>Hashitoxicosis (transient)</td>\n",
       "      <td>E06.3</td>\n",
       "      <td>ICD10CM</td>\n",
       "    </tr>\n",
       "    <tr>\n",
       "      <th>1</th>\n",
       "      <td>H00081</td>\n",
       "      <td>E06.3</td>\n",
       "      <td>C0677606</td>\n",
       "      <td>Lymphadenoid goiter</td>\n",
       "      <td>E06.3</td>\n",
       "      <td>ICD10CM</td>\n",
       "    </tr>\n",
       "    <tr>\n",
       "      <th>2</th>\n",
       "      <td>H00081</td>\n",
       "      <td>E06.3</td>\n",
       "      <td>C0677607</td>\n",
       "      <td>Hashimoto's thyroiditis</td>\n",
       "      <td>E06.3</td>\n",
       "      <td>ICD10CM</td>\n",
       "    </tr>\n",
       "    <tr>\n",
       "      <th>3</th>\n",
       "      <td>H00081</td>\n",
       "      <td>E06.3</td>\n",
       "      <td>C0677607</td>\n",
       "      <td>Struma lymphomatosa</td>\n",
       "      <td>E06.3</td>\n",
       "      <td>ICD10CM</td>\n",
       "    </tr>\n",
       "    <tr>\n",
       "      <th>4</th>\n",
       "      <td>H00081</td>\n",
       "      <td>E06.3</td>\n",
       "      <td>C0920350</td>\n",
       "      <td>Autoimmune thyroiditis</td>\n",
       "      <td>E06.3</td>\n",
       "      <td>ICD10</td>\n",
       "    </tr>\n",
       "    <tr>\n",
       "      <th>...</th>\n",
       "      <td>...</td>\n",
       "      <td>...</td>\n",
       "      <td>...</td>\n",
       "      <td>...</td>\n",
       "      <td>...</td>\n",
       "      <td>...</td>\n",
       "    </tr>\n",
       "    <tr>\n",
       "      <th>664</th>\n",
       "      <td>H01563</td>\n",
       "      <td>B24</td>\n",
       "      <td>C0019693</td>\n",
       "      <td>Unspecified human immunodeficiency virus [HIV]...</td>\n",
       "      <td>B24</td>\n",
       "      <td>ICD10AM</td>\n",
       "    </tr>\n",
       "    <tr>\n",
       "      <th>665</th>\n",
       "      <td>H01563</td>\n",
       "      <td>B24</td>\n",
       "      <td>C0019693</td>\n",
       "      <td>Unspecified human immunodeficiency virus [HIV]...</td>\n",
       "      <td>B24</td>\n",
       "      <td>ICD10</td>\n",
       "    </tr>\n",
       "    <tr>\n",
       "      <th>666</th>\n",
       "      <td>H01563</td>\n",
       "      <td>B24</td>\n",
       "      <td>C2500275</td>\n",
       "      <td>Imaging @ Heart @ Ultrasonography</td>\n",
       "      <td>B24</td>\n",
       "      <td>ICD10PCS</td>\n",
       "    </tr>\n",
       "    <tr>\n",
       "      <th>667</th>\n",
       "      <td>H01563</td>\n",
       "      <td>B24</td>\n",
       "      <td>C2500275</td>\n",
       "      <td>Imaging, Heart, Ultrasonography</td>\n",
       "      <td>B24</td>\n",
       "      <td>ICD10PCS</td>\n",
       "    </tr>\n",
       "    <tr>\n",
       "      <th>668</th>\n",
       "      <td>H01563</td>\n",
       "      <td>B24</td>\n",
       "      <td>C2500275</td>\n",
       "      <td>Imaging, Heart, Ultrasonography</td>\n",
       "      <td>B24</td>\n",
       "      <td>ICD10PCS</td>\n",
       "    </tr>\n",
       "  </tbody>\n",
       "</table>\n",
       "<p>669 rows × 6 columns</p>\n",
       "</div>"
      ],
      "text/plain": [
       "    entry_id ICD-10       CUI  \\\n",
       "0     H00081  E06.3  C0342125   \n",
       "1     H00081  E06.3  C0677606   \n",
       "2     H00081  E06.3  C0677607   \n",
       "3     H00081  E06.3  C0677607   \n",
       "4     H00081  E06.3  C0920350   \n",
       "..       ...    ...       ...   \n",
       "664   H01563    B24  C0019693   \n",
       "665   H01563    B24  C0019693   \n",
       "666   H01563    B24  C2500275   \n",
       "667   H01563    B24  C2500275   \n",
       "668   H01563    B24  C2500275   \n",
       "\n",
       "                                                   STR   CODE       SAB  \n",
       "0                           Hashitoxicosis (transient)  E06.3   ICD10CM  \n",
       "1                                  Lymphadenoid goiter  E06.3   ICD10CM  \n",
       "2                              Hashimoto's thyroiditis  E06.3   ICD10CM  \n",
       "3                                  Struma lymphomatosa  E06.3   ICD10CM  \n",
       "4                               Autoimmune thyroiditis  E06.3     ICD10  \n",
       "..                                                 ...    ...       ...  \n",
       "664  Unspecified human immunodeficiency virus [HIV]...    B24   ICD10AM  \n",
       "665  Unspecified human immunodeficiency virus [HIV]...    B24     ICD10  \n",
       "666                  Imaging @ Heart @ Ultrasonography    B24  ICD10PCS  \n",
       "667                    Imaging, Heart, Ultrasonography    B24  ICD10PCS  \n",
       "668                    Imaging, Heart, Ultrasonography    B24  ICD10PCS  \n",
       "\n",
       "[669 rows x 6 columns]"
      ]
     },
     "execution_count": 168,
     "metadata": {},
     "output_type": "execute_result"
    }
   ],
   "source": [
    "kegg_disease_mapping_mrconso_df"
   ]
  },
  {
   "cell_type": "code",
   "execution_count": 169,
   "id": "229eb998-1abb-4320-aaa5-0318bf47798d",
   "metadata": {
    "execution": {
     "iopub.execute_input": "2023-09-26T06:33:31.614566Z",
     "iopub.status.busy": "2023-09-26T06:33:31.614355Z",
     "iopub.status.idle": "2023-09-26T06:33:31.622206Z",
     "shell.execute_reply": "2023-09-26T06:33:31.621583Z",
     "shell.execute_reply.started": "2023-09-26T06:33:31.614551Z"
    },
    "tags": []
   },
   "outputs": [
    {
     "data": {
      "text/html": [
       "<div>\n",
       "<style scoped>\n",
       "    .dataframe tbody tr th:only-of-type {\n",
       "        vertical-align: middle;\n",
       "    }\n",
       "\n",
       "    .dataframe tbody tr th {\n",
       "        vertical-align: top;\n",
       "    }\n",
       "\n",
       "    .dataframe thead th {\n",
       "        text-align: right;\n",
       "    }\n",
       "</style>\n",
       "<table border=\"1\" class=\"dataframe\">\n",
       "  <thead>\n",
       "    <tr style=\"text-align: right;\">\n",
       "      <th></th>\n",
       "      <th>entry_id</th>\n",
       "      <th>ICD-10</th>\n",
       "      <th>CUI</th>\n",
       "      <th>STR</th>\n",
       "      <th>CODE</th>\n",
       "      <th>SAB</th>\n",
       "    </tr>\n",
       "  </thead>\n",
       "  <tbody>\n",
       "    <tr>\n",
       "      <th>519</th>\n",
       "      <td>H00330</td>\n",
       "      <td>U82.1</td>\n",
       "      <td>NaN</td>\n",
       "      <td>NaN</td>\n",
       "      <td>NaN</td>\n",
       "      <td>NaN</td>\n",
       "    </tr>\n",
       "    <tr>\n",
       "      <th>607</th>\n",
       "      <td>H00331</td>\n",
       "      <td>U83.0</td>\n",
       "      <td>NaN</td>\n",
       "      <td>NaN</td>\n",
       "      <td>NaN</td>\n",
       "      <td>NaN</td>\n",
       "    </tr>\n",
       "  </tbody>\n",
       "</table>\n",
       "</div>"
      ],
      "text/plain": [
       "    entry_id ICD-10  CUI  STR CODE  SAB\n",
       "519   H00330  U82.1  NaN  NaN  NaN  NaN\n",
       "607   H00331  U83.0  NaN  NaN  NaN  NaN"
      ]
     },
     "execution_count": 169,
     "metadata": {},
     "output_type": "execute_result"
    }
   ],
   "source": [
    "kegg_disease_mapping_mrconso_df[\n",
    "    kegg_disease_mapping_mrconso_df['CUI'].isna()\n",
    "]"
   ]
  },
  {
   "cell_type": "code",
   "execution_count": 173,
   "id": "071db9e2-467d-44eb-9d79-30dfceeed7e4",
   "metadata": {
    "execution": {
     "iopub.execute_input": "2023-09-26T06:35:36.892744Z",
     "iopub.status.busy": "2023-09-26T06:35:36.892360Z",
     "iopub.status.idle": "2023-09-26T06:35:36.899934Z",
     "shell.execute_reply": "2023-09-26T06:35:36.899131Z",
     "shell.execute_reply.started": "2023-09-26T06:35:36.892713Z"
    },
    "tags": []
   },
   "outputs": [],
   "source": [
    "kegg_disease_mapping_mrconso_df = kegg_disease_mapping_mrconso_df.dropna()\n",
    "kegg_disease_mapping_mrconso_df = kegg_disease_mapping_mrconso_df[\n",
    "    kegg_disease_mapping_mrconso_df['SAB'].str.contains('ICD10')\n",
    "]"
   ]
  },
  {
   "cell_type": "code",
   "execution_count": 174,
   "id": "9d9cbba3-4030-44b2-b6b6-ea07dd8689e3",
   "metadata": {
    "execution": {
     "iopub.execute_input": "2023-09-26T06:35:39.581240Z",
     "iopub.status.busy": "2023-09-26T06:35:39.580889Z",
     "iopub.status.idle": "2023-09-26T06:35:39.588339Z",
     "shell.execute_reply": "2023-09-26T06:35:39.587611Z",
     "shell.execute_reply.started": "2023-09-26T06:35:39.581210Z"
    },
    "tags": []
   },
   "outputs": [
    {
     "data": {
      "text/plain": [
       "ICD10CM      307\n",
       "ICD10        106\n",
       "ICD10AM      104\n",
       "ICD10PCS      57\n",
       "ICD10AE        9\n",
       "ICD10AMAE      9\n",
       "Name: SAB, dtype: int64"
      ]
     },
     "execution_count": 174,
     "metadata": {},
     "output_type": "execute_result"
    }
   ],
   "source": [
    "kegg_disease_mapping_mrconso_df['SAB'].value_counts()"
   ]
  },
  {
   "cell_type": "code",
   "execution_count": 175,
   "id": "b79c0769-4277-4240-8ee1-d12479957868",
   "metadata": {
    "execution": {
     "iopub.execute_input": "2023-09-26T06:35:47.656754Z",
     "iopub.status.busy": "2023-09-26T06:35:47.656422Z",
     "iopub.status.idle": "2023-09-26T06:35:47.669097Z",
     "shell.execute_reply": "2023-09-26T06:35:47.668497Z",
     "shell.execute_reply.started": "2023-09-26T06:35:47.656725Z"
    },
    "tags": []
   },
   "outputs": [
    {
     "data": {
      "text/html": [
       "<div>\n",
       "<style scoped>\n",
       "    .dataframe tbody tr th:only-of-type {\n",
       "        vertical-align: middle;\n",
       "    }\n",
       "\n",
       "    .dataframe tbody tr th {\n",
       "        vertical-align: top;\n",
       "    }\n",
       "\n",
       "    .dataframe thead th {\n",
       "        text-align: right;\n",
       "    }\n",
       "</style>\n",
       "<table border=\"1\" class=\"dataframe\">\n",
       "  <thead>\n",
       "    <tr style=\"text-align: right;\">\n",
       "      <th></th>\n",
       "      <th>entry_id</th>\n",
       "      <th>ICD-10</th>\n",
       "      <th>CUI</th>\n",
       "      <th>STR</th>\n",
       "      <th>CODE</th>\n",
       "      <th>SAB</th>\n",
       "    </tr>\n",
       "  </thead>\n",
       "  <tbody>\n",
       "    <tr>\n",
       "      <th>0</th>\n",
       "      <td>H00081</td>\n",
       "      <td>E06.3</td>\n",
       "      <td>C0342125</td>\n",
       "      <td>Hashitoxicosis (transient)</td>\n",
       "      <td>E06.3</td>\n",
       "      <td>ICD10CM</td>\n",
       "    </tr>\n",
       "    <tr>\n",
       "      <th>1</th>\n",
       "      <td>H00081</td>\n",
       "      <td>E06.3</td>\n",
       "      <td>C0677606</td>\n",
       "      <td>Lymphadenoid goiter</td>\n",
       "      <td>E06.3</td>\n",
       "      <td>ICD10CM</td>\n",
       "    </tr>\n",
       "    <tr>\n",
       "      <th>2</th>\n",
       "      <td>H00081</td>\n",
       "      <td>E06.3</td>\n",
       "      <td>C0677607</td>\n",
       "      <td>Hashimoto's thyroiditis</td>\n",
       "      <td>E06.3</td>\n",
       "      <td>ICD10CM</td>\n",
       "    </tr>\n",
       "    <tr>\n",
       "      <th>3</th>\n",
       "      <td>H00081</td>\n",
       "      <td>E06.3</td>\n",
       "      <td>C0677607</td>\n",
       "      <td>Struma lymphomatosa</td>\n",
       "      <td>E06.3</td>\n",
       "      <td>ICD10CM</td>\n",
       "    </tr>\n",
       "    <tr>\n",
       "      <th>4</th>\n",
       "      <td>H00081</td>\n",
       "      <td>E06.3</td>\n",
       "      <td>C0920350</td>\n",
       "      <td>Autoimmune thyroiditis</td>\n",
       "      <td>E06.3</td>\n",
       "      <td>ICD10</td>\n",
       "    </tr>\n",
       "    <tr>\n",
       "      <th>...</th>\n",
       "      <td>...</td>\n",
       "      <td>...</td>\n",
       "      <td>...</td>\n",
       "      <td>...</td>\n",
       "      <td>...</td>\n",
       "      <td>...</td>\n",
       "    </tr>\n",
       "    <tr>\n",
       "      <th>664</th>\n",
       "      <td>H01563</td>\n",
       "      <td>B24</td>\n",
       "      <td>C0019693</td>\n",
       "      <td>Unspecified human immunodeficiency virus [HIV]...</td>\n",
       "      <td>B24</td>\n",
       "      <td>ICD10AM</td>\n",
       "    </tr>\n",
       "    <tr>\n",
       "      <th>665</th>\n",
       "      <td>H01563</td>\n",
       "      <td>B24</td>\n",
       "      <td>C0019693</td>\n",
       "      <td>Unspecified human immunodeficiency virus [HIV]...</td>\n",
       "      <td>B24</td>\n",
       "      <td>ICD10</td>\n",
       "    </tr>\n",
       "    <tr>\n",
       "      <th>666</th>\n",
       "      <td>H01563</td>\n",
       "      <td>B24</td>\n",
       "      <td>C2500275</td>\n",
       "      <td>Imaging @ Heart @ Ultrasonography</td>\n",
       "      <td>B24</td>\n",
       "      <td>ICD10PCS</td>\n",
       "    </tr>\n",
       "    <tr>\n",
       "      <th>667</th>\n",
       "      <td>H01563</td>\n",
       "      <td>B24</td>\n",
       "      <td>C2500275</td>\n",
       "      <td>Imaging, Heart, Ultrasonography</td>\n",
       "      <td>B24</td>\n",
       "      <td>ICD10PCS</td>\n",
       "    </tr>\n",
       "    <tr>\n",
       "      <th>668</th>\n",
       "      <td>H01563</td>\n",
       "      <td>B24</td>\n",
       "      <td>C2500275</td>\n",
       "      <td>Imaging, Heart, Ultrasonography</td>\n",
       "      <td>B24</td>\n",
       "      <td>ICD10PCS</td>\n",
       "    </tr>\n",
       "  </tbody>\n",
       "</table>\n",
       "<p>592 rows × 6 columns</p>\n",
       "</div>"
      ],
      "text/plain": [
       "    entry_id ICD-10       CUI  \\\n",
       "0     H00081  E06.3  C0342125   \n",
       "1     H00081  E06.3  C0677606   \n",
       "2     H00081  E06.3  C0677607   \n",
       "3     H00081  E06.3  C0677607   \n",
       "4     H00081  E06.3  C0920350   \n",
       "..       ...    ...       ...   \n",
       "664   H01563    B24  C0019693   \n",
       "665   H01563    B24  C0019693   \n",
       "666   H01563    B24  C2500275   \n",
       "667   H01563    B24  C2500275   \n",
       "668   H01563    B24  C2500275   \n",
       "\n",
       "                                                   STR   CODE       SAB  \n",
       "0                           Hashitoxicosis (transient)  E06.3   ICD10CM  \n",
       "1                                  Lymphadenoid goiter  E06.3   ICD10CM  \n",
       "2                              Hashimoto's thyroiditis  E06.3   ICD10CM  \n",
       "3                                  Struma lymphomatosa  E06.3   ICD10CM  \n",
       "4                               Autoimmune thyroiditis  E06.3     ICD10  \n",
       "..                                                 ...    ...       ...  \n",
       "664  Unspecified human immunodeficiency virus [HIV]...    B24   ICD10AM  \n",
       "665  Unspecified human immunodeficiency virus [HIV]...    B24     ICD10  \n",
       "666                  Imaging @ Heart @ Ultrasonography    B24  ICD10PCS  \n",
       "667                    Imaging, Heart, Ultrasonography    B24  ICD10PCS  \n",
       "668                    Imaging, Heart, Ultrasonography    B24  ICD10PCS  \n",
       "\n",
       "[592 rows x 6 columns]"
      ]
     },
     "execution_count": 175,
     "metadata": {},
     "output_type": "execute_result"
    }
   ],
   "source": [
    "kegg_disease_mapping_mrconso_df"
   ]
  },
  {
   "cell_type": "markdown",
   "id": "4f9775c1-6144-4bf5-8959-e54f6db7ffc4",
   "metadata": {},
   "source": [
    "#### `kegg_to_umls_disease_agg_dict`"
   ]
  },
  {
   "cell_type": "code",
   "execution_count": 176,
   "id": "5eb8ea3d-e59a-4aad-b7ca-8a9b76f98d12",
   "metadata": {
    "execution": {
     "iopub.execute_input": "2023-09-26T06:36:32.549508Z",
     "iopub.status.busy": "2023-09-26T06:36:32.549022Z",
     "iopub.status.idle": "2023-09-26T06:36:32.563942Z",
     "shell.execute_reply": "2023-09-26T06:36:32.563050Z",
     "shell.execute_reply.started": "2023-09-26T06:36:32.549476Z"
    },
    "tags": []
   },
   "outputs": [],
   "source": [
    "kegg_to_umls_disease_agg_dict = (\n",
    "    kegg_disease_mapping_mrconso_df[['entry_id', 'CUI']]\n",
    "        .groupby('entry_id')\n",
    "        .agg(set)\n",
    "        ['CUI']\n",
    ")"
   ]
  },
  {
   "cell_type": "code",
   "execution_count": 178,
   "id": "ad4bc43f-44ae-421d-b0f0-ea2759d62fea",
   "metadata": {
    "execution": {
     "iopub.execute_input": "2023-09-26T06:36:42.022622Z",
     "iopub.status.busy": "2023-09-26T06:36:42.022257Z",
     "iopub.status.idle": "2023-09-26T06:36:42.027562Z",
     "shell.execute_reply": "2023-09-26T06:36:42.027038Z",
     "shell.execute_reply.started": "2023-09-26T06:36:42.022593Z"
    },
    "tags": []
   },
   "outputs": [
    {
     "data": {
      "text/plain": [
       "{'C0023473', 'C1292771', 'C2861579', 'C2861580'}"
      ]
     },
     "execution_count": 178,
     "metadata": {},
     "output_type": "execute_result"
    }
   ],
   "source": [
    "kegg_to_umls_disease_agg_dict['H00004']"
   ]
  },
  {
   "cell_type": "markdown",
   "id": "0cd6d229-d4a5-44e9-87b8-b0086f5b622d",
   "metadata": {},
   "source": [
    "### Mapping `Drug` and `Compound`"
   ]
  },
  {
   "cell_type": "markdown",
   "id": "0a9de1f6-6e46-4444-86f1-a5f6778209db",
   "metadata": {},
   "source": [
    "#### -> CAS"
   ]
  },
  {
   "cell_type": "code",
   "execution_count": 105,
   "id": "45ec45f9-850b-478e-ad35-0bf1e2bfd34e",
   "metadata": {
    "execution": {
     "iopub.execute_input": "2023-09-24T23:38:42.209157Z",
     "iopub.status.busy": "2023-09-24T23:38:42.208541Z",
     "iopub.status.idle": "2023-09-24T23:38:42.260890Z",
     "shell.execute_reply": "2023-09-24T23:38:42.260087Z",
     "shell.execute_reply.started": "2023-09-24T23:38:42.209116Z"
    },
    "tags": []
   },
   "outputs": [
    {
     "data": {
      "text/plain": [
       "CCSD                0\n",
       "MeSH                0\n",
       "ICD-10              0\n",
       "ICD-11              0\n",
       "GlycoEpitope        0\n",
       "LipidBank           0\n",
       "JCGGDB              0\n",
       "GlyTouCan           0\n",
       "OMIM                0\n",
       "MedlinePlus         0\n",
       "LIPIDMAPS        1369\n",
       "KNApSAcK         1558\n",
       "PDB-CCD          2499\n",
       "3DMET            2802\n",
       "LigandBox        4118\n",
       "NIKKAJI          7454\n",
       "ChEBI            7888\n",
       "CAS              8660\n",
       "PubChem         11620\n",
       "name            12333\n",
       "entry_type      12333\n",
       "entry_id        12333\n",
       "dtype: int64"
      ]
     },
     "execution_count": 105,
     "metadata": {},
     "output_type": "execute_result"
    }
   ],
   "source": [
    "kegg_ents_df[\n",
    "    kegg_ents_df['entry_type'].isin(\n",
    "        {'Drug', 'Compound'}\n",
    "    )\n",
    "].notna().sum().sort_values()"
   ]
  },
  {
   "cell_type": "code",
   "execution_count": 118,
   "id": "136df601-a8fd-4f3b-a8ba-fe40f1d12a2e",
   "metadata": {
    "execution": {
     "iopub.execute_input": "2023-09-25T14:17:42.443370Z",
     "iopub.status.busy": "2023-09-25T14:17:42.442983Z",
     "iopub.status.idle": "2023-09-25T14:17:42.466766Z",
     "shell.execute_reply": "2023-09-25T14:17:42.466090Z",
     "shell.execute_reply.started": "2023-09-25T14:17:42.443339Z"
    },
    "tags": []
   },
   "outputs": [
    {
     "data": {
      "text/plain": [
       "8660"
      ]
     },
     "execution_count": 118,
     "metadata": {},
     "output_type": "execute_result"
    }
   ],
   "source": [
    "kegg_entry_to_CAS_df = (\n",
    "    kegg_ents_df[\n",
    "        kegg_ents_df['entry_type']\n",
    "            .isin({'Drug', 'Compound'})\n",
    "    ]\n",
    "    [['entry_id', 'CAS']]\n",
    "    .dropna()\n",
    "    .drop_duplicates()\n",
    ")\n",
    "len(kegg_entry_to_CAS_df)"
   ]
  },
  {
   "cell_type": "code",
   "execution_count": 119,
   "id": "6f1f7682-3651-463d-87ba-851ac66a73b1",
   "metadata": {
    "execution": {
     "iopub.execute_input": "2023-09-25T14:17:42.978074Z",
     "iopub.status.busy": "2023-09-25T14:17:42.977788Z",
     "iopub.status.idle": "2023-09-25T14:17:42.992122Z",
     "shell.execute_reply": "2023-09-25T14:17:42.991437Z",
     "shell.execute_reply.started": "2023-09-25T14:17:42.978048Z"
    },
    "tags": []
   },
   "outputs": [],
   "source": [
    "kegg_entry_to_CAS_df['CAS'] = kegg_entry_to_CAS_df['CAS'].apply(lambda x: x.split(' '))\n",
    "kegg_entry_to_CAS_df = kegg_entry_to_CAS_df.explode('CAS')"
   ]
  },
  {
   "cell_type": "markdown",
   "id": "dd73bb5a-b2de-4727-9a9d-e54203aa50e5",
   "metadata": {},
   "source": [
    "#### --> CUI (`kegg_to_umls_compdrug_agg_dict`)"
   ]
  },
  {
   "cell_type": "code",
   "execution_count": 144,
   "id": "87ca8f1c-8741-45f5-901a-3442c5c283b9",
   "metadata": {
    "execution": {
     "iopub.execute_input": "2023-09-26T06:23:34.684180Z",
     "iopub.status.busy": "2023-09-26T06:23:34.683524Z",
     "iopub.status.idle": "2023-09-26T06:23:34.712784Z",
     "shell.execute_reply": "2023-09-26T06:23:34.712029Z",
     "shell.execute_reply.started": "2023-09-26T06:23:34.684147Z"
    },
    "tags": []
   },
   "outputs": [],
   "source": [
    "kegg_entry_to_CAS_df['cui'] = (\n",
    "    kegg_entry_to_CAS_df['CAS'].apply(\n",
    "        lambda x: cas_to_cui_dict.get(x)\n",
    "    )\n",
    ")\n",
    "kegg_entry_to_CAS_df = (\n",
    "    kegg_entry_to_CAS_df.explode('cui')\n",
    ")"
   ]
  },
  {
   "cell_type": "code",
   "execution_count": 145,
   "id": "bf9e0232-2515-48ba-9221-af03b54d9562",
   "metadata": {
    "execution": {
     "iopub.execute_input": "2023-09-26T06:23:44.705630Z",
     "iopub.status.busy": "2023-09-26T06:23:44.705380Z",
     "iopub.status.idle": "2023-09-26T06:23:44.718066Z",
     "shell.execute_reply": "2023-09-26T06:23:44.717144Z",
     "shell.execute_reply.started": "2023-09-26T06:23:44.705614Z"
    },
    "tags": []
   },
   "outputs": [
    {
     "data": {
      "text/html": [
       "<div>\n",
       "<style scoped>\n",
       "    .dataframe tbody tr th:only-of-type {\n",
       "        vertical-align: middle;\n",
       "    }\n",
       "\n",
       "    .dataframe tbody tr th {\n",
       "        vertical-align: top;\n",
       "    }\n",
       "\n",
       "    .dataframe thead th {\n",
       "        text-align: right;\n",
       "    }\n",
       "</style>\n",
       "<table border=\"1\" class=\"dataframe\">\n",
       "  <thead>\n",
       "    <tr style=\"text-align: right;\">\n",
       "      <th></th>\n",
       "      <th>entry_id</th>\n",
       "      <th>CAS</th>\n",
       "      <th>cui</th>\n",
       "    </tr>\n",
       "  </thead>\n",
       "  <tbody>\n",
       "    <tr>\n",
       "      <th>0</th>\n",
       "      <td>C01073</td>\n",
       "      <td>3025-95-4</td>\n",
       "      <td>None</td>\n",
       "    </tr>\n",
       "    <tr>\n",
       "      <th>1</th>\n",
       "      <td>D05267</td>\n",
       "      <td>165800-05-5</td>\n",
       "      <td>C1456730</td>\n",
       "    </tr>\n",
       "    <tr>\n",
       "      <th>1</th>\n",
       "      <td>D05267</td>\n",
       "      <td>165800-05-5</td>\n",
       "      <td>C0769787</td>\n",
       "    </tr>\n",
       "    <tr>\n",
       "      <th>1</th>\n",
       "      <td>D05267</td>\n",
       "      <td>165800-05-5</td>\n",
       "      <td>C0769784</td>\n",
       "    </tr>\n",
       "    <tr>\n",
       "      <th>2</th>\n",
       "      <td>D05972</td>\n",
       "      <td>76497-13-7</td>\n",
       "      <td>C0110853</td>\n",
       "    </tr>\n",
       "    <tr>\n",
       "      <th>...</th>\n",
       "      <td>...</td>\n",
       "      <td>...</td>\n",
       "      <td>...</td>\n",
       "    </tr>\n",
       "    <tr>\n",
       "      <th>12792</th>\n",
       "      <td>D12691</td>\n",
       "      <td>16008-36-9</td>\n",
       "      <td>None</td>\n",
       "    </tr>\n",
       "    <tr>\n",
       "      <th>12793</th>\n",
       "      <td>D12202</td>\n",
       "      <td>1924598-82-2</td>\n",
       "      <td>C4763386</td>\n",
       "    </tr>\n",
       "    <tr>\n",
       "      <th>12794</th>\n",
       "      <td>D03493</td>\n",
       "      <td>74772-77-3</td>\n",
       "      <td>C0055721</td>\n",
       "    </tr>\n",
       "    <tr>\n",
       "      <th>12794</th>\n",
       "      <td>D03493</td>\n",
       "      <td>74772-77-3</td>\n",
       "      <td>C0101496</td>\n",
       "    </tr>\n",
       "    <tr>\n",
       "      <th>12796</th>\n",
       "      <td>C10557</td>\n",
       "      <td>40456-50-6</td>\n",
       "      <td>C1121924</td>\n",
       "    </tr>\n",
       "  </tbody>\n",
       "</table>\n",
       "<p>49205 rows × 3 columns</p>\n",
       "</div>"
      ],
      "text/plain": [
       "      entry_id           CAS       cui\n",
       "0       C01073     3025-95-4      None\n",
       "1       D05267   165800-05-5  C1456730\n",
       "1       D05267   165800-05-5  C0769787\n",
       "1       D05267   165800-05-5  C0769784\n",
       "2       D05972    76497-13-7  C0110853\n",
       "...        ...           ...       ...\n",
       "12792   D12691    16008-36-9      None\n",
       "12793   D12202  1924598-82-2  C4763386\n",
       "12794   D03493    74772-77-3  C0055721\n",
       "12794   D03493    74772-77-3  C0101496\n",
       "12796   C10557    40456-50-6  C1121924\n",
       "\n",
       "[49205 rows x 3 columns]"
      ]
     },
     "execution_count": 145,
     "metadata": {},
     "output_type": "execute_result"
    }
   ],
   "source": [
    "kegg_entry_to_CAS_df"
   ]
  },
  {
   "cell_type": "code",
   "execution_count": 146,
   "id": "3c47ea9b-466b-4691-838c-5c0083260ae3",
   "metadata": {
    "execution": {
     "iopub.execute_input": "2023-09-26T06:25:16.983117Z",
     "iopub.status.busy": "2023-09-26T06:25:16.982720Z",
     "iopub.status.idle": "2023-09-26T06:25:17.204159Z",
     "shell.execute_reply": "2023-09-26T06:25:17.203421Z",
     "shell.execute_reply.started": "2023-09-26T06:25:16.983086Z"
    },
    "tags": []
   },
   "outputs": [],
   "source": [
    "kegg_to_umls_compdrug_agg_dict = (\n",
    "    kegg_entry_to_CAS_df\n",
    "        .dropna()\n",
    "        .groupby('entry_id')\n",
    "        .agg(set)\n",
    "        ['cui']\n",
    ")"
   ]
  },
  {
   "cell_type": "code",
   "execution_count": 147,
   "id": "62d6e86f-ff75-4d82-ae78-f58ec9fff00c",
   "metadata": {
    "execution": {
     "iopub.execute_input": "2023-09-26T06:25:18.041856Z",
     "iopub.status.busy": "2023-09-26T06:25:18.041704Z",
     "iopub.status.idle": "2023-09-26T06:25:18.046823Z",
     "shell.execute_reply": "2023-09-26T06:25:18.046317Z",
     "shell.execute_reply.started": "2023-09-26T06:25:18.041839Z"
    },
    "tags": []
   },
   "outputs": [
    {
     "data": {
      "text/plain": [
       "{'C0001480',\n",
       " 'C0004221',\n",
       " 'C0006618',\n",
       " 'C0024471',\n",
       " 'C0109657',\n",
       " 'C0126945',\n",
       " 'C0701945',\n",
       " 'C0701946',\n",
       " 'C0949213'}"
      ]
     },
     "execution_count": 147,
     "metadata": {},
     "output_type": "execute_result"
    }
   ],
   "source": [
    "kegg_to_umls_compdrug_agg_dict['C00002']"
   ]
  },
  {
   "cell_type": "markdown",
   "id": "87f6e790-599b-4b71-af64-ed8ad5abd2fd",
   "metadata": {},
   "source": [
    "### Mapping `Gene`"
   ]
  },
  {
   "cell_type": "code",
   "execution_count": 181,
   "id": "4b7b4669-8eda-45ec-bc6b-082db8e340bc",
   "metadata": {
    "execution": {
     "iopub.execute_input": "2023-09-26T06:39:49.997786Z",
     "iopub.status.busy": "2023-09-26T06:39:49.997051Z",
     "iopub.status.idle": "2023-09-26T06:39:50.066752Z",
     "shell.execute_reply": "2023-09-26T06:39:50.066099Z",
     "shell.execute_reply.started": "2023-09-26T06:39:49.997749Z"
    },
    "tags": []
   },
   "outputs": [],
   "source": [
    "gene_names_kegg_dict = dict()\n",
    "\n",
    "for pw_name in records_dict:\n",
    "    if 'GENE' in records_dict[pw_name]:\n",
    "        genes_list_raw = records_dict[pw_name]['GENE']\n",
    "        \n",
    "        for raw_gene in genes_list_raw:\n",
    "            gene_id = re.split('  |; ', raw_gene)[1] \n",
    "            gene_names_kegg_dict[raw_gene] = gene_id"
   ]
  },
  {
   "cell_type": "code",
   "execution_count": 182,
   "id": "c465e9d8-db75-421d-9ad5-2404cc16913b",
   "metadata": {
    "execution": {
     "iopub.execute_input": "2023-09-26T06:39:52.733115Z",
     "iopub.status.busy": "2023-09-26T06:39:52.732899Z",
     "iopub.status.idle": "2023-09-26T06:39:52.737373Z",
     "shell.execute_reply": "2023-09-26T06:39:52.736728Z",
     "shell.execute_reply.started": "2023-09-26T06:39:52.733101Z"
    },
    "tags": []
   },
   "outputs": [
    {
     "data": {
      "text/plain": [
       "8573"
      ]
     },
     "execution_count": 182,
     "metadata": {},
     "output_type": "execute_result"
    }
   ],
   "source": [
    "len(gene_names_kegg_dict)"
   ]
  },
  {
   "cell_type": "code",
   "execution_count": 183,
   "id": "b344ec62-c697-4efe-8436-f26403d2bf81",
   "metadata": {
    "execution": {
     "iopub.execute_input": "2023-09-26T06:40:11.291348Z",
     "iopub.status.busy": "2023-09-26T06:40:11.290871Z",
     "iopub.status.idle": "2023-09-26T06:40:11.302638Z",
     "shell.execute_reply": "2023-09-26T06:40:11.301921Z",
     "shell.execute_reply.started": "2023-09-26T06:40:11.291316Z"
    },
    "tags": []
   },
   "outputs": [],
   "source": [
    "kegg_id_to_str_dict = defaultdict(set)\n",
    "\n",
    "for k in gene_names_kegg_dict:\n",
    "    v = gene_names_kegg_dict[k]\n",
    "    kegg_id_to_str_dict[v].add(k)"
   ]
  },
  {
   "cell_type": "code",
   "execution_count": 192,
   "id": "76f70f0a-12c1-445a-9448-9cae3c70d879",
   "metadata": {
    "execution": {
     "iopub.execute_input": "2023-09-26T06:42:24.650624Z",
     "iopub.status.busy": "2023-09-26T06:42:24.649978Z",
     "iopub.status.idle": "2023-09-26T06:42:24.661095Z",
     "shell.execute_reply": "2023-09-26T06:42:24.660381Z",
     "shell.execute_reply.started": "2023-09-26T06:42:24.650586Z"
    },
    "tags": []
   },
   "outputs": [],
   "source": [
    "gene_names_kegg_df = (\n",
    "    pd.DataFrame(gene_names_kegg_dict.items(), columns=['raw_name', 'raw_symbol'])\n",
    ")\n",
    "\n",
    "gene_names_kegg_df['symbol_stripped'] = (\n",
    "    gene_names_kegg_df['raw_symbol'].apply(\n",
    "        lambda x: x.split('.')[0].lower()\n",
    "    )\n",
    ")"
   ]
  },
  {
   "cell_type": "code",
   "execution_count": 193,
   "id": "2dd999aa-98bd-4a26-b853-e5251bae6b0b",
   "metadata": {
    "execution": {
     "iopub.execute_input": "2023-09-26T06:42:25.220963Z",
     "iopub.status.busy": "2023-09-26T06:42:25.220557Z",
     "iopub.status.idle": "2023-09-26T06:42:25.230136Z",
     "shell.execute_reply": "2023-09-26T06:42:25.229483Z",
     "shell.execute_reply.started": "2023-09-26T06:42:25.220932Z"
    },
    "tags": []
   },
   "outputs": [
    {
     "data": {
      "text/html": [
       "<div>\n",
       "<style scoped>\n",
       "    .dataframe tbody tr th:only-of-type {\n",
       "        vertical-align: middle;\n",
       "    }\n",
       "\n",
       "    .dataframe tbody tr th {\n",
       "        vertical-align: top;\n",
       "    }\n",
       "\n",
       "    .dataframe thead th {\n",
       "        text-align: right;\n",
       "    }\n",
       "</style>\n",
       "<table border=\"1\" class=\"dataframe\">\n",
       "  <thead>\n",
       "    <tr style=\"text-align: right;\">\n",
       "      <th></th>\n",
       "      <th>raw_name</th>\n",
       "      <th>raw_symbol</th>\n",
       "      <th>symbol_stripped</th>\n",
       "    </tr>\n",
       "  </thead>\n",
       "  <tbody>\n",
       "    <tr>\n",
       "      <th>0</th>\n",
       "      <td>3101  HK3; hexokinase 3 [KO:K00844] [EC:2.7.1.1]</td>\n",
       "      <td>HK3</td>\n",
       "      <td>hk3</td>\n",
       "    </tr>\n",
       "    <tr>\n",
       "      <th>1</th>\n",
       "      <td>3098  HK1; hexokinase 1 [KO:K00844] [EC:2.7.1.1]</td>\n",
       "      <td>HK1</td>\n",
       "      <td>hk1</td>\n",
       "    </tr>\n",
       "    <tr>\n",
       "      <th>2</th>\n",
       "      <td>3099  HK2; hexokinase 2 [KO:K00844] [EC:2.7.1.1]</td>\n",
       "      <td>HK2</td>\n",
       "      <td>hk2</td>\n",
       "    </tr>\n",
       "    <tr>\n",
       "      <th>3</th>\n",
       "      <td>80201  HKDC1; hexokinase domain containing 1 [...</td>\n",
       "      <td>HKDC1</td>\n",
       "      <td>hkdc1</td>\n",
       "    </tr>\n",
       "    <tr>\n",
       "      <th>4</th>\n",
       "      <td>2645  GCK; glucokinase [KO:K12407] [EC:2.7.1.2]</td>\n",
       "      <td>GCK</td>\n",
       "      <td>gck</td>\n",
       "    </tr>\n",
       "    <tr>\n",
       "      <th>...</th>\n",
       "      <td>...</td>\n",
       "      <td>...</td>\n",
       "      <td>...</td>\n",
       "    </tr>\n",
       "    <tr>\n",
       "      <th>8568</th>\n",
       "      <td>133522  PPARGC1B; PPARG coactivator 1 beta [KO...</td>\n",
       "      <td>PPARGC1B</td>\n",
       "      <td>ppargc1b</td>\n",
       "    </tr>\n",
       "    <tr>\n",
       "      <th>8569</th>\n",
       "      <td>10724  OGA; O-GlcNAcase [KO:K15719] [EC:3.2.1....</td>\n",
       "      <td>OGA</td>\n",
       "      <td>oga</td>\n",
       "    </tr>\n",
       "    <tr>\n",
       "      <th>8570</th>\n",
       "      <td>9070  ASH2L; ASH2 like, histone lysine methylt...</td>\n",
       "      <td>ASH2L</td>\n",
       "      <td>ash2l</td>\n",
       "    </tr>\n",
       "    <tr>\n",
       "      <th>8571</th>\n",
       "      <td>5929  RBBP5; RB binding protein 5, histone lys...</td>\n",
       "      <td>RBBP5</td>\n",
       "      <td>rbbp5</td>\n",
       "    </tr>\n",
       "    <tr>\n",
       "      <th>8572</th>\n",
       "      <td>79798  ARMC5; armadillo repeat containing 5 [K...</td>\n",
       "      <td>ARMC5</td>\n",
       "      <td>armc5</td>\n",
       "    </tr>\n",
       "  </tbody>\n",
       "</table>\n",
       "<p>8573 rows × 3 columns</p>\n",
       "</div>"
      ],
      "text/plain": [
       "                                               raw_name raw_symbol  \\\n",
       "0      3101  HK3; hexokinase 3 [KO:K00844] [EC:2.7.1.1]        HK3   \n",
       "1      3098  HK1; hexokinase 1 [KO:K00844] [EC:2.7.1.1]        HK1   \n",
       "2      3099  HK2; hexokinase 2 [KO:K00844] [EC:2.7.1.1]        HK2   \n",
       "3     80201  HKDC1; hexokinase domain containing 1 [...      HKDC1   \n",
       "4       2645  GCK; glucokinase [KO:K12407] [EC:2.7.1.2]        GCK   \n",
       "...                                                 ...        ...   \n",
       "8568  133522  PPARGC1B; PPARG coactivator 1 beta [KO...   PPARGC1B   \n",
       "8569  10724  OGA; O-GlcNAcase [KO:K15719] [EC:3.2.1....        OGA   \n",
       "8570  9070  ASH2L; ASH2 like, histone lysine methylt...      ASH2L   \n",
       "8571  5929  RBBP5; RB binding protein 5, histone lys...      RBBP5   \n",
       "8572  79798  ARMC5; armadillo repeat containing 5 [K...      ARMC5   \n",
       "\n",
       "     symbol_stripped  \n",
       "0                hk3  \n",
       "1                hk1  \n",
       "2                hk2  \n",
       "3              hkdc1  \n",
       "4                gck  \n",
       "...              ...  \n",
       "8568        ppargc1b  \n",
       "8569             oga  \n",
       "8570           ash2l  \n",
       "8571           rbbp5  \n",
       "8572           armc5  \n",
       "\n",
       "[8573 rows x 3 columns]"
      ]
     },
     "execution_count": 193,
     "metadata": {},
     "output_type": "execute_result"
    }
   ],
   "source": [
    "gene_names_kegg_df"
   ]
  },
  {
   "cell_type": "markdown",
   "id": "014390fd-d41b-4842-a8b0-8e317420c7b3",
   "metadata": {},
   "source": [
    "#### -> CUI (`kegg_to_umls_gene_dict`; using gene symbol)"
   ]
  },
  {
   "cell_type": "code",
   "execution_count": 199,
   "id": "d44f759a-83d9-4f80-858e-f933df97acba",
   "metadata": {
    "execution": {
     "iopub.execute_input": "2023-09-26T06:45:15.237084Z",
     "iopub.status.busy": "2023-09-26T06:45:15.236683Z",
     "iopub.status.idle": "2023-09-26T06:45:15.241428Z",
     "shell.execute_reply": "2023-09-26T06:45:15.240415Z",
     "shell.execute_reply.started": "2023-09-26T06:45:15.237051Z"
    },
    "tags": []
   },
   "outputs": [],
   "source": [
    "pref_semtypes = {\n",
    "    'Amino Acid, Peptide, or Protein',\n",
    "    'Gene or Genome'\n",
    "}"
   ]
  },
  {
   "cell_type": "code",
   "execution_count": 200,
   "id": "2ae3aaea-af30-40f2-a06e-389b4b2b1f29",
   "metadata": {
    "execution": {
     "iopub.execute_input": "2023-09-26T06:45:19.718981Z",
     "iopub.status.busy": "2023-09-26T06:45:19.718419Z",
     "iopub.status.idle": "2023-09-26T06:45:23.812690Z",
     "shell.execute_reply": "2023-09-26T06:45:23.811898Z",
     "shell.execute_reply.started": "2023-09-26T06:45:19.718943Z"
    },
    "tags": []
   },
   "outputs": [],
   "source": [
    "mrconso_st_gene_df = (\n",
    "    mrconso_st_df[\n",
    "        ~(\n",
    "            mrconso_st_df['sem_types']\n",
    "                .apply(lambda x: 1 if pref_semtypes.intersection(x) else None)\n",
    "                .isna()\n",
    "        )\n",
    "    ]\n",
    "    .dropna(subset=['STR'])\n",
    ")"
   ]
  },
  {
   "cell_type": "code",
   "execution_count": 201,
   "id": "de5d6ae3-9a8a-49e1-ab87-c482983a9234",
   "metadata": {
    "execution": {
     "iopub.execute_input": "2023-09-26T06:45:38.499871Z",
     "iopub.status.busy": "2023-09-26T06:45:38.499174Z",
     "iopub.status.idle": "2023-09-26T06:45:38.721266Z",
     "shell.execute_reply": "2023-09-26T06:45:38.720533Z",
     "shell.execute_reply.started": "2023-09-26T06:45:38.499834Z"
    },
    "tags": []
   },
   "outputs": [],
   "source": [
    "mrconso_st_gene_df['str_lower'] = mrconso_st_gene_df['STR'].apply(lambda x: x.lower())"
   ]
  },
  {
   "cell_type": "code",
   "execution_count": 203,
   "id": "4ae21df0-e9de-4d8c-b875-bfca3a1a8c0f",
   "metadata": {
    "execution": {
     "iopub.execute_input": "2023-09-26T06:45:46.754787Z",
     "iopub.status.busy": "2023-09-26T06:45:46.754118Z",
     "iopub.status.idle": "2023-09-26T06:45:46.758953Z",
     "shell.execute_reply": "2023-09-26T06:45:46.757963Z",
     "shell.execute_reply.started": "2023-09-26T06:45:46.754750Z"
    },
    "tags": []
   },
   "outputs": [],
   "source": [
    "kegg_to_umls_gene_cols = [\n",
    "    'raw_name', 'raw_symbol', 'symbol_stripped', 'CUI', 'CODE', 'SAB', \n",
    "    #'sem_types'\n",
    "]"
   ]
  },
  {
   "cell_type": "code",
   "execution_count": 204,
   "id": "d02a7849-79b1-41ec-bf2c-ad91aee1de99",
   "metadata": {
    "execution": {
     "iopub.execute_input": "2023-09-26T06:45:54.807464Z",
     "iopub.status.busy": "2023-09-26T06:45:54.807014Z",
     "iopub.status.idle": "2023-09-26T06:45:55.269769Z",
     "shell.execute_reply": "2023-09-26T06:45:55.269109Z",
     "shell.execute_reply.started": "2023-09-26T06:45:54.807431Z"
    },
    "tags": []
   },
   "outputs": [
    {
     "data": {
      "text/html": [
       "<div>\n",
       "<style scoped>\n",
       "    .dataframe tbody tr th:only-of-type {\n",
       "        vertical-align: middle;\n",
       "    }\n",
       "\n",
       "    .dataframe tbody tr th {\n",
       "        vertical-align: top;\n",
       "    }\n",
       "\n",
       "    .dataframe thead th {\n",
       "        text-align: right;\n",
       "    }\n",
       "</style>\n",
       "<table border=\"1\" class=\"dataframe\">\n",
       "  <thead>\n",
       "    <tr style=\"text-align: right;\">\n",
       "      <th></th>\n",
       "      <th>raw_name</th>\n",
       "      <th>raw_symbol</th>\n",
       "      <th>symbol_stripped</th>\n",
       "      <th>CUI</th>\n",
       "      <th>CODE</th>\n",
       "      <th>SAB</th>\n",
       "    </tr>\n",
       "  </thead>\n",
       "  <tbody>\n",
       "    <tr>\n",
       "      <th>0</th>\n",
       "      <td>3101  HK3; hexokinase 3 [KO:K00844] [EC:2.7.1.1]</td>\n",
       "      <td>HK3</td>\n",
       "      <td>hk3</td>\n",
       "      <td>C1415556</td>\n",
       "      <td>HGNC:4925</td>\n",
       "      <td>HGNC</td>\n",
       "    </tr>\n",
       "    <tr>\n",
       "      <th>1</th>\n",
       "      <td>3101  HK3; hexokinase 3 [KO:K00844] [EC:2.7.1.1]</td>\n",
       "      <td>HK3</td>\n",
       "      <td>hk3</td>\n",
       "      <td>C1415556</td>\n",
       "      <td>142570</td>\n",
       "      <td>OMIM</td>\n",
       "    </tr>\n",
       "    <tr>\n",
       "      <th>2</th>\n",
       "      <td>3101  HK3; hexokinase 3 [KO:K00844] [EC:2.7.1.1]</td>\n",
       "      <td>HK3</td>\n",
       "      <td>hk3</td>\n",
       "      <td>C1428139</td>\n",
       "      <td>HGNC:23576</td>\n",
       "      <td>HGNC</td>\n",
       "    </tr>\n",
       "    <tr>\n",
       "      <th>3</th>\n",
       "      <td>3101  HK3; hexokinase 3 [KO:K00844] [EC:2.7.1.1]</td>\n",
       "      <td>HK3</td>\n",
       "      <td>hk3</td>\n",
       "      <td>C1428139</td>\n",
       "      <td>607825</td>\n",
       "      <td>OMIM</td>\n",
       "    </tr>\n",
       "    <tr>\n",
       "      <th>4</th>\n",
       "      <td>3101  HK3; hexokinase 3 [KO:K00844] [EC:2.7.1.1]</td>\n",
       "      <td>HK3</td>\n",
       "      <td>hk3</td>\n",
       "      <td>C1705954</td>\n",
       "      <td>C49721</td>\n",
       "      <td>NCI</td>\n",
       "    </tr>\n",
       "    <tr>\n",
       "      <th>...</th>\n",
       "      <td>...</td>\n",
       "      <td>...</td>\n",
       "      <td>...</td>\n",
       "      <td>...</td>\n",
       "      <td>...</td>\n",
       "      <td>...</td>\n",
       "    </tr>\n",
       "    <tr>\n",
       "      <th>27891</th>\n",
       "      <td>9070  ASH2L; ASH2 like, histone lysine methylt...</td>\n",
       "      <td>ASH2L</td>\n",
       "      <td>ash2l</td>\n",
       "      <td>C1412580</td>\n",
       "      <td>604782</td>\n",
       "      <td>OMIM</td>\n",
       "    </tr>\n",
       "    <tr>\n",
       "      <th>27892</th>\n",
       "      <td>5929  RBBP5; RB binding protein 5, histone lys...</td>\n",
       "      <td>RBBP5</td>\n",
       "      <td>rbbp5</td>\n",
       "      <td>C1419290</td>\n",
       "      <td>HGNC:9888</td>\n",
       "      <td>HGNC</td>\n",
       "    </tr>\n",
       "    <tr>\n",
       "      <th>27893</th>\n",
       "      <td>5929  RBBP5; RB binding protein 5, histone lys...</td>\n",
       "      <td>RBBP5</td>\n",
       "      <td>rbbp5</td>\n",
       "      <td>C1419290</td>\n",
       "      <td>600697</td>\n",
       "      <td>OMIM</td>\n",
       "    </tr>\n",
       "    <tr>\n",
       "      <th>27894</th>\n",
       "      <td>79798  ARMC5; armadillo repeat containing 5 [K...</td>\n",
       "      <td>ARMC5</td>\n",
       "      <td>armc5</td>\n",
       "      <td>C1538935</td>\n",
       "      <td>HGNC:25781</td>\n",
       "      <td>HGNC</td>\n",
       "    </tr>\n",
       "    <tr>\n",
       "      <th>27895</th>\n",
       "      <td>79798  ARMC5; armadillo repeat containing 5 [K...</td>\n",
       "      <td>ARMC5</td>\n",
       "      <td>armc5</td>\n",
       "      <td>C1538935</td>\n",
       "      <td>615549</td>\n",
       "      <td>OMIM</td>\n",
       "    </tr>\n",
       "  </tbody>\n",
       "</table>\n",
       "<p>27790 rows × 6 columns</p>\n",
       "</div>"
      ],
      "text/plain": [
       "                                                raw_name raw_symbol  \\\n",
       "0       3101  HK3; hexokinase 3 [KO:K00844] [EC:2.7.1.1]        HK3   \n",
       "1       3101  HK3; hexokinase 3 [KO:K00844] [EC:2.7.1.1]        HK3   \n",
       "2       3101  HK3; hexokinase 3 [KO:K00844] [EC:2.7.1.1]        HK3   \n",
       "3       3101  HK3; hexokinase 3 [KO:K00844] [EC:2.7.1.1]        HK3   \n",
       "4       3101  HK3; hexokinase 3 [KO:K00844] [EC:2.7.1.1]        HK3   \n",
       "...                                                  ...        ...   \n",
       "27891  9070  ASH2L; ASH2 like, histone lysine methylt...      ASH2L   \n",
       "27892  5929  RBBP5; RB binding protein 5, histone lys...      RBBP5   \n",
       "27893  5929  RBBP5; RB binding protein 5, histone lys...      RBBP5   \n",
       "27894  79798  ARMC5; armadillo repeat containing 5 [K...      ARMC5   \n",
       "27895  79798  ARMC5; armadillo repeat containing 5 [K...      ARMC5   \n",
       "\n",
       "      symbol_stripped       CUI        CODE   SAB  \n",
       "0                 hk3  C1415556   HGNC:4925  HGNC  \n",
       "1                 hk3  C1415556      142570  OMIM  \n",
       "2                 hk3  C1428139  HGNC:23576  HGNC  \n",
       "3                 hk3  C1428139      607825  OMIM  \n",
       "4                 hk3  C1705954      C49721   NCI  \n",
       "...               ...       ...         ...   ...  \n",
       "27891           ash2l  C1412580      604782  OMIM  \n",
       "27892           rbbp5  C1419290   HGNC:9888  HGNC  \n",
       "27893           rbbp5  C1419290      600697  OMIM  \n",
       "27894           armc5  C1538935  HGNC:25781  HGNC  \n",
       "27895           armc5  C1538935      615549  OMIM  \n",
       "\n",
       "[27790 rows x 6 columns]"
      ]
     },
     "execution_count": 204,
     "metadata": {},
     "output_type": "execute_result"
    }
   ],
   "source": [
    "kegg_to_umls_gene_df = pd.merge(\n",
    "    gene_names_kegg_df,\n",
    "    mrconso_st_gene_df,\n",
    "    left_on='symbol_stripped',\n",
    "    right_on='str_lower',\n",
    "    how='inner'\n",
    ")[\n",
    "   kegg_to_umls_gene_cols \n",
    "].drop_duplicates()\n",
    "\n",
    "kegg_to_umls_gene_df"
   ]
  },
  {
   "cell_type": "code",
   "execution_count": 205,
   "id": "e4dfe91b-84da-44a2-a3d7-083abfbe8fde",
   "metadata": {
    "execution": {
     "iopub.execute_input": "2023-09-26T06:47:09.460124Z",
     "iopub.status.busy": "2023-09-26T06:47:09.459462Z",
     "iopub.status.idle": "2023-09-26T06:47:09.721972Z",
     "shell.execute_reply": "2023-09-26T06:47:09.721363Z",
     "shell.execute_reply.started": "2023-09-26T06:47:09.460090Z"
    },
    "tags": []
   },
   "outputs": [],
   "source": [
    "kegg_to_umls_gene_dict = dict(\n",
    "    kegg_to_umls_gene_df[['raw_name', 'symbol_stripped', 'CUI']]\n",
    "        .groupby('raw_name')\n",
    "        .agg(set)\n",
    "        ['CUI']\n",
    ")"
   ]
  },
  {
   "cell_type": "code",
   "execution_count": 206,
   "id": "7c4c2036-225c-4083-8bee-bc3a84583e64",
   "metadata": {
    "execution": {
     "iopub.execute_input": "2023-09-26T06:47:14.438043Z",
     "iopub.status.busy": "2023-09-26T06:47:14.437835Z",
     "iopub.status.idle": "2023-09-26T06:47:14.442034Z",
     "shell.execute_reply": "2023-09-26T06:47:14.441416Z",
     "shell.execute_reply.started": "2023-09-26T06:47:14.438028Z"
    },
    "tags": []
   },
   "outputs": [
    {
     "data": {
      "text/plain": [
       "8445"
      ]
     },
     "execution_count": 206,
     "metadata": {},
     "output_type": "execute_result"
    }
   ],
   "source": [
    "len(kegg_to_umls_gene_dict)"
   ]
  },
  {
   "cell_type": "code",
   "execution_count": 209,
   "id": "cd341219-2b7a-4e3c-8531-4c94d32bdffc",
   "metadata": {
    "execution": {
     "iopub.execute_input": "2023-09-26T06:48:38.612329Z",
     "iopub.status.busy": "2023-09-26T06:48:38.611992Z",
     "iopub.status.idle": "2023-09-26T06:48:38.618298Z",
     "shell.execute_reply": "2023-09-26T06:48:38.617556Z",
     "shell.execute_reply.started": "2023-09-26T06:48:38.612299Z"
    },
    "tags": []
   },
   "outputs": [
    {
     "data": {
      "text/plain": [
       "{'C0796518', 'C1261253', 'C1421999'}"
      ]
     },
     "execution_count": 209,
     "metadata": {},
     "output_type": "execute_result"
    }
   ],
   "source": [
    "kegg_to_umls_gene_dict['10  NAT2; N-acetyltransferase 2 [KO:K00622] [EC:2.3.1.5]']"
   ]
  },
  {
   "cell_type": "markdown",
   "id": "9ed4f3c2-e0a1-4c32-8a5f-6b8089804f50",
   "metadata": {},
   "source": [
    "## Putting all mappings together, perform filtering, compose pairs"
   ]
  },
  {
   "cell_type": "code",
   "execution_count": 211,
   "id": "59e90a45-3113-496b-ab88-b3b305894771",
   "metadata": {
    "execution": {
     "iopub.execute_input": "2023-09-26T06:49:51.664723Z",
     "iopub.status.busy": "2023-09-26T06:49:51.664330Z",
     "iopub.status.idle": "2023-09-26T06:49:51.672327Z",
     "shell.execute_reply": "2023-09-26T06:49:51.671565Z",
     "shell.execute_reply.started": "2023-09-26T06:49:51.664693Z"
    },
    "tags": []
   },
   "outputs": [
    {
     "data": {
      "text/plain": [
       "defaultdict(list,\n",
       "            {'NAME': ['Glycolysis / Gluconeogenesis - Homo sapiens (human)'],\n",
       "             'DRUG': ['D00123  Cyanamide (JP18)',\n",
       "              'D00131  Disulfiram (JP18/USP/INN)',\n",
       "              'D07257  Lonidamine (INN)',\n",
       "              'D08970  Piragliatin (USAN)',\n",
       "              'D11342  Dorzagliatin (USAN)',\n",
       "              'D11408  Mitapivat sulfate (USAN)',\n",
       "              'D12320  Cadisegliatin (USAN)',\n",
       "              'D12362  Etavopivat (USAN/INN)'],\n",
       "             'GENE': ['3101  HK3; hexokinase 3 [KO:K00844] [EC:2.7.1.1]',\n",
       "              '3098  HK1; hexokinase 1 [KO:K00844] [EC:2.7.1.1]',\n",
       "              '3099  HK2; hexokinase 2 [KO:K00844] [EC:2.7.1.1]',\n",
       "              '80201  HKDC1; hexokinase domain containing 1 [KO:K00844] [EC:2.7.1.1]',\n",
       "              '2645  GCK; glucokinase [KO:K12407] [EC:2.7.1.2]',\n",
       "              '2821  GPI; glucose-6-phosphate isomerase [KO:K01810] [EC:5.3.1.9]',\n",
       "              '5213  PFKM; phosphofructokinase, muscle [KO:K00850] [EC:2.7.1.11]',\n",
       "              '5214  PFKP; phosphofructokinase, platelet [KO:K00850] [EC:2.7.1.11]',\n",
       "              '5211  PFKL; phosphofructokinase, liver type [KO:K00850] [EC:2.7.1.11]',\n",
       "              '2203  FBP1; fructose-bisphosphatase 1 [KO:K03841] [EC:3.1.3.11]',\n",
       "              '8789  FBP2; fructose-bisphosphatase 2 [KO:K03841] [EC:3.1.3.11]',\n",
       "              '230  ALDOC; aldolase, fructose-bisphosphate C [KO:K01623] [EC:4.1.2.13]',\n",
       "              '226  ALDOA; aldolase, fructose-bisphosphate A [KO:K01623] [EC:4.1.2.13]',\n",
       "              '229  ALDOB; aldolase, fructose-bisphosphate B [KO:K01623] [EC:4.1.2.13]',\n",
       "              '7167  TPI1; triosephosphate isomerase 1 [KO:K01803] [EC:5.3.1.1]',\n",
       "              '2597  GAPDH; glyceraldehyde-3-phosphate dehydrogenase [KO:K00134] [EC:1.2.1.12]',\n",
       "              '26330  GAPDHS; glyceraldehyde-3-phosphate dehydrogenase, spermatogenic [KO:K10705] [EC:1.2.1.12]',\n",
       "              '5232  PGK2; phosphoglycerate kinase 2 [KO:K00927] [EC:2.7.2.3]',\n",
       "              '5230  PGK1; phosphoglycerate kinase 1 [KO:K00927] [EC:2.7.2.3]',\n",
       "              '5223  PGAM1; phosphoglycerate mutase 1 [KO:K01834] [EC:5.4.2.11]',\n",
       "              '5224  PGAM2; phosphoglycerate mutase 2 [KO:K01834] [EC:5.4.2.11]',\n",
       "              '441531  PGAM4; phosphoglycerate mutase family member 4 [KO:K01834] [EC:5.4.2.11]',\n",
       "              '2027  ENO3; enolase 3 [KO:K01689] [EC:4.2.1.11]',\n",
       "              '2026  ENO2; enolase 2 [KO:K01689] [EC:4.2.1.11]',\n",
       "              '2023  ENO1; enolase 1 [KO:K01689] [EC:4.2.1.11]',\n",
       "              '387712  ENO4; enolase 4 [KO:K01689] [EC:4.2.1.11]',\n",
       "              '5315  PKM; pyruvate kinase M1/2 [KO:K00873] [EC:2.7.1.40]',\n",
       "              '5313  PKLR; pyruvate kinase L/R [KO:K12406] [EC:2.7.1.40]',\n",
       "              '5161  PDHA2; pyruvate dehydrogenase E1 subunit alpha 2 [KO:K00161] [EC:1.2.4.1]',\n",
       "              '5160  PDHA1; pyruvate dehydrogenase E1 subunit alpha 1 [KO:K00161] [EC:1.2.4.1]',\n",
       "              '5162  PDHB; pyruvate dehydrogenase E1 subunit beta [KO:K00162] [EC:1.2.4.1]',\n",
       "              '1737  DLAT; dihydrolipoamide S-acetyltransferase [KO:K00627] [EC:2.3.1.12]',\n",
       "              '1738  DLD; dihydrolipoamide dehydrogenase [KO:K00382] [EC:1.8.1.4]',\n",
       "              '160287  LDHAL6A; lactate dehydrogenase A like 6A [KO:K00016] [EC:1.1.1.27]',\n",
       "              '92483  LDHAL6B; lactate dehydrogenase A like 6B [KO:K00016] [EC:1.1.1.27]',\n",
       "              '3939  LDHA; lactate dehydrogenase A [KO:K00016] [EC:1.1.1.27]',\n",
       "              '3945  LDHB; lactate dehydrogenase B [KO:K00016] [EC:1.1.1.27]',\n",
       "              '3948  LDHC; lactate dehydrogenase C [KO:K00016] [EC:1.1.1.27]',\n",
       "              '124  ADH1A; alcohol dehydrogenase 1A (class I), alpha polypeptide [KO:K13951] [EC:1.1.1.1]',\n",
       "              '125  ADH1B; alcohol dehydrogenase 1B (class I), beta polypeptide [KO:K13951] [EC:1.1.1.1]',\n",
       "              '126  ADH1C; alcohol dehydrogenase 1C (class I), gamma polypeptide [KO:K13951] [EC:1.1.1.1]',\n",
       "              '131  ADH7; alcohol dehydrogenase 7 (class IV), mu or sigma polypeptide [KO:K13951] [EC:1.1.1.1]',\n",
       "              '127  ADH4; alcohol dehydrogenase 4 (class II), pi polypeptide [KO:K13980] [EC:1.1.1.1]',\n",
       "              '128  ADH5; alcohol dehydrogenase 5 (class III), chi polypeptide [KO:K00121] [EC:1.1.1.284 1.1.1.1]',\n",
       "              '130  ADH6; alcohol dehydrogenase 6 (class V) [KO:K13952] [EC:1.1.1.1]',\n",
       "              '10327  AKR1A1; aldo-keto reductase family 1 member A1 [KO:K00002] [EC:1.1.1.2]',\n",
       "              '217  ALDH2; aldehyde dehydrogenase 2 family member [KO:K00128] [EC:1.2.1.3]',\n",
       "              '224  ALDH3A2; aldehyde dehydrogenase 3 family member A2 [KO:K00128] [EC:1.2.1.3]',\n",
       "              '219  ALDH1B1; aldehyde dehydrogenase 1 family member B1 [KO:K00128] [EC:1.2.1.3]',\n",
       "              '501  ALDH7A1; aldehyde dehydrogenase 7 family member A1 [KO:K14085] [EC:1.2.1.31 1.2.1.8 1.2.1.3]',\n",
       "              '223  ALDH9A1; aldehyde dehydrogenase 9 family member A1 [KO:K00149] [EC:1.2.1.47 1.2.1.3]',\n",
       "              '221  ALDH3B1; aldehyde dehydrogenase 3 family member B1 [KO:K00129] [EC:1.2.1.5]',\n",
       "              '222  ALDH3B2; aldehyde dehydrogenase 3 family member B2 [KO:K00129] [EC:1.2.1.5]',\n",
       "              '218  ALDH3A1; aldehyde dehydrogenase 3 family member A1 [KO:K00129] [EC:1.2.1.5]',\n",
       "              '84532  ACSS1; acyl-CoA synthetase short chain family member 1 [KO:K01895] [EC:6.2.1.1]',\n",
       "              '55902  ACSS2; acyl-CoA synthetase short chain family member 2 [KO:K01895] [EC:6.2.1.1]',\n",
       "              '130589  GALM; galactose mutarotase [KO:K01785] [EC:5.1.3.3]',\n",
       "              '5236  PGM1; phosphoglucomutase 1 [KO:K01835] [EC:5.4.2.2]',\n",
       "              '55276  PGM2; phosphoglucomutase 2 [KO:K15779] [EC:5.4.2.2 5.4.2.7]',\n",
       "              '2538  G6PC1; glucose-6-phosphatase catalytic subunit 1 [KO:K01084] [EC:3.1.3.9]',\n",
       "              '57818  G6PC2; glucose-6-phosphatase catalytic subunit 2 [KO:K01084] [EC:3.1.3.9]',\n",
       "              '92579  G6PC3; glucose-6-phosphatase catalytic subunit 3 [KO:K01084] [EC:3.1.3.9]',\n",
       "              '83440  ADPGK; ADP dependent glucokinase [KO:K08074] [EC:2.7.1.147]',\n",
       "              '669  BPGM; bisphosphoglycerate mutase [KO:K01837] [EC:5.4.2.4 5.4.2.11]',\n",
       "              '9562  MINPP1; multiple inositol-polyphosphate phosphatase 1 [KO:K03103] [EC:3.1.3.62 3.1.3.80]',\n",
       "              '5105  PCK1; phosphoenolpyruvate carboxykinase 1 [KO:K01596] [EC:4.1.1.32]',\n",
       "              '5106  PCK2; phosphoenolpyruvate carboxykinase 2, mitochondrial [KO:K01596] [EC:4.1.1.32]'],\n",
       "             'COMPOUND': ['C00022  Pyruvate',\n",
       "              'C00024  Acetyl-CoA',\n",
       "              'C00031  D-Glucose',\n",
       "              'C00033  Acetate',\n",
       "              'C00036  Oxaloacetate',\n",
       "              'C00068  Thiamin diphosphate',\n",
       "              'C00074  Phosphoenolpyruvate',\n",
       "              'C00084  Acetaldehyde',\n",
       "              'C00103  D-Glucose 1-phosphate',\n",
       "              'C00111  Glycerone phosphate',\n",
       "              'C00118  D-Glyceraldehyde 3-phosphate',\n",
       "              'C00186  (S)-Lactate',\n",
       "              'C00197  3-Phospho-D-glycerate',\n",
       "              'C00221  beta-D-Glucose',\n",
       "              'C00236  3-Phospho-D-glyceroyl phosphate',\n",
       "              'C00267  alpha-D-Glucose',\n",
       "              'C00469  Ethanol',\n",
       "              'C00631  2-Phospho-D-glycerate',\n",
       "              'C00668  alpha-D-Glucose 6-phosphate',\n",
       "              'C01159  2,3-Bisphospho-D-glycerate',\n",
       "              'C01172  beta-D-Glucose 6-phosphate',\n",
       "              'C01451  Salicin',\n",
       "              'C05125  2-(alpha-Hydroxyethyl)thiamine diphosphate',\n",
       "              'C05345  beta-D-Fructose 6-phosphate',\n",
       "              'C05378  beta-D-Fructose 1,6-bisphosphate',\n",
       "              'C06186  Arbutin',\n",
       "              'C06187  Arbutin 6-phosphate',\n",
       "              'C06188  Salicin 6-phosphate',\n",
       "              'C15972  Enzyme N6-(lipoyl)lysine',\n",
       "              'C15973  Enzyme N6-(dihydrolipoyl)lysine',\n",
       "              'C16255  [Dihydrolipoyllysine-residue acetyltransferase] S-acetyldihydrolipoyllysine']})"
      ]
     },
     "execution_count": 211,
     "metadata": {},
     "output_type": "execute_result"
    }
   ],
   "source": [
    "records_dict['hsa00010 Pathway']"
   ]
  },
  {
   "cell_type": "code",
   "execution_count": 214,
   "id": "8c80d1c8-ad27-4116-aa3e-613795b8b716",
   "metadata": {
    "execution": {
     "iopub.execute_input": "2023-09-26T06:51:13.398903Z",
     "iopub.status.busy": "2023-09-26T06:51:13.398548Z",
     "iopub.status.idle": "2023-09-26T06:51:13.551794Z",
     "shell.execute_reply": "2023-09-26T06:51:13.551029Z",
     "shell.execute_reply.started": "2023-09-26T06:51:13.398873Z"
    },
    "tags": []
   },
   "outputs": [],
   "source": [
    "records_filtered = dict()\n",
    "records_mapped = dict()\n",
    "\n",
    "for k in records_dict:\n",
    "    pw_filt_dict = defaultdict(list)\n",
    "    pw_mapped_dict = defaultdict(list)\n",
    "    \n",
    "    for category in records_dict[k]:\n",
    "        kegg_ids = records_dict[k][category]\n",
    "        if category == 'NAME':\n",
    "            pw_filt_dict[category] = kegg_ids\n",
    "            pw_mapped_dict[category] = kegg_ids\n",
    "        \n",
    "        elif category in {'DRUG', 'COMPOUND'}:\n",
    "            for record in kegg_ids:\n",
    "                kegg_id = record.split(' ')[0]\n",
    "                if kegg_id in kegg_to_umls_compdrug_agg_dict:\n",
    "                    mapped_cuis = kegg_to_umls_compdrug_agg_dict[kegg_id]\n",
    "                    pw_filt_dict[category].append(kegg_id)\n",
    "                    pw_mapped_dict[category].append(mapped_cuis)\n",
    "        \n",
    "        elif category == 'DISEASE':\n",
    "            for record in kegg_ids:\n",
    "                kegg_id = record.split(' ')[0]\n",
    "                if kegg_id in kegg_to_umls_disease_agg_dict:\n",
    "                    mapped_cuis = kegg_to_umls_disease_agg_dict[kegg_id]\n",
    "                    pw_filt_dict[category].append(kegg_id)\n",
    "                    pw_mapped_dict[category].append(mapped_cuis)\n",
    "                    \n",
    "        elif category == 'GENE':\n",
    "            for record in kegg_ids:\n",
    "                kegg_id = record\n",
    "                if kegg_id in kegg_to_umls_gene_dict:\n",
    "                    mapped_cuis = kegg_to_umls_gene_dict[kegg_id]\n",
    "                    pw_filt_dict[category].append(kegg_id)\n",
    "                    pw_mapped_dict[category].append(mapped_cuis)\n",
    "    \n",
    "    records_filtered[k] = pw_filt_dict\n",
    "    records_mapped[k] = pw_mapped_dict"
   ]
  },
  {
   "cell_type": "markdown",
   "id": "2ac39caa-fad3-458a-a34e-dd19f5f11a1c",
   "metadata": {},
   "source": [
    "### Constructing cliques"
   ]
  },
  {
   "cell_type": "code",
   "execution_count": 216,
   "id": "c26a64fe-fdd3-48ce-a81d-fdab9b346815",
   "metadata": {
    "execution": {
     "iopub.execute_input": "2023-09-26T06:53:13.744869Z",
     "iopub.status.busy": "2023-09-26T06:53:13.744532Z",
     "iopub.status.idle": "2023-09-26T06:53:13.800095Z",
     "shell.execute_reply": "2023-09-26T06:53:13.799242Z",
     "shell.execute_reply.started": "2023-09-26T06:53:13.744838Z"
    },
    "tags": []
   },
   "outputs": [],
   "source": [
    "records_umls_cliques_dict = dict()\n",
    "\n",
    "for k in records_mapped:\n",
    "    rec_dict = dict()\n",
    "    all_cuis = set()\n",
    "    rec_dict['all_umls_set'] = set()\n",
    "    rec_dict['all_kegg_set'] = set()\n",
    "    for category in records_mapped[k]:\n",
    "        if category == 'NAME':\n",
    "            rec_dict['NAME'] = records_mapped[k][category]\n",
    "        else:\n",
    "            for i, kegg_ids_group in enumerate(records_mapped[k][category]):\n",
    "                kegg_real_id = records_filtered[k][category][i]\n",
    "                rec_dict['all_umls_set'].update(kegg_ids_group)\n",
    "                rec_dict['all_kegg_set'].add(kegg_real_id)\n",
    "    \n",
    "    records_umls_cliques_dict[k] = rec_dict"
   ]
  },
  {
   "cell_type": "code",
   "execution_count": 217,
   "id": "1e037e0b-ab61-43df-b870-502f933615e2",
   "metadata": {
    "execution": {
     "iopub.execute_input": "2023-09-26T06:53:15.296158Z",
     "iopub.status.busy": "2023-09-26T06:53:15.295764Z",
     "iopub.status.idle": "2023-09-26T06:53:15.336855Z",
     "shell.execute_reply": "2023-09-26T06:53:15.336179Z",
     "shell.execute_reply.started": "2023-09-26T06:53:15.296127Z"
    },
    "tags": []
   },
   "outputs": [],
   "source": [
    "records_umls_cliques_df = pd.DataFrame(records_umls_cliques_dict).T"
   ]
  },
  {
   "cell_type": "code",
   "execution_count": 218,
   "id": "3ce26186-cac4-4e2f-bbc6-b4fccedded24",
   "metadata": {
    "execution": {
     "iopub.execute_input": "2023-09-26T06:53:16.091086Z",
     "iopub.status.busy": "2023-09-26T06:53:16.090764Z",
     "iopub.status.idle": "2023-09-26T06:53:16.106496Z",
     "shell.execute_reply": "2023-09-26T06:53:16.105941Z",
     "shell.execute_reply.started": "2023-09-26T06:53:16.091056Z"
    },
    "tags": []
   },
   "outputs": [
    {
     "data": {
      "text/html": [
       "<div>\n",
       "<style scoped>\n",
       "    .dataframe tbody tr th:only-of-type {\n",
       "        vertical-align: middle;\n",
       "    }\n",
       "\n",
       "    .dataframe tbody tr th {\n",
       "        vertical-align: top;\n",
       "    }\n",
       "\n",
       "    .dataframe thead th {\n",
       "        text-align: right;\n",
       "    }\n",
       "</style>\n",
       "<table border=\"1\" class=\"dataframe\">\n",
       "  <thead>\n",
       "    <tr style=\"text-align: right;\">\n",
       "      <th></th>\n",
       "      <th>all_umls_set</th>\n",
       "      <th>all_kegg_set</th>\n",
       "      <th>NAME</th>\n",
       "    </tr>\n",
       "  </thead>\n",
       "  <tbody>\n",
       "    <tr>\n",
       "      <th>map01100 Global Pathway</th>\n",
       "      <td>{}</td>\n",
       "      <td>{}</td>\n",
       "      <td>[Metabolic pathways]</td>\n",
       "    </tr>\n",
       "    <tr>\n",
       "      <th>map01110 Global Pathway</th>\n",
       "      <td>{}</td>\n",
       "      <td>{}</td>\n",
       "      <td>[Biosynthesis of secondary metabolites]</td>\n",
       "    </tr>\n",
       "    <tr>\n",
       "      <th>map01120 Global Pathway</th>\n",
       "      <td>{}</td>\n",
       "      <td>{}</td>\n",
       "      <td>[Microbial metabolism in diverse environments]</td>\n",
       "    </tr>\n",
       "    <tr>\n",
       "      <th>map01200 Global Pathway</th>\n",
       "      <td>{}</td>\n",
       "      <td>{}</td>\n",
       "      <td>[Carbon metabolism]</td>\n",
       "    </tr>\n",
       "    <tr>\n",
       "      <th>map01210 Global Pathway</th>\n",
       "      <td>{}</td>\n",
       "      <td>{}</td>\n",
       "      <td>[2-Oxocarboxylic acid metabolism]</td>\n",
       "    </tr>\n",
       "    <tr>\n",
       "      <th>...</th>\n",
       "      <td>...</td>\n",
       "      <td>...</td>\n",
       "      <td>...</td>\n",
       "    </tr>\n",
       "    <tr>\n",
       "      <th>hsa04934 Pathway</th>\n",
       "      <td>{C0039635, C1415321, C0286910, C3256589, C1529...</td>\n",
       "      <td>{C00020, 5929  RBBP5; RB binding protein 5, hi...</td>\n",
       "      <td>[Cushing syndrome - Homo sapiens (human)]</td>\n",
       "    </tr>\n",
       "    <tr>\n",
       "      <th>hsa01521 Pathway</th>\n",
       "      <td>{C4053633, C3827073, C4519548, C2346824, C5545...</td>\n",
       "      <td>{D11417, D11772, D09371, D11980, D11773, D1124...</td>\n",
       "      <td>[EGFR tyrosine kinase inhibitor resistance - H...</td>\n",
       "    </tr>\n",
       "    <tr>\n",
       "      <th>hsa01524 Pathway</th>\n",
       "      <td>{}</td>\n",
       "      <td>{}</td>\n",
       "      <td>[Platinum drug resistance - Homo sapiens (human)]</td>\n",
       "    </tr>\n",
       "    <tr>\n",
       "      <th>hsa01523 Pathway</th>\n",
       "      <td>{C4288736, C1831845, C3640818, C2700602}</td>\n",
       "      <td>{D12183, D10954}</td>\n",
       "      <td>[Antifolate resistance - Homo sapiens (human)]</td>\n",
       "    </tr>\n",
       "    <tr>\n",
       "      <th>hsa01522 Pathway</th>\n",
       "      <td>{C0338344, C3827124, C0919273, C0663405, C4704...</td>\n",
       "      <td>{D03793, D03802, D11262, D03795, D03797, D07928}</td>\n",
       "      <td>[Endocrine resistance - Homo sapiens (human)]</td>\n",
       "    </tr>\n",
       "  </tbody>\n",
       "</table>\n",
       "<p>1741 rows × 3 columns</p>\n",
       "</div>"
      ],
      "text/plain": [
       "                                                              all_umls_set  \\\n",
       "map01100 Global Pathway                                                 {}   \n",
       "map01110 Global Pathway                                                 {}   \n",
       "map01120 Global Pathway                                                 {}   \n",
       "map01200 Global Pathway                                                 {}   \n",
       "map01210 Global Pathway                                                 {}   \n",
       "...                                                                    ...   \n",
       "hsa04934 Pathway         {C0039635, C1415321, C0286910, C3256589, C1529...   \n",
       "hsa01521 Pathway         {C4053633, C3827073, C4519548, C2346824, C5545...   \n",
       "hsa01524 Pathway                                                        {}   \n",
       "hsa01523 Pathway                  {C4288736, C1831845, C3640818, C2700602}   \n",
       "hsa01522 Pathway         {C0338344, C3827124, C0919273, C0663405, C4704...   \n",
       "\n",
       "                                                              all_kegg_set  \\\n",
       "map01100 Global Pathway                                                 {}   \n",
       "map01110 Global Pathway                                                 {}   \n",
       "map01120 Global Pathway                                                 {}   \n",
       "map01200 Global Pathway                                                 {}   \n",
       "map01210 Global Pathway                                                 {}   \n",
       "...                                                                    ...   \n",
       "hsa04934 Pathway         {C00020, 5929  RBBP5; RB binding protein 5, hi...   \n",
       "hsa01521 Pathway         {D11417, D11772, D09371, D11980, D11773, D1124...   \n",
       "hsa01524 Pathway                                                        {}   \n",
       "hsa01523 Pathway                                          {D12183, D10954}   \n",
       "hsa01522 Pathway          {D03793, D03802, D11262, D03795, D03797, D07928}   \n",
       "\n",
       "                                                                      NAME  \n",
       "map01100 Global Pathway                               [Metabolic pathways]  \n",
       "map01110 Global Pathway            [Biosynthesis of secondary metabolites]  \n",
       "map01120 Global Pathway     [Microbial metabolism in diverse environments]  \n",
       "map01200 Global Pathway                                [Carbon metabolism]  \n",
       "map01210 Global Pathway                  [2-Oxocarboxylic acid metabolism]  \n",
       "...                                                                    ...  \n",
       "hsa04934 Pathway                 [Cushing syndrome - Homo sapiens (human)]  \n",
       "hsa01521 Pathway         [EGFR tyrosine kinase inhibitor resistance - H...  \n",
       "hsa01524 Pathway         [Platinum drug resistance - Homo sapiens (human)]  \n",
       "hsa01523 Pathway            [Antifolate resistance - Homo sapiens (human)]  \n",
       "hsa01522 Pathway             [Endocrine resistance - Homo sapiens (human)]  \n",
       "\n",
       "[1741 rows x 3 columns]"
      ]
     },
     "execution_count": 218,
     "metadata": {},
     "output_type": "execute_result"
    }
   ],
   "source": [
    "records_umls_cliques_df"
   ]
  },
  {
   "cell_type": "code",
   "execution_count": 221,
   "id": "67cc769d-2f9e-4646-8004-5d78fcc6a95f",
   "metadata": {
    "execution": {
     "iopub.execute_input": "2023-09-26T06:54:15.369746Z",
     "iopub.status.busy": "2023-09-26T06:54:15.369415Z",
     "iopub.status.idle": "2023-09-26T06:54:18.185124Z",
     "shell.execute_reply": "2023-09-26T06:54:18.184378Z",
     "shell.execute_reply.started": "2023-09-26T06:54:15.369718Z"
    },
    "tags": []
   },
   "outputs": [],
   "source": [
    "records_umls_cliques_df['cliques'] = records_umls_cliques_df['all_umls_set'].apply(\n",
    "    lambda x: list(combinations(x, 2))\n",
    ")"
   ]
  },
  {
   "cell_type": "code",
   "execution_count": 222,
   "id": "7a6c4d8f-5c9e-469a-8a92-92c4fe342a49",
   "metadata": {
    "execution": {
     "iopub.execute_input": "2023-09-26T06:54:19.758154Z",
     "iopub.status.busy": "2023-09-26T06:54:19.757993Z",
     "iopub.status.idle": "2023-09-26T06:54:20.137172Z",
     "shell.execute_reply": "2023-09-26T06:54:20.136322Z",
     "shell.execute_reply.started": "2023-09-26T06:54:19.758137Z"
    },
    "tags": []
   },
   "outputs": [],
   "source": [
    "records_umls_cliques_df['cliques_kegg'] = records_umls_cliques_df['all_kegg_set'].apply(\n",
    "    lambda x: list(combinations(x, 2))\n",
    ")"
   ]
  },
  {
   "cell_type": "code",
   "execution_count": 223,
   "id": "ada91b49-388e-4fce-ae55-6d5301054dda",
   "metadata": {
    "execution": {
     "iopub.execute_input": "2023-09-26T06:54:20.847919Z",
     "iopub.status.busy": "2023-09-26T06:54:20.847759Z",
     "iopub.status.idle": "2023-09-26T06:54:20.950076Z",
     "shell.execute_reply": "2023-09-26T06:54:20.949465Z",
     "shell.execute_reply.started": "2023-09-26T06:54:20.847903Z"
    },
    "tags": []
   },
   "outputs": [
    {
     "data": {
      "text/html": [
       "<div>\n",
       "<style scoped>\n",
       "    .dataframe tbody tr th:only-of-type {\n",
       "        vertical-align: middle;\n",
       "    }\n",
       "\n",
       "    .dataframe tbody tr th {\n",
       "        vertical-align: top;\n",
       "    }\n",
       "\n",
       "    .dataframe thead th {\n",
       "        text-align: right;\n",
       "    }\n",
       "</style>\n",
       "<table border=\"1\" class=\"dataframe\">\n",
       "  <thead>\n",
       "    <tr style=\"text-align: right;\">\n",
       "      <th></th>\n",
       "      <th>all_umls_set</th>\n",
       "      <th>all_kegg_set</th>\n",
       "      <th>NAME</th>\n",
       "      <th>cliques</th>\n",
       "      <th>cliques_kegg</th>\n",
       "    </tr>\n",
       "  </thead>\n",
       "  <tbody>\n",
       "    <tr>\n",
       "      <th>map01100 Global Pathway</th>\n",
       "      <td>{}</td>\n",
       "      <td>{}</td>\n",
       "      <td>[Metabolic pathways]</td>\n",
       "      <td>[]</td>\n",
       "      <td>[]</td>\n",
       "    </tr>\n",
       "    <tr>\n",
       "      <th>map01110 Global Pathway</th>\n",
       "      <td>{}</td>\n",
       "      <td>{}</td>\n",
       "      <td>[Biosynthesis of secondary metabolites]</td>\n",
       "      <td>[]</td>\n",
       "      <td>[]</td>\n",
       "    </tr>\n",
       "    <tr>\n",
       "      <th>map01120 Global Pathway</th>\n",
       "      <td>{}</td>\n",
       "      <td>{}</td>\n",
       "      <td>[Microbial metabolism in diverse environments]</td>\n",
       "      <td>[]</td>\n",
       "      <td>[]</td>\n",
       "    </tr>\n",
       "    <tr>\n",
       "      <th>map01200 Global Pathway</th>\n",
       "      <td>{}</td>\n",
       "      <td>{}</td>\n",
       "      <td>[Carbon metabolism]</td>\n",
       "      <td>[]</td>\n",
       "      <td>[]</td>\n",
       "    </tr>\n",
       "    <tr>\n",
       "      <th>map01210 Global Pathway</th>\n",
       "      <td>{}</td>\n",
       "      <td>{}</td>\n",
       "      <td>[2-Oxocarboxylic acid metabolism]</td>\n",
       "      <td>[]</td>\n",
       "      <td>[]</td>\n",
       "    </tr>\n",
       "    <tr>\n",
       "      <th>...</th>\n",
       "      <td>...</td>\n",
       "      <td>...</td>\n",
       "      <td>...</td>\n",
       "      <td>...</td>\n",
       "      <td>...</td>\n",
       "    </tr>\n",
       "    <tr>\n",
       "      <th>hsa04934 Pathway</th>\n",
       "      <td>{C0039635, C1415321, C0286910, C3256589, C1529...</td>\n",
       "      <td>{C00020, 5929  RBBP5; RB binding protein 5, hi...</td>\n",
       "      <td>[Cushing syndrome - Homo sapiens (human)]</td>\n",
       "      <td>[(C0039635, C1415321), (C0039635, C0286910), (...</td>\n",
       "      <td>[(C00020, 5929  RBBP5; RB binding protein 5, h...</td>\n",
       "    </tr>\n",
       "    <tr>\n",
       "      <th>hsa01521 Pathway</th>\n",
       "      <td>{C4053633, C3827073, C4519548, C2346824, C5545...</td>\n",
       "      <td>{D11417, D11772, D09371, D11980, D11773, D1124...</td>\n",
       "      <td>[EGFR tyrosine kinase inhibitor resistance - H...</td>\n",
       "      <td>[(C4053633, C3827073), (C4053633, C4519548), (...</td>\n",
       "      <td>[(D11417, D11772), (D11417, D09371), (D11417, ...</td>\n",
       "    </tr>\n",
       "    <tr>\n",
       "      <th>hsa01524 Pathway</th>\n",
       "      <td>{}</td>\n",
       "      <td>{}</td>\n",
       "      <td>[Platinum drug resistance - Homo sapiens (human)]</td>\n",
       "      <td>[]</td>\n",
       "      <td>[]</td>\n",
       "    </tr>\n",
       "    <tr>\n",
       "      <th>hsa01523 Pathway</th>\n",
       "      <td>{C4288736, C1831845, C3640818, C2700602}</td>\n",
       "      <td>{D12183, D10954}</td>\n",
       "      <td>[Antifolate resistance - Homo sapiens (human)]</td>\n",
       "      <td>[(C4288736, C1831845), (C4288736, C3640818), (...</td>\n",
       "      <td>[(D12183, D10954)]</td>\n",
       "    </tr>\n",
       "    <tr>\n",
       "      <th>hsa01522 Pathway</th>\n",
       "      <td>{C0338344, C3827124, C0919273, C0663405, C4704...</td>\n",
       "      <td>{D03793, D03802, D11262, D03795, D03797, D07928}</td>\n",
       "      <td>[Endocrine resistance - Homo sapiens (human)]</td>\n",
       "      <td>[(C0338344, C3827124), (C0338344, C0919273), (...</td>\n",
       "      <td>[(D03793, D03802), (D03793, D11262), (D03793, ...</td>\n",
       "    </tr>\n",
       "  </tbody>\n",
       "</table>\n",
       "<p>1741 rows × 5 columns</p>\n",
       "</div>"
      ],
      "text/plain": [
       "                                                              all_umls_set  \\\n",
       "map01100 Global Pathway                                                 {}   \n",
       "map01110 Global Pathway                                                 {}   \n",
       "map01120 Global Pathway                                                 {}   \n",
       "map01200 Global Pathway                                                 {}   \n",
       "map01210 Global Pathway                                                 {}   \n",
       "...                                                                    ...   \n",
       "hsa04934 Pathway         {C0039635, C1415321, C0286910, C3256589, C1529...   \n",
       "hsa01521 Pathway         {C4053633, C3827073, C4519548, C2346824, C5545...   \n",
       "hsa01524 Pathway                                                        {}   \n",
       "hsa01523 Pathway                  {C4288736, C1831845, C3640818, C2700602}   \n",
       "hsa01522 Pathway         {C0338344, C3827124, C0919273, C0663405, C4704...   \n",
       "\n",
       "                                                              all_kegg_set  \\\n",
       "map01100 Global Pathway                                                 {}   \n",
       "map01110 Global Pathway                                                 {}   \n",
       "map01120 Global Pathway                                                 {}   \n",
       "map01200 Global Pathway                                                 {}   \n",
       "map01210 Global Pathway                                                 {}   \n",
       "...                                                                    ...   \n",
       "hsa04934 Pathway         {C00020, 5929  RBBP5; RB binding protein 5, hi...   \n",
       "hsa01521 Pathway         {D11417, D11772, D09371, D11980, D11773, D1124...   \n",
       "hsa01524 Pathway                                                        {}   \n",
       "hsa01523 Pathway                                          {D12183, D10954}   \n",
       "hsa01522 Pathway          {D03793, D03802, D11262, D03795, D03797, D07928}   \n",
       "\n",
       "                                                                      NAME  \\\n",
       "map01100 Global Pathway                               [Metabolic pathways]   \n",
       "map01110 Global Pathway            [Biosynthesis of secondary metabolites]   \n",
       "map01120 Global Pathway     [Microbial metabolism in diverse environments]   \n",
       "map01200 Global Pathway                                [Carbon metabolism]   \n",
       "map01210 Global Pathway                  [2-Oxocarboxylic acid metabolism]   \n",
       "...                                                                    ...   \n",
       "hsa04934 Pathway                 [Cushing syndrome - Homo sapiens (human)]   \n",
       "hsa01521 Pathway         [EGFR tyrosine kinase inhibitor resistance - H...   \n",
       "hsa01524 Pathway         [Platinum drug resistance - Homo sapiens (human)]   \n",
       "hsa01523 Pathway            [Antifolate resistance - Homo sapiens (human)]   \n",
       "hsa01522 Pathway             [Endocrine resistance - Homo sapiens (human)]   \n",
       "\n",
       "                                                                   cliques  \\\n",
       "map01100 Global Pathway                                                 []   \n",
       "map01110 Global Pathway                                                 []   \n",
       "map01120 Global Pathway                                                 []   \n",
       "map01200 Global Pathway                                                 []   \n",
       "map01210 Global Pathway                                                 []   \n",
       "...                                                                    ...   \n",
       "hsa04934 Pathway         [(C0039635, C1415321), (C0039635, C0286910), (...   \n",
       "hsa01521 Pathway         [(C4053633, C3827073), (C4053633, C4519548), (...   \n",
       "hsa01524 Pathway                                                        []   \n",
       "hsa01523 Pathway         [(C4288736, C1831845), (C4288736, C3640818), (...   \n",
       "hsa01522 Pathway         [(C0338344, C3827124), (C0338344, C0919273), (...   \n",
       "\n",
       "                                                              cliques_kegg  \n",
       "map01100 Global Pathway                                                 []  \n",
       "map01110 Global Pathway                                                 []  \n",
       "map01120 Global Pathway                                                 []  \n",
       "map01200 Global Pathway                                                 []  \n",
       "map01210 Global Pathway                                                 []  \n",
       "...                                                                    ...  \n",
       "hsa04934 Pathway         [(C00020, 5929  RBBP5; RB binding protein 5, h...  \n",
       "hsa01521 Pathway         [(D11417, D11772), (D11417, D09371), (D11417, ...  \n",
       "hsa01524 Pathway                                                        []  \n",
       "hsa01523 Pathway                                        [(D12183, D10954)]  \n",
       "hsa01522 Pathway         [(D03793, D03802), (D03793, D11262), (D03793, ...  \n",
       "\n",
       "[1741 rows x 5 columns]"
      ]
     },
     "execution_count": 223,
     "metadata": {},
     "output_type": "execute_result"
    }
   ],
   "source": [
    "records_umls_cliques_df"
   ]
  },
  {
   "cell_type": "code",
   "execution_count": 224,
   "id": "91a87e9e-236f-4c56-8e74-322b388cf6c6",
   "metadata": {
    "execution": {
     "iopub.execute_input": "2023-09-26T06:54:30.798627Z",
     "iopub.status.busy": "2023-09-26T06:54:30.798205Z",
     "iopub.status.idle": "2023-09-26T06:54:31.195207Z",
     "shell.execute_reply": "2023-09-26T06:54:31.194453Z",
     "shell.execute_reply.started": "2023-09-26T06:54:30.798597Z"
    },
    "tags": []
   },
   "outputs": [],
   "source": [
    "records_all_pairs_raw_list = [] \n",
    "for k in records_umls_cliques_df['cliques']:\n",
    "    records_all_pairs_raw_list += k"
   ]
  },
  {
   "cell_type": "code",
   "execution_count": 225,
   "id": "a3a24d6d-8dd2-4994-a69a-ece1a9cb1832",
   "metadata": {
    "execution": {
     "iopub.execute_input": "2023-09-26T06:54:31.202823Z",
     "iopub.status.busy": "2023-09-26T06:54:31.202669Z",
     "iopub.status.idle": "2023-09-26T06:54:31.262575Z",
     "shell.execute_reply": "2023-09-26T06:54:31.261938Z",
     "shell.execute_reply.started": "2023-09-26T06:54:31.202805Z"
    },
    "tags": []
   },
   "outputs": [],
   "source": [
    "records_all_pairs_kegg_raw_list = [] \n",
    "for k in records_umls_cliques_df['cliques_kegg']:\n",
    "    records_all_pairs_kegg_raw_list += k"
   ]
  },
  {
   "cell_type": "code",
   "execution_count": 226,
   "id": "e26a4723-cf3d-457d-8906-1863b9929b74",
   "metadata": {
    "execution": {
     "iopub.execute_input": "2023-09-26T06:54:34.060758Z",
     "iopub.status.busy": "2023-09-26T06:54:34.060609Z",
     "iopub.status.idle": "2023-09-26T06:54:47.863488Z",
     "shell.execute_reply": "2023-09-26T06:54:47.862371Z",
     "shell.execute_reply.started": "2023-09-26T06:54:34.060744Z"
    },
    "tags": []
   },
   "outputs": [],
   "source": [
    "records_all_sorted_pairs_list = [\n",
    "    tuple(sorted(pair)) for pair in records_all_pairs_raw_list\n",
    "]"
   ]
  },
  {
   "cell_type": "code",
   "execution_count": 227,
   "id": "6266fd44-7121-4830-b531-6c63cdce1f7e",
   "metadata": {
    "execution": {
     "iopub.execute_input": "2023-09-26T06:54:47.865358Z",
     "iopub.status.busy": "2023-09-26T06:54:47.865109Z",
     "iopub.status.idle": "2023-09-26T06:54:49.787031Z",
     "shell.execute_reply": "2023-09-26T06:54:49.785586Z",
     "shell.execute_reply.started": "2023-09-26T06:54:47.865335Z"
    },
    "tags": []
   },
   "outputs": [],
   "source": [
    "records_all_kegg_sorted_pairs_list = [\n",
    "    tuple(sorted(pair)) for pair in records_all_pairs_kegg_raw_list\n",
    "]"
   ]
  },
  {
   "cell_type": "code",
   "execution_count": 228,
   "id": "1f571150-3e1a-43f9-99ba-c28c49c059e6",
   "metadata": {
    "execution": {
     "iopub.execute_input": "2023-09-26T06:54:49.789046Z",
     "iopub.status.busy": "2023-09-26T06:54:49.788621Z",
     "iopub.status.idle": "2023-09-26T06:54:51.074552Z",
     "shell.execute_reply": "2023-09-26T06:54:51.073843Z",
     "shell.execute_reply.started": "2023-09-26T06:54:49.789013Z"
    },
    "tags": []
   },
   "outputs": [
    {
     "data": {
      "text/plain": [
       "4931638"
      ]
     },
     "execution_count": 228,
     "metadata": {},
     "output_type": "execute_result"
    }
   ],
   "source": [
    "len(set(records_all_kegg_sorted_pairs_list))"
   ]
  },
  {
   "cell_type": "code",
   "execution_count": 229,
   "id": "16d72930-7304-456a-897a-2a0c043da417",
   "metadata": {
    "execution": {
     "iopub.execute_input": "2023-09-26T06:54:51.076157Z",
     "iopub.status.busy": "2023-09-26T06:54:51.075945Z",
     "iopub.status.idle": "2023-09-26T06:55:01.015873Z",
     "shell.execute_reply": "2023-09-26T06:55:01.014832Z",
     "shell.execute_reply.started": "2023-09-26T06:54:51.076137Z"
    },
    "tags": []
   },
   "outputs": [],
   "source": [
    "records_all_sorted_pairs_set = set(records_all_sorted_pairs_list)"
   ]
  },
  {
   "cell_type": "code",
   "execution_count": 230,
   "id": "67b50255-9b2e-48bc-aff8-6f74f49cf9cc",
   "metadata": {
    "execution": {
     "iopub.execute_input": "2023-09-26T06:55:01.017323Z",
     "iopub.status.busy": "2023-09-26T06:55:01.017083Z",
     "iopub.status.idle": "2023-09-26T06:55:01.028920Z",
     "shell.execute_reply": "2023-09-26T06:55:01.028044Z",
     "shell.execute_reply.started": "2023-09-26T06:55:01.017300Z"
    },
    "tags": []
   },
   "outputs": [
    {
     "data": {
      "text/plain": [
       "35236404"
      ]
     },
     "execution_count": 230,
     "metadata": {},
     "output_type": "execute_result"
    }
   ],
   "source": [
    "len(records_all_sorted_pairs_set)"
   ]
  },
  {
   "cell_type": "code",
   "execution_count": 231,
   "id": "5b13092b-ce32-449f-afd1-e6825a3b7ea1",
   "metadata": {
    "execution": {
     "iopub.execute_input": "2023-09-26T06:55:53.462468Z",
     "iopub.status.busy": "2023-09-26T06:55:53.462027Z",
     "iopub.status.idle": "2023-09-26T06:57:08.092900Z",
     "shell.execute_reply": "2023-09-26T06:57:08.091823Z",
     "shell.execute_reply.started": "2023-09-26T06:55:53.462435Z"
    },
    "tags": []
   },
   "outputs": [],
   "source": [
    "with open('../../benchmark_data/01_cui_pairs_json/kegg_cui_pairs.json', 'w') as f:\n",
    "    json.dump(list(records_all_sorted_pairs_set), f)"
   ]
  }
 ],
 "metadata": {
  "kernelspec": {
   "display_name": "Python [conda env:agatha_cgp]",
   "language": "python",
   "name": "conda-env-agatha_cgp-py"
  },
  "language_info": {
   "codemirror_mode": {
    "name": "ipython",
    "version": 3
   },
   "file_extension": ".py",
   "mimetype": "text/x-python",
   "name": "python",
   "nbconvert_exporter": "python",
   "pygments_lexer": "ipython3",
   "version": "3.8.13"
  }
 },
 "nbformat": 4,
 "nbformat_minor": 5
}
