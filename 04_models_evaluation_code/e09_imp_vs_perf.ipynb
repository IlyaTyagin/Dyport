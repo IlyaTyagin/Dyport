{
 "cells": [
  {
   "cell_type": "markdown",
   "id": "3fb951cc-3c41-4f8b-b93c-9b94e61f67a2",
   "metadata": {},
   "source": [
    "# Incorporating the importance metric into results"
   ]
  },
  {
   "cell_type": "code",
   "execution_count": 31,
   "id": "d1950891-a932-4543-a5d7-c5311e0a1e2f",
   "metadata": {
    "execution": {
     "iopub.execute_input": "2023-12-21T18:20:37.462647Z",
     "iopub.status.busy": "2023-12-21T18:20:37.461656Z",
     "iopub.status.idle": "2023-12-21T18:20:37.467990Z",
     "shell.execute_reply": "2023-12-21T18:20:37.467007Z",
     "shell.execute_reply.started": "2023-12-21T18:20:37.462610Z"
    },
    "tags": []
   },
   "outputs": [],
   "source": [
    "import pandas as pd\n",
    "import numpy as np\n",
    "import copy\n",
    "from sklearn.metrics import average_precision_score, roc_auc_score\n",
    "\n",
    "from collections import defaultdict\n",
    "\n",
    "from tqdm import tqdm\n",
    "import seaborn as sns\n",
    "from matplotlib import pyplot as plt\n",
    "\n",
    "from pathlib import Path\n",
    "import json"
   ]
  },
  {
   "cell_type": "markdown",
   "id": "5352f118-9516-4b15-aa80-693612543a3c",
   "metadata": {},
   "source": [
    "## Importance (features) from the future for a selected timestamp"
   ]
  },
  {
   "cell_type": "code",
   "execution_count": 2,
   "id": "7a9446b8-9abb-4a2d-a082-7a5c74f8b5b0",
   "metadata": {
    "execution": {
     "iopub.execute_input": "2023-12-21T18:11:00.720907Z",
     "iopub.status.busy": "2023-12-21T18:11:00.719908Z",
     "iopub.status.idle": "2023-12-21T18:11:02.354597Z",
     "shell.execute_reply": "2023-12-21T18:11:02.353726Z",
     "shell.execute_reply.started": "2023-12-21T18:11:00.720871Z"
    },
    "tags": []
   },
   "outputs": [],
   "source": [
    "all_scores_decaying_df_dict = pd.read_pickle(\n",
    "    '../benchmark_data/10_eval_ml_models/diff_pos_neg_edges_cuis_2016_2023_all_models_scores_dict.pkl'\n",
    ")"
   ]
  },
  {
   "cell_type": "code",
   "execution_count": 3,
   "id": "e64b0fc7-39f6-4f76-bd63-947df0b1162e",
   "metadata": {
    "execution": {
     "iopub.execute_input": "2023-12-21T18:11:02.359941Z",
     "iopub.status.busy": "2023-12-21T18:11:02.359137Z",
     "iopub.status.idle": "2023-12-21T18:11:02.365287Z",
     "shell.execute_reply": "2023-12-21T18:11:02.364265Z",
     "shell.execute_reply.started": "2023-12-21T18:11:02.359903Z"
    },
    "tags": []
   },
   "outputs": [],
   "source": [
    "importance_experiment_pairs_year = ('2016','2017')"
   ]
  },
  {
   "cell_type": "code",
   "execution_count": 4,
   "id": "cf1203b8-9c11-49fb-a9d4-c16ee75e75a2",
   "metadata": {
    "execution": {
     "iopub.execute_input": "2023-12-21T18:11:02.367917Z",
     "iopub.status.busy": "2023-12-21T18:11:02.367504Z",
     "iopub.status.idle": "2023-12-21T18:11:02.523862Z",
     "shell.execute_reply": "2023-12-21T18:11:02.523011Z",
     "shell.execute_reply.started": "2023-12-21T18:11:02.367886Z"
    },
    "tags": []
   },
   "outputs": [],
   "source": [
    "benchmark_importance_metrics_df = pd.read_pickle(\n",
    "    '../benchmark_data/09_benchmark_feature_collection/benchmark_importance_metrics_df.pkl'\n",
    ")"
   ]
  },
  {
   "cell_type": "code",
   "execution_count": 6,
   "id": "deab036f-5830-4702-96d1-b1fc624de764",
   "metadata": {
    "execution": {
     "iopub.execute_input": "2023-12-07T22:43:56.342222Z",
     "iopub.status.busy": "2023-12-07T22:43:56.341777Z",
     "iopub.status.idle": "2023-12-07T22:43:56.478807Z",
     "shell.execute_reply": "2023-12-07T22:43:56.477821Z",
     "shell.execute_reply.started": "2023-12-07T22:43:56.342205Z"
    },
    "tags": []
   },
   "outputs": [],
   "source": [
    "benchmark_models_scores_df = all_scores_decaying_df_dict[importance_experiment_pairs_year]\n",
    "\n",
    "benchmark_models_scores_df['cui_pair'] = (\n",
    "      benchmark_models_scores_df['subj'] \n",
    "    + ' '\n",
    "    + benchmark_models_scores_df['obj']\n",
    ")"
   ]
  },
  {
   "cell_type": "code",
   "execution_count": 5,
   "id": "2e087517-9cae-431d-9b8f-d9e0f7386624",
   "metadata": {
    "execution": {
     "iopub.execute_input": "2023-12-21T18:11:15.204039Z",
     "iopub.status.busy": "2023-12-21T18:11:15.203839Z",
     "iopub.status.idle": "2023-12-21T18:11:15.386153Z",
     "shell.execute_reply": "2023-12-21T18:11:15.385463Z",
     "shell.execute_reply.started": "2023-12-21T18:11:15.204023Z"
    },
    "tags": []
   },
   "outputs": [
    {
     "data": {
      "text/html": [
       "<div>\n",
       "<style scoped>\n",
       "    .dataframe tbody tr th:only-of-type {\n",
       "        vertical-align: middle;\n",
       "    }\n",
       "\n",
       "    .dataframe tbody tr th {\n",
       "        vertical-align: top;\n",
       "    }\n",
       "\n",
       "    .dataframe thead th {\n",
       "        text-align: right;\n",
       "    }\n",
       "</style>\n",
       "<table border=\"1\" class=\"dataframe\">\n",
       "  <thead>\n",
       "    <tr style=\"text-align: right;\">\n",
       "      <th></th>\n",
       "      <th>source</th>\n",
       "      <th>target</th>\n",
       "      <th>source_cui</th>\n",
       "      <th>target_cui</th>\n",
       "      <th>cui_pair</th>\n",
       "      <th>mentions_diff</th>\n",
       "      <th>sem_scholar_cit</th>\n",
       "      <th>ig</th>\n",
       "      <th>jac_1st_train</th>\n",
       "      <th>jac_2nd_train</th>\n",
       "      <th>eig_cent_diff</th>\n",
       "      <th>betw_cent</th>\n",
       "    </tr>\n",
       "  </thead>\n",
       "  <tbody>\n",
       "    <tr>\n",
       "      <th>0</th>\n",
       "      <td>C0033308__progesterone</td>\n",
       "      <td>C1421999__SLC38A1 gene</td>\n",
       "      <td>C0033308</td>\n",
       "      <td>C1421999</td>\n",
       "      <td>C0033308 C1421999</td>\n",
       "      <td>1</td>\n",
       "      <td>27.0</td>\n",
       "      <td>0.005632</td>\n",
       "      <td>0.004669</td>\n",
       "      <td>0.345337</td>\n",
       "      <td>-0.001702</td>\n",
       "      <td>0.000000e+00</td>\n",
       "    </tr>\n",
       "    <tr>\n",
       "      <th>1</th>\n",
       "      <td>C0557874__Global developmental delay</td>\n",
       "      <td>C0152423__Congenital small ears</td>\n",
       "      <td>C0557874</td>\n",
       "      <td>C0152423</td>\n",
       "      <td>C0152423 C0557874</td>\n",
       "      <td>1</td>\n",
       "      <td>39.0</td>\n",
       "      <td>0.006297</td>\n",
       "      <td>0.105121</td>\n",
       "      <td>0.542392</td>\n",
       "      <td>0.000053</td>\n",
       "      <td>9.112312e-09</td>\n",
       "    </tr>\n",
       "    <tr>\n",
       "      <th>2</th>\n",
       "      <td>C1332733__CDK2 gene</td>\n",
       "      <td>C1332650__C-Terminal Binding Protein 1</td>\n",
       "      <td>C1332733</td>\n",
       "      <td>C1332650</td>\n",
       "      <td>C1332650 C1332733</td>\n",
       "      <td>1</td>\n",
       "      <td>6.0</td>\n",
       "      <td>0.016198</td>\n",
       "      <td>0.049270</td>\n",
       "      <td>0.600761</td>\n",
       "      <td>-0.000063</td>\n",
       "      <td>1.621441e-06</td>\n",
       "    </tr>\n",
       "    <tr>\n",
       "      <th>3</th>\n",
       "      <td>C0006142__Malignant neoplasm of breast</td>\n",
       "      <td>C1136328__Iridoids</td>\n",
       "      <td>C0006142</td>\n",
       "      <td>C1136328</td>\n",
       "      <td>C0006142 C1136328</td>\n",
       "      <td>2</td>\n",
       "      <td>48.0</td>\n",
       "      <td>0.006355</td>\n",
       "      <td>0.000272</td>\n",
       "      <td>0.028818</td>\n",
       "      <td>0.002889</td>\n",
       "      <td>0.000000e+00</td>\n",
       "    </tr>\n",
       "    <tr>\n",
       "      <th>4</th>\n",
       "      <td>C1456409__etravirine</td>\n",
       "      <td>C4045491__doravirine</td>\n",
       "      <td>C1456409</td>\n",
       "      <td>C4045491</td>\n",
       "      <td>C1456409 C4045491</td>\n",
       "      <td>15</td>\n",
       "      <td>239.0</td>\n",
       "      <td>0.016966</td>\n",
       "      <td>0.030973</td>\n",
       "      <td>0.140814</td>\n",
       "      <td>-0.000003</td>\n",
       "      <td>1.250633e-06</td>\n",
       "    </tr>\n",
       "    <tr>\n",
       "      <th>...</th>\n",
       "      <td>...</td>\n",
       "      <td>...</td>\n",
       "      <td>...</td>\n",
       "      <td>...</td>\n",
       "      <td>...</td>\n",
       "      <td>...</td>\n",
       "      <td>...</td>\n",
       "      <td>...</td>\n",
       "      <td>...</td>\n",
       "      <td>...</td>\n",
       "      <td>...</td>\n",
       "      <td>...</td>\n",
       "    </tr>\n",
       "    <tr>\n",
       "      <th>48563</th>\n",
       "      <td>C1448177__TNF protein, human</td>\n",
       "      <td>C1824798__CRTC1 gene</td>\n",
       "      <td>C1448177</td>\n",
       "      <td>C1824798</td>\n",
       "      <td>C1448177 C1824798</td>\n",
       "      <td>1</td>\n",
       "      <td>64.0</td>\n",
       "      <td>0.008860</td>\n",
       "      <td>0.011995</td>\n",
       "      <td>0.405616</td>\n",
       "      <td>0.004581</td>\n",
       "      <td>0.000000e+00</td>\n",
       "    </tr>\n",
       "    <tr>\n",
       "      <th>48564</th>\n",
       "      <td>C1332803__CTNNB1 gene</td>\n",
       "      <td>C1835953__NOTUM gene</td>\n",
       "      <td>C1332803</td>\n",
       "      <td>C1835953</td>\n",
       "      <td>C1332803 C1835953</td>\n",
       "      <td>4</td>\n",
       "      <td>147.0</td>\n",
       "      <td>0.031855</td>\n",
       "      <td>0.013270</td>\n",
       "      <td>0.105266</td>\n",
       "      <td>0.000367</td>\n",
       "      <td>1.700016e-06</td>\n",
       "    </tr>\n",
       "    <tr>\n",
       "      <th>48565</th>\n",
       "      <td>C0002335__alprostadil</td>\n",
       "      <td>C0008864__citrulline</td>\n",
       "      <td>C0002335</td>\n",
       "      <td>C0008864</td>\n",
       "      <td>C0002335 C0008864</td>\n",
       "      <td>0</td>\n",
       "      <td>14.0</td>\n",
       "      <td>0.000446</td>\n",
       "      <td>0.068027</td>\n",
       "      <td>0.512115</td>\n",
       "      <td>-0.000111</td>\n",
       "      <td>5.522397e-08</td>\n",
       "    </tr>\n",
       "    <tr>\n",
       "      <th>48566</th>\n",
       "      <td>C1363984__TNFRSF1A gene</td>\n",
       "      <td>C2350562__Brominated Diphenyl Ethers</td>\n",
       "      <td>C1363984</td>\n",
       "      <td>C2350562</td>\n",
       "      <td>C1363984 C2350562</td>\n",
       "      <td>0</td>\n",
       "      <td>4.0</td>\n",
       "      <td>0.002455</td>\n",
       "      <td>0.010173</td>\n",
       "      <td>0.334290</td>\n",
       "      <td>-0.000046</td>\n",
       "      <td>1.520694e-05</td>\n",
       "    </tr>\n",
       "    <tr>\n",
       "      <th>48567</th>\n",
       "      <td>C0022665__Kidney Neoplasm</td>\n",
       "      <td>C0206694__Mucoepidermoid Carcinoma</td>\n",
       "      <td>C0022665</td>\n",
       "      <td>C0206694</td>\n",
       "      <td>C0022665 C0206694</td>\n",
       "      <td>0</td>\n",
       "      <td>4.0</td>\n",
       "      <td>0.000239</td>\n",
       "      <td>0.081136</td>\n",
       "      <td>0.341769</td>\n",
       "      <td>-0.001742</td>\n",
       "      <td>0.000000e+00</td>\n",
       "    </tr>\n",
       "  </tbody>\n",
       "</table>\n",
       "<p>48568 rows × 12 columns</p>\n",
       "</div>"
      ],
      "text/plain": [
       "                                       source  \\\n",
       "0                      C0033308__progesterone   \n",
       "1        C0557874__Global developmental delay   \n",
       "2                         C1332733__CDK2 gene   \n",
       "3      C0006142__Malignant neoplasm of breast   \n",
       "4                        C1456409__etravirine   \n",
       "...                                       ...   \n",
       "48563            C1448177__TNF protein, human   \n",
       "48564                   C1332803__CTNNB1 gene   \n",
       "48565                   C0002335__alprostadil   \n",
       "48566                 C1363984__TNFRSF1A gene   \n",
       "48567               C0022665__Kidney Neoplasm   \n",
       "\n",
       "                                       target source_cui target_cui  \\\n",
       "0                      C1421999__SLC38A1 gene   C0033308   C1421999   \n",
       "1             C0152423__Congenital small ears   C0557874   C0152423   \n",
       "2      C1332650__C-Terminal Binding Protein 1   C1332733   C1332650   \n",
       "3                          C1136328__Iridoids   C0006142   C1136328   \n",
       "4                        C4045491__doravirine   C1456409   C4045491   \n",
       "...                                       ...        ...        ...   \n",
       "48563                    C1824798__CRTC1 gene   C1448177   C1824798   \n",
       "48564                    C1835953__NOTUM gene   C1332803   C1835953   \n",
       "48565                    C0008864__citrulline   C0002335   C0008864   \n",
       "48566    C2350562__Brominated Diphenyl Ethers   C1363984   C2350562   \n",
       "48567      C0206694__Mucoepidermoid Carcinoma   C0022665   C0206694   \n",
       "\n",
       "                cui_pair  mentions_diff  sem_scholar_cit        ig  \\\n",
       "0      C0033308 C1421999              1             27.0  0.005632   \n",
       "1      C0152423 C0557874              1             39.0  0.006297   \n",
       "2      C1332650 C1332733              1              6.0  0.016198   \n",
       "3      C0006142 C1136328              2             48.0  0.006355   \n",
       "4      C1456409 C4045491             15            239.0  0.016966   \n",
       "...                  ...            ...              ...       ...   \n",
       "48563  C1448177 C1824798              1             64.0  0.008860   \n",
       "48564  C1332803 C1835953              4            147.0  0.031855   \n",
       "48565  C0002335 C0008864              0             14.0  0.000446   \n",
       "48566  C1363984 C2350562              0              4.0  0.002455   \n",
       "48567  C0022665 C0206694              0              4.0  0.000239   \n",
       "\n",
       "       jac_1st_train  jac_2nd_train  eig_cent_diff     betw_cent  \n",
       "0           0.004669       0.345337      -0.001702  0.000000e+00  \n",
       "1           0.105121       0.542392       0.000053  9.112312e-09  \n",
       "2           0.049270       0.600761      -0.000063  1.621441e-06  \n",
       "3           0.000272       0.028818       0.002889  0.000000e+00  \n",
       "4           0.030973       0.140814      -0.000003  1.250633e-06  \n",
       "...              ...            ...            ...           ...  \n",
       "48563       0.011995       0.405616       0.004581  0.000000e+00  \n",
       "48564       0.013270       0.105266       0.000367  1.700016e-06  \n",
       "48565       0.068027       0.512115      -0.000111  5.522397e-08  \n",
       "48566       0.010173       0.334290      -0.000046  1.520694e-05  \n",
       "48567       0.081136       0.341769      -0.001742  0.000000e+00  \n",
       "\n",
       "[48568 rows x 12 columns]"
      ]
     },
     "execution_count": 5,
     "metadata": {},
     "output_type": "execute_result"
    }
   ],
   "source": [
    "benchmark_importance_metrics_df"
   ]
  },
  {
   "cell_type": "markdown",
   "id": "f07d104e-488a-4112-bc80-a4cf976c985a",
   "metadata": {},
   "source": [
    "## Calculating merged importance metric"
   ]
  },
  {
   "cell_type": "code",
   "execution_count": 6,
   "id": "a641d2a7-30e8-4377-bd5f-bff60ba0ec6c",
   "metadata": {
    "execution": {
     "iopub.execute_input": "2023-12-21T18:11:22.195919Z",
     "iopub.status.busy": "2023-12-21T18:11:22.195582Z",
     "iopub.status.idle": "2023-12-21T18:11:22.204584Z",
     "shell.execute_reply": "2023-12-21T18:11:22.203702Z",
     "shell.execute_reply.started": "2023-12-21T18:11:22.195886Z"
    },
    "tags": []
   },
   "outputs": [],
   "source": [
    "benchmark_importance_metrics_df['jac_2nd_neg_train'] = - benchmark_importance_metrics_df['jac_2nd_train']"
   ]
  },
  {
   "cell_type": "code",
   "execution_count": 7,
   "id": "91a49405-314a-454e-90dd-1ec0866b93fe",
   "metadata": {
    "execution": {
     "iopub.execute_input": "2023-12-21T18:11:22.290465Z",
     "iopub.status.busy": "2023-12-21T18:11:22.289935Z",
     "iopub.status.idle": "2023-12-21T18:11:22.293739Z",
     "shell.execute_reply": "2023-12-21T18:11:22.293016Z",
     "shell.execute_reply.started": "2023-12-21T18:11:22.290434Z"
    },
    "tags": []
   },
   "outputs": [],
   "source": [
    "imp_metric_columns = [\n",
    "    'ig',\n",
    "    'eig_cent_diff',\n",
    "    'betw_cent',\n",
    "    'jac_2nd_neg_train',\n",
    "    'mentions_diff',\n",
    "    'sem_scholar_cit',\n",
    "]"
   ]
  },
  {
   "cell_type": "code",
   "execution_count": 9,
   "id": "fc49ed84-d29f-49bd-adee-81702ce6353d",
   "metadata": {
    "execution": {
     "iopub.execute_input": "2023-12-21T18:11:37.376303Z",
     "iopub.status.busy": "2023-12-21T18:11:37.375772Z",
     "iopub.status.idle": "2023-12-21T18:11:38.447524Z",
     "shell.execute_reply": "2023-12-21T18:11:38.446669Z",
     "shell.execute_reply.started": "2023-12-21T18:11:37.376270Z"
    },
    "tags": []
   },
   "outputs": [],
   "source": [
    "power = 1\n",
    "\n",
    "benchmark_importance_metrics_df['IMP_manh'] = (\n",
    "    benchmark_importance_metrics_df\n",
    "        [imp_metric_columns]\n",
    "        .rank(axis=0, pct=True, method='average').apply( # ties have the same rank value\n",
    "            lambda x: (\n",
    "                sum(\n",
    "                    [abs(x[k])**power for k in x.keys()]\n",
    "                )**(1/power))/len(x.keys()),\n",
    "            axis=1)\n",
    ")"
   ]
  },
  {
   "cell_type": "code",
   "execution_count": 22,
   "id": "2d9b99a3-bfa9-4dbf-9a4d-42a5ad55bd78",
   "metadata": {
    "execution": {
     "iopub.execute_input": "2023-12-07T22:56:25.945500Z",
     "iopub.status.busy": "2023-12-07T22:56:25.944549Z",
     "iopub.status.idle": "2023-12-07T22:56:26.460848Z",
     "shell.execute_reply": "2023-12-07T22:56:26.459440Z",
     "shell.execute_reply.started": "2023-12-07T22:56:25.945436Z"
    },
    "tags": []
   },
   "outputs": [],
   "source": [
    "benchmark_importance_metrics_df.to_csv('../benchmark_data/benchmark_pos_pairs_importance_test2016_imp2022_df.csv')"
   ]
  },
  {
   "cell_type": "code",
   "execution_count": 11,
   "id": "44c26fa4-2368-4be3-a3ad-a6997eb18d72",
   "metadata": {
    "execution": {
     "iopub.execute_input": "2023-11-15T18:10:06.181822Z",
     "iopub.status.busy": "2023-11-15T18:10:06.181672Z",
     "iopub.status.idle": "2023-11-15T18:10:07.548806Z",
     "shell.execute_reply": "2023-11-15T18:10:07.548123Z",
     "shell.execute_reply.started": "2023-11-15T18:10:06.181809Z"
    },
    "tags": []
   },
   "outputs": [
    {
     "data": {
      "text/plain": [
       "<AxesSubplot:>"
      ]
     },
     "execution_count": 11,
     "metadata": {},
     "output_type": "execute_result"
    },
    {
     "data": {
      "image/png": "[encoded data removed]",
      "text/plain": [
       "<Figure size 640x480 with 1 Axes>"
      ]
     },
     "metadata": {},
     "output_type": "display_data"
    }
   ],
   "source": [
    "benchmark_importance_metrics_df['IMP_manh'].hist(bins=100)"
   ]
  },
  {
   "cell_type": "markdown",
   "id": "954ca76f-ed38-42da-992b-e32782a7f991",
   "metadata": {},
   "source": [
    "### Plotting correlations"
   ]
  },
  {
   "cell_type": "code",
   "execution_count": 24,
   "id": "10beb4f3-5077-428a-82c8-a526f7a1c1eb",
   "metadata": {
    "execution": {
     "iopub.execute_input": "2023-11-20T13:38:29.144508Z",
     "iopub.status.busy": "2023-11-20T13:38:29.144074Z",
     "iopub.status.idle": "2023-11-20T13:38:29.149911Z",
     "shell.execute_reply": "2023-11-20T13:38:29.148791Z",
     "shell.execute_reply.started": "2023-11-20T13:38:29.144475Z"
    },
    "tags": []
   },
   "outputs": [],
   "source": [
    "imp_metric_columns_map_dict = {\n",
    "    'mentions_diff': 'Ment.',\n",
    "    'sem_scholar_cit': 'Cit.',\n",
    "    'ig': 'IG',\n",
    "    'eig_cent_diff': 'EC',\n",
    "    'betw_cent': 'BC',\n",
    "    'jac_2nd_neg_train': 'JC2',\n",
    "}"
   ]
  },
  {
   "cell_type": "code",
   "execution_count": 28,
   "id": "ca2ce183-0f59-461b-b4a5-6e815122fb4b",
   "metadata": {
    "execution": {
     "iopub.execute_input": "2023-11-20T13:42:20.993501Z",
     "iopub.status.busy": "2023-11-20T13:42:20.993090Z",
     "iopub.status.idle": "2023-11-20T13:42:21.026689Z",
     "shell.execute_reply": "2023-11-20T13:42:21.025840Z",
     "shell.execute_reply.started": "2023-11-20T13:42:20.993468Z"
    },
    "tags": []
   },
   "outputs": [],
   "source": [
    "benchmark_imp_components_print_df = (\n",
    "    benchmark_importance_metrics_df[imp_metric_columns]\n",
    "        .rename(columns=imp_metric_columns_map_dict)\n",
    "        .corr(method='spearman')\n",
    "        .round(3)\n",
    ")"
   ]
  },
  {
   "cell_type": "code",
   "execution_count": 29,
   "id": "2204d08a-c88a-441d-867d-04cfbb456c0b",
   "metadata": {
    "execution": {
     "iopub.execute_input": "2023-11-20T13:42:25.485946Z",
     "iopub.status.busy": "2023-11-20T13:42:25.485250Z",
     "iopub.status.idle": "2023-11-20T13:42:25.499030Z",
     "shell.execute_reply": "2023-11-20T13:42:25.498391Z",
     "shell.execute_reply.started": "2023-11-20T13:42:25.485928Z"
    },
    "tags": []
   },
   "outputs": [
    {
     "data": {
      "text/html": [
       "<div>\n",
       "<style scoped>\n",
       "    .dataframe tbody tr th:only-of-type {\n",
       "        vertical-align: middle;\n",
       "    }\n",
       "\n",
       "    .dataframe tbody tr th {\n",
       "        vertical-align: top;\n",
       "    }\n",
       "\n",
       "    .dataframe thead th {\n",
       "        text-align: right;\n",
       "    }\n",
       "</style>\n",
       "<table border=\"1\" class=\"dataframe\">\n",
       "  <thead>\n",
       "    <tr style=\"text-align: right;\">\n",
       "      <th></th>\n",
       "      <th>IG</th>\n",
       "      <th>EC</th>\n",
       "      <th>BC</th>\n",
       "      <th>JC2</th>\n",
       "      <th>Ment.</th>\n",
       "      <th>Cit.</th>\n",
       "    </tr>\n",
       "  </thead>\n",
       "  <tbody>\n",
       "    <tr>\n",
       "      <th>IG</th>\n",
       "      <td>1.000</td>\n",
       "      <td>0.162</td>\n",
       "      <td>0.045</td>\n",
       "      <td>0.102</td>\n",
       "      <td>0.022</td>\n",
       "      <td>0.154</td>\n",
       "    </tr>\n",
       "    <tr>\n",
       "      <th>EC</th>\n",
       "      <td>0.162</td>\n",
       "      <td>1.000</td>\n",
       "      <td>0.032</td>\n",
       "      <td>-0.028</td>\n",
       "      <td>0.091</td>\n",
       "      <td>0.119</td>\n",
       "    </tr>\n",
       "    <tr>\n",
       "      <th>BC</th>\n",
       "      <td>0.045</td>\n",
       "      <td>0.032</td>\n",
       "      <td>1.000</td>\n",
       "      <td>-0.010</td>\n",
       "      <td>-0.001</td>\n",
       "      <td>0.014</td>\n",
       "    </tr>\n",
       "    <tr>\n",
       "      <th>JC2</th>\n",
       "      <td>0.102</td>\n",
       "      <td>-0.028</td>\n",
       "      <td>-0.010</td>\n",
       "      <td>1.000</td>\n",
       "      <td>-0.050</td>\n",
       "      <td>0.018</td>\n",
       "    </tr>\n",
       "    <tr>\n",
       "      <th>Ment.</th>\n",
       "      <td>0.022</td>\n",
       "      <td>0.091</td>\n",
       "      <td>-0.001</td>\n",
       "      <td>-0.050</td>\n",
       "      <td>1.000</td>\n",
       "      <td>0.476</td>\n",
       "    </tr>\n",
       "    <tr>\n",
       "      <th>Cit.</th>\n",
       "      <td>0.154</td>\n",
       "      <td>0.119</td>\n",
       "      <td>0.014</td>\n",
       "      <td>0.018</td>\n",
       "      <td>0.476</td>\n",
       "      <td>1.000</td>\n",
       "    </tr>\n",
       "  </tbody>\n",
       "</table>\n",
       "</div>"
      ],
      "text/plain": [
       "          IG     EC     BC    JC2  Ment.   Cit.\n",
       "IG     1.000  0.162  0.045  0.102  0.022  0.154\n",
       "EC     0.162  1.000  0.032 -0.028  0.091  0.119\n",
       "BC     0.045  0.032  1.000 -0.010 -0.001  0.014\n",
       "JC2    0.102 -0.028 -0.010  1.000 -0.050  0.018\n",
       "Ment.  0.022  0.091 -0.001 -0.050  1.000  0.476\n",
       "Cit.   0.154  0.119  0.014  0.018  0.476  1.000"
      ]
     },
     "execution_count": 29,
     "metadata": {},
     "output_type": "execute_result"
    }
   ],
   "source": [
    "benchmark_imp_components_print_df"
   ]
  },
  {
   "cell_type": "code",
   "execution_count": 30,
   "id": "b707f8c7-0523-4800-9a09-5919b10ed2ad",
   "metadata": {
    "execution": {
     "iopub.execute_input": "2023-11-20T13:42:36.648152Z",
     "iopub.status.busy": "2023-11-20T13:42:36.647738Z",
     "iopub.status.idle": "2023-11-20T13:42:36.722944Z",
     "shell.execute_reply": "2023-11-20T13:42:36.722123Z",
     "shell.execute_reply.started": "2023-11-20T13:42:36.648119Z"
    },
    "tags": []
   },
   "outputs": [
    {
     "name": "stdout",
     "output_type": "stream",
     "text": [
      "\\begin{tabular}{lrrrrrr}\n",
      "\\toprule\n",
      "{} &     IG &     EC &     BC &    JC2 &  Ment. &   Cit. \\\\\n",
      "\\midrule\n",
      "IG    &  1.000 &  0.162 &  0.045 &  0.102 &  0.022 &  0.154 \\\\\n",
      "EC    &  0.162 &  1.000 &  0.032 & -0.028 &  0.091 &  0.119 \\\\\n",
      "BC    &  0.045 &  0.032 &  1.000 & -0.010 & -0.001 &  0.014 \\\\\n",
      "JC2   &  0.102 & -0.028 & -0.010 &  1.000 & -0.050 &  0.018 \\\\\n",
      "Ment. &  0.022 &  0.091 & -0.001 & -0.050 &  1.000 &  0.476 \\\\\n",
      "Cit.  &  0.154 &  0.119 &  0.014 &  0.018 &  0.476 &  1.000 \\\\\n",
      "\\bottomrule\n",
      "\\end{tabular}\n",
      "\n"
     ]
    },
    {
     "name": "stderr",
     "output_type": "stream",
     "text": [
      "/tmp/ipykernel_17961/1077251475.py:2: FutureWarning: In future versions `DataFrame.to_latex` is expected to utilise the base implementation of `Styler.to_latex` for formatting and rendering. The arguments signature may therefore change. It is recommended instead to use `DataFrame.style.to_latex` which also contains additional functionality.\n",
      "  benchmark_imp_components_print_df.to_latex()\n"
     ]
    }
   ],
   "source": [
    "print(\n",
    "    benchmark_imp_components_print_df.to_latex()\n",
    ")"
   ]
  },
  {
   "cell_type": "markdown",
   "id": "53fe6354-4d89-4870-b162-6747695a07ef",
   "metadata": {},
   "source": [
    "## Attaching models scores "
   ]
  },
  {
   "cell_type": "code",
   "execution_count": 15,
   "id": "2feb2c73-e6f1-42e6-a6fe-6b9365dd615c",
   "metadata": {
    "execution": {
     "iopub.execute_input": "2023-11-20T13:33:47.658410Z",
     "iopub.status.busy": "2023-11-20T13:33:47.657936Z",
     "iopub.status.idle": "2023-11-20T13:33:47.872266Z",
     "shell.execute_reply": "2023-11-20T13:33:47.871340Z",
     "shell.execute_reply.started": "2023-11-20T13:33:47.658377Z"
    },
    "tags": []
   },
   "outputs": [],
   "source": [
    "benchmark_model_scores_vs_imp_df = pd.merge(\n",
    "    left=benchmark_importance_metrics_df,\n",
    "    right=benchmark_models_scores_df[\n",
    "        ['cui_pair'] + [c for c in benchmark_models_scores_df.columns if '_score' in c and 'w_st' not in c]\n",
    "    ],\n",
    "    how='inner'\n",
    ").drop_duplicates()"
   ]
  },
  {
   "cell_type": "code",
   "execution_count": 18,
   "id": "37e71e91-dab1-4652-a693-55ccfdfb45e7",
   "metadata": {
    "execution": {
     "iopub.execute_input": "2023-11-20T13:34:41.361353Z",
     "iopub.status.busy": "2023-11-20T13:34:41.360942Z",
     "iopub.status.idle": "2023-11-20T13:34:41.385750Z",
     "shell.execute_reply": "2023-11-20T13:34:41.385059Z",
     "shell.execute_reply.started": "2023-11-20T13:34:41.361321Z"
    },
    "tags": []
   },
   "outputs": [
    {
     "data": {
      "text/html": [
       "<div>\n",
       "<style scoped>\n",
       "    .dataframe tbody tr th:only-of-type {\n",
       "        vertical-align: middle;\n",
       "    }\n",
       "\n",
       "    .dataframe tbody tr th {\n",
       "        vertical-align: top;\n",
       "    }\n",
       "\n",
       "    .dataframe thead th {\n",
       "        text-align: right;\n",
       "    }\n",
       "</style>\n",
       "<table border=\"1\" class=\"dataframe\">\n",
       "  <thead>\n",
       "    <tr style=\"text-align: right;\">\n",
       "      <th></th>\n",
       "      <th>mentions_diff</th>\n",
       "      <th>sem_scholar_cit</th>\n",
       "      <th>ig</th>\n",
       "      <th>eig_cent_diff</th>\n",
       "      <th>betw_cent</th>\n",
       "      <th>jac_2nd_neg_train</th>\n",
       "    </tr>\n",
       "  </thead>\n",
       "  <tbody>\n",
       "    <tr>\n",
       "      <th>mentions_diff</th>\n",
       "      <td>1.000000</td>\n",
       "      <td>0.429749</td>\n",
       "      <td>-0.011590</td>\n",
       "      <td>0.067547</td>\n",
       "      <td>-0.015271</td>\n",
       "      <td>-0.092658</td>\n",
       "    </tr>\n",
       "    <tr>\n",
       "      <th>sem_scholar_cit</th>\n",
       "      <td>0.429749</td>\n",
       "      <td>1.000000</td>\n",
       "      <td>0.127735</td>\n",
       "      <td>0.114950</td>\n",
       "      <td>0.010789</td>\n",
       "      <td>-0.044091</td>\n",
       "    </tr>\n",
       "    <tr>\n",
       "      <th>ig</th>\n",
       "      <td>-0.011590</td>\n",
       "      <td>0.127735</td>\n",
       "      <td>1.000000</td>\n",
       "      <td>0.172625</td>\n",
       "      <td>0.048922</td>\n",
       "      <td>0.054599</td>\n",
       "    </tr>\n",
       "    <tr>\n",
       "      <th>eig_cent_diff</th>\n",
       "      <td>0.067547</td>\n",
       "      <td>0.114950</td>\n",
       "      <td>0.172625</td>\n",
       "      <td>1.000000</td>\n",
       "      <td>0.033147</td>\n",
       "      <td>-0.072637</td>\n",
       "    </tr>\n",
       "    <tr>\n",
       "      <th>betw_cent</th>\n",
       "      <td>-0.015271</td>\n",
       "      <td>0.010789</td>\n",
       "      <td>0.048922</td>\n",
       "      <td>0.033147</td>\n",
       "      <td>1.000000</td>\n",
       "      <td>-0.009716</td>\n",
       "    </tr>\n",
       "    <tr>\n",
       "      <th>jac_2nd_neg_train</th>\n",
       "      <td>-0.092658</td>\n",
       "      <td>-0.044091</td>\n",
       "      <td>0.054599</td>\n",
       "      <td>-0.072637</td>\n",
       "      <td>-0.009716</td>\n",
       "      <td>1.000000</td>\n",
       "    </tr>\n",
       "  </tbody>\n",
       "</table>\n",
       "</div>"
      ],
      "text/plain": [
       "                   mentions_diff  sem_scholar_cit        ig  eig_cent_diff  \\\n",
       "mentions_diff           1.000000         0.429749 -0.011590       0.067547   \n",
       "sem_scholar_cit         0.429749         1.000000  0.127735       0.114950   \n",
       "ig                     -0.011590         0.127735  1.000000       0.172625   \n",
       "eig_cent_diff           0.067547         0.114950  0.172625       1.000000   \n",
       "betw_cent              -0.015271         0.010789  0.048922       0.033147   \n",
       "jac_2nd_neg_train      -0.092658        -0.044091  0.054599      -0.072637   \n",
       "\n",
       "                   betw_cent  jac_2nd_neg_train  \n",
       "mentions_diff      -0.015271          -0.092658  \n",
       "sem_scholar_cit     0.010789          -0.044091  \n",
       "ig                  0.048922           0.054599  \n",
       "eig_cent_diff       0.033147          -0.072637  \n",
       "betw_cent           1.000000          -0.009716  \n",
       "jac_2nd_neg_train  -0.009716           1.000000  "
      ]
     },
     "execution_count": 18,
     "metadata": {},
     "output_type": "execute_result"
    }
   ],
   "source": [
    "benchmark_model_scores_vs_imp_df[imp_metric_columns].corr(method='spearman')"
   ]
  },
  {
   "cell_type": "code",
   "execution_count": 15,
   "id": "a0102109-80ec-4b25-81e7-ee9a7ec1790a",
   "metadata": {
    "execution": {
     "iopub.execute_input": "2023-10-18T19:35:55.235146Z",
     "iopub.status.busy": "2023-10-18T19:35:55.234736Z",
     "iopub.status.idle": "2023-10-18T19:35:55.272195Z",
     "shell.execute_reply": "2023-10-18T19:35:55.271306Z",
     "shell.execute_reply.started": "2023-10-18T19:35:55.235114Z"
    },
    "tags": []
   },
   "outputs": [],
   "source": [
    "benchmark_model_scores_vs_imp_df.to_pickle(\n",
    "    '../benchmark_data/10_eval_ml_models/benchmark_model_scores_vs_imp_df.pkl'\n",
    ")"
   ]
  },
  {
   "cell_type": "markdown",
   "id": "c1c0e4c0-e892-4659-9cf7-e9bdd320823d",
   "metadata": {},
   "source": [
    "### Transforming data into collections of pairs"
   ]
  },
  {
   "cell_type": "code",
   "execution_count": 13,
   "id": "89cb5b29-12a0-4ca6-b748-cd2bc8d29e22",
   "metadata": {
    "execution": {
     "iopub.execute_input": "2023-11-15T18:10:24.140182Z",
     "iopub.status.busy": "2023-11-15T18:10:24.139834Z",
     "iopub.status.idle": "2023-11-15T18:10:24.883604Z",
     "shell.execute_reply": "2023-11-15T18:10:24.882865Z",
     "shell.execute_reply.started": "2023-11-15T18:10:24.140149Z"
    },
    "tags": []
   },
   "outputs": [],
   "source": [
    "diff_pos_neg_edges_cuis_dict = pd.read_pickle(\n",
    "    '../benchmark_data/10_eval_ml_models/diff_pos_neg_edges_cuis_2016_2023_decaying_dict.pkl'\n",
    ")"
   ]
  },
  {
   "cell_type": "code",
   "execution_count": 14,
   "id": "b4539e03-37e7-47cd-b00b-aa8f784022ea",
   "metadata": {
    "execution": {
     "iopub.execute_input": "2023-11-15T18:10:25.616311Z",
     "iopub.status.busy": "2023-11-15T18:10:25.615650Z",
     "iopub.status.idle": "2023-11-15T18:10:26.847214Z",
     "shell.execute_reply": "2023-11-15T18:10:26.846402Z",
     "shell.execute_reply.started": "2023-11-15T18:10:25.616275Z"
    },
    "tags": []
   },
   "outputs": [],
   "source": [
    "all_scores_decaying_df_dict = pd.read_pickle(\n",
    "    '../benchmark_data/10_eval_ml_models/diff_pos_neg_edges_cuis_2016_2023_all_models_scores_dict.pkl'\n",
    ")"
   ]
  },
  {
   "cell_type": "code",
   "execution_count": 15,
   "id": "444f62c0-6471-4be0-bd27-1e46bd7a7159",
   "metadata": {
    "execution": {
     "iopub.execute_input": "2023-11-15T18:10:28.549240Z",
     "iopub.status.busy": "2023-11-15T18:10:28.548581Z",
     "iopub.status.idle": "2023-11-15T18:10:28.571445Z",
     "shell.execute_reply": "2023-11-15T18:10:28.570667Z",
     "shell.execute_reply.started": "2023-11-15T18:10:28.549196Z"
    },
    "tags": []
   },
   "outputs": [],
   "source": [
    "pos_neg_pairs_df = diff_pos_neg_edges_cuis_dict[('2016', '2017')].copy()\n",
    "all_scores_df = all_scores_decaying_df_dict[('2016', '2017')].copy()"
   ]
  },
  {
   "cell_type": "code",
   "execution_count": 16,
   "id": "169d59e7-739d-4946-9a7a-0cbbef11ab98",
   "metadata": {
    "execution": {
     "iopub.execute_input": "2023-11-15T18:10:29.525499Z",
     "iopub.status.busy": "2023-11-15T18:10:29.525349Z",
     "iopub.status.idle": "2023-11-15T18:10:29.546064Z",
     "shell.execute_reply": "2023-11-15T18:10:29.545295Z",
     "shell.execute_reply.started": "2023-11-15T18:10:29.525485Z"
    },
    "tags": []
   },
   "outputs": [],
   "source": [
    "pos_neg_pairs_df = pos_neg_pairs_df.reset_index().drop('index', axis=1)"
   ]
  },
  {
   "cell_type": "code",
   "execution_count": 17,
   "id": "5309a1d7-48b3-4d60-a700-36a2c7d33973",
   "metadata": {
    "execution": {
     "iopub.execute_input": "2023-11-15T18:10:29.882867Z",
     "iopub.status.busy": "2023-11-15T18:10:29.882715Z",
     "iopub.status.idle": "2023-11-15T18:10:29.887238Z",
     "shell.execute_reply": "2023-11-15T18:10:29.886590Z",
     "shell.execute_reply.started": "2023-11-15T18:10:29.882852Z"
    },
    "tags": []
   },
   "outputs": [],
   "source": [
    "pos_neg_pairs_df['group'] = pos_neg_pairs_df.index // 11 # 1pos + 10neg"
   ]
  },
  {
   "cell_type": "code",
   "execution_count": 18,
   "id": "c4687fad-0607-440b-a5ea-7496003559da",
   "metadata": {
    "execution": {
     "iopub.execute_input": "2023-11-15T18:10:32.380272Z",
     "iopub.status.busy": "2023-11-15T18:10:32.379998Z",
     "iopub.status.idle": "2023-11-15T18:10:32.396488Z",
     "shell.execute_reply": "2023-11-15T18:10:32.395953Z",
     "shell.execute_reply.started": "2023-11-15T18:10:32.380257Z"
    },
    "tags": []
   },
   "outputs": [
    {
     "data": {
      "text/html": [
       "<div>\n",
       "<style scoped>\n",
       "    .dataframe tbody tr th:only-of-type {\n",
       "        vertical-align: middle;\n",
       "    }\n",
       "\n",
       "    .dataframe tbody tr th {\n",
       "        vertical-align: top;\n",
       "    }\n",
       "\n",
       "    .dataframe thead th {\n",
       "        text-align: right;\n",
       "    }\n",
       "</style>\n",
       "<table border=\"1\" class=\"dataframe\">\n",
       "  <thead>\n",
       "    <tr style=\"text-align: right;\">\n",
       "      <th></th>\n",
       "      <th>sem_pair</th>\n",
       "      <th>pair</th>\n",
       "      <th>label</th>\n",
       "      <th>group</th>\n",
       "    </tr>\n",
       "  </thead>\n",
       "  <tbody>\n",
       "    <tr>\n",
       "      <th>0</th>\n",
       "      <td>(Neoplastic Process, Pathologic Function)</td>\n",
       "      <td>(C0007102, C0267412)</td>\n",
       "      <td>1</td>\n",
       "      <td>0</td>\n",
       "    </tr>\n",
       "    <tr>\n",
       "      <th>1</th>\n",
       "      <td>(Neoplastic Process, Pathologic Function)</td>\n",
       "      <td>(C0007102, C0151763)</td>\n",
       "      <td>0</td>\n",
       "      <td>0</td>\n",
       "    </tr>\n",
       "    <tr>\n",
       "      <th>2</th>\n",
       "      <td>(Neoplastic Process, Pathologic Function)</td>\n",
       "      <td>(C0007102, C0333175)</td>\n",
       "      <td>0</td>\n",
       "      <td>0</td>\n",
       "    </tr>\n",
       "    <tr>\n",
       "      <th>3</th>\n",
       "      <td>(Neoplastic Process, Pathologic Function)</td>\n",
       "      <td>(C0007102, C0456973)</td>\n",
       "      <td>0</td>\n",
       "      <td>0</td>\n",
       "    </tr>\n",
       "    <tr>\n",
       "      <th>4</th>\n",
       "      <td>(Neoplastic Process, Pathologic Function)</td>\n",
       "      <td>(C0007102, C0339490)</td>\n",
       "      <td>0</td>\n",
       "      <td>0</td>\n",
       "    </tr>\n",
       "    <tr>\n",
       "      <th>...</th>\n",
       "      <td>...</td>\n",
       "      <td>...</td>\n",
       "      <td>...</td>\n",
       "      <td>...</td>\n",
       "    </tr>\n",
       "    <tr>\n",
       "      <th>336705</th>\n",
       "      <td>(Neoplastic Process, Organ or Tissue Function)</td>\n",
       "      <td>(C0009402, C0597250)</td>\n",
       "      <td>0</td>\n",
       "      <td>30609</td>\n",
       "    </tr>\n",
       "    <tr>\n",
       "      <th>336706</th>\n",
       "      <td>(Neoplastic Process, Organ or Tissue Function)</td>\n",
       "      <td>(C0009402, C1371668)</td>\n",
       "      <td>0</td>\n",
       "      <td>30609</td>\n",
       "    </tr>\n",
       "    <tr>\n",
       "      <th>336707</th>\n",
       "      <td>(Neoplastic Process, Organ or Tissue Function)</td>\n",
       "      <td>(C0009402, C1160339)</td>\n",
       "      <td>0</td>\n",
       "      <td>30609</td>\n",
       "    </tr>\n",
       "    <tr>\n",
       "      <th>336708</th>\n",
       "      <td>(Neoplastic Process, Organ or Tissue Function)</td>\n",
       "      <td>(C0009402, C0040445)</td>\n",
       "      <td>0</td>\n",
       "      <td>30609</td>\n",
       "    </tr>\n",
       "    <tr>\n",
       "      <th>336709</th>\n",
       "      <td>(Neoplastic Process, Organ or Tissue Function)</td>\n",
       "      <td>(C0009402, C0029047)</td>\n",
       "      <td>0</td>\n",
       "      <td>30609</td>\n",
       "    </tr>\n",
       "  </tbody>\n",
       "</table>\n",
       "<p>336710 rows × 4 columns</p>\n",
       "</div>"
      ],
      "text/plain": [
       "                                              sem_pair                  pair  \\\n",
       "0            (Neoplastic Process, Pathologic Function)  (C0007102, C0267412)   \n",
       "1            (Neoplastic Process, Pathologic Function)  (C0007102, C0151763)   \n",
       "2            (Neoplastic Process, Pathologic Function)  (C0007102, C0333175)   \n",
       "3            (Neoplastic Process, Pathologic Function)  (C0007102, C0456973)   \n",
       "4            (Neoplastic Process, Pathologic Function)  (C0007102, C0339490)   \n",
       "...                                                ...                   ...   \n",
       "336705  (Neoplastic Process, Organ or Tissue Function)  (C0009402, C0597250)   \n",
       "336706  (Neoplastic Process, Organ or Tissue Function)  (C0009402, C1371668)   \n",
       "336707  (Neoplastic Process, Organ or Tissue Function)  (C0009402, C1160339)   \n",
       "336708  (Neoplastic Process, Organ or Tissue Function)  (C0009402, C0040445)   \n",
       "336709  (Neoplastic Process, Organ or Tissue Function)  (C0009402, C0029047)   \n",
       "\n",
       "        label  group  \n",
       "0           1      0  \n",
       "1           0      0  \n",
       "2           0      0  \n",
       "3           0      0  \n",
       "4           0      0  \n",
       "...       ...    ...  \n",
       "336705      0  30609  \n",
       "336706      0  30609  \n",
       "336707      0  30609  \n",
       "336708      0  30609  \n",
       "336709      0  30609  \n",
       "\n",
       "[336710 rows x 4 columns]"
      ]
     },
     "execution_count": 18,
     "metadata": {},
     "output_type": "execute_result"
    }
   ],
   "source": [
    "pos_neg_pairs_df"
   ]
  },
  {
   "cell_type": "code",
   "execution_count": 19,
   "id": "b68619e4-8d8d-433e-b93c-fa0cf736528b",
   "metadata": {
    "execution": {
     "iopub.execute_input": "2023-11-15T18:10:38.256749Z",
     "iopub.status.busy": "2023-11-15T18:10:38.256070Z",
     "iopub.status.idle": "2023-11-15T18:10:43.944861Z",
     "shell.execute_reply": "2023-11-15T18:10:43.943938Z",
     "shell.execute_reply.started": "2023-11-15T18:10:38.256714Z"
    },
    "tags": []
   },
   "outputs": [],
   "source": [
    "pair_to_group_dict = (\n",
    "    pos_neg_pairs_df[\n",
    "        ['pair', 'group']\n",
    "    ]\n",
    "        .groupby('pair')\n",
    "        .agg(set)\n",
    "        ['group']\n",
    "        .to_dict()\n",
    ")"
   ]
  },
  {
   "cell_type": "code",
   "execution_count": 20,
   "id": "55b9a05a-14f4-49ec-8b29-756083ca5474",
   "metadata": {
    "execution": {
     "iopub.execute_input": "2023-11-15T18:10:51.535647Z",
     "iopub.status.busy": "2023-11-15T18:10:51.535485Z",
     "iopub.status.idle": "2023-11-15T18:10:51.694314Z",
     "shell.execute_reply": "2023-11-15T18:10:51.693408Z",
     "shell.execute_reply.started": "2023-11-15T18:10:51.535629Z"
    },
    "tags": []
   },
   "outputs": [],
   "source": [
    "all_scores_df['group'] = all_scores_df['pair'].apply(lambda x: pair_to_group_dict.get(x))"
   ]
  },
  {
   "cell_type": "code",
   "execution_count": 21,
   "id": "dbc9170d-fc3b-447e-b398-3d03fab19d9b",
   "metadata": {
    "execution": {
     "iopub.execute_input": "2023-11-15T18:10:52.098494Z",
     "iopub.status.busy": "2023-11-15T18:10:52.098336Z",
     "iopub.status.idle": "2023-11-15T18:10:52.632996Z",
     "shell.execute_reply": "2023-11-15T18:10:52.632105Z",
     "shell.execute_reply.started": "2023-11-15T18:10:52.098479Z"
    },
    "tags": []
   },
   "outputs": [],
   "source": [
    "all_scores_df = all_scores_df.explode('group')"
   ]
  },
  {
   "cell_type": "code",
   "execution_count": 22,
   "id": "f9ea44b7-0016-4882-9b46-d671b1f9073a",
   "metadata": {
    "execution": {
     "iopub.execute_input": "2023-11-15T18:10:52.634264Z",
     "iopub.status.busy": "2023-11-15T18:10:52.634099Z",
     "iopub.status.idle": "2023-11-15T18:10:52.638393Z",
     "shell.execute_reply": "2023-11-15T18:10:52.637804Z",
     "shell.execute_reply.started": "2023-11-15T18:10:52.634249Z"
    },
    "tags": []
   },
   "outputs": [
    {
     "data": {
      "text/plain": [
       "339648"
      ]
     },
     "execution_count": 22,
     "metadata": {},
     "output_type": "execute_result"
    }
   ],
   "source": [
    "len(all_scores_df)"
   ]
  },
  {
   "cell_type": "code",
   "execution_count": 23,
   "id": "463ec1b9-cbca-4798-9b42-221b71187f05",
   "metadata": {
    "execution": {
     "iopub.execute_input": "2023-11-15T18:10:53.433286Z",
     "iopub.status.busy": "2023-11-15T18:10:53.433114Z",
     "iopub.status.idle": "2023-11-15T18:10:54.180313Z",
     "shell.execute_reply": "2023-11-15T18:10:54.179234Z",
     "shell.execute_reply.started": "2023-11-15T18:10:53.433273Z"
    },
    "tags": []
   },
   "outputs": [],
   "source": [
    "pairs_scores_df = all_scores_df[\n",
    "    ['pair', 'label'] + [i for i in all_scores_df.columns if '_score' in i]\n",
    "].groupby('pair').agg('mean')"
   ]
  },
  {
   "cell_type": "code",
   "execution_count": 24,
   "id": "9b71dc0b-cb4a-4435-be00-672f529f6082",
   "metadata": {
    "execution": {
     "iopub.execute_input": "2023-11-15T18:10:54.181896Z",
     "iopub.status.busy": "2023-11-15T18:10:54.181669Z",
     "iopub.status.idle": "2023-11-15T18:10:54.220047Z",
     "shell.execute_reply": "2023-11-15T18:10:54.219498Z",
     "shell.execute_reply.started": "2023-11-15T18:10:54.181874Z"
    },
    "tags": []
   },
   "outputs": [
    {
     "data": {
      "text/plain": [
       "0.0    304640\n",
       "1.0     30619\n",
       "Name: label, dtype: int64"
      ]
     },
     "execution_count": 24,
     "metadata": {},
     "output_type": "execute_result"
    }
   ],
   "source": [
    "pairs_scores_df.label.value_counts()"
   ]
  },
  {
   "cell_type": "code",
   "execution_count": 25,
   "id": "694b40d5-db3b-40eb-8f0d-ff872204bd50",
   "metadata": {
    "execution": {
     "iopub.execute_input": "2023-11-15T18:10:56.432952Z",
     "iopub.status.busy": "2023-11-15T18:10:56.432728Z",
     "iopub.status.idle": "2023-11-15T18:11:13.522870Z",
     "shell.execute_reply": "2023-11-15T18:11:13.522277Z",
     "shell.execute_reply.started": "2023-11-15T18:10:56.432931Z"
    },
    "tags": []
   },
   "outputs": [
    {
     "name": "stderr",
     "output_type": "stream",
     "text": [
      "100%|███████████████████████████████████████████████████████████████████████████████████████████| 30610/30610 [00:08<00:00, 3494.42it/s]\n",
      "100%|███████████████████████████████████████████████████████████████████████████████████████████| 30610/30610 [00:07<00:00, 3990.51it/s]\n"
     ]
    },
    {
     "data": {
      "text/plain": [
       "30610"
      ]
     },
     "execution_count": 25,
     "metadata": {},
     "output_type": "execute_result"
    }
   ],
   "source": [
    "pairs_scores_df['group'] = pairs_scores_df.index.map(lambda x: pair_to_group_dict.get(x))\n",
    "\n",
    "pairs_scores_df = pairs_scores_df.explode('group')\n",
    "\n",
    "pairs_scores_df['label'] = pairs_scores_df['label'].astype(int)\n",
    "\n",
    "grouped_dfs = {\n",
    "    key: group.drop(columns='group') for key, group in tqdm(pairs_scores_df.groupby('group'))\n",
    "}\n",
    "\n",
    "pairs_scores_df_grouped_dict = dict()\n",
    "for k, v_df in tqdm(grouped_dfs.items()):\n",
    "    if len(v_df) == 11:\n",
    "        cur_df = v_df\n",
    "        pos_pair = cur_df[\n",
    "            cur_df['label'] == 1\n",
    "        ].index[0]\n",
    "        pairs_scores_df_grouped_dict[pos_pair] = v_df\n",
    "\n",
    "len(pairs_scores_df_grouped_dict)"
   ]
  },
  {
   "cell_type": "code",
   "execution_count": 26,
   "id": "ef07a6df-82a9-459c-8be7-add1662bbb70",
   "metadata": {
    "execution": {
     "iopub.execute_input": "2023-11-15T18:11:14.094661Z",
     "iopub.status.busy": "2023-11-15T18:11:14.094365Z",
     "iopub.status.idle": "2023-11-15T18:11:14.114313Z",
     "shell.execute_reply": "2023-11-15T18:11:14.113790Z",
     "shell.execute_reply.started": "2023-11-15T18:11:14.094639Z"
    },
    "tags": []
   },
   "outputs": [
    {
     "data": {
      "text/html": [
       "<div>\n",
       "<style scoped>\n",
       "    .dataframe tbody tr th:only-of-type {\n",
       "        vertical-align: middle;\n",
       "    }\n",
       "\n",
       "    .dataframe tbody tr th {\n",
       "        vertical-align: top;\n",
       "    }\n",
       "\n",
       "    .dataframe thead th {\n",
       "        text-align: right;\n",
       "    }\n",
       "</style>\n",
       "<table border=\"1\" class=\"dataframe\">\n",
       "  <thead>\n",
       "    <tr style=\"text-align: right;\">\n",
       "      <th></th>\n",
       "      <th>label</th>\n",
       "      <th>ComplEx_w_st_score</th>\n",
       "      <th>ComplEx_wo_st_score</th>\n",
       "      <th>DistMult_w_st_score</th>\n",
       "      <th>DistMult_wo_st_score</th>\n",
       "      <th>HolE_w_st_score</th>\n",
       "      <th>HolE_wo_st_score</th>\n",
       "      <th>TransE_w_st_score</th>\n",
       "      <th>TransE_wo_st_score</th>\n",
       "      <th>agatha_2015_score</th>\n",
       "      <th>n2v_score</th>\n",
       "    </tr>\n",
       "    <tr>\n",
       "      <th>pair</th>\n",
       "      <th></th>\n",
       "      <th></th>\n",
       "      <th></th>\n",
       "      <th></th>\n",
       "      <th></th>\n",
       "      <th></th>\n",
       "      <th></th>\n",
       "      <th></th>\n",
       "      <th></th>\n",
       "      <th></th>\n",
       "      <th></th>\n",
       "    </tr>\n",
       "  </thead>\n",
       "  <tbody>\n",
       "    <tr>\n",
       "      <th>(C0058177, C0591573)</th>\n",
       "      <td>0</td>\n",
       "      <td>-2.188680</td>\n",
       "      <td>-4.327767</td>\n",
       "      <td>-0.502729</td>\n",
       "      <td>-12.657372</td>\n",
       "      <td>-2.310918</td>\n",
       "      <td>-4.964293</td>\n",
       "      <td>-178.161285</td>\n",
       "      <td>-154.635406</td>\n",
       "      <td>0.412287</td>\n",
       "      <td>0.018813</td>\n",
       "    </tr>\n",
       "    <tr>\n",
       "      <th>(C0059877, C0591573)</th>\n",
       "      <td>0</td>\n",
       "      <td>-1.593659</td>\n",
       "      <td>-9.584510</td>\n",
       "      <td>2.014294</td>\n",
       "      <td>-4.919772</td>\n",
       "      <td>-2.853305</td>\n",
       "      <td>-6.034155</td>\n",
       "      <td>-183.424835</td>\n",
       "      <td>-152.066345</td>\n",
       "      <td>0.508948</td>\n",
       "      <td>0.046550</td>\n",
       "    </tr>\n",
       "    <tr>\n",
       "      <th>(C0060498, C0591573)</th>\n",
       "      <td>0</td>\n",
       "      <td>4.959142</td>\n",
       "      <td>5.487524</td>\n",
       "      <td>2.335593</td>\n",
       "      <td>-10.362339</td>\n",
       "      <td>3.709094</td>\n",
       "      <td>1.782822</td>\n",
       "      <td>-156.921143</td>\n",
       "      <td>-96.763512</td>\n",
       "      <td>0.517637</td>\n",
       "      <td>0.058954</td>\n",
       "    </tr>\n",
       "    <tr>\n",
       "      <th>(C0061912, C0591573)</th>\n",
       "      <td>0</td>\n",
       "      <td>4.180757</td>\n",
       "      <td>-2.259794</td>\n",
       "      <td>0.686858</td>\n",
       "      <td>-8.140263</td>\n",
       "      <td>0.488364</td>\n",
       "      <td>0.940558</td>\n",
       "      <td>-146.755249</td>\n",
       "      <td>-109.469406</td>\n",
       "      <td>0.169170</td>\n",
       "      <td>0.011690</td>\n",
       "    </tr>\n",
       "    <tr>\n",
       "      <th>(C0068458, C0591573)</th>\n",
       "      <td>0</td>\n",
       "      <td>6.444816</td>\n",
       "      <td>0.570420</td>\n",
       "      <td>2.350289</td>\n",
       "      <td>-6.365383</td>\n",
       "      <td>3.731397</td>\n",
       "      <td>2.287799</td>\n",
       "      <td>-149.614288</td>\n",
       "      <td>-104.771690</td>\n",
       "      <td>0.449851</td>\n",
       "      <td>0.031446</td>\n",
       "    </tr>\n",
       "    <tr>\n",
       "      <th>(C0070394, C0591573)</th>\n",
       "      <td>0</td>\n",
       "      <td>-5.519112</td>\n",
       "      <td>-10.614468</td>\n",
       "      <td>-0.616333</td>\n",
       "      <td>-4.138231</td>\n",
       "      <td>-0.677707</td>\n",
       "      <td>-7.764649</td>\n",
       "      <td>-182.907410</td>\n",
       "      <td>-157.339066</td>\n",
       "      <td>0.383935</td>\n",
       "      <td>0.085097</td>\n",
       "    </tr>\n",
       "    <tr>\n",
       "      <th>(C0148819, C0591573)</th>\n",
       "      <td>0</td>\n",
       "      <td>3.570989</td>\n",
       "      <td>-1.233294</td>\n",
       "      <td>1.427053</td>\n",
       "      <td>-8.247110</td>\n",
       "      <td>4.043015</td>\n",
       "      <td>-0.385426</td>\n",
       "      <td>-144.668945</td>\n",
       "      <td>-91.615891</td>\n",
       "      <td>0.196923</td>\n",
       "      <td>0.036376</td>\n",
       "    </tr>\n",
       "    <tr>\n",
       "      <th>(C0591573, C0072980)</th>\n",
       "      <td>1</td>\n",
       "      <td>8.366026</td>\n",
       "      <td>5.781809</td>\n",
       "      <td>4.354687</td>\n",
       "      <td>0.265004</td>\n",
       "      <td>5.973384</td>\n",
       "      <td>2.837919</td>\n",
       "      <td>-137.365372</td>\n",
       "      <td>-101.571625</td>\n",
       "      <td>0.608353</td>\n",
       "      <td>0.912260</td>\n",
       "    </tr>\n",
       "    <tr>\n",
       "      <th>(C0591573, C0612102)</th>\n",
       "      <td>0</td>\n",
       "      <td>-0.642287</td>\n",
       "      <td>-3.805256</td>\n",
       "      <td>0.891330</td>\n",
       "      <td>-9.169257</td>\n",
       "      <td>1.084350</td>\n",
       "      <td>-0.388056</td>\n",
       "      <td>-175.811340</td>\n",
       "      <td>-124.505280</td>\n",
       "      <td>0.272919</td>\n",
       "      <td>0.088618</td>\n",
       "    </tr>\n",
       "    <tr>\n",
       "      <th>(C0591573, C0674472)</th>\n",
       "      <td>0</td>\n",
       "      <td>0.542528</td>\n",
       "      <td>3.667575</td>\n",
       "      <td>1.271966</td>\n",
       "      <td>-8.328614</td>\n",
       "      <td>-0.514062</td>\n",
       "      <td>-0.534773</td>\n",
       "      <td>-130.300262</td>\n",
       "      <td>-55.784668</td>\n",
       "      <td>0.194075</td>\n",
       "      <td>0.068060</td>\n",
       "    </tr>\n",
       "    <tr>\n",
       "      <th>(C0591573, C1172684)</th>\n",
       "      <td>0</td>\n",
       "      <td>1.917177</td>\n",
       "      <td>5.570265</td>\n",
       "      <td>-2.694511</td>\n",
       "      <td>-8.834917</td>\n",
       "      <td>-1.300956</td>\n",
       "      <td>1.731394</td>\n",
       "      <td>-122.357658</td>\n",
       "      <td>-55.340393</td>\n",
       "      <td>0.392991</td>\n",
       "      <td>0.009301</td>\n",
       "    </tr>\n",
       "  </tbody>\n",
       "</table>\n",
       "</div>"
      ],
      "text/plain": [
       "                      label  ComplEx_w_st_score  ComplEx_wo_st_score  \\\n",
       "pair                                                                   \n",
       "(C0058177, C0591573)      0           -2.188680            -4.327767   \n",
       "(C0059877, C0591573)      0           -1.593659            -9.584510   \n",
       "(C0060498, C0591573)      0            4.959142             5.487524   \n",
       "(C0061912, C0591573)      0            4.180757            -2.259794   \n",
       "(C0068458, C0591573)      0            6.444816             0.570420   \n",
       "(C0070394, C0591573)      0           -5.519112           -10.614468   \n",
       "(C0148819, C0591573)      0            3.570989            -1.233294   \n",
       "(C0591573, C0072980)      1            8.366026             5.781809   \n",
       "(C0591573, C0612102)      0           -0.642287            -3.805256   \n",
       "(C0591573, C0674472)      0            0.542528             3.667575   \n",
       "(C0591573, C1172684)      0            1.917177             5.570265   \n",
       "\n",
       "                      DistMult_w_st_score  DistMult_wo_st_score  \\\n",
       "pair                                                              \n",
       "(C0058177, C0591573)            -0.502729            -12.657372   \n",
       "(C0059877, C0591573)             2.014294             -4.919772   \n",
       "(C0060498, C0591573)             2.335593            -10.362339   \n",
       "(C0061912, C0591573)             0.686858             -8.140263   \n",
       "(C0068458, C0591573)             2.350289             -6.365383   \n",
       "(C0070394, C0591573)            -0.616333             -4.138231   \n",
       "(C0148819, C0591573)             1.427053             -8.247110   \n",
       "(C0591573, C0072980)             4.354687              0.265004   \n",
       "(C0591573, C0612102)             0.891330             -9.169257   \n",
       "(C0591573, C0674472)             1.271966             -8.328614   \n",
       "(C0591573, C1172684)            -2.694511             -8.834917   \n",
       "\n",
       "                      HolE_w_st_score  HolE_wo_st_score  TransE_w_st_score  \\\n",
       "pair                                                                         \n",
       "(C0058177, C0591573)        -2.310918         -4.964293        -178.161285   \n",
       "(C0059877, C0591573)        -2.853305         -6.034155        -183.424835   \n",
       "(C0060498, C0591573)         3.709094          1.782822        -156.921143   \n",
       "(C0061912, C0591573)         0.488364          0.940558        -146.755249   \n",
       "(C0068458, C0591573)         3.731397          2.287799        -149.614288   \n",
       "(C0070394, C0591573)        -0.677707         -7.764649        -182.907410   \n",
       "(C0148819, C0591573)         4.043015         -0.385426        -144.668945   \n",
       "(C0591573, C0072980)         5.973384          2.837919        -137.365372   \n",
       "(C0591573, C0612102)         1.084350         -0.388056        -175.811340   \n",
       "(C0591573, C0674472)        -0.514062         -0.534773        -130.300262   \n",
       "(C0591573, C1172684)        -1.300956          1.731394        -122.357658   \n",
       "\n",
       "                      TransE_wo_st_score  agatha_2015_score  n2v_score  \n",
       "pair                                                                    \n",
       "(C0058177, C0591573)         -154.635406           0.412287   0.018813  \n",
       "(C0059877, C0591573)         -152.066345           0.508948   0.046550  \n",
       "(C0060498, C0591573)          -96.763512           0.517637   0.058954  \n",
       "(C0061912, C0591573)         -109.469406           0.169170   0.011690  \n",
       "(C0068458, C0591573)         -104.771690           0.449851   0.031446  \n",
       "(C0070394, C0591573)         -157.339066           0.383935   0.085097  \n",
       "(C0148819, C0591573)          -91.615891           0.196923   0.036376  \n",
       "(C0591573, C0072980)         -101.571625           0.608353   0.912260  \n",
       "(C0591573, C0612102)         -124.505280           0.272919   0.088618  \n",
       "(C0591573, C0674472)          -55.784668           0.194075   0.068060  \n",
       "(C0591573, C1172684)          -55.340393           0.392991   0.009301  "
      ]
     },
     "execution_count": 26,
     "metadata": {},
     "output_type": "execute_result"
    }
   ],
   "source": [
    "pairs_scores_df_grouped_dict[('C0591573','C0072980')]"
   ]
  },
  {
   "cell_type": "markdown",
   "id": "c4eed666-3c18-4367-8ec6-a4c190cce3d2",
   "metadata": {},
   "source": [
    "## Plotting figures"
   ]
  },
  {
   "cell_type": "code",
   "execution_count": 27,
   "id": "d6ca3f30-251f-4df7-ae8c-d2c907b2803f",
   "metadata": {
    "execution": {
     "iopub.execute_input": "2023-11-15T18:11:18.173451Z",
     "iopub.status.busy": "2023-11-15T18:11:18.173306Z",
     "iopub.status.idle": "2023-11-15T18:11:18.299101Z",
     "shell.execute_reply": "2023-11-15T18:11:18.298350Z",
     "shell.execute_reply.started": "2023-11-15T18:11:18.173435Z"
    },
    "tags": []
   },
   "outputs": [],
   "source": [
    "benchmark_model_scores_vs_imp_df = pd.read_pickle(\n",
    "    '../benchmark_data/10_eval_ml_models/benchmark_model_scores_vs_imp_df.pkl'\n",
    ")"
   ]
  },
  {
   "cell_type": "code",
   "execution_count": 28,
   "id": "f9a88561-d0fb-4fec-afa8-93eb782ad12a",
   "metadata": {
    "execution": {
     "iopub.execute_input": "2023-11-15T18:11:18.976271Z",
     "iopub.status.busy": "2023-11-15T18:11:18.976034Z",
     "iopub.status.idle": "2023-11-15T18:11:18.992470Z",
     "shell.execute_reply": "2023-11-15T18:11:18.991952Z",
     "shell.execute_reply.started": "2023-11-15T18:11:18.976256Z"
    },
    "tags": []
   },
   "outputs": [
    {
     "data": {
      "text/html": [
       "<div>\n",
       "<style scoped>\n",
       "    .dataframe tbody tr th:only-of-type {\n",
       "        vertical-align: middle;\n",
       "    }\n",
       "\n",
       "    .dataframe tbody tr th {\n",
       "        vertical-align: top;\n",
       "    }\n",
       "\n",
       "    .dataframe thead th {\n",
       "        text-align: right;\n",
       "    }\n",
       "</style>\n",
       "<table border=\"1\" class=\"dataframe\">\n",
       "  <thead>\n",
       "    <tr style=\"text-align: right;\">\n",
       "      <th></th>\n",
       "      <th>source</th>\n",
       "      <th>target</th>\n",
       "      <th>source_cui</th>\n",
       "      <th>target_cui</th>\n",
       "      <th>cui_pair</th>\n",
       "      <th>mentions_diff</th>\n",
       "      <th>sem_scholar_cit</th>\n",
       "      <th>ig</th>\n",
       "      <th>jac_1st_train</th>\n",
       "      <th>jac_2nd_train</th>\n",
       "      <th>eig_cent_diff</th>\n",
       "      <th>betw_cent</th>\n",
       "      <th>jac_2nd_neg_train</th>\n",
       "      <th>IMP_manh</th>\n",
       "      <th>ComplEx_wo_st_score</th>\n",
       "      <th>DistMult_wo_st_score</th>\n",
       "      <th>HolE_wo_st_score</th>\n",
       "      <th>TransE_wo_st_score</th>\n",
       "      <th>agatha_2015_score</th>\n",
       "      <th>n2v_score</th>\n",
       "    </tr>\n",
       "  </thead>\n",
       "  <tbody>\n",
       "    <tr>\n",
       "      <th>0</th>\n",
       "      <td>C0033308__progesterone</td>\n",
       "      <td>C1421999__SLC38A1 gene</td>\n",
       "      <td>C0033308</td>\n",
       "      <td>C1421999</td>\n",
       "      <td>C0033308 C1421999</td>\n",
       "      <td>1</td>\n",
       "      <td>27.0</td>\n",
       "      <td>0.005632</td>\n",
       "      <td>0.004669</td>\n",
       "      <td>0.345337</td>\n",
       "      <td>-1.701616e-03</td>\n",
       "      <td>0.000000e+00</td>\n",
       "      <td>-0.345337</td>\n",
       "      <td>0.437680</td>\n",
       "      <td>5.023353</td>\n",
       "      <td>-1.835982</td>\n",
       "      <td>3.740939</td>\n",
       "      <td>-60.999557</td>\n",
       "      <td>0.624519</td>\n",
       "      <td>0.341199</td>\n",
       "    </tr>\n",
       "    <tr>\n",
       "      <th>1</th>\n",
       "      <td>C0006142__Malignant neoplasm of breast</td>\n",
       "      <td>C1136328__Iridoids</td>\n",
       "      <td>C0006142</td>\n",
       "      <td>C1136328</td>\n",
       "      <td>C0006142 C1136328</td>\n",
       "      <td>2</td>\n",
       "      <td>48.0</td>\n",
       "      <td>0.006355</td>\n",
       "      <td>0.000272</td>\n",
       "      <td>0.028818</td>\n",
       "      <td>2.889029e-03</td>\n",
       "      <td>0.000000e+00</td>\n",
       "      <td>-0.028818</td>\n",
       "      <td>0.701774</td>\n",
       "      <td>6.580042</td>\n",
       "      <td>-1.888696</td>\n",
       "      <td>5.249362</td>\n",
       "      <td>-99.182281</td>\n",
       "      <td>0.661723</td>\n",
       "      <td>0.999994</td>\n",
       "    </tr>\n",
       "    <tr>\n",
       "      <th>2</th>\n",
       "      <td>C1412220__ADCY1 gene</td>\n",
       "      <td>C1419196__RAB27B gene</td>\n",
       "      <td>C1412220</td>\n",
       "      <td>C1419196</td>\n",
       "      <td>C1412220 C1419196</td>\n",
       "      <td>0</td>\n",
       "      <td>14.0</td>\n",
       "      <td>0.025336</td>\n",
       "      <td>0.013245</td>\n",
       "      <td>0.250526</td>\n",
       "      <td>-5.684694e-07</td>\n",
       "      <td>5.566458e-07</td>\n",
       "      <td>-0.250526</td>\n",
       "      <td>0.559032</td>\n",
       "      <td>1.862945</td>\n",
       "      <td>-7.084544</td>\n",
       "      <td>-1.497553</td>\n",
       "      <td>-49.785217</td>\n",
       "      <td>0.096406</td>\n",
       "      <td>0.119630</td>\n",
       "    </tr>\n",
       "    <tr>\n",
       "      <th>3</th>\n",
       "      <td>C1417530__MYD88 gene</td>\n",
       "      <td>C1418194__CLDN11 gene</td>\n",
       "      <td>C1417530</td>\n",
       "      <td>C1418194</td>\n",
       "      <td>C1417530 C1418194</td>\n",
       "      <td>1</td>\n",
       "      <td>27.0</td>\n",
       "      <td>0.011069</td>\n",
       "      <td>0.040462</td>\n",
       "      <td>0.555206</td>\n",
       "      <td>3.586332e-04</td>\n",
       "      <td>0.000000e+00</td>\n",
       "      <td>-0.555206</td>\n",
       "      <td>0.550642</td>\n",
       "      <td>0.530863</td>\n",
       "      <td>-9.412816</td>\n",
       "      <td>0.549673</td>\n",
       "      <td>-92.830521</td>\n",
       "      <td>0.072155</td>\n",
       "      <td>0.013100</td>\n",
       "    </tr>\n",
       "    <tr>\n",
       "      <th>4</th>\n",
       "      <td>C1332416__BIRC5 gene</td>\n",
       "      <td>C1504635__TNFRSF10A protein, human</td>\n",
       "      <td>C1332416</td>\n",
       "      <td>C1504635</td>\n",
       "      <td>C1332416 C1504635</td>\n",
       "      <td>0</td>\n",
       "      <td>12.0</td>\n",
       "      <td>0.010392</td>\n",
       "      <td>0.129730</td>\n",
       "      <td>0.656319</td>\n",
       "      <td>-5.780687e-05</td>\n",
       "      <td>1.105265e-06</td>\n",
       "      <td>-0.656319</td>\n",
       "      <td>0.378560</td>\n",
       "      <td>1.032832</td>\n",
       "      <td>-2.736331</td>\n",
       "      <td>2.696989</td>\n",
       "      <td>-96.311646</td>\n",
       "      <td>0.620917</td>\n",
       "      <td>0.041700</td>\n",
       "    </tr>\n",
       "    <tr>\n",
       "      <th>...</th>\n",
       "      <td>...</td>\n",
       "      <td>...</td>\n",
       "      <td>...</td>\n",
       "      <td>...</td>\n",
       "      <td>...</td>\n",
       "      <td>...</td>\n",
       "      <td>...</td>\n",
       "      <td>...</td>\n",
       "      <td>...</td>\n",
       "      <td>...</td>\n",
       "      <td>...</td>\n",
       "      <td>...</td>\n",
       "      <td>...</td>\n",
       "      <td>...</td>\n",
       "      <td>...</td>\n",
       "      <td>...</td>\n",
       "      <td>...</td>\n",
       "      <td>...</td>\n",
       "      <td>...</td>\n",
       "      <td>...</td>\n",
       "    </tr>\n",
       "    <tr>\n",
       "      <th>18730</th>\n",
       "      <td>C0298130__montelukast</td>\n",
       "      <td>C0298619__LY 293111</td>\n",
       "      <td>C0298130</td>\n",
       "      <td>C0298619</td>\n",
       "      <td>C0298130 C0298619</td>\n",
       "      <td>0</td>\n",
       "      <td>12.0</td>\n",
       "      <td>0.009920</td>\n",
       "      <td>0.025875</td>\n",
       "      <td>0.393679</td>\n",
       "      <td>-2.309952e-05</td>\n",
       "      <td>1.503100e-06</td>\n",
       "      <td>-0.393679</td>\n",
       "      <td>0.472971</td>\n",
       "      <td>3.841303</td>\n",
       "      <td>-1.071695</td>\n",
       "      <td>2.148757</td>\n",
       "      <td>-111.957199</td>\n",
       "      <td>0.682829</td>\n",
       "      <td>0.323942</td>\n",
       "    </tr>\n",
       "    <tr>\n",
       "      <th>18731</th>\n",
       "      <td>C1414461__ESR1 gene</td>\n",
       "      <td>C1416377__IHH gene</td>\n",
       "      <td>C1414461</td>\n",
       "      <td>C1416377</td>\n",
       "      <td>C1414461 C1416377</td>\n",
       "      <td>0</td>\n",
       "      <td>51.0</td>\n",
       "      <td>0.002806</td>\n",
       "      <td>0.052830</td>\n",
       "      <td>0.591737</td>\n",
       "      <td>-1.564394e-04</td>\n",
       "      <td>4.081713e-09</td>\n",
       "      <td>-0.591737</td>\n",
       "      <td>0.379652</td>\n",
       "      <td>5.482594</td>\n",
       "      <td>-3.476025</td>\n",
       "      <td>2.776879</td>\n",
       "      <td>-76.423370</td>\n",
       "      <td>0.533202</td>\n",
       "      <td>0.003848</td>\n",
       "    </tr>\n",
       "    <tr>\n",
       "      <th>18732</th>\n",
       "      <td>C0036078__sulfasalazine</td>\n",
       "      <td>C0053230__benznidazole</td>\n",
       "      <td>C0036078</td>\n",
       "      <td>C0053230</td>\n",
       "      <td>C0036078 C0053230</td>\n",
       "      <td>0</td>\n",
       "      <td>34.0</td>\n",
       "      <td>0.002332</td>\n",
       "      <td>0.028751</td>\n",
       "      <td>0.364913</td>\n",
       "      <td>-6.452715e-05</td>\n",
       "      <td>0.000000e+00</td>\n",
       "      <td>-0.364913</td>\n",
       "      <td>0.383764</td>\n",
       "      <td>4.066293</td>\n",
       "      <td>1.323802</td>\n",
       "      <td>7.981551</td>\n",
       "      <td>-52.352264</td>\n",
       "      <td>0.759378</td>\n",
       "      <td>0.987353</td>\n",
       "    </tr>\n",
       "    <tr>\n",
       "      <th>18733</th>\n",
       "      <td>C0002335__alprostadil</td>\n",
       "      <td>C0008864__citrulline</td>\n",
       "      <td>C0002335</td>\n",
       "      <td>C0008864</td>\n",
       "      <td>C0002335 C0008864</td>\n",
       "      <td>0</td>\n",
       "      <td>14.0</td>\n",
       "      <td>0.000446</td>\n",
       "      <td>0.068027</td>\n",
       "      <td>0.512115</td>\n",
       "      <td>-1.114219e-04</td>\n",
       "      <td>5.522397e-08</td>\n",
       "      <td>-0.512115</td>\n",
       "      <td>0.314918</td>\n",
       "      <td>5.232498</td>\n",
       "      <td>3.641985</td>\n",
       "      <td>6.159329</td>\n",
       "      <td>-92.592293</td>\n",
       "      <td>0.817758</td>\n",
       "      <td>0.999923</td>\n",
       "    </tr>\n",
       "    <tr>\n",
       "      <th>18734</th>\n",
       "      <td>C0022665__Kidney Neoplasm</td>\n",
       "      <td>C0206694__Mucoepidermoid Carcinoma</td>\n",
       "      <td>C0022665</td>\n",
       "      <td>C0206694</td>\n",
       "      <td>C0022665 C0206694</td>\n",
       "      <td>0</td>\n",
       "      <td>4.0</td>\n",
       "      <td>0.000239</td>\n",
       "      <td>0.081136</td>\n",
       "      <td>0.341769</td>\n",
       "      <td>-1.742037e-03</td>\n",
       "      <td>0.000000e+00</td>\n",
       "      <td>-0.341769</td>\n",
       "      <td>0.230459</td>\n",
       "      <td>-6.022563</td>\n",
       "      <td>0.298190</td>\n",
       "      <td>1.155455</td>\n",
       "      <td>-97.547241</td>\n",
       "      <td>0.800464</td>\n",
       "      <td>0.998290</td>\n",
       "    </tr>\n",
       "  </tbody>\n",
       "</table>\n",
       "<p>18735 rows × 20 columns</p>\n",
       "</div>"
      ],
      "text/plain": [
       "                                       source  \\\n",
       "0                      C0033308__progesterone   \n",
       "1      C0006142__Malignant neoplasm of breast   \n",
       "2                        C1412220__ADCY1 gene   \n",
       "3                        C1417530__MYD88 gene   \n",
       "4                        C1332416__BIRC5 gene   \n",
       "...                                       ...   \n",
       "18730                   C0298130__montelukast   \n",
       "18731                     C1414461__ESR1 gene   \n",
       "18732                 C0036078__sulfasalazine   \n",
       "18733                   C0002335__alprostadil   \n",
       "18734               C0022665__Kidney Neoplasm   \n",
       "\n",
       "                                   target source_cui target_cui  \\\n",
       "0                  C1421999__SLC38A1 gene   C0033308   C1421999   \n",
       "1                      C1136328__Iridoids   C0006142   C1136328   \n",
       "2                   C1419196__RAB27B gene   C1412220   C1419196   \n",
       "3                   C1418194__CLDN11 gene   C1417530   C1418194   \n",
       "4      C1504635__TNFRSF10A protein, human   C1332416   C1504635   \n",
       "...                                   ...        ...        ...   \n",
       "18730                 C0298619__LY 293111   C0298130   C0298619   \n",
       "18731                  C1416377__IHH gene   C1414461   C1416377   \n",
       "18732              C0053230__benznidazole   C0036078   C0053230   \n",
       "18733                C0008864__citrulline   C0002335   C0008864   \n",
       "18734  C0206694__Mucoepidermoid Carcinoma   C0022665   C0206694   \n",
       "\n",
       "                cui_pair  mentions_diff  sem_scholar_cit        ig  \\\n",
       "0      C0033308 C1421999              1             27.0  0.005632   \n",
       "1      C0006142 C1136328              2             48.0  0.006355   \n",
       "2      C1412220 C1419196              0             14.0  0.025336   \n",
       "3      C1417530 C1418194              1             27.0  0.011069   \n",
       "4      C1332416 C1504635              0             12.0  0.010392   \n",
       "...                  ...            ...              ...       ...   \n",
       "18730  C0298130 C0298619              0             12.0  0.009920   \n",
       "18731  C1414461 C1416377              0             51.0  0.002806   \n",
       "18732  C0036078 C0053230              0             34.0  0.002332   \n",
       "18733  C0002335 C0008864              0             14.0  0.000446   \n",
       "18734  C0022665 C0206694              0              4.0  0.000239   \n",
       "\n",
       "       jac_1st_train  jac_2nd_train  eig_cent_diff     betw_cent  \\\n",
       "0           0.004669       0.345337  -1.701616e-03  0.000000e+00   \n",
       "1           0.000272       0.028818   2.889029e-03  0.000000e+00   \n",
       "2           0.013245       0.250526  -5.684694e-07  5.566458e-07   \n",
       "3           0.040462       0.555206   3.586332e-04  0.000000e+00   \n",
       "4           0.129730       0.656319  -5.780687e-05  1.105265e-06   \n",
       "...              ...            ...            ...           ...   \n",
       "18730       0.025875       0.393679  -2.309952e-05  1.503100e-06   \n",
       "18731       0.052830       0.591737  -1.564394e-04  4.081713e-09   \n",
       "18732       0.028751       0.364913  -6.452715e-05  0.000000e+00   \n",
       "18733       0.068027       0.512115  -1.114219e-04  5.522397e-08   \n",
       "18734       0.081136       0.341769  -1.742037e-03  0.000000e+00   \n",
       "\n",
       "       jac_2nd_neg_train  IMP_manh  ComplEx_wo_st_score  DistMult_wo_st_score  \\\n",
       "0              -0.345337  0.437680             5.023353             -1.835982   \n",
       "1              -0.028818  0.701774             6.580042             -1.888696   \n",
       "2              -0.250526  0.559032             1.862945             -7.084544   \n",
       "3              -0.555206  0.550642             0.530863             -9.412816   \n",
       "4              -0.656319  0.378560             1.032832             -2.736331   \n",
       "...                  ...       ...                  ...                   ...   \n",
       "18730          -0.393679  0.472971             3.841303             -1.071695   \n",
       "18731          -0.591737  0.379652             5.482594             -3.476025   \n",
       "18732          -0.364913  0.383764             4.066293              1.323802   \n",
       "18733          -0.512115  0.314918             5.232498              3.641985   \n",
       "18734          -0.341769  0.230459            -6.022563              0.298190   \n",
       "\n",
       "       HolE_wo_st_score  TransE_wo_st_score  agatha_2015_score  n2v_score  \n",
       "0              3.740939          -60.999557           0.624519   0.341199  \n",
       "1              5.249362          -99.182281           0.661723   0.999994  \n",
       "2             -1.497553          -49.785217           0.096406   0.119630  \n",
       "3              0.549673          -92.830521           0.072155   0.013100  \n",
       "4              2.696989          -96.311646           0.620917   0.041700  \n",
       "...                 ...                 ...                ...        ...  \n",
       "18730          2.148757         -111.957199           0.682829   0.323942  \n",
       "18731          2.776879          -76.423370           0.533202   0.003848  \n",
       "18732          7.981551          -52.352264           0.759378   0.987353  \n",
       "18733          6.159329          -92.592293           0.817758   0.999923  \n",
       "18734          1.155455          -97.547241           0.800464   0.998290  \n",
       "\n",
       "[18735 rows x 20 columns]"
      ]
     },
     "execution_count": 28,
     "metadata": {},
     "output_type": "execute_result"
    }
   ],
   "source": [
    "benchmark_model_scores_vs_imp_df"
   ]
  },
  {
   "cell_type": "markdown",
   "id": "f4649baa-2f96-413a-ae02-2aa8002c58cd",
   "metadata": {},
   "source": [
    "### ROC AUC over different importance bins"
   ]
  },
  {
   "cell_type": "code",
   "execution_count": 29,
   "id": "bceac9fd-f12c-4299-826f-60031f13f17b",
   "metadata": {
    "execution": {
     "iopub.execute_input": "2023-11-15T18:11:24.703646Z",
     "iopub.status.busy": "2023-11-15T18:11:24.703501Z",
     "iopub.status.idle": "2023-11-15T18:11:24.706539Z",
     "shell.execute_reply": "2023-11-15T18:11:24.705895Z",
     "shell.execute_reply.started": "2023-11-15T18:11:24.703631Z"
    },
    "tags": []
   },
   "outputs": [],
   "source": [
    "bins_n = 3"
   ]
  },
  {
   "cell_type": "code",
   "execution_count": 30,
   "id": "a77be1a3-8130-49b9-a562-fffc94675615",
   "metadata": {
    "execution": {
     "iopub.execute_input": "2023-11-15T18:11:24.989499Z",
     "iopub.status.busy": "2023-11-15T18:11:24.989291Z",
     "iopub.status.idle": "2023-11-15T18:11:24.994451Z",
     "shell.execute_reply": "2023-11-15T18:11:24.993914Z",
     "shell.execute_reply.started": "2023-11-15T18:11:24.989485Z"
    },
    "tags": []
   },
   "outputs": [
    {
     "data": {
      "text/plain": [
       "array([0.        , 0.33333333, 0.66666667, 1.        ])"
      ]
     },
     "execution_count": 30,
     "metadata": {},
     "output_type": "execute_result"
    }
   ],
   "source": [
    "linspace = np.linspace(0, 1, bins_n + 1)\n",
    "linspace"
   ]
  },
  {
   "cell_type": "code",
   "execution_count": 31,
   "id": "3a433527-4f1c-4d3d-a6b6-ad9427a56925",
   "metadata": {
    "execution": {
     "iopub.execute_input": "2023-11-15T18:11:26.831690Z",
     "iopub.status.busy": "2023-11-15T18:11:26.831484Z",
     "iopub.status.idle": "2023-11-15T18:11:26.839493Z",
     "shell.execute_reply": "2023-11-15T18:11:26.838845Z",
     "shell.execute_reply.started": "2023-11-15T18:11:26.831676Z"
    },
    "tags": []
   },
   "outputs": [],
   "source": [
    "quantiles_list = [\n",
    "    benchmark_model_scores_vs_imp_df['IMP_manh'].quantile(q) for q in linspace\n",
    "]"
   ]
  },
  {
   "cell_type": "code",
   "execution_count": 32,
   "id": "ceb8619a-b4fa-4787-8592-eafff7144287",
   "metadata": {
    "execution": {
     "iopub.execute_input": "2023-11-15T18:11:27.265430Z",
     "iopub.status.busy": "2023-11-15T18:11:27.265198Z",
     "iopub.status.idle": "2023-11-15T18:11:27.269708Z",
     "shell.execute_reply": "2023-11-15T18:11:27.268962Z",
     "shell.execute_reply.started": "2023-11-15T18:11:27.265415Z"
    },
    "tags": []
   },
   "outputs": [
    {
     "data": {
      "text/plain": [
       "[0.11856743809366936,\n",
       " 0.4111137420157762,\n",
       " 0.526807774666447,\n",
       " 0.9255270960303079]"
      ]
     },
     "execution_count": 32,
     "metadata": {},
     "output_type": "execute_result"
    }
   ],
   "source": [
    "quantiles_list"
   ]
  },
  {
   "cell_type": "code",
   "execution_count": 33,
   "id": "8b63d3c3-a5e1-450c-8f6c-c16cc29ac9c6",
   "metadata": {
    "execution": {
     "iopub.execute_input": "2023-11-15T18:11:30.302632Z",
     "iopub.status.busy": "2023-11-15T18:11:30.302355Z",
     "iopub.status.idle": "2023-11-15T18:11:30.305973Z",
     "shell.execute_reply": "2023-11-15T18:11:30.305361Z",
     "shell.execute_reply.started": "2023-11-15T18:11:30.302611Z"
    },
    "tags": []
   },
   "outputs": [],
   "source": [
    "bin_assignment = np.digitize(benchmark_model_scores_vs_imp_df['IMP_manh'], quantiles_list, right=False)"
   ]
  },
  {
   "cell_type": "code",
   "execution_count": 34,
   "id": "3562058c-0da7-4a6f-9e8a-96daf0e4e8da",
   "metadata": {
    "execution": {
     "iopub.execute_input": "2023-11-15T18:11:30.864754Z",
     "iopub.status.busy": "2023-11-15T18:11:30.864475Z",
     "iopub.status.idle": "2023-11-15T18:11:30.875205Z",
     "shell.execute_reply": "2023-11-15T18:11:30.874713Z",
     "shell.execute_reply.started": "2023-11-15T18:11:30.864734Z"
    },
    "tags": []
   },
   "outputs": [
    {
     "data": {
      "text/plain": [
       "({1, 2, 3, 4}, 4)"
      ]
     },
     "execution_count": 34,
     "metadata": {},
     "output_type": "execute_result"
    }
   ],
   "source": [
    "set(bin_assignment), len(set(bin_assignment))"
   ]
  },
  {
   "cell_type": "code",
   "execution_count": 35,
   "id": "2c67d4ec-45c0-47d9-bcf9-1f8f70391991",
   "metadata": {
    "execution": {
     "iopub.execute_input": "2023-11-15T18:11:33.863582Z",
     "iopub.status.busy": "2023-11-15T18:11:33.863381Z",
     "iopub.status.idle": "2023-11-15T18:11:33.866429Z",
     "shell.execute_reply": "2023-11-15T18:11:33.865915Z",
     "shell.execute_reply.started": "2023-11-15T18:11:33.863568Z"
    },
    "tags": []
   },
   "outputs": [],
   "source": [
    "benchmark_model_scores_vs_imp_df['bin_assignment'] = bin_assignment"
   ]
  },
  {
   "cell_type": "code",
   "execution_count": 83,
   "id": "6aec587e-c0d5-4e25-84c7-61945c36613f",
   "metadata": {
    "execution": {
     "iopub.execute_input": "2023-11-15T18:24:54.553428Z",
     "iopub.status.busy": "2023-11-15T18:24:54.553079Z",
     "iopub.status.idle": "2023-11-15T18:24:54.575328Z",
     "shell.execute_reply": "2023-11-15T18:24:54.574799Z",
     "shell.execute_reply.started": "2023-11-15T18:24:54.553397Z"
    },
    "tags": []
   },
   "outputs": [
    {
     "data": {
      "text/html": [
       "<div>\n",
       "<style scoped>\n",
       "    .dataframe tbody tr th:only-of-type {\n",
       "        vertical-align: middle;\n",
       "    }\n",
       "\n",
       "    .dataframe tbody tr th {\n",
       "        vertical-align: top;\n",
       "    }\n",
       "\n",
       "    .dataframe thead th {\n",
       "        text-align: right;\n",
       "    }\n",
       "</style>\n",
       "<table border=\"1\" class=\"dataframe\">\n",
       "  <thead>\n",
       "    <tr style=\"text-align: right;\">\n",
       "      <th></th>\n",
       "      <th>min</th>\n",
       "      <th>max</th>\n",
       "    </tr>\n",
       "    <tr>\n",
       "      <th>bin_assignment</th>\n",
       "      <th></th>\n",
       "      <th></th>\n",
       "    </tr>\n",
       "  </thead>\n",
       "  <tbody>\n",
       "    <tr>\n",
       "      <th>1</th>\n",
       "      <td>0.118567</td>\n",
       "      <td>0.411099</td>\n",
       "    </tr>\n",
       "    <tr>\n",
       "      <th>2</th>\n",
       "      <td>0.411121</td>\n",
       "      <td>0.526803</td>\n",
       "    </tr>\n",
       "    <tr>\n",
       "      <th>3</th>\n",
       "      <td>0.526818</td>\n",
       "      <td>0.922677</td>\n",
       "    </tr>\n",
       "  </tbody>\n",
       "</table>\n",
       "</div>"
      ],
      "text/plain": [
       "                     min       max\n",
       "bin_assignment                    \n",
       "1               0.118567  0.411099\n",
       "2               0.411121  0.526803\n",
       "3               0.526818  0.922677"
      ]
     },
     "execution_count": 83,
     "metadata": {},
     "output_type": "execute_result"
    }
   ],
   "source": [
    "benchmark_model_scores_vs_imp_df[['bin_assignment', 'IMP_manh']].groupby('bin_assignment').agg([min, max]).loc[range(1,bins_n+1)]['IMP_manh']"
   ]
  },
  {
   "cell_type": "code",
   "execution_count": 36,
   "id": "f3ea9bcb-e74b-47f9-806d-66ac2c60b353",
   "metadata": {
    "execution": {
     "iopub.execute_input": "2023-11-15T18:11:41.937361Z",
     "iopub.status.busy": "2023-11-15T18:11:41.937107Z",
     "iopub.status.idle": "2023-11-15T18:11:41.949081Z",
     "shell.execute_reply": "2023-11-15T18:11:41.948454Z",
     "shell.execute_reply.started": "2023-11-15T18:11:41.937347Z"
    },
    "tags": []
   },
   "outputs": [],
   "source": [
    "bin_assignment_dict = benchmark_model_scores_vs_imp_df['bin_assignment'].to_dict()"
   ]
  },
  {
   "cell_type": "code",
   "execution_count": 37,
   "id": "b2289653-4dc4-4e0f-a4db-19dad472ee13",
   "metadata": {
    "execution": {
     "iopub.execute_input": "2023-11-15T18:11:52.401922Z",
     "iopub.status.busy": "2023-11-15T18:11:52.401519Z",
     "iopub.status.idle": "2023-11-15T18:11:52.428688Z",
     "shell.execute_reply": "2023-11-15T18:11:52.427878Z",
     "shell.execute_reply.started": "2023-11-15T18:11:52.401889Z"
    },
    "tags": []
   },
   "outputs": [],
   "source": [
    "pair_to_manh_imp_dict = dict(\n",
    "    zip(\n",
    "        benchmark_model_scores_vs_imp_df['cui_pair'].apply(lambda x: tuple(x.split())),\n",
    "        benchmark_model_scores_vs_imp_df['IMP_manh']\n",
    "    )\n",
    ")"
   ]
  },
  {
   "cell_type": "code",
   "execution_count": 38,
   "id": "1d345a1b-0f08-4d84-afb4-7c4911d8283d",
   "metadata": {
    "execution": {
     "iopub.execute_input": "2023-11-15T18:11:53.780672Z",
     "iopub.status.busy": "2023-11-15T18:11:53.780507Z",
     "iopub.status.idle": "2023-11-15T18:11:53.796188Z",
     "shell.execute_reply": "2023-11-15T18:11:53.795497Z",
     "shell.execute_reply.started": "2023-11-15T18:11:53.780657Z"
    },
    "tags": []
   },
   "outputs": [],
   "source": [
    "bin_assignment_dict = dict(\n",
    "    zip(\n",
    "        benchmark_model_scores_vs_imp_df['cui_pair'].apply(lambda x: tuple(x.split())),\n",
    "        benchmark_model_scores_vs_imp_df['bin_assignment']\n",
    "    )\n",
    ")"
   ]
  },
  {
   "cell_type": "code",
   "execution_count": 39,
   "id": "b5c37e6c-a4f7-4de4-95ee-71d903d23d92",
   "metadata": {
    "execution": {
     "iopub.execute_input": "2023-11-15T18:11:55.685024Z",
     "iopub.status.busy": "2023-11-15T18:11:55.684681Z",
     "iopub.status.idle": "2023-11-15T18:11:58.068104Z",
     "shell.execute_reply": "2023-11-15T18:11:58.067375Z",
     "shell.execute_reply.started": "2023-11-15T18:11:55.684993Z"
    },
    "tags": []
   },
   "outputs": [],
   "source": [
    "pairs_imp_grouped_dict = defaultdict(list)\n",
    "for pair, pair_df in pairs_scores_df_grouped_dict.items():\n",
    "    if pair in pair_to_manh_imp_dict:\n",
    "        imp_score_bin = bin_assignment_dict[pair]\n",
    "        if imp_score_bin > bins_n:\n",
    "            imp_score_bin = bins_n\n",
    "        pair_df['IMP_manh'] = pair_to_manh_imp_dict[pair]\n",
    "        pairs_imp_grouped_dict[imp_score_bin].append(pair_df)"
   ]
  },
  {
   "cell_type": "code",
   "execution_count": 40,
   "id": "5967fc92-d3ef-4a31-b184-5a3687c45b12",
   "metadata": {
    "execution": {
     "iopub.execute_input": "2023-11-15T18:11:58.069185Z",
     "iopub.status.busy": "2023-11-15T18:11:58.069043Z",
     "iopub.status.idle": "2023-11-15T18:11:58.073787Z",
     "shell.execute_reply": "2023-11-15T18:11:58.073165Z",
     "shell.execute_reply.started": "2023-11-15T18:11:58.069171Z"
    },
    "tags": []
   },
   "outputs": [
    {
     "data": {
      "text/plain": [
       "{1: 6245, 2: 6245, 3: 6245}"
      ]
     },
     "execution_count": 40,
     "metadata": {},
     "output_type": "execute_result"
    }
   ],
   "source": [
    "{k:len(v) for k,v in pairs_imp_grouped_dict.items()}"
   ]
  },
  {
   "cell_type": "code",
   "execution_count": 41,
   "id": "ed02f060-0c71-416b-b57a-c290878d23f5",
   "metadata": {
    "execution": {
     "iopub.execute_input": "2023-11-15T18:12:01.670037Z",
     "iopub.status.busy": "2023-11-15T18:12:01.669757Z",
     "iopub.status.idle": "2023-11-15T18:12:03.806886Z",
     "shell.execute_reply": "2023-11-15T18:12:03.806147Z",
     "shell.execute_reply.started": "2023-11-15T18:12:01.670015Z"
    },
    "tags": []
   },
   "outputs": [],
   "source": [
    "for k,v in pairs_imp_grouped_dict.items():\n",
    "    pairs_imp_grouped_dict[k] = pd.concat(v)"
   ]
  },
  {
   "cell_type": "code",
   "execution_count": 42,
   "id": "2d1933bd-13bf-4377-9230-a295823218f4",
   "metadata": {
    "execution": {
     "iopub.execute_input": "2023-11-15T18:12:03.808056Z",
     "iopub.status.busy": "2023-11-15T18:12:03.807903Z",
     "iopub.status.idle": "2023-11-15T18:12:03.811127Z",
     "shell.execute_reply": "2023-11-15T18:12:03.810518Z",
     "shell.execute_reply.started": "2023-11-15T18:12:03.808038Z"
    },
    "tags": []
   },
   "outputs": [],
   "source": [
    "pairs_imp_grouped_dict = dict(pairs_imp_grouped_dict)"
   ]
  },
  {
   "cell_type": "code",
   "execution_count": 43,
   "id": "bd53eb73-e0b2-43e7-a0ef-6ccaa08ea89c",
   "metadata": {
    "execution": {
     "iopub.execute_input": "2023-11-15T18:12:03.811957Z",
     "iopub.status.busy": "2023-11-15T18:12:03.811766Z",
     "iopub.status.idle": "2023-11-15T18:12:03.815019Z",
     "shell.execute_reply": "2023-11-15T18:12:03.814401Z",
     "shell.execute_reply.started": "2023-11-15T18:12:03.811944Z"
    },
    "tags": []
   },
   "outputs": [],
   "source": [
    "score_cols_df_list = [\n",
    "    col for col in benchmark_model_scores_vs_imp_df.columns if '_score' in col\n",
    "]"
   ]
  },
  {
   "cell_type": "code",
   "execution_count": 44,
   "id": "33b00acf-a40d-4e59-9a4c-c37ddb581074",
   "metadata": {
    "execution": {
     "iopub.execute_input": "2023-11-15T18:12:03.816484Z",
     "iopub.status.busy": "2023-11-15T18:12:03.816222Z",
     "iopub.status.idle": "2023-11-15T18:12:03.820312Z",
     "shell.execute_reply": "2023-11-15T18:12:03.819804Z",
     "shell.execute_reply.started": "2023-11-15T18:12:03.816463Z"
    },
    "tags": []
   },
   "outputs": [
    {
     "data": {
      "text/plain": [
       "['ComplEx_wo_st_score',\n",
       " 'DistMult_wo_st_score',\n",
       " 'HolE_wo_st_score',\n",
       " 'TransE_wo_st_score',\n",
       " 'agatha_2015_score',\n",
       " 'n2v_score']"
      ]
     },
     "execution_count": 44,
     "metadata": {},
     "output_type": "execute_result"
    }
   ],
   "source": [
    "score_cols_df_list"
   ]
  },
  {
   "cell_type": "code",
   "execution_count": 45,
   "id": "5861405e-ad4d-4c4d-bea2-e7fdc3c10fc4",
   "metadata": {
    "execution": {
     "iopub.execute_input": "2023-11-15T18:12:09.613459Z",
     "iopub.status.busy": "2023-11-15T18:12:09.613013Z",
     "iopub.status.idle": "2023-11-15T18:12:09.916543Z",
     "shell.execute_reply": "2023-11-15T18:12:09.915945Z",
     "shell.execute_reply.started": "2023-11-15T18:12:09.613425Z"
    },
    "tags": []
   },
   "outputs": [
    {
     "name": "stderr",
     "output_type": "stream",
     "text": [
      "100%|█████████████████████████████████████████████████████████████████████████████████████████████████████| 3/3 [00:00<00:00, 10.17it/s]\n"
     ]
    }
   ],
   "source": [
    "roc_auc_scores_dict = defaultdict(dict)\n",
    "\n",
    "for imp_bin in tqdm(sorted(pairs_imp_grouped_dict)):\n",
    "    \n",
    "    if imp_bin <= bins_n:\n",
    "    \n",
    "        for model_col in score_cols_df_list:\n",
    "\n",
    "            cur_roc_auc_score = roc_auc_score(\n",
    "                y_true=pairs_imp_grouped_dict[imp_bin]['label'],\n",
    "                y_score=pairs_imp_grouped_dict[imp_bin][model_col],\n",
    "            )\n",
    "            \n",
    "            imp_label = f''\n",
    "            roc_auc_scores_dict[f'imp_bin_{imp_bin}'][model_col] = cur_roc_auc_score"
   ]
  },
  {
   "cell_type": "code",
   "execution_count": 46,
   "id": "5944d569-c727-45d6-bc64-ff741d7cc639",
   "metadata": {
    "execution": {
     "iopub.execute_input": "2023-11-15T18:12:10.524569Z",
     "iopub.status.busy": "2023-11-15T18:12:10.524273Z",
     "iopub.status.idle": "2023-11-15T18:12:10.529972Z",
     "shell.execute_reply": "2023-11-15T18:12:10.529344Z",
     "shell.execute_reply.started": "2023-11-15T18:12:10.524538Z"
    },
    "tags": []
   },
   "outputs": [],
   "source": [
    "roc_auc_scores_over_imp_bins_df = pd.DataFrame(roc_auc_scores_dict).T"
   ]
  },
  {
   "cell_type": "code",
   "execution_count": 47,
   "id": "363c58dd-3ea8-4a8a-8aa5-2a1dbe33aaab",
   "metadata": {
    "execution": {
     "iopub.execute_input": "2023-11-15T18:12:11.733352Z",
     "iopub.status.busy": "2023-11-15T18:12:11.733043Z",
     "iopub.status.idle": "2023-11-15T18:12:12.273470Z",
     "shell.execute_reply": "2023-11-15T18:12:12.272735Z",
     "shell.execute_reply.started": "2023-11-15T18:12:11.733327Z"
    },
    "tags": []
   },
   "outputs": [
    {
     "data": {
      "image/png": "[encoded data removed]",
      "text/plain": [
       "<Figure size 1500x1000 with 1 Axes>"
      ]
     },
     "metadata": {},
     "output_type": "display_data"
    },
    {
     "data": {
      "image/png": "[encoded data removed]",
      "text/plain": [
       "<Figure size 1500x1000 with 1 Axes>"
      ]
     },
     "metadata": {},
     "output_type": "display_data"
    }
   ],
   "source": [
    "benchmark_importance_metrics_df['IMP_manh'].hist(bins=100, figsize=(15,10))\n",
    "plt.title('Importance values distribution')\n",
    "plt.xlim(0,1)\n",
    "\n",
    "roc_auc_scores_over_imp_bins_df[score_cols_df_list].plot(\n",
    "    style='-*',\n",
    "    figsize=(15,10),\n",
    "    #x='bin_coord'\n",
    ")\n",
    "# Add vertical lines for each percentile\n",
    "#for p, val in zip(range(10, 100, 10), quantiles_list[:]):\n",
    "#    plt.axvline(val, color='r', linestyle='dashed', linewidth=1)\n",
    "#    plt.text(val, 0.02, f'{p}%', rotation=90, verticalalignment='bottom', horizontalalignment='right', color='r')\n",
    "plt.title('Models predictive performance for different importance bins')\n",
    "plt.grid('minor')\n",
    "#plt.xlim(0,1)"
   ]
  },
  {
   "cell_type": "code",
   "execution_count": 62,
   "id": "81edd782-0a56-47a7-868b-527802dde8db",
   "metadata": {
    "execution": {
     "iopub.execute_input": "2023-11-15T18:16:46.372403Z",
     "iopub.status.busy": "2023-11-15T18:16:46.372202Z",
     "iopub.status.idle": "2023-11-15T18:16:46.380046Z",
     "shell.execute_reply": "2023-11-15T18:16:46.379426Z",
     "shell.execute_reply.started": "2023-11-15T18:16:46.372389Z"
    },
    "tags": []
   },
   "outputs": [
    {
     "data": {
      "text/html": [
       "<div>\n",
       "<style scoped>\n",
       "    .dataframe tbody tr th:only-of-type {\n",
       "        vertical-align: middle;\n",
       "    }\n",
       "\n",
       "    .dataframe tbody tr th {\n",
       "        vertical-align: top;\n",
       "    }\n",
       "\n",
       "    .dataframe thead th {\n",
       "        text-align: right;\n",
       "    }\n",
       "</style>\n",
       "<table border=\"1\" class=\"dataframe\">\n",
       "  <thead>\n",
       "    <tr style=\"text-align: right;\">\n",
       "      <th></th>\n",
       "      <th>ComplEx_wo_st_score</th>\n",
       "      <th>DistMult_wo_st_score</th>\n",
       "      <th>HolE_wo_st_score</th>\n",
       "      <th>TransE_wo_st_score</th>\n",
       "      <th>agatha_2015_score</th>\n",
       "      <th>n2v_score</th>\n",
       "    </tr>\n",
       "  </thead>\n",
       "  <tbody>\n",
       "    <tr>\n",
       "      <th>imp_bin_1</th>\n",
       "      <td>0.577234</td>\n",
       "      <td>0.760260</td>\n",
       "      <td>0.623015</td>\n",
       "      <td>0.555459</td>\n",
       "      <td>0.774067</td>\n",
       "      <td>0.755081</td>\n",
       "    </tr>\n",
       "    <tr>\n",
       "      <th>imp_bin_2</th>\n",
       "      <td>0.558869</td>\n",
       "      <td>0.673543</td>\n",
       "      <td>0.587546</td>\n",
       "      <td>0.540715</td>\n",
       "      <td>0.697777</td>\n",
       "      <td>0.665592</td>\n",
       "    </tr>\n",
       "    <tr>\n",
       "      <th>imp_bin_3</th>\n",
       "      <td>0.550985</td>\n",
       "      <td>0.622725</td>\n",
       "      <td>0.565692</td>\n",
       "      <td>0.533178</td>\n",
       "      <td>0.637583</td>\n",
       "      <td>0.602722</td>\n",
       "    </tr>\n",
       "  </tbody>\n",
       "</table>\n",
       "</div>"
      ],
      "text/plain": [
       "           ComplEx_wo_st_score  DistMult_wo_st_score  HolE_wo_st_score  \\\n",
       "imp_bin_1             0.577234              0.760260          0.623015   \n",
       "imp_bin_2             0.558869              0.673543          0.587546   \n",
       "imp_bin_3             0.550985              0.622725          0.565692   \n",
       "\n",
       "           TransE_wo_st_score  agatha_2015_score  n2v_score  \n",
       "imp_bin_1            0.555459           0.774067   0.755081  \n",
       "imp_bin_2            0.540715           0.697777   0.665592  \n",
       "imp_bin_3            0.533178           0.637583   0.602722  "
      ]
     },
     "execution_count": 62,
     "metadata": {},
     "output_type": "execute_result"
    }
   ],
   "source": [
    "roc_auc_scores_over_imp_bins_df"
   ]
  },
  {
   "cell_type": "code",
   "execution_count": 84,
   "id": "fd5c4dde-76f1-4777-be2e-be5ccd21a5eb",
   "metadata": {
    "execution": {
     "iopub.execute_input": "2023-11-15T18:25:36.167916Z",
     "iopub.status.busy": "2023-11-15T18:25:36.167547Z",
     "iopub.status.idle": "2023-11-15T18:25:36.176124Z",
     "shell.execute_reply": "2023-11-15T18:25:36.175598Z",
     "shell.execute_reply.started": "2023-11-15T18:25:36.167885Z"
    },
    "tags": []
   },
   "outputs": [],
   "source": [
    "bins_vals_df = (\n",
    "    benchmark_model_scores_vs_imp_df[['bin_assignment', 'IMP_manh']]\n",
    "        .groupby('bin_assignment')\n",
    "        .agg([min, max])\n",
    "        .loc[range(1,bins_n+1)]['IMP_manh']\n",
    ")"
   ]
  },
  {
   "cell_type": "code",
   "execution_count": 88,
   "id": "7db6c2b1-96b4-4cec-ac23-b3ea48fbb429",
   "metadata": {
    "execution": {
     "iopub.execute_input": "2023-11-15T18:26:44.552917Z",
     "iopub.status.busy": "2023-11-15T18:26:44.552509Z",
     "iopub.status.idle": "2023-11-15T18:26:44.562069Z",
     "shell.execute_reply": "2023-11-15T18:26:44.561549Z",
     "shell.execute_reply.started": "2023-11-15T18:26:44.552884Z"
    },
    "tags": []
   },
   "outputs": [
    {
     "data": {
      "text/html": [
       "<div>\n",
       "<style scoped>\n",
       "    .dataframe tbody tr th:only-of-type {\n",
       "        vertical-align: middle;\n",
       "    }\n",
       "\n",
       "    .dataframe tbody tr th {\n",
       "        vertical-align: top;\n",
       "    }\n",
       "\n",
       "    .dataframe thead th {\n",
       "        text-align: right;\n",
       "    }\n",
       "</style>\n",
       "<table border=\"1\" class=\"dataframe\">\n",
       "  <thead>\n",
       "    <tr style=\"text-align: right;\">\n",
       "      <th></th>\n",
       "      <th>min</th>\n",
       "      <th>max</th>\n",
       "    </tr>\n",
       "    <tr>\n",
       "      <th>bin_assignment</th>\n",
       "      <th></th>\n",
       "      <th></th>\n",
       "    </tr>\n",
       "  </thead>\n",
       "  <tbody>\n",
       "    <tr>\n",
       "      <th>1</th>\n",
       "      <td>0.118567</td>\n",
       "      <td>0.411099</td>\n",
       "    </tr>\n",
       "    <tr>\n",
       "      <th>2</th>\n",
       "      <td>0.411121</td>\n",
       "      <td>0.526803</td>\n",
       "    </tr>\n",
       "    <tr>\n",
       "      <th>3</th>\n",
       "      <td>0.526818</td>\n",
       "      <td>0.922677</td>\n",
       "    </tr>\n",
       "  </tbody>\n",
       "</table>\n",
       "</div>"
      ],
      "text/plain": [
       "                     min       max\n",
       "bin_assignment                    \n",
       "1               0.118567  0.411099\n",
       "2               0.411121  0.526803\n",
       "3               0.526818  0.922677"
      ]
     },
     "execution_count": 88,
     "metadata": {},
     "output_type": "execute_result"
    }
   ],
   "source": [
    "bins_vals_df"
   ]
  },
  {
   "cell_type": "code",
   "execution_count": 197,
   "id": "fb3b7864-6afd-4371-813a-14b8f3bc0cc7",
   "metadata": {
    "execution": {
     "iopub.execute_input": "2023-11-15T20:46:36.105199Z",
     "iopub.status.busy": "2023-11-15T20:46:36.104801Z",
     "iopub.status.idle": "2023-11-15T20:46:36.113335Z",
     "shell.execute_reply": "2023-11-15T20:46:36.112648Z",
     "shell.execute_reply.started": "2023-11-15T20:46:36.105167Z"
    },
    "tags": []
   },
   "outputs": [],
   "source": [
    "plot_roc_auc_scores_over_imp_bins_df = (\n",
    "    roc_auc_scores_over_imp_bins_df\n",
    "    .rename(\n",
    "        columns = {\n",
    "            'agatha_2015_score': 'AGATHA',\n",
    "            'DistMult_wo_st_score': 'DistMult',\n",
    "            'n2v_score': 'Node2Vec',\n",
    "            'HolE_wo_st_score': 'HolE',\n",
    "            'ComplEx_wo_st_score': 'ComplEx',\n",
    "            'TransE_wo_st_score': 'TransE',\n",
    "        }\n",
    "    )\n",
    "    .T.rename(\n",
    "        columns = {\n",
    "            'imp_bin_1': f\"Low importance\\n( < {round(bins_vals_df.loc[1]['max'], 2)})\",\n",
    "            'imp_bin_2': f\"Medium importance\\n({round(bins_vals_df.loc[2]['min'], 2)} $\\leq$ $I_t$ $\\leq$ {round(bins_vals_df.loc[2]['max'], 2)})\",\n",
    "            'imp_bin_3': f\"High importance\\n( > {round(bins_vals_df.loc[3]['min'], 2)})\",\n",
    "        }\n",
    "    ).T\n",
    ")"
   ]
  },
  {
   "cell_type": "code",
   "execution_count": 198,
   "id": "b0ba223f-0a5c-4317-9a86-2a6a7a45552d",
   "metadata": {
    "execution": {
     "iopub.execute_input": "2023-11-15T20:46:36.284649Z",
     "iopub.status.busy": "2023-11-15T20:46:36.284500Z",
     "iopub.status.idle": "2023-11-15T20:46:36.287884Z",
     "shell.execute_reply": "2023-11-15T20:46:36.287259Z",
     "shell.execute_reply.started": "2023-11-15T20:46:36.284632Z"
    },
    "tags": []
   },
   "outputs": [],
   "source": [
    "plot_score_cols_df_list = list(plot_roc_auc_scores_over_imp_bins_df.iloc[-1].sort_values(ascending=False).index)"
   ]
  },
  {
   "cell_type": "code",
   "execution_count": 199,
   "id": "264e2a8b-1cd6-4a97-826f-ae2d207ec177",
   "metadata": {
    "execution": {
     "iopub.execute_input": "2023-11-15T20:46:36.430134Z",
     "iopub.status.busy": "2023-11-15T20:46:36.429917Z",
     "iopub.status.idle": "2023-11-15T20:46:36.434041Z",
     "shell.execute_reply": "2023-11-15T20:46:36.433283Z",
     "shell.execute_reply.started": "2023-11-15T20:46:36.430120Z"
    },
    "tags": []
   },
   "outputs": [],
   "source": [
    "plot_roc_auc_scores_over_imp_bins_df = plot_roc_auc_scores_over_imp_bins_df[plot_score_cols_df_list]"
   ]
  },
  {
   "cell_type": "code",
   "execution_count": 200,
   "id": "f9e5412a-55e5-44a9-8a4b-5142c4438e83",
   "metadata": {
    "execution": {
     "iopub.execute_input": "2023-11-15T20:46:36.611624Z",
     "iopub.status.busy": "2023-11-15T20:46:36.611248Z",
     "iopub.status.idle": "2023-11-15T20:46:36.623080Z",
     "shell.execute_reply": "2023-11-15T20:46:36.622588Z",
     "shell.execute_reply.started": "2023-11-15T20:46:36.611593Z"
    },
    "tags": []
   },
   "outputs": [
    {
     "data": {
      "text/html": [
       "<div>\n",
       "<style scoped>\n",
       "    .dataframe tbody tr th:only-of-type {\n",
       "        vertical-align: middle;\n",
       "    }\n",
       "\n",
       "    .dataframe tbody tr th {\n",
       "        vertical-align: top;\n",
       "    }\n",
       "\n",
       "    .dataframe thead th {\n",
       "        text-align: right;\n",
       "    }\n",
       "</style>\n",
       "<table border=\"1\" class=\"dataframe\">\n",
       "  <thead>\n",
       "    <tr style=\"text-align: right;\">\n",
       "      <th></th>\n",
       "      <th>AGATHA</th>\n",
       "      <th>DistMult</th>\n",
       "      <th>Node2Vec</th>\n",
       "      <th>HolE</th>\n",
       "      <th>ComplEx</th>\n",
       "      <th>TransE</th>\n",
       "    </tr>\n",
       "  </thead>\n",
       "  <tbody>\n",
       "    <tr>\n",
       "      <th>Low importance\\n( &lt; 0.41)</th>\n",
       "      <td>0.774067</td>\n",
       "      <td>0.760260</td>\n",
       "      <td>0.755081</td>\n",
       "      <td>0.623015</td>\n",
       "      <td>0.577234</td>\n",
       "      <td>0.555459</td>\n",
       "    </tr>\n",
       "    <tr>\n",
       "      <th>Medium importance\\n(0.41 $\\leq$ $I_t$ $\\leq$ 0.53)</th>\n",
       "      <td>0.697777</td>\n",
       "      <td>0.673543</td>\n",
       "      <td>0.665592</td>\n",
       "      <td>0.587546</td>\n",
       "      <td>0.558869</td>\n",
       "      <td>0.540715</td>\n",
       "    </tr>\n",
       "    <tr>\n",
       "      <th>High importance\\n( &gt; 0.53)</th>\n",
       "      <td>0.637583</td>\n",
       "      <td>0.622725</td>\n",
       "      <td>0.602722</td>\n",
       "      <td>0.565692</td>\n",
       "      <td>0.550985</td>\n",
       "      <td>0.533178</td>\n",
       "    </tr>\n",
       "  </tbody>\n",
       "</table>\n",
       "</div>"
      ],
      "text/plain": [
       "                                                      AGATHA  DistMult  \\\n",
       "Low importance\\n( < 0.41)                           0.774067  0.760260   \n",
       "Medium importance\\n(0.41 $\\leq$ $I_t$ $\\leq$ 0.53)  0.697777  0.673543   \n",
       "High importance\\n( > 0.53)                          0.637583  0.622725   \n",
       "\n",
       "                                                    Node2Vec      HolE  \\\n",
       "Low importance\\n( < 0.41)                           0.755081  0.623015   \n",
       "Medium importance\\n(0.41 $\\leq$ $I_t$ $\\leq$ 0.53)  0.665592  0.587546   \n",
       "High importance\\n( > 0.53)                          0.602722  0.565692   \n",
       "\n",
       "                                                     ComplEx    TransE  \n",
       "Low importance\\n( < 0.41)                           0.577234  0.555459  \n",
       "Medium importance\\n(0.41 $\\leq$ $I_t$ $\\leq$ 0.53)  0.558869  0.540715  \n",
       "High importance\\n( > 0.53)                          0.550985  0.533178  "
      ]
     },
     "execution_count": 200,
     "metadata": {},
     "output_type": "execute_result"
    }
   ],
   "source": [
    "plot_roc_auc_scores_over_imp_bins_df"
   ]
  },
  {
   "cell_type": "code",
   "execution_count": 201,
   "id": "3a9ca316-5ea7-4d01-8de9-e463213511f6",
   "metadata": {
    "execution": {
     "iopub.execute_input": "2023-11-15T20:46:39.576121Z",
     "iopub.status.busy": "2023-11-15T20:46:39.575906Z",
     "iopub.status.idle": "2023-11-15T20:46:39.582185Z",
     "shell.execute_reply": "2023-11-15T20:46:39.581457Z",
     "shell.execute_reply.started": "2023-11-15T20:46:39.576107Z"
    },
    "tags": []
   },
   "outputs": [],
   "source": [
    "plot_roc_auc_scores_over_imp_bins_df.to_csv('saved_figures/plot_roc_auc_scores_over_imp_bins_df.csv')"
   ]
  },
  {
   "cell_type": "code",
   "execution_count": 202,
   "id": "ffa29a05-fe8f-436e-9ef8-d371126bd329",
   "metadata": {
    "execution": {
     "iopub.execute_input": "2023-11-15T20:46:42.382794Z",
     "iopub.status.busy": "2023-11-15T20:46:42.382399Z",
     "iopub.status.idle": "2023-11-15T20:46:42.393678Z",
     "shell.execute_reply": "2023-11-15T20:46:42.392988Z",
     "shell.execute_reply.started": "2023-11-15T20:46:42.382762Z"
    },
    "tags": []
   },
   "outputs": [],
   "source": [
    "def plot_bar_line_combo(df: pd.DataFrame):\n",
    "    \"\"\"\n",
    "    Function to plot a combined bar and line chart from a dataframe.\n",
    "    \n",
    "    Parameters:\n",
    "    - df: pandas DataFrame with index as categories and columns as different series\n",
    "    \n",
    "    Returns:\n",
    "    - ax: The matplotlib axes object with the plot.\n",
    "    \"\"\"\n",
    "    \n",
    "    plt.rcParams.update({'font.size': 20})\n",
    "    # Set up the matplotlib figure and axes\n",
    "    fig, ax = plt.subplots(figsize=(15, 10))\n",
    "\n",
    "    # Number of bars (series) and bar groups (categories)\n",
    "    n_bars = len(df.columns)\n",
    "    n_groups = len(df.index)\n",
    "\n",
    "    # The x location for the groups and the width of each bar\n",
    "    bar_inds = np.arange(n_groups)\n",
    "    bar_width = 0.9 / n_bars\n",
    "\n",
    "    # Plotting the bars\n",
    "    for i, column in enumerate(df.columns):\n",
    "        ax.bar(bar_inds + i * bar_width, df[column], width=bar_width, label=column, alpha=0.4)\n",
    "\n",
    "    # Plotting the line plots\n",
    "    for i, column in enumerate(df.columns):\n",
    "        # The x position for the line plot is the center of the bar\n",
    "        line_x_positions = bar_inds + i * bar_width # + bar_width / 2\n",
    "        ax.plot(\n",
    "            line_x_positions,\n",
    "            df[column],\n",
    "            marker='o',\n",
    "            linestyle='-',\n",
    "            linewidth=2,\n",
    "            alpha=0.5\n",
    "        )\n",
    "\n",
    "    # Set the positions of the x-ticks to be in the center of the groups\n",
    "    ax.set_xticks(bar_inds + bar_width * n_bars / 2 - bar_width / 2)\n",
    "    ax.set_xticklabels(df.index)\n",
    "\n",
    "    # Other plot settings\n",
    "    ax.set_ylim(0.5, 0.8)\n",
    "    ax.set_ylabel('ROC AUC Score')\n",
    "    ax.set_title('Models Evaluation with Importance-based Stratification')\n",
    "    ax.legend()\n",
    "    \n",
    "    plt.savefig('saved_figures/eval_imp_strat.pdf', bbox_inches='tight')\n",
    "\n",
    "    # Return the axes object with the plot\n",
    "    return ax\n",
    "\n"
   ]
  },
  {
   "cell_type": "code",
   "execution_count": 203,
   "id": "eb22d0b3-dee2-45be-91af-ca11f520f42e",
   "metadata": {
    "execution": {
     "iopub.execute_input": "2023-11-15T20:46:42.722628Z",
     "iopub.status.busy": "2023-11-15T20:46:42.722416Z",
     "iopub.status.idle": "2023-11-15T20:46:43.058374Z",
     "shell.execute_reply": "2023-11-15T20:46:43.057757Z",
     "shell.execute_reply.started": "2023-11-15T20:46:42.722614Z"
    },
    "tags": []
   },
   "outputs": [
    {
     "data": {
      "image/png": "[encoded data removed]",
      "text/plain": [
       "<Figure size 1500x1000 with 1 Axes>"
      ]
     },
     "metadata": {},
     "output_type": "display_data"
    }
   ],
   "source": [
    "\n",
    "# We'll use the previously created DataFrame `df` to run the function.\n",
    "combo_plot = plot_bar_line_combo(plot_roc_auc_scores_over_imp_bins_df)\n",
    "plt.show()"
   ]
  },
  {
   "cell_type": "markdown",
   "id": "d9844701-418b-43e0-8631-b9b707646c9c",
   "metadata": {},
   "source": [
    "## Adding info to importance table"
   ]
  },
  {
   "cell_type": "code",
   "execution_count": null,
   "id": "e5189f44-ff10-4d20-a818-e2af4fb4b935",
   "metadata": {},
   "outputs": [],
   "source": [
    "benchmark_importance_metrics_df.to_csv('../benchmark_data/benchmark_pos_pairs_importance_test2016_imp2022_df.csv')"
   ]
  },
  {
   "cell_type": "code",
   "execution_count": 10,
   "id": "aaa277bf-7901-4113-b6b0-c34de547d96e",
   "metadata": {
    "execution": {
     "iopub.execute_input": "2023-12-21T18:12:06.906227Z",
     "iopub.status.busy": "2023-12-21T18:12:06.905702Z",
     "iopub.status.idle": "2023-12-21T18:12:06.924334Z",
     "shell.execute_reply": "2023-12-21T18:12:06.923427Z",
     "shell.execute_reply.started": "2023-12-21T18:12:06.906194Z"
    },
    "tags": []
   },
   "outputs": [
    {
     "data": {
      "text/html": [
       "<div>\n",
       "<style scoped>\n",
       "    .dataframe tbody tr th:only-of-type {\n",
       "        vertical-align: middle;\n",
       "    }\n",
       "\n",
       "    .dataframe tbody tr th {\n",
       "        vertical-align: top;\n",
       "    }\n",
       "\n",
       "    .dataframe thead th {\n",
       "        text-align: right;\n",
       "    }\n",
       "</style>\n",
       "<table border=\"1\" class=\"dataframe\">\n",
       "  <thead>\n",
       "    <tr style=\"text-align: right;\">\n",
       "      <th></th>\n",
       "      <th>source</th>\n",
       "      <th>target</th>\n",
       "      <th>source_cui</th>\n",
       "      <th>target_cui</th>\n",
       "      <th>cui_pair</th>\n",
       "      <th>mentions_diff</th>\n",
       "      <th>sem_scholar_cit</th>\n",
       "      <th>ig</th>\n",
       "      <th>jac_1st_train</th>\n",
       "      <th>jac_2nd_train</th>\n",
       "      <th>eig_cent_diff</th>\n",
       "      <th>betw_cent</th>\n",
       "      <th>jac_2nd_neg_train</th>\n",
       "      <th>IMP_manh</th>\n",
       "    </tr>\n",
       "  </thead>\n",
       "  <tbody>\n",
       "    <tr>\n",
       "      <th>0</th>\n",
       "      <td>C0033308__progesterone</td>\n",
       "      <td>C1421999__SLC38A1 gene</td>\n",
       "      <td>C0033308</td>\n",
       "      <td>C1421999</td>\n",
       "      <td>C0033308 C1421999</td>\n",
       "      <td>1</td>\n",
       "      <td>27.0</td>\n",
       "      <td>0.005632</td>\n",
       "      <td>0.004669</td>\n",
       "      <td>0.345337</td>\n",
       "      <td>-0.001702</td>\n",
       "      <td>0.000000e+00</td>\n",
       "      <td>-0.345337</td>\n",
       "      <td>0.437680</td>\n",
       "    </tr>\n",
       "    <tr>\n",
       "      <th>1</th>\n",
       "      <td>C0557874__Global developmental delay</td>\n",
       "      <td>C0152423__Congenital small ears</td>\n",
       "      <td>C0557874</td>\n",
       "      <td>C0152423</td>\n",
       "      <td>C0152423 C0557874</td>\n",
       "      <td>1</td>\n",
       "      <td>39.0</td>\n",
       "      <td>0.006297</td>\n",
       "      <td>0.105121</td>\n",
       "      <td>0.542392</td>\n",
       "      <td>0.000053</td>\n",
       "      <td>9.112312e-09</td>\n",
       "      <td>-0.542392</td>\n",
       "      <td>0.582247</td>\n",
       "    </tr>\n",
       "    <tr>\n",
       "      <th>2</th>\n",
       "      <td>C1332733__CDK2 gene</td>\n",
       "      <td>C1332650__C-Terminal Binding Protein 1</td>\n",
       "      <td>C1332733</td>\n",
       "      <td>C1332650</td>\n",
       "      <td>C1332650 C1332733</td>\n",
       "      <td>1</td>\n",
       "      <td>6.0</td>\n",
       "      <td>0.016198</td>\n",
       "      <td>0.049270</td>\n",
       "      <td>0.600761</td>\n",
       "      <td>-0.000063</td>\n",
       "      <td>1.621441e-06</td>\n",
       "      <td>-0.600761</td>\n",
       "      <td>0.469042</td>\n",
       "    </tr>\n",
       "    <tr>\n",
       "      <th>3</th>\n",
       "      <td>C0006142__Malignant neoplasm of breast</td>\n",
       "      <td>C1136328__Iridoids</td>\n",
       "      <td>C0006142</td>\n",
       "      <td>C1136328</td>\n",
       "      <td>C0006142 C1136328</td>\n",
       "      <td>2</td>\n",
       "      <td>48.0</td>\n",
       "      <td>0.006355</td>\n",
       "      <td>0.000272</td>\n",
       "      <td>0.028818</td>\n",
       "      <td>0.002889</td>\n",
       "      <td>0.000000e+00</td>\n",
       "      <td>-0.028818</td>\n",
       "      <td>0.701774</td>\n",
       "    </tr>\n",
       "    <tr>\n",
       "      <th>4</th>\n",
       "      <td>C1456409__etravirine</td>\n",
       "      <td>C4045491__doravirine</td>\n",
       "      <td>C1456409</td>\n",
       "      <td>C4045491</td>\n",
       "      <td>C1456409 C4045491</td>\n",
       "      <td>15</td>\n",
       "      <td>239.0</td>\n",
       "      <td>0.016966</td>\n",
       "      <td>0.030973</td>\n",
       "      <td>0.140814</td>\n",
       "      <td>-0.000003</td>\n",
       "      <td>1.250633e-06</td>\n",
       "      <td>-0.140814</td>\n",
       "      <td>0.788580</td>\n",
       "    </tr>\n",
       "    <tr>\n",
       "      <th>...</th>\n",
       "      <td>...</td>\n",
       "      <td>...</td>\n",
       "      <td>...</td>\n",
       "      <td>...</td>\n",
       "      <td>...</td>\n",
       "      <td>...</td>\n",
       "      <td>...</td>\n",
       "      <td>...</td>\n",
       "      <td>...</td>\n",
       "      <td>...</td>\n",
       "      <td>...</td>\n",
       "      <td>...</td>\n",
       "      <td>...</td>\n",
       "      <td>...</td>\n",
       "    </tr>\n",
       "    <tr>\n",
       "      <th>48563</th>\n",
       "      <td>C1448177__TNF protein, human</td>\n",
       "      <td>C1824798__CRTC1 gene</td>\n",
       "      <td>C1448177</td>\n",
       "      <td>C1824798</td>\n",
       "      <td>C1448177 C1824798</td>\n",
       "      <td>1</td>\n",
       "      <td>64.0</td>\n",
       "      <td>0.008860</td>\n",
       "      <td>0.011995</td>\n",
       "      <td>0.405616</td>\n",
       "      <td>0.004581</td>\n",
       "      <td>0.000000e+00</td>\n",
       "      <td>-0.405616</td>\n",
       "      <td>0.649974</td>\n",
       "    </tr>\n",
       "    <tr>\n",
       "      <th>48564</th>\n",
       "      <td>C1332803__CTNNB1 gene</td>\n",
       "      <td>C1835953__NOTUM gene</td>\n",
       "      <td>C1332803</td>\n",
       "      <td>C1835953</td>\n",
       "      <td>C1332803 C1835953</td>\n",
       "      <td>4</td>\n",
       "      <td>147.0</td>\n",
       "      <td>0.031855</td>\n",
       "      <td>0.013270</td>\n",
       "      <td>0.105266</td>\n",
       "      <td>0.000367</td>\n",
       "      <td>1.700016e-06</td>\n",
       "      <td>-0.105266</td>\n",
       "      <td>0.876397</td>\n",
       "    </tr>\n",
       "    <tr>\n",
       "      <th>48565</th>\n",
       "      <td>C0002335__alprostadil</td>\n",
       "      <td>C0008864__citrulline</td>\n",
       "      <td>C0002335</td>\n",
       "      <td>C0008864</td>\n",
       "      <td>C0002335 C0008864</td>\n",
       "      <td>0</td>\n",
       "      <td>14.0</td>\n",
       "      <td>0.000446</td>\n",
       "      <td>0.068027</td>\n",
       "      <td>0.512115</td>\n",
       "      <td>-0.000111</td>\n",
       "      <td>5.522397e-08</td>\n",
       "      <td>-0.512115</td>\n",
       "      <td>0.314918</td>\n",
       "    </tr>\n",
       "    <tr>\n",
       "      <th>48566</th>\n",
       "      <td>C1363984__TNFRSF1A gene</td>\n",
       "      <td>C2350562__Brominated Diphenyl Ethers</td>\n",
       "      <td>C1363984</td>\n",
       "      <td>C2350562</td>\n",
       "      <td>C1363984 C2350562</td>\n",
       "      <td>0</td>\n",
       "      <td>4.0</td>\n",
       "      <td>0.002455</td>\n",
       "      <td>0.010173</td>\n",
       "      <td>0.334290</td>\n",
       "      <td>-0.000046</td>\n",
       "      <td>1.520694e-05</td>\n",
       "      <td>-0.334290</td>\n",
       "      <td>0.435436</td>\n",
       "    </tr>\n",
       "    <tr>\n",
       "      <th>48567</th>\n",
       "      <td>C0022665__Kidney Neoplasm</td>\n",
       "      <td>C0206694__Mucoepidermoid Carcinoma</td>\n",
       "      <td>C0022665</td>\n",
       "      <td>C0206694</td>\n",
       "      <td>C0022665 C0206694</td>\n",
       "      <td>0</td>\n",
       "      <td>4.0</td>\n",
       "      <td>0.000239</td>\n",
       "      <td>0.081136</td>\n",
       "      <td>0.341769</td>\n",
       "      <td>-0.001742</td>\n",
       "      <td>0.000000e+00</td>\n",
       "      <td>-0.341769</td>\n",
       "      <td>0.230459</td>\n",
       "    </tr>\n",
       "  </tbody>\n",
       "</table>\n",
       "<p>48568 rows × 14 columns</p>\n",
       "</div>"
      ],
      "text/plain": [
       "                                       source  \\\n",
       "0                      C0033308__progesterone   \n",
       "1        C0557874__Global developmental delay   \n",
       "2                         C1332733__CDK2 gene   \n",
       "3      C0006142__Malignant neoplasm of breast   \n",
       "4                        C1456409__etravirine   \n",
       "...                                       ...   \n",
       "48563            C1448177__TNF protein, human   \n",
       "48564                   C1332803__CTNNB1 gene   \n",
       "48565                   C0002335__alprostadil   \n",
       "48566                 C1363984__TNFRSF1A gene   \n",
       "48567               C0022665__Kidney Neoplasm   \n",
       "\n",
       "                                       target source_cui target_cui  \\\n",
       "0                      C1421999__SLC38A1 gene   C0033308   C1421999   \n",
       "1             C0152423__Congenital small ears   C0557874   C0152423   \n",
       "2      C1332650__C-Terminal Binding Protein 1   C1332733   C1332650   \n",
       "3                          C1136328__Iridoids   C0006142   C1136328   \n",
       "4                        C4045491__doravirine   C1456409   C4045491   \n",
       "...                                       ...        ...        ...   \n",
       "48563                    C1824798__CRTC1 gene   C1448177   C1824798   \n",
       "48564                    C1835953__NOTUM gene   C1332803   C1835953   \n",
       "48565                    C0008864__citrulline   C0002335   C0008864   \n",
       "48566    C2350562__Brominated Diphenyl Ethers   C1363984   C2350562   \n",
       "48567      C0206694__Mucoepidermoid Carcinoma   C0022665   C0206694   \n",
       "\n",
       "                cui_pair  mentions_diff  sem_scholar_cit        ig  \\\n",
       "0      C0033308 C1421999              1             27.0  0.005632   \n",
       "1      C0152423 C0557874              1             39.0  0.006297   \n",
       "2      C1332650 C1332733              1              6.0  0.016198   \n",
       "3      C0006142 C1136328              2             48.0  0.006355   \n",
       "4      C1456409 C4045491             15            239.0  0.016966   \n",
       "...                  ...            ...              ...       ...   \n",
       "48563  C1448177 C1824798              1             64.0  0.008860   \n",
       "48564  C1332803 C1835953              4            147.0  0.031855   \n",
       "48565  C0002335 C0008864              0             14.0  0.000446   \n",
       "48566  C1363984 C2350562              0              4.0  0.002455   \n",
       "48567  C0022665 C0206694              0              4.0  0.000239   \n",
       "\n",
       "       jac_1st_train  jac_2nd_train  eig_cent_diff     betw_cent  \\\n",
       "0           0.004669       0.345337      -0.001702  0.000000e+00   \n",
       "1           0.105121       0.542392       0.000053  9.112312e-09   \n",
       "2           0.049270       0.600761      -0.000063  1.621441e-06   \n",
       "3           0.000272       0.028818       0.002889  0.000000e+00   \n",
       "4           0.030973       0.140814      -0.000003  1.250633e-06   \n",
       "...              ...            ...            ...           ...   \n",
       "48563       0.011995       0.405616       0.004581  0.000000e+00   \n",
       "48564       0.013270       0.105266       0.000367  1.700016e-06   \n",
       "48565       0.068027       0.512115      -0.000111  5.522397e-08   \n",
       "48566       0.010173       0.334290      -0.000046  1.520694e-05   \n",
       "48567       0.081136       0.341769      -0.001742  0.000000e+00   \n",
       "\n",
       "       jac_2nd_neg_train  IMP_manh  \n",
       "0              -0.345337  0.437680  \n",
       "1              -0.542392  0.582247  \n",
       "2              -0.600761  0.469042  \n",
       "3              -0.028818  0.701774  \n",
       "4              -0.140814  0.788580  \n",
       "...                  ...       ...  \n",
       "48563          -0.405616  0.649974  \n",
       "48564          -0.105266  0.876397  \n",
       "48565          -0.512115  0.314918  \n",
       "48566          -0.334290  0.435436  \n",
       "48567          -0.341769  0.230459  \n",
       "\n",
       "[48568 rows x 14 columns]"
      ]
     },
     "execution_count": 10,
     "metadata": {},
     "output_type": "execute_result"
    }
   ],
   "source": [
    "benchmark_importance_metrics_df"
   ]
  },
  {
   "cell_type": "markdown",
   "id": "cc0c1e0f-d101-4681-8cbd-ff43bff4a51d",
   "metadata": {},
   "source": [
    "### Semantic types"
   ]
  },
  {
   "cell_type": "code",
   "execution_count": 11,
   "id": "19cc979a-a9eb-4e2f-bac8-0447d584718f",
   "metadata": {
    "execution": {
     "iopub.execute_input": "2023-12-21T18:13:18.307445Z",
     "iopub.status.busy": "2023-12-21T18:13:18.306551Z",
     "iopub.status.idle": "2023-12-21T18:13:25.061187Z",
     "shell.execute_reply": "2023-12-21T18:13:25.059948Z",
     "shell.execute_reply.started": "2023-12-21T18:13:18.307408Z"
    },
    "tags": []
   },
   "outputs": [],
   "source": [
    "cui_to_semtype_dict = pd.read_pickle(\n",
    "    '../UMLS_Metathesaurus/CUI_to_semtype_2022AA_dict.pkl'\n",
    ")"
   ]
  },
  {
   "cell_type": "code",
   "execution_count": 13,
   "id": "c643d568-a8a4-4125-83ed-dba554a478f4",
   "metadata": {
    "execution": {
     "iopub.execute_input": "2023-12-21T18:13:46.698786Z",
     "iopub.status.busy": "2023-12-21T18:13:46.698427Z",
     "iopub.status.idle": "2023-12-21T18:13:46.704037Z",
     "shell.execute_reply": "2023-12-21T18:13:46.703226Z",
     "shell.execute_reply.started": "2023-12-21T18:13:46.698757Z"
    },
    "tags": []
   },
   "outputs": [
    {
     "data": {
      "text/plain": [
       "{'Amino Acid, Peptide, or Protein',\n",
       " 'Indicator, Reagent, or Diagnostic Aid',\n",
       " 'Pharmacologic Substance'}"
      ]
     },
     "execution_count": 13,
     "metadata": {},
     "output_type": "execute_result"
    }
   ],
   "source": [
    "cui_to_semtype_dict['C0000005']"
   ]
  },
  {
   "cell_type": "code",
   "execution_count": 21,
   "id": "0e1413e5-0e7a-48bc-854c-97e83c20b95a",
   "metadata": {
    "execution": {
     "iopub.execute_input": "2023-12-21T18:18:36.034825Z",
     "iopub.status.busy": "2023-12-21T18:18:36.034318Z",
     "iopub.status.idle": "2023-12-21T18:18:36.103222Z",
     "shell.execute_reply": "2023-12-21T18:18:36.102309Z",
     "shell.execute_reply.started": "2023-12-21T18:18:36.034793Z"
    },
    "tags": []
   },
   "outputs": [],
   "source": [
    "benchmark_importance_metrics_df['source_st'] = (\n",
    "    benchmark_importance_metrics_df['source_cui'].apply(\n",
    "        lambda x: '; '.join(list(cui_to_semtype_dict.get(x))) if x in cui_to_semtype_dict else None\n",
    "    )\n",
    ")\n",
    "\n",
    "benchmark_importance_metrics_df['target_st'] = (\n",
    "    benchmark_importance_metrics_df['target_cui'].apply(\n",
    "        lambda x: '; '.join(list(cui_to_semtype_dict.get(x))) if x in cui_to_semtype_dict else None\n",
    "    )\n",
    ")"
   ]
  },
  {
   "cell_type": "code",
   "execution_count": 22,
   "id": "3d60a78f-d7b8-4f2c-9694-23c6112b8160",
   "metadata": {
    "execution": {
     "iopub.execute_input": "2023-12-21T18:18:38.932789Z",
     "iopub.status.busy": "2023-12-21T18:18:38.932555Z",
     "iopub.status.idle": "2023-12-21T18:18:38.959932Z",
     "shell.execute_reply": "2023-12-21T18:18:38.958999Z",
     "shell.execute_reply.started": "2023-12-21T18:18:38.932775Z"
    },
    "tags": []
   },
   "outputs": [
    {
     "data": {
      "text/html": [
       "<div>\n",
       "<style scoped>\n",
       "    .dataframe tbody tr th:only-of-type {\n",
       "        vertical-align: middle;\n",
       "    }\n",
       "\n",
       "    .dataframe tbody tr th {\n",
       "        vertical-align: top;\n",
       "    }\n",
       "\n",
       "    .dataframe thead th {\n",
       "        text-align: right;\n",
       "    }\n",
       "</style>\n",
       "<table border=\"1\" class=\"dataframe\">\n",
       "  <thead>\n",
       "    <tr style=\"text-align: right;\">\n",
       "      <th></th>\n",
       "      <th>source</th>\n",
       "      <th>target</th>\n",
       "      <th>source_cui</th>\n",
       "      <th>target_cui</th>\n",
       "      <th>cui_pair</th>\n",
       "      <th>mentions_diff</th>\n",
       "      <th>sem_scholar_cit</th>\n",
       "      <th>ig</th>\n",
       "      <th>jac_1st_train</th>\n",
       "      <th>jac_2nd_train</th>\n",
       "      <th>eig_cent_diff</th>\n",
       "      <th>betw_cent</th>\n",
       "      <th>jac_2nd_neg_train</th>\n",
       "      <th>IMP_manh</th>\n",
       "      <th>source_st</th>\n",
       "      <th>target_st</th>\n",
       "    </tr>\n",
       "  </thead>\n",
       "  <tbody>\n",
       "    <tr>\n",
       "      <th>1101</th>\n",
       "      <td>C0007102__Malignant tumor of colon</td>\n",
       "      <td>C1837991__</td>\n",
       "      <td>C0007102</td>\n",
       "      <td>C1837991</td>\n",
       "      <td>C0007102 C1837991</td>\n",
       "      <td>0</td>\n",
       "      <td>158.0</td>\n",
       "      <td>0.006455</td>\n",
       "      <td>0.003218</td>\n",
       "      <td>0.063264</td>\n",
       "      <td>-0.002838</td>\n",
       "      <td>0.000000e+00</td>\n",
       "      <td>-0.063264</td>\n",
       "      <td>0.487054</td>\n",
       "      <td>Neoplastic Process</td>\n",
       "      <td>None</td>\n",
       "    </tr>\n",
       "    <tr>\n",
       "      <th>2227</th>\n",
       "      <td>C1335879__STIM1 gene</td>\n",
       "      <td>C0494261__</td>\n",
       "      <td>C1335879</td>\n",
       "      <td>C0494261</td>\n",
       "      <td>C0494261 C1335879</td>\n",
       "      <td>5</td>\n",
       "      <td>282.0</td>\n",
       "      <td>0.010392</td>\n",
       "      <td>0.007663</td>\n",
       "      <td>0.359087</td>\n",
       "      <td>0.000034</td>\n",
       "      <td>0.000000e+00</td>\n",
       "      <td>-0.359087</td>\n",
       "      <td>0.697603</td>\n",
       "      <td>Gene or Genome</td>\n",
       "      <td>None</td>\n",
       "    </tr>\n",
       "    <tr>\n",
       "      <th>4895</th>\n",
       "      <td>C0525045__Mood Disorders</td>\n",
       "      <td>C0005001__</td>\n",
       "      <td>C0525045</td>\n",
       "      <td>C0005001</td>\n",
       "      <td>C0005001 C0525045</td>\n",
       "      <td>1</td>\n",
       "      <td>132.0</td>\n",
       "      <td>-0.000377</td>\n",
       "      <td>0.032140</td>\n",
       "      <td>0.283060</td>\n",
       "      <td>0.000135</td>\n",
       "      <td>0.000000e+00</td>\n",
       "      <td>-0.283060</td>\n",
       "      <td>0.579716</td>\n",
       "      <td>Mental or Behavioral Dysfunction</td>\n",
       "      <td>None</td>\n",
       "    </tr>\n",
       "    <tr>\n",
       "      <th>11680</th>\n",
       "      <td>C0242379__Malignant neoplasm of lung</td>\n",
       "      <td>C0431350__</td>\n",
       "      <td>C0242379</td>\n",
       "      <td>C0431350</td>\n",
       "      <td>C0242379 C0431350</td>\n",
       "      <td>0</td>\n",
       "      <td>14.0</td>\n",
       "      <td>0.002251</td>\n",
       "      <td>0.006596</td>\n",
       "      <td>0.197022</td>\n",
       "      <td>0.007060</td>\n",
       "      <td>0.000000e+00</td>\n",
       "      <td>-0.197022</td>\n",
       "      <td>0.481914</td>\n",
       "      <td>Neoplastic Process</td>\n",
       "      <td>None</td>\n",
       "    </tr>\n",
       "    <tr>\n",
       "      <th>12018</th>\n",
       "      <td>C0023890__Liver Cirrhosis</td>\n",
       "      <td>C0494261__</td>\n",
       "      <td>C0023890</td>\n",
       "      <td>C0494261</td>\n",
       "      <td>C0023890 C0494261</td>\n",
       "      <td>0</td>\n",
       "      <td>11.0</td>\n",
       "      <td>0.003901</td>\n",
       "      <td>0.035647</td>\n",
       "      <td>0.341602</td>\n",
       "      <td>-0.000397</td>\n",
       "      <td>0.000000e+00</td>\n",
       "      <td>-0.341602</td>\n",
       "      <td>0.319717</td>\n",
       "      <td>Disease or Syndrome</td>\n",
       "      <td>None</td>\n",
       "    </tr>\n",
       "    <tr>\n",
       "      <th>18663</th>\n",
       "      <td>C0007194__Hypertrophic Cardiomyopathy</td>\n",
       "      <td>C0494261__</td>\n",
       "      <td>C0007194</td>\n",
       "      <td>C0494261</td>\n",
       "      <td>C0007194 C0494261</td>\n",
       "      <td>1</td>\n",
       "      <td>15.0</td>\n",
       "      <td>0.005205</td>\n",
       "      <td>0.027422</td>\n",
       "      <td>0.377310</td>\n",
       "      <td>-0.000024</td>\n",
       "      <td>0.000000e+00</td>\n",
       "      <td>-0.377310</td>\n",
       "      <td>0.445636</td>\n",
       "      <td>Disease or Syndrome</td>\n",
       "      <td>None</td>\n",
       "    </tr>\n",
       "    <tr>\n",
       "      <th>21414</th>\n",
       "      <td>C0006142__Malignant neoplasm of breast</td>\n",
       "      <td>C0494261__</td>\n",
       "      <td>C0006142</td>\n",
       "      <td>C0494261</td>\n",
       "      <td>C0006142 C0494261</td>\n",
       "      <td>0</td>\n",
       "      <td>7.0</td>\n",
       "      <td>0.003226</td>\n",
       "      <td>0.018459</td>\n",
       "      <td>0.300082</td>\n",
       "      <td>0.002853</td>\n",
       "      <td>0.000000e+00</td>\n",
       "      <td>-0.300082</td>\n",
       "      <td>0.446973</td>\n",
       "      <td>Neoplastic Process</td>\n",
       "      <td>None</td>\n",
       "    </tr>\n",
       "    <tr>\n",
       "      <th>27832</th>\n",
       "      <td>C0004352__Autistic Disorder</td>\n",
       "      <td>C0005001__</td>\n",
       "      <td>C0004352</td>\n",
       "      <td>C0005001</td>\n",
       "      <td>C0004352 C0005001</td>\n",
       "      <td>0</td>\n",
       "      <td>36.0</td>\n",
       "      <td>-0.000654</td>\n",
       "      <td>0.014503</td>\n",
       "      <td>0.280810</td>\n",
       "      <td>0.000597</td>\n",
       "      <td>4.520352e-08</td>\n",
       "      <td>-0.280810</td>\n",
       "      <td>0.532997</td>\n",
       "      <td>Mental or Behavioral Dysfunction</td>\n",
       "      <td>None</td>\n",
       "    </tr>\n",
       "    <tr>\n",
       "      <th>32950</th>\n",
       "      <td>C1535926__Neurodevelopmental Disorders</td>\n",
       "      <td>C0494261__</td>\n",
       "      <td>C1535926</td>\n",
       "      <td>C0494261</td>\n",
       "      <td>C0494261 C1535926</td>\n",
       "      <td>1</td>\n",
       "      <td>53.0</td>\n",
       "      <td>0.004316</td>\n",
       "      <td>0.045226</td>\n",
       "      <td>0.438794</td>\n",
       "      <td>0.000313</td>\n",
       "      <td>0.000000e+00</td>\n",
       "      <td>-0.438794</td>\n",
       "      <td>0.578304</td>\n",
       "      <td>Mental or Behavioral Dysfunction</td>\n",
       "      <td>None</td>\n",
       "    </tr>\n",
       "    <tr>\n",
       "      <th>39681</th>\n",
       "      <td>C0001418__Adenocarcinoma</td>\n",
       "      <td>C0431350__</td>\n",
       "      <td>C0001418</td>\n",
       "      <td>C0431350</td>\n",
       "      <td>C0001418 C0431350</td>\n",
       "      <td>0</td>\n",
       "      <td>14.0</td>\n",
       "      <td>0.002084</td>\n",
       "      <td>0.007246</td>\n",
       "      <td>0.212344</td>\n",
       "      <td>-0.007216</td>\n",
       "      <td>0.000000e+00</td>\n",
       "      <td>-0.212344</td>\n",
       "      <td>0.311946</td>\n",
       "      <td>Neoplastic Process</td>\n",
       "      <td>None</td>\n",
       "    </tr>\n",
       "  </tbody>\n",
       "</table>\n",
       "</div>"
      ],
      "text/plain": [
       "                                       source      target source_cui  \\\n",
       "1101       C0007102__Malignant tumor of colon  C1837991__   C0007102   \n",
       "2227                     C1335879__STIM1 gene  C0494261__   C1335879   \n",
       "4895                 C0525045__Mood Disorders  C0005001__   C0525045   \n",
       "11680    C0242379__Malignant neoplasm of lung  C0431350__   C0242379   \n",
       "12018               C0023890__Liver Cirrhosis  C0494261__   C0023890   \n",
       "18663   C0007194__Hypertrophic Cardiomyopathy  C0494261__   C0007194   \n",
       "21414  C0006142__Malignant neoplasm of breast  C0494261__   C0006142   \n",
       "27832             C0004352__Autistic Disorder  C0005001__   C0004352   \n",
       "32950  C1535926__Neurodevelopmental Disorders  C0494261__   C1535926   \n",
       "39681                C0001418__Adenocarcinoma  C0431350__   C0001418   \n",
       "\n",
       "      target_cui           cui_pair  mentions_diff  sem_scholar_cit        ig  \\\n",
       "1101    C1837991  C0007102 C1837991              0            158.0  0.006455   \n",
       "2227    C0494261  C0494261 C1335879              5            282.0  0.010392   \n",
       "4895    C0005001  C0005001 C0525045              1            132.0 -0.000377   \n",
       "11680   C0431350  C0242379 C0431350              0             14.0  0.002251   \n",
       "12018   C0494261  C0023890 C0494261              0             11.0  0.003901   \n",
       "18663   C0494261  C0007194 C0494261              1             15.0  0.005205   \n",
       "21414   C0494261  C0006142 C0494261              0              7.0  0.003226   \n",
       "27832   C0005001  C0004352 C0005001              0             36.0 -0.000654   \n",
       "32950   C0494261  C0494261 C1535926              1             53.0  0.004316   \n",
       "39681   C0431350  C0001418 C0431350              0             14.0  0.002084   \n",
       "\n",
       "       jac_1st_train  jac_2nd_train  eig_cent_diff     betw_cent  \\\n",
       "1101        0.003218       0.063264      -0.002838  0.000000e+00   \n",
       "2227        0.007663       0.359087       0.000034  0.000000e+00   \n",
       "4895        0.032140       0.283060       0.000135  0.000000e+00   \n",
       "11680       0.006596       0.197022       0.007060  0.000000e+00   \n",
       "12018       0.035647       0.341602      -0.000397  0.000000e+00   \n",
       "18663       0.027422       0.377310      -0.000024  0.000000e+00   \n",
       "21414       0.018459       0.300082       0.002853  0.000000e+00   \n",
       "27832       0.014503       0.280810       0.000597  4.520352e-08   \n",
       "32950       0.045226       0.438794       0.000313  0.000000e+00   \n",
       "39681       0.007246       0.212344      -0.007216  0.000000e+00   \n",
       "\n",
       "       jac_2nd_neg_train  IMP_manh                         source_st target_st  \n",
       "1101           -0.063264  0.487054                Neoplastic Process      None  \n",
       "2227           -0.359087  0.697603                    Gene or Genome      None  \n",
       "4895           -0.283060  0.579716  Mental or Behavioral Dysfunction      None  \n",
       "11680          -0.197022  0.481914                Neoplastic Process      None  \n",
       "12018          -0.341602  0.319717               Disease or Syndrome      None  \n",
       "18663          -0.377310  0.445636               Disease or Syndrome      None  \n",
       "21414          -0.300082  0.446973                Neoplastic Process      None  \n",
       "27832          -0.280810  0.532997  Mental or Behavioral Dysfunction      None  \n",
       "32950          -0.438794  0.578304  Mental or Behavioral Dysfunction      None  \n",
       "39681          -0.212344  0.311946                Neoplastic Process      None  "
      ]
     },
     "execution_count": 22,
     "metadata": {},
     "output_type": "execute_result"
    }
   ],
   "source": [
    "benchmark_importance_metrics_df[\n",
    "    benchmark_importance_metrics_df['target_st'].isna()\n",
    "]"
   ]
  },
  {
   "cell_type": "code",
   "execution_count": 23,
   "id": "ba03a59b-3f24-4edf-9281-8839ace038df",
   "metadata": {
    "execution": {
     "iopub.execute_input": "2023-12-21T18:18:43.011566Z",
     "iopub.status.busy": "2023-12-21T18:18:43.011219Z",
     "iopub.status.idle": "2023-12-21T18:18:43.033800Z",
     "shell.execute_reply": "2023-12-21T18:18:43.033154Z",
     "shell.execute_reply.started": "2023-12-21T18:18:43.011535Z"
    },
    "tags": []
   },
   "outputs": [
    {
     "data": {
      "text/html": [
       "<div>\n",
       "<style scoped>\n",
       "    .dataframe tbody tr th:only-of-type {\n",
       "        vertical-align: middle;\n",
       "    }\n",
       "\n",
       "    .dataframe tbody tr th {\n",
       "        vertical-align: top;\n",
       "    }\n",
       "\n",
       "    .dataframe thead th {\n",
       "        text-align: right;\n",
       "    }\n",
       "</style>\n",
       "<table border=\"1\" class=\"dataframe\">\n",
       "  <thead>\n",
       "    <tr style=\"text-align: right;\">\n",
       "      <th></th>\n",
       "      <th>source</th>\n",
       "      <th>target</th>\n",
       "      <th>source_cui</th>\n",
       "      <th>target_cui</th>\n",
       "      <th>cui_pair</th>\n",
       "      <th>mentions_diff</th>\n",
       "      <th>sem_scholar_cit</th>\n",
       "      <th>ig</th>\n",
       "      <th>jac_1st_train</th>\n",
       "      <th>jac_2nd_train</th>\n",
       "      <th>eig_cent_diff</th>\n",
       "      <th>betw_cent</th>\n",
       "      <th>jac_2nd_neg_train</th>\n",
       "      <th>IMP_manh</th>\n",
       "      <th>source_st</th>\n",
       "      <th>target_st</th>\n",
       "    </tr>\n",
       "  </thead>\n",
       "  <tbody>\n",
       "    <tr>\n",
       "      <th>0</th>\n",
       "      <td>C0033308__progesterone</td>\n",
       "      <td>C1421999__SLC38A1 gene</td>\n",
       "      <td>C0033308</td>\n",
       "      <td>C1421999</td>\n",
       "      <td>C0033308 C1421999</td>\n",
       "      <td>1</td>\n",
       "      <td>27.0</td>\n",
       "      <td>0.005632</td>\n",
       "      <td>0.004669</td>\n",
       "      <td>0.345337</td>\n",
       "      <td>-0.001702</td>\n",
       "      <td>0.000000e+00</td>\n",
       "      <td>-0.345337</td>\n",
       "      <td>0.437680</td>\n",
       "      <td>Pharmacologic Substance; Organic Chemical; Hor...</td>\n",
       "      <td>Gene or Genome</td>\n",
       "    </tr>\n",
       "    <tr>\n",
       "      <th>1</th>\n",
       "      <td>C0557874__Global developmental delay</td>\n",
       "      <td>C0152423__Congenital small ears</td>\n",
       "      <td>C0557874</td>\n",
       "      <td>C0152423</td>\n",
       "      <td>C0152423 C0557874</td>\n",
       "      <td>1</td>\n",
       "      <td>39.0</td>\n",
       "      <td>0.006297</td>\n",
       "      <td>0.105121</td>\n",
       "      <td>0.542392</td>\n",
       "      <td>0.000053</td>\n",
       "      <td>9.112312e-09</td>\n",
       "      <td>-0.542392</td>\n",
       "      <td>0.582247</td>\n",
       "      <td>Mental or Behavioral Dysfunction</td>\n",
       "      <td>Congenital Abnormality</td>\n",
       "    </tr>\n",
       "    <tr>\n",
       "      <th>2</th>\n",
       "      <td>C1332733__CDK2 gene</td>\n",
       "      <td>C1332650__C-Terminal Binding Protein 1</td>\n",
       "      <td>C1332733</td>\n",
       "      <td>C1332650</td>\n",
       "      <td>C1332650 C1332733</td>\n",
       "      <td>1</td>\n",
       "      <td>6.0</td>\n",
       "      <td>0.016198</td>\n",
       "      <td>0.049270</td>\n",
       "      <td>0.600761</td>\n",
       "      <td>-0.000063</td>\n",
       "      <td>1.621441e-06</td>\n",
       "      <td>-0.600761</td>\n",
       "      <td>0.469042</td>\n",
       "      <td>Gene or Genome</td>\n",
       "      <td>Amino Acid, Peptide, or Protein; Biologically ...</td>\n",
       "    </tr>\n",
       "    <tr>\n",
       "      <th>3</th>\n",
       "      <td>C0006142__Malignant neoplasm of breast</td>\n",
       "      <td>C1136328__Iridoids</td>\n",
       "      <td>C0006142</td>\n",
       "      <td>C1136328</td>\n",
       "      <td>C0006142 C1136328</td>\n",
       "      <td>2</td>\n",
       "      <td>48.0</td>\n",
       "      <td>0.006355</td>\n",
       "      <td>0.000272</td>\n",
       "      <td>0.028818</td>\n",
       "      <td>0.002889</td>\n",
       "      <td>0.000000e+00</td>\n",
       "      <td>-0.028818</td>\n",
       "      <td>0.701774</td>\n",
       "      <td>Neoplastic Process</td>\n",
       "      <td>Organic Chemical</td>\n",
       "    </tr>\n",
       "    <tr>\n",
       "      <th>4</th>\n",
       "      <td>C1456409__etravirine</td>\n",
       "      <td>C4045491__doravirine</td>\n",
       "      <td>C1456409</td>\n",
       "      <td>C4045491</td>\n",
       "      <td>C1456409 C4045491</td>\n",
       "      <td>15</td>\n",
       "      <td>239.0</td>\n",
       "      <td>0.016966</td>\n",
       "      <td>0.030973</td>\n",
       "      <td>0.140814</td>\n",
       "      <td>-0.000003</td>\n",
       "      <td>1.250633e-06</td>\n",
       "      <td>-0.140814</td>\n",
       "      <td>0.788580</td>\n",
       "      <td>Pharmacologic Substance; Organic Chemical</td>\n",
       "      <td>Pharmacologic Substance; Organic Chemical</td>\n",
       "    </tr>\n",
       "    <tr>\n",
       "      <th>...</th>\n",
       "      <td>...</td>\n",
       "      <td>...</td>\n",
       "      <td>...</td>\n",
       "      <td>...</td>\n",
       "      <td>...</td>\n",
       "      <td>...</td>\n",
       "      <td>...</td>\n",
       "      <td>...</td>\n",
       "      <td>...</td>\n",
       "      <td>...</td>\n",
       "      <td>...</td>\n",
       "      <td>...</td>\n",
       "      <td>...</td>\n",
       "      <td>...</td>\n",
       "      <td>...</td>\n",
       "      <td>...</td>\n",
       "    </tr>\n",
       "    <tr>\n",
       "      <th>48563</th>\n",
       "      <td>C1448177__TNF protein, human</td>\n",
       "      <td>C1824798__CRTC1 gene</td>\n",
       "      <td>C1448177</td>\n",
       "      <td>C1824798</td>\n",
       "      <td>C1448177 C1824798</td>\n",
       "      <td>1</td>\n",
       "      <td>64.0</td>\n",
       "      <td>0.008860</td>\n",
       "      <td>0.011995</td>\n",
       "      <td>0.405616</td>\n",
       "      <td>0.004581</td>\n",
       "      <td>0.000000e+00</td>\n",
       "      <td>-0.405616</td>\n",
       "      <td>0.649974</td>\n",
       "      <td>Amino Acid, Peptide, or Protein; Biologically ...</td>\n",
       "      <td>Gene or Genome</td>\n",
       "    </tr>\n",
       "    <tr>\n",
       "      <th>48564</th>\n",
       "      <td>C1332803__CTNNB1 gene</td>\n",
       "      <td>C1835953__NOTUM gene</td>\n",
       "      <td>C1332803</td>\n",
       "      <td>C1835953</td>\n",
       "      <td>C1332803 C1835953</td>\n",
       "      <td>4</td>\n",
       "      <td>147.0</td>\n",
       "      <td>0.031855</td>\n",
       "      <td>0.013270</td>\n",
       "      <td>0.105266</td>\n",
       "      <td>0.000367</td>\n",
       "      <td>1.700016e-06</td>\n",
       "      <td>-0.105266</td>\n",
       "      <td>0.876397</td>\n",
       "      <td>Gene or Genome</td>\n",
       "      <td>Gene or Genome</td>\n",
       "    </tr>\n",
       "    <tr>\n",
       "      <th>48565</th>\n",
       "      <td>C0002335__alprostadil</td>\n",
       "      <td>C0008864__citrulline</td>\n",
       "      <td>C0002335</td>\n",
       "      <td>C0008864</td>\n",
       "      <td>C0002335 C0008864</td>\n",
       "      <td>0</td>\n",
       "      <td>14.0</td>\n",
       "      <td>0.000446</td>\n",
       "      <td>0.068027</td>\n",
       "      <td>0.512115</td>\n",
       "      <td>-0.000111</td>\n",
       "      <td>5.522397e-08</td>\n",
       "      <td>-0.512115</td>\n",
       "      <td>0.314918</td>\n",
       "      <td>Pharmacologic Substance; Organic Chemical</td>\n",
       "      <td>Amino Acid, Peptide, or Protein; Pharmacologic...</td>\n",
       "    </tr>\n",
       "    <tr>\n",
       "      <th>48566</th>\n",
       "      <td>C1363984__TNFRSF1A gene</td>\n",
       "      <td>C2350562__Brominated Diphenyl Ethers</td>\n",
       "      <td>C1363984</td>\n",
       "      <td>C2350562</td>\n",
       "      <td>C1363984 C2350562</td>\n",
       "      <td>0</td>\n",
       "      <td>4.0</td>\n",
       "      <td>0.002455</td>\n",
       "      <td>0.010173</td>\n",
       "      <td>0.334290</td>\n",
       "      <td>-0.000046</td>\n",
       "      <td>1.520694e-05</td>\n",
       "      <td>-0.334290</td>\n",
       "      <td>0.435436</td>\n",
       "      <td>Gene or Genome</td>\n",
       "      <td>Organic Chemical; Hazardous or Poisonous Subst...</td>\n",
       "    </tr>\n",
       "    <tr>\n",
       "      <th>48567</th>\n",
       "      <td>C0022665__Kidney Neoplasm</td>\n",
       "      <td>C0206694__Mucoepidermoid Carcinoma</td>\n",
       "      <td>C0022665</td>\n",
       "      <td>C0206694</td>\n",
       "      <td>C0022665 C0206694</td>\n",
       "      <td>0</td>\n",
       "      <td>4.0</td>\n",
       "      <td>0.000239</td>\n",
       "      <td>0.081136</td>\n",
       "      <td>0.341769</td>\n",
       "      <td>-0.001742</td>\n",
       "      <td>0.000000e+00</td>\n",
       "      <td>-0.341769</td>\n",
       "      <td>0.230459</td>\n",
       "      <td>Neoplastic Process</td>\n",
       "      <td>Neoplastic Process</td>\n",
       "    </tr>\n",
       "  </tbody>\n",
       "</table>\n",
       "<p>48568 rows × 16 columns</p>\n",
       "</div>"
      ],
      "text/plain": [
       "                                       source  \\\n",
       "0                      C0033308__progesterone   \n",
       "1        C0557874__Global developmental delay   \n",
       "2                         C1332733__CDK2 gene   \n",
       "3      C0006142__Malignant neoplasm of breast   \n",
       "4                        C1456409__etravirine   \n",
       "...                                       ...   \n",
       "48563            C1448177__TNF protein, human   \n",
       "48564                   C1332803__CTNNB1 gene   \n",
       "48565                   C0002335__alprostadil   \n",
       "48566                 C1363984__TNFRSF1A gene   \n",
       "48567               C0022665__Kidney Neoplasm   \n",
       "\n",
       "                                       target source_cui target_cui  \\\n",
       "0                      C1421999__SLC38A1 gene   C0033308   C1421999   \n",
       "1             C0152423__Congenital small ears   C0557874   C0152423   \n",
       "2      C1332650__C-Terminal Binding Protein 1   C1332733   C1332650   \n",
       "3                          C1136328__Iridoids   C0006142   C1136328   \n",
       "4                        C4045491__doravirine   C1456409   C4045491   \n",
       "...                                       ...        ...        ...   \n",
       "48563                    C1824798__CRTC1 gene   C1448177   C1824798   \n",
       "48564                    C1835953__NOTUM gene   C1332803   C1835953   \n",
       "48565                    C0008864__citrulline   C0002335   C0008864   \n",
       "48566    C2350562__Brominated Diphenyl Ethers   C1363984   C2350562   \n",
       "48567      C0206694__Mucoepidermoid Carcinoma   C0022665   C0206694   \n",
       "\n",
       "                cui_pair  mentions_diff  sem_scholar_cit        ig  \\\n",
       "0      C0033308 C1421999              1             27.0  0.005632   \n",
       "1      C0152423 C0557874              1             39.0  0.006297   \n",
       "2      C1332650 C1332733              1              6.0  0.016198   \n",
       "3      C0006142 C1136328              2             48.0  0.006355   \n",
       "4      C1456409 C4045491             15            239.0  0.016966   \n",
       "...                  ...            ...              ...       ...   \n",
       "48563  C1448177 C1824798              1             64.0  0.008860   \n",
       "48564  C1332803 C1835953              4            147.0  0.031855   \n",
       "48565  C0002335 C0008864              0             14.0  0.000446   \n",
       "48566  C1363984 C2350562              0              4.0  0.002455   \n",
       "48567  C0022665 C0206694              0              4.0  0.000239   \n",
       "\n",
       "       jac_1st_train  jac_2nd_train  eig_cent_diff     betw_cent  \\\n",
       "0           0.004669       0.345337      -0.001702  0.000000e+00   \n",
       "1           0.105121       0.542392       0.000053  9.112312e-09   \n",
       "2           0.049270       0.600761      -0.000063  1.621441e-06   \n",
       "3           0.000272       0.028818       0.002889  0.000000e+00   \n",
       "4           0.030973       0.140814      -0.000003  1.250633e-06   \n",
       "...              ...            ...            ...           ...   \n",
       "48563       0.011995       0.405616       0.004581  0.000000e+00   \n",
       "48564       0.013270       0.105266       0.000367  1.700016e-06   \n",
       "48565       0.068027       0.512115      -0.000111  5.522397e-08   \n",
       "48566       0.010173       0.334290      -0.000046  1.520694e-05   \n",
       "48567       0.081136       0.341769      -0.001742  0.000000e+00   \n",
       "\n",
       "       jac_2nd_neg_train  IMP_manh  \\\n",
       "0              -0.345337  0.437680   \n",
       "1              -0.542392  0.582247   \n",
       "2              -0.600761  0.469042   \n",
       "3              -0.028818  0.701774   \n",
       "4              -0.140814  0.788580   \n",
       "...                  ...       ...   \n",
       "48563          -0.405616  0.649974   \n",
       "48564          -0.105266  0.876397   \n",
       "48565          -0.512115  0.314918   \n",
       "48566          -0.334290  0.435436   \n",
       "48567          -0.341769  0.230459   \n",
       "\n",
       "                                               source_st  \\\n",
       "0      Pharmacologic Substance; Organic Chemical; Hor...   \n",
       "1                       Mental or Behavioral Dysfunction   \n",
       "2                                         Gene or Genome   \n",
       "3                                     Neoplastic Process   \n",
       "4              Pharmacologic Substance; Organic Chemical   \n",
       "...                                                  ...   \n",
       "48563  Amino Acid, Peptide, or Protein; Biologically ...   \n",
       "48564                                     Gene or Genome   \n",
       "48565          Pharmacologic Substance; Organic Chemical   \n",
       "48566                                     Gene or Genome   \n",
       "48567                                 Neoplastic Process   \n",
       "\n",
       "                                               target_st  \n",
       "0                                         Gene or Genome  \n",
       "1                                 Congenital Abnormality  \n",
       "2      Amino Acid, Peptide, or Protein; Biologically ...  \n",
       "3                                       Organic Chemical  \n",
       "4              Pharmacologic Substance; Organic Chemical  \n",
       "...                                                  ...  \n",
       "48563                                     Gene or Genome  \n",
       "48564                                     Gene or Genome  \n",
       "48565  Amino Acid, Peptide, or Protein; Pharmacologic...  \n",
       "48566  Organic Chemical; Hazardous or Poisonous Subst...  \n",
       "48567                                 Neoplastic Process  \n",
       "\n",
       "[48568 rows x 16 columns]"
      ]
     },
     "execution_count": 23,
     "metadata": {},
     "output_type": "execute_result"
    }
   ],
   "source": [
    "benchmark_importance_metrics_df"
   ]
  },
  {
   "cell_type": "markdown",
   "id": "a215d3a7-dfb6-4a8d-b2a0-d5d4b3643fd8",
   "metadata": {},
   "source": [
    "### Source DB"
   ]
  },
  {
   "cell_type": "markdown",
   "id": "6705a64f-2578-4531-992b-a06ff19eee37",
   "metadata": {},
   "source": [
    "Attaching source database for every connection."
   ]
  },
  {
   "cell_type": "code",
   "execution_count": 71,
   "id": "af1145ce-b56e-48b3-90a6-9646aed50ad2",
   "metadata": {
    "execution": {
     "iopub.execute_input": "2023-12-21T19:21:25.093141Z",
     "iopub.status.busy": "2023-12-21T19:21:25.092989Z",
     "iopub.status.idle": "2023-12-21T19:21:25.096841Z",
     "shell.execute_reply": "2023-12-21T19:21:25.096225Z",
     "shell.execute_reply.started": "2023-12-21T19:21:25.093124Z"
    },
    "tags": []
   },
   "outputs": [],
   "source": [
    "json_pairs_path = Path(\n",
    "    '../benchmark_data/01_cui_pairs_json/'\n",
    ")\n",
    "\n",
    "json_pairs_flist = sorted(json_pairs_path.glob('*.json'))"
   ]
  },
  {
   "cell_type": "code",
   "execution_count": 72,
   "id": "fe8e0a57-8786-4b80-a136-ce8c71440b6b",
   "metadata": {
    "execution": {
     "iopub.execute_input": "2023-12-21T19:21:25.181260Z",
     "iopub.status.busy": "2023-12-21T19:21:25.180858Z",
     "iopub.status.idle": "2023-12-21T19:21:25.185017Z",
     "shell.execute_reply": "2023-12-21T19:21:25.184381Z",
     "shell.execute_reply.started": "2023-12-21T19:21:25.181230Z"
    },
    "tags": []
   },
   "outputs": [],
   "source": [
    "json_pairs_flist = [fn for fn in json_pairs_flist]"
   ]
  },
  {
   "cell_type": "code",
   "execution_count": 75,
   "id": "38837355-6baa-425e-9781-b2b4aaed80c0",
   "metadata": {
    "execution": {
     "iopub.execute_input": "2023-12-21T19:21:41.699522Z",
     "iopub.status.busy": "2023-12-21T19:21:41.699345Z",
     "iopub.status.idle": "2023-12-21T19:21:41.703898Z",
     "shell.execute_reply": "2023-12-21T19:21:41.703134Z",
     "shell.execute_reply.started": "2023-12-21T19:21:41.699508Z"
    },
    "tags": []
   },
   "outputs": [
    {
     "data": {
      "text/plain": [
       "[PosixPath('../benchmark_data/01_cui_pairs_json/ctd_cui_pairs.json'),\n",
       " PosixPath('../benchmark_data/01_cui_pairs_json/disgennet_cui_pairs.json'),\n",
       " PosixPath('../benchmark_data/01_cui_pairs_json/drugcentral_cui_pairs.json'),\n",
       " PosixPath('../benchmark_data/01_cui_pairs_json/gwas_cui_pairs.json'),\n",
       " PosixPath('../benchmark_data/01_cui_pairs_json/kegg_cui_pairs.json'),\n",
       " PosixPath('../benchmark_data/01_cui_pairs_json/mentha_cui_pairs.json'),\n",
       " PosixPath('../benchmark_data/01_cui_pairs_json/rxnav_cui_pairs.json'),\n",
       " PosixPath('../benchmark_data/01_cui_pairs_json/stringdb_cui_pairs.json')]"
      ]
     },
     "execution_count": 75,
     "metadata": {},
     "output_type": "execute_result"
    }
   ],
   "source": [
    "json_pairs_flist"
   ]
  },
  {
   "cell_type": "code",
   "execution_count": 76,
   "id": "035daf4d-47be-4f79-974a-882ea307b760",
   "metadata": {
    "execution": {
     "iopub.execute_input": "2023-12-21T19:21:48.625262Z",
     "iopub.status.busy": "2023-12-21T19:21:48.624816Z",
     "iopub.status.idle": "2023-12-21T19:24:06.518679Z",
     "shell.execute_reply": "2023-12-21T19:24:06.517796Z",
     "shell.execute_reply.started": "2023-12-21T19:21:48.625230Z"
    },
    "tags": []
   },
   "outputs": [
    {
     "name": "stderr",
     "output_type": "stream",
     "text": [
      "100%|█████████████████████████████████████████████████████████████████████████████| 8/8 [02:17<00:00, 17.24s/it]\n"
     ]
    }
   ],
   "source": [
    "db_pair_to_source_dict = defaultdict(set)\n",
    "\n",
    "for fname in tqdm(json_pairs_flist):\n",
    "    with open(fname, 'r') as f:\n",
    "        cur_pairs_list = json.load(f)\n",
    "        prefix = fname.stem.split('_')[0]\n",
    "    \n",
    "    for pair in cur_pairs_list:\n",
    "        pair = sorted(pair)\n",
    "        pair_str = ' '.join(pair)\n",
    "        #pair_inv_str = ' '.join(reversed(pair))\n",
    "        db_pair_to_source_dict[pair_str].add(prefix)\n",
    "        #db_pair_to_source_dict[pair_inv_str].add(prefix)"
   ]
  },
  {
   "cell_type": "code",
   "execution_count": 77,
   "id": "c42af4fe-fc85-4c2a-8168-b9e8f6ecade7",
   "metadata": {
    "execution": {
     "iopub.execute_input": "2023-12-21T19:24:23.177273Z",
     "iopub.status.busy": "2023-12-21T19:24:23.176832Z",
     "iopub.status.idle": "2023-12-21T19:24:23.183338Z",
     "shell.execute_reply": "2023-12-21T19:24:23.182437Z",
     "shell.execute_reply.started": "2023-12-21T19:24:23.177242Z"
    },
    "tags": []
   },
   "outputs": [
    {
     "data": {
      "text/plain": [
       "50451953"
      ]
     },
     "execution_count": 77,
     "metadata": {},
     "output_type": "execute_result"
    }
   ],
   "source": [
    "len(db_pair_to_source_dict)"
   ]
  },
  {
   "cell_type": "code",
   "execution_count": 83,
   "id": "3e1764a0-3718-4963-8954-91bbc7826a98",
   "metadata": {
    "execution": {
     "iopub.execute_input": "2023-12-21T19:41:34.938839Z",
     "iopub.status.busy": "2023-12-21T19:41:34.938426Z",
     "iopub.status.idle": "2023-12-21T19:41:34.999706Z",
     "shell.execute_reply": "2023-12-21T19:41:34.998762Z",
     "shell.execute_reply.started": "2023-12-21T19:41:34.938808Z"
    },
    "tags": []
   },
   "outputs": [],
   "source": [
    "benchmark_importance_metrics_df['origin_db'] = (\n",
    "    benchmark_importance_metrics_df['cui_pair'].apply(\n",
    "        lambda x: '; '.join(sorted(db_pair_to_source_dict.get(x)))\n",
    "    )\n",
    ")"
   ]
  },
  {
   "cell_type": "code",
   "execution_count": 84,
   "id": "de08559e-52d8-42b7-b7b8-7adacf3be984",
   "metadata": {
    "execution": {
     "iopub.execute_input": "2023-12-21T19:41:35.656347Z",
     "iopub.status.busy": "2023-12-21T19:41:35.656188Z",
     "iopub.status.idle": "2023-12-21T19:41:35.684088Z",
     "shell.execute_reply": "2023-12-21T19:41:35.683278Z",
     "shell.execute_reply.started": "2023-12-21T19:41:35.656333Z"
    },
    "tags": []
   },
   "outputs": [
    {
     "data": {
      "text/html": [
       "<div>\n",
       "<style scoped>\n",
       "    .dataframe tbody tr th:only-of-type {\n",
       "        vertical-align: middle;\n",
       "    }\n",
       "\n",
       "    .dataframe tbody tr th {\n",
       "        vertical-align: top;\n",
       "    }\n",
       "\n",
       "    .dataframe thead th {\n",
       "        text-align: right;\n",
       "    }\n",
       "</style>\n",
       "<table border=\"1\" class=\"dataframe\">\n",
       "  <thead>\n",
       "    <tr style=\"text-align: right;\">\n",
       "      <th></th>\n",
       "      <th>source</th>\n",
       "      <th>target</th>\n",
       "      <th>source_cui</th>\n",
       "      <th>target_cui</th>\n",
       "      <th>cui_pair</th>\n",
       "      <th>mentions_diff</th>\n",
       "      <th>sem_scholar_cit</th>\n",
       "      <th>ig</th>\n",
       "      <th>jac_1st_train</th>\n",
       "      <th>jac_2nd_train</th>\n",
       "      <th>eig_cent_diff</th>\n",
       "      <th>betw_cent</th>\n",
       "      <th>jac_2nd_neg_train</th>\n",
       "      <th>IMP_manh</th>\n",
       "      <th>source_st</th>\n",
       "      <th>target_st</th>\n",
       "      <th>Origin_DB</th>\n",
       "      <th>origin_db</th>\n",
       "    </tr>\n",
       "  </thead>\n",
       "  <tbody>\n",
       "  </tbody>\n",
       "</table>\n",
       "</div>"
      ],
      "text/plain": [
       "Empty DataFrame\n",
       "Columns: [source, target, source_cui, target_cui, cui_pair, mentions_diff, sem_scholar_cit, ig, jac_1st_train, jac_2nd_train, eig_cent_diff, betw_cent, jac_2nd_neg_train, IMP_manh, source_st, target_st, Origin_DB, origin_db]\n",
       "Index: []"
      ]
     },
     "execution_count": 84,
     "metadata": {},
     "output_type": "execute_result"
    }
   ],
   "source": [
    "benchmark_importance_metrics_df[\n",
    "    benchmark_importance_metrics_df['origin_db'].isna()\n",
    "]"
   ]
  },
  {
   "cell_type": "code",
   "execution_count": 90,
   "id": "27c5de82-2a91-4195-ba20-58521d8e562a",
   "metadata": {
    "execution": {
     "iopub.execute_input": "2023-12-21T19:42:05.129143Z",
     "iopub.status.busy": "2023-12-21T19:42:05.128897Z",
     "iopub.status.idle": "2023-12-21T19:42:05.142564Z",
     "shell.execute_reply": "2023-12-21T19:42:05.141892Z",
     "shell.execute_reply.started": "2023-12-21T19:42:05.129129Z"
    },
    "tags": []
   },
   "outputs": [
    {
     "data": {
      "text/plain": [
       "kegg                      19944\n",
       "ctd                       10085\n",
       "drugcentral                4516\n",
       "disgennet                  4035\n",
       "rxnav                      3009\n",
       "gwas                       1218\n",
       "kegg; stringdb              996\n",
       "mentha                      893\n",
       "ctd; disgennet              804\n",
       "kegg; rxnav                 710\n",
       "stringdb                    690\n",
       "ctd; kegg                   586\n",
       "ctd; drugcentral            253\n",
       "kegg; mentha; stringdb      229\n",
       "kegg; mentha                215\n",
       "drugcentral; kegg           133\n",
       "mentha; stringdb            123\n",
       "ctd; drugcentral; kegg       68\n",
       "ctd; disgennet; gwas         43\n",
       "ctd; disgennet; kegg          5\n",
       "disgennet; gwas               5\n",
       "ctd; rxnav                    3\n",
       "ctd; gwas                     3\n",
       "gwas; kegg                    1\n",
       "disgennet; kegg               1\n",
       "Name: origin_db, dtype: int64"
      ]
     },
     "execution_count": 90,
     "metadata": {},
     "output_type": "execute_result"
    }
   ],
   "source": [
    "benchmark_importance_metrics_df['origin_db'].value_counts()"
   ]
  },
  {
   "cell_type": "code",
   "execution_count": 91,
   "id": "ea7ff5a8-98c0-4a64-b3be-dd5c61f92d6c",
   "metadata": {
    "execution": {
     "iopub.execute_input": "2023-12-21T19:42:42.320618Z",
     "iopub.status.busy": "2023-12-21T19:42:42.320201Z",
     "iopub.status.idle": "2023-12-21T19:42:42.343387Z",
     "shell.execute_reply": "2023-12-21T19:42:42.342665Z",
     "shell.execute_reply.started": "2023-12-21T19:42:42.320586Z"
    },
    "tags": []
   },
   "outputs": [
    {
     "data": {
      "text/html": [
       "<div>\n",
       "<style scoped>\n",
       "    .dataframe tbody tr th:only-of-type {\n",
       "        vertical-align: middle;\n",
       "    }\n",
       "\n",
       "    .dataframe tbody tr th {\n",
       "        vertical-align: top;\n",
       "    }\n",
       "\n",
       "    .dataframe thead th {\n",
       "        text-align: right;\n",
       "    }\n",
       "</style>\n",
       "<table border=\"1\" class=\"dataframe\">\n",
       "  <thead>\n",
       "    <tr style=\"text-align: right;\">\n",
       "      <th></th>\n",
       "      <th>source</th>\n",
       "      <th>target</th>\n",
       "      <th>source_cui</th>\n",
       "      <th>target_cui</th>\n",
       "      <th>cui_pair</th>\n",
       "      <th>mentions_diff</th>\n",
       "      <th>sem_scholar_cit</th>\n",
       "      <th>ig</th>\n",
       "      <th>jac_1st_train</th>\n",
       "      <th>jac_2nd_train</th>\n",
       "      <th>eig_cent_diff</th>\n",
       "      <th>betw_cent</th>\n",
       "      <th>jac_2nd_neg_train</th>\n",
       "      <th>IMP_manh</th>\n",
       "      <th>source_st</th>\n",
       "      <th>target_st</th>\n",
       "      <th>origin_db</th>\n",
       "    </tr>\n",
       "  </thead>\n",
       "  <tbody>\n",
       "    <tr>\n",
       "      <th>39664</th>\n",
       "      <td>C0004096__Asthma</td>\n",
       "      <td>C1667077__CCL11 protein, human</td>\n",
       "      <td>C0004096</td>\n",
       "      <td>C1667077</td>\n",
       "      <td>C0004096 C1667077</td>\n",
       "      <td>2</td>\n",
       "      <td>18.0</td>\n",
       "      <td>0.021426</td>\n",
       "      <td>0.004702</td>\n",
       "      <td>0.15922</td>\n",
       "      <td>-0.00207</td>\n",
       "      <td>0.0</td>\n",
       "      <td>-0.15922</td>\n",
       "      <td>0.528134</td>\n",
       "      <td>Disease or Syndrome</td>\n",
       "      <td>Amino Acid, Peptide, or Protein; Biologically ...</td>\n",
       "      <td>disgennet; kegg</td>\n",
       "    </tr>\n",
       "  </tbody>\n",
       "</table>\n",
       "</div>"
      ],
      "text/plain": [
       "                 source                          target source_cui target_cui  \\\n",
       "39664  C0004096__Asthma  C1667077__CCL11 protein, human   C0004096   C1667077   \n",
       "\n",
       "                cui_pair  mentions_diff  sem_scholar_cit        ig  \\\n",
       "39664  C0004096 C1667077              2             18.0  0.021426   \n",
       "\n",
       "       jac_1st_train  jac_2nd_train  eig_cent_diff  betw_cent  \\\n",
       "39664       0.004702        0.15922       -0.00207        0.0   \n",
       "\n",
       "       jac_2nd_neg_train  IMP_manh            source_st  \\\n",
       "39664           -0.15922  0.528134  Disease or Syndrome   \n",
       "\n",
       "                                               target_st        origin_db  \n",
       "39664  Amino Acid, Peptide, or Protein; Biologically ...  disgennet; kegg  "
      ]
     },
     "execution_count": 91,
     "metadata": {},
     "output_type": "execute_result"
    }
   ],
   "source": [
    "benchmark_importance_metrics_df[\n",
    "    benchmark_importance_metrics_df['origin_db'] == 'disgennet; kegg'\n",
    "]"
   ]
  },
  {
   "cell_type": "code",
   "execution_count": null,
   "id": "bfd06069-3635-4f3b-adab-e1bdee141dff",
   "metadata": {},
   "outputs": [],
   "source": []
  }
 ],
 "metadata": {
  "kernelspec": {
   "display_name": "Python [conda env:agatha_cgp]",
   "language": "python",
   "name": "conda-env-agatha_cgp-py"
  },
  "language_info": {
   "codemirror_mode": {
    "name": "ipython",
    "version": 3
   },
   "file_extension": ".py",
   "mimetype": "text/x-python",
   "name": "python",
   "nbconvert_exporter": "python",
   "pygments_lexer": "ipython3",
   "version": "3.8.13"
  }
 },
 "nbformat": 4,
 "nbformat_minor": 5
}
